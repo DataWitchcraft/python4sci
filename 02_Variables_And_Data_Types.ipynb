{
  "cells": [
    {
      "cell_type": "markdown",
      "metadata": {
        "id": "view-in-github",
        "colab_type": "text"
      },
      "source": [
        "<a href=\"https://colab.research.google.com/github/DataWitchcraft/python4sci/blob/main/02_Variables_And_Data_Types.ipynb\" target=\"_parent\"><img src=\"https://colab.research.google.com/assets/colab-badge.svg\" alt=\"Open In Colab\"/></a>"
      ]
    },
    {
      "cell_type": "markdown",
      "metadata": {
        "id": "Sq8oFw_OLIlo"
      },
      "source": [
        "# Variables & Data Types\n",
        "\n",
        "## Overview\n",
        "\n",
        "There are four data types that will be relevant to us: ints, floats, booleans, strings.\n",
        "\n",
        "\n",
        "#### Ints and floats:\n",
        "\n",
        "Ints and floats are the two main numerical data types in Python. Ints are integers, while floats are numbers with decimal values."
      ]
    },
    {
      "cell_type": "code",
      "source": [
        "# An int\n",
        "4\n",
        "\n",
        "# Another int\n",
        "-17\n",
        "\n",
        "# A float\n",
        "3.9\n",
        "\n",
        "# Another float (if you run this cell, the output will be -17.0, because only the final line's output is written)\n",
        "-17.0"
      ],
      "metadata": {
        "id": "xgy2SVPgMdL5"
      },
      "execution_count": null,
      "outputs": []
    },
    {
      "cell_type": "markdown",
      "source": [
        "You can perform mathematical operations on ints and floats. Try running the following:"
      ],
      "metadata": {
        "id": "k68Ar5x3Mr0o"
      }
    },
    {
      "cell_type": "code",
      "source": [
        "4 + 3"
      ],
      "metadata": {
        "colab": {
          "base_uri": "https://localhost:8080/"
        },
        "id": "TzDGSD6DMvxQ",
        "outputId": "db6aada3-ed99-47d5-c228-84fb1002967c"
      },
      "execution_count": null,
      "outputs": [
        {
          "output_type": "execute_result",
          "data": {
            "text/plain": [
              "7"
            ]
          },
          "metadata": {},
          "execution_count": 1
        }
      ]
    },
    {
      "cell_type": "code",
      "source": [
        "16.8 - 14.3"
      ],
      "metadata": {
        "colab": {
          "base_uri": "https://localhost:8080/"
        },
        "id": "0LYns2RHMy5h",
        "outputId": "3f395ba9-ca27-4711-e0bf-6b2f11227c93"
      },
      "execution_count": null,
      "outputs": [
        {
          "output_type": "execute_result",
          "data": {
            "text/plain": [
              "2.5"
            ]
          },
          "metadata": {},
          "execution_count": 2
        }
      ]
    },
    {
      "cell_type": "code",
      "source": [
        "# It's okay to mix ints and floats\n",
        "6.5 * 5 "
      ],
      "metadata": {
        "colab": {
          "base_uri": "https://localhost:8080/"
        },
        "id": "Vdd4uKh5M1sJ",
        "outputId": "6b7810ee-3c4f-47e8-829b-61973499a3c6"
      },
      "execution_count": null,
      "outputs": [
        {
          "output_type": "execute_result",
          "data": {
            "text/plain": [
              "32.5"
            ]
          },
          "metadata": {},
          "execution_count": 3
        }
      ]
    },
    {
      "cell_type": "code",
      "source": [
        "# An example with numerical variables\n",
        "numerator = 42\n",
        "denominator = 7\n",
        "\n",
        "numerator/denominator"
      ],
      "metadata": {
        "colab": {
          "base_uri": "https://localhost:8080/"
        },
        "id": "ZA8wy0YrM8fZ",
        "outputId": "b8b1dfb7-6baf-4afd-d694-1f4f19506611"
      },
      "execution_count": null,
      "outputs": [
        {
          "output_type": "execute_result",
          "data": {
            "text/plain": [
              "6.0"
            ]
          },
          "metadata": {},
          "execution_count": 4
        }
      ]
    },
    {
      "cell_type": "markdown",
      "source": [
        "In the cell below, compute (4 * (3 + 11.7))/(1800 - 46)"
      ],
      "metadata": {
        "id": "wLWSO0pYNBGL"
      }
    },
    {
      "cell_type": "code",
      "source": [
        "### EXERCISE\n",
        "\n",
        "# TODO: Compute (4 * (3 + 11.7))/(1800 - 46)\n"
      ],
      "metadata": {
        "id": "PLJDsxn0NACr"
      },
      "execution_count": null,
      "outputs": []
    },
    {
      "cell_type": "markdown",
      "source": [
        "#### Booleans:\n",
        "\n",
        "There are only 2 possible values for a Boolean variable: True or False. Boolean variables are the outputs of logical statements like the following:"
      ],
      "metadata": {
        "id": "WgLgWz6vNrDF"
      }
    },
    {
      "cell_type": "code",
      "source": [
        "# Returns True\n",
        "4 + 7 == 8 + 3"
      ],
      "metadata": {
        "colab": {
          "base_uri": "https://localhost:8080/"
        },
        "id": "8SKU5qxcN19S",
        "outputId": "e793c319-a24b-40fb-e75b-4754438bd013"
      },
      "execution_count": null,
      "outputs": [
        {
          "output_type": "execute_result",
          "data": {
            "text/plain": [
              "True"
            ]
          },
          "metadata": {},
          "execution_count": 6
        }
      ]
    },
    {
      "cell_type": "code",
      "source": [
        "# Returns False\n",
        "4 + 7 == 8 + 2"
      ],
      "metadata": {
        "id": "U1MhB3RXN5Pt"
      },
      "execution_count": null,
      "outputs": []
    },
    {
      "cell_type": "markdown",
      "source": [
        "Notice that, as shown in the cells above, \"==\" and \"=\" are different in Python. \"=\" is used to assign a value to a variable, while \"==\" is used to check whether two things are equal but does not change the value of either of those things. The following cells explore this further; feel free to try your own examples to get a better intuition of how these operators work."
      ],
      "metadata": {
        "id": "O8Cadzj3OFE3"
      }
    },
    {
      "cell_type": "code",
      "source": [
        "# Gives no output\n",
        "variable = 3"
      ],
      "metadata": {
        "id": "GodK6sRYODil"
      },
      "execution_count": null,
      "outputs": []
    },
    {
      "cell_type": "code",
      "source": [
        "# Checks whether the variable is 0; gives an output\n",
        "variable == 0"
      ],
      "metadata": {
        "id": "6ay1RlWmOMKe"
      },
      "execution_count": null,
      "outputs": []
    },
    {
      "cell_type": "code",
      "source": [
        "# The cell above did not change the value of the variable to 0\n",
        "print(variable)"
      ],
      "metadata": {
        "id": "bEvqKLTQOPJD"
      },
      "execution_count": null,
      "outputs": []
    },
    {
      "cell_type": "code",
      "source": [
        "# But now this will change the value of the variable\n",
        "variable = 0\n",
        "print(variable)"
      ],
      "metadata": {
        "id": "BO-4TWhNOVt4"
      },
      "execution_count": null,
      "outputs": []
    },
    {
      "cell_type": "markdown",
      "source": [
        "You can create more complicated logical expressions using \"and\", \"or\", and \"not\"."
      ],
      "metadata": {
        "id": "xcxmJiiQOgHk"
      }
    },
    {
      "cell_type": "code",
      "source": [
        "not ((4 + 3 == 7) and (9 == 8))"
      ],
      "metadata": {
        "colab": {
          "base_uri": "https://localhost:8080/"
        },
        "id": "SbA6Y_QRO3Y_",
        "outputId": "30a31da4-8fda-499e-fb2e-97092033187c"
      },
      "execution_count": null,
      "outputs": [
        {
          "output_type": "execute_result",
          "data": {
            "text/plain": [
              "True"
            ]
          },
          "metadata": {},
          "execution_count": 8
        }
      ]
    },
    {
      "cell_type": "markdown",
      "source": [
        "Parentheses matter! We've copied and pasted the expression from the cell above into the cell below; this expression evaluates as True. Modify this expression by only changing the positions of the parentheses so that it now evaluates as False."
      ],
      "metadata": {
        "id": "hcqe0T7iPCu7"
      }
    },
    {
      "cell_type": "code",
      "source": [
        "### EXERCISE\n",
        "\n",
        "\n",
        "# TODO: Modify the positions of parentheses to make this \n",
        "# expression False instead of True\n",
        "not ((4 + 3 == 7) and (9 == 8))"
      ],
      "metadata": {
        "colab": {
          "base_uri": "https://localhost:8080/"
        },
        "id": "bJ7cap3mPPZD",
        "outputId": "72d599c3-fe7b-4b55-94ad-2cea02f550a2"
      },
      "execution_count": 4,
      "outputs": [
        {
          "output_type": "execute_result",
          "data": {
            "text/plain": [
              "True"
            ]
          },
          "metadata": {},
          "execution_count": 4
        }
      ]
    },
    {
      "cell_type": "markdown",
      "source": [
        "#### Strings:\n",
        "\n",
        "Strings are strings of characters. To represent a string in Python, put the set of characters inside quotation marks. You can use single quotes or double quotes; it doesn't matter which, but it is best to pick one and stick to it. Here are some strings:"
      ],
      "metadata": {
        "id": "04xYSqjuPwpH"
      }
    },
    {
      "cell_type": "code",
      "source": [
        "# A string using single quotes\n",
        "'cat'\n",
        "\n",
        "# A string using double quotes\n",
        "\"dog\""
      ],
      "metadata": {
        "colab": {
          "base_uri": "https://localhost:8080/",
          "height": 35
        },
        "id": "WBsXZC_KP288",
        "outputId": "62af4839-dbbf-4993-d253-f761cb332e0e"
      },
      "execution_count": null,
      "outputs": [
        {
          "output_type": "execute_result",
          "data": {
            "text/plain": [
              "'dog'"
            ],
            "application/vnd.google.colaboratory.intrinsic+json": {
              "type": "string"
            }
          },
          "metadata": {},
          "execution_count": 10
        }
      ]
    },
    {
      "cell_type": "code",
      "source": [
        "# This will generate an error because \"4.0\" is a string, not a float. Thus,\n",
        "# you cannot add 3 to it.\n",
        "\"4.0\" + 3"
      ],
      "metadata": {
        "id": "blyGdq5GP7MU"
      },
      "execution_count": null,
      "outputs": []
    },
    {
      "cell_type": "code",
      "source": [
        "# But you can add two strings\n",
        "\n",
        "\"cat\" + \"dog\""
      ],
      "metadata": {
        "colab": {
          "base_uri": "https://localhost:8080/",
          "height": 35
        },
        "id": "Sb_AtVokQACd",
        "outputId": "a197d1fb-0b5d-4af5-edf1-bdc15ab8183f"
      },
      "execution_count": null,
      "outputs": [
        {
          "output_type": "execute_result",
          "data": {
            "text/plain": [
              "'catdog'"
            ],
            "application/vnd.google.colaboratory.intrinsic+json": {
              "type": "string"
            }
          },
          "metadata": {},
          "execution_count": 11
        }
      ]
    },
    {
      "cell_type": "markdown",
      "metadata": {
        "id": "Ib5LWwSbLImF"
      },
      "source": [
        "Python has many extremely useful string functions and methods; here are a few of them:"
      ]
    },
    {
      "cell_type": "code",
      "execution_count": null,
      "metadata": {
        "id": "rgpzs7dbLImF",
        "outputId": "2e977c20-e64c-4b24-9e9e-cd95b75f089a"
      },
      "outputs": [
        {
          "data": {
            "text/plain": [
              "4"
            ]
          },
          "execution_count": 18,
          "metadata": {},
          "output_type": "execute_result"
        }
      ],
      "source": [
        "# length of string\n",
        "len(response)"
      ]
    },
    {
      "cell_type": "code",
      "execution_count": null,
      "metadata": {
        "id": "qgQwHhyaLImF",
        "outputId": "c95b656c-8f1f-43fc-9a66-e2d5f26b4e6d"
      },
      "outputs": [
        {
          "data": {
            "text/plain": [
              "'SPAM'"
            ]
          },
          "execution_count": 19,
          "metadata": {},
          "output_type": "execute_result"
        }
      ],
      "source": [
        "# Make upper-case. See also str.lower()\n",
        "response.upper()"
      ]
    },
    {
      "cell_type": "code",
      "execution_count": null,
      "metadata": {
        "id": "HXFB-AaULImF",
        "outputId": "228b6ff6-4be5-41c4-be01-13be4cd6f51a"
      },
      "outputs": [
        {
          "data": {
            "text/plain": [
              "'What do you like?'"
            ]
          },
          "execution_count": 20,
          "metadata": {},
          "output_type": "execute_result"
        }
      ],
      "source": [
        "# Capitalize. See also str.title()\n",
        "message.capitalize()"
      ]
    },
    {
      "cell_type": "code",
      "execution_count": null,
      "metadata": {
        "id": "zshK7UsILImG",
        "outputId": "a70ecdee-5f21-40c1-ff0b-4d53ac7f457f"
      },
      "outputs": [
        {
          "data": {
            "text/plain": [
              "'what do you like?spam'"
            ]
          },
          "execution_count": 21,
          "metadata": {},
          "output_type": "execute_result"
        }
      ],
      "source": [
        "# concatenation with +\n",
        "message + response"
      ]
    },
    {
      "cell_type": "code",
      "execution_count": null,
      "metadata": {
        "id": "q3XSeMkjLImG",
        "outputId": "d4277290-84bb-4bde-bde8-8cbaaaa6bcad"
      },
      "outputs": [
        {
          "data": {
            "text/plain": [
              "'spamspamspamspamspam'"
            ]
          },
          "execution_count": 22,
          "metadata": {},
          "output_type": "execute_result"
        }
      ],
      "source": [
        "# multiplication is multiple concatenation\n",
        "5 * response"
      ]
    },
    {
      "cell_type": "code",
      "execution_count": null,
      "metadata": {
        "id": "8N69Wz6qLImG",
        "outputId": "bee8c7bc-fdc4-4a51-e2d1-7e1a687c803d"
      },
      "outputs": [
        {
          "data": {
            "text/plain": [
              "'w'"
            ]
          },
          "execution_count": 23,
          "metadata": {},
          "output_type": "execute_result"
        }
      ],
      "source": [
        "# Access individual characters (zero-based indexing)\n",
        "message[0]"
      ]
    },
    {
      "cell_type": "markdown",
      "metadata": {
        "id": "Kv0nGKG9LIlp"
      },
      "source": [
        "## Note: Python Variables Are Pointers\n",
        "\n",
        "Assigning variables in Python is as easy as putting a variable name to the left of the equals (``=``) sign:\n",
        "\n",
        "```python\n",
        "# assign 4 to the variable x\n",
        "x = 4\n",
        "```\n",
        "\n",
        "This may seem straightforward, but if you have the wrong mental model of what this operation does, the way Python works may seem confusing.\n",
        "We'll briefly dig into that here.\n",
        "\n",
        "In many programming languages, variables are best thought of as containers or buckets into which you put data.\n",
        "So in C, for example, when you write\n",
        "\n",
        "```C\n",
        "// C code\n",
        "int x = 4;\n",
        "```\n",
        "\n",
        "you are essentially defining a \"memory bucket\" named ``x``, and putting the value ``4`` into it.\n",
        "In Python, by contrast, variables are best thought of not as containers but as pointers.\n",
        "So in Python, when you write\n",
        "\n",
        "```python\n",
        "x = 4\n",
        "```\n",
        "\n",
        "you are essentially defining a *pointer* named ``x`` that points to some other bucket containing the value ``4``.\n",
        "Note one consequence of this: because Python variables just point to various objects, there is no need to \"declare\" the variable, or even require the variable to always point to information of the same type!\n",
        "This is the sense in which people say Python is *dynamically-typed*: variable names can point to objects of any type.\n",
        "So in Python, you can do things like this:"
      ]
    },
    {
      "cell_type": "markdown",
      "metadata": {
        "id": "PGqa4vRdLIly"
      },
      "source": [
        "## Everything Is an Object\n",
        "\n",
        "Python is an object-oriented programming language, and in Python everything is an object. Call `type` function to get the object's type."
      ]
    },
    {
      "cell_type": "code",
      "execution_count": null,
      "metadata": {
        "id": "gHe5ALlOLIly",
        "outputId": "a23dd5cc-5b31-45f2-9f1b-a87fd794daa0"
      },
      "outputs": [
        {
          "data": {
            "text/plain": [
              "int"
            ]
          },
          "execution_count": 7,
          "metadata": {},
          "output_type": "execute_result"
        }
      ],
      "source": [
        "x = 4\n",
        "type(x)"
      ]
    },
    {
      "cell_type": "code",
      "execution_count": null,
      "metadata": {
        "id": "EQX49sWwLIly",
        "outputId": "74d48b64-4410-4b3c-ebdd-1898c493ee08"
      },
      "outputs": [
        {
          "data": {
            "text/plain": [
              "str"
            ]
          },
          "execution_count": 8,
          "metadata": {},
          "output_type": "execute_result"
        }
      ],
      "source": [
        "x = 'hello'\n",
        "type(x)"
      ]
    },
    {
      "cell_type": "code",
      "execution_count": null,
      "metadata": {
        "id": "UTSIgeHJLIly",
        "outputId": "d053df63-82e6-4b57-d18e-970bd3e2212a"
      },
      "outputs": [
        {
          "data": {
            "text/plain": [
              "float"
            ]
          },
          "execution_count": 9,
          "metadata": {},
          "output_type": "execute_result"
        }
      ],
      "source": [
        "x = 3.14159\n",
        "type(x)"
      ]
    },
    {
      "cell_type": "markdown",
      "metadata": {
        "id": "dUYCCQi2LIl1"
      },
      "source": [
        "# Basic Python Semantics: Operators"
      ]
    },
    {
      "cell_type": "markdown",
      "metadata": {
        "id": "CAjQ87F3LIl1"
      },
      "source": [
        "## Arithmetic Operations\n",
        "\n",
        "| Operator     | Name           | Description                                            |\n",
        "|--------------|----------------|--------------------------------------------------------|\n",
        "| ``a + b``    | Addition       | Sum of ``a`` and ``b``                                 |\n",
        "| ``a - b``    | Subtraction    | Difference of ``a`` and ``b``                          |\n",
        "| ``a * b``    | Multiplication | Product of ``a`` and ``b``                             |\n",
        "| ``a / b``    | True division  | Quotient of ``a`` and ``b``                            |\n",
        "| ``a // b``   | Floor division | Quotient of ``a`` and ``b``, removing fractional parts |\n",
        "| ``a % b``    | Modulus        | Integer remainder after division of ``a`` by ``b``     |\n",
        "| ``a ** b``   | Exponentiation | ``a`` raised to the power of ``b``                     |\n",
        "| ``-a``       | Negation       | The negative of ``a``                                  |\n",
        "| ``+a``       | Unary plus     | ``a`` unchanged (rarely used)                          |\n",
        "\n",
        "These operators can be used and combined in intuitive ways, using standard parentheses to group operations.\n",
        "For example:"
      ]
    },
    {
      "cell_type": "code",
      "execution_count": null,
      "metadata": {
        "id": "SXmtXBuQLIl2",
        "outputId": "f6ac7b87-b6c7-4716-a33c-a166c186c93d"
      },
      "outputs": [
        {
          "data": {
            "text/plain": [
              "42.0"
            ]
          },
          "execution_count": 1,
          "metadata": {},
          "output_type": "execute_result"
        }
      ],
      "source": [
        "# addition, subtraction, multiplication\n",
        "(4 + 8) * (6.5 - 3)"
      ]
    },
    {
      "cell_type": "markdown",
      "metadata": {
        "id": "OhhwqCaSLIl2"
      },
      "source": [
        "Floor division is true division with fractional parts truncated:"
      ]
    },
    {
      "cell_type": "code",
      "execution_count": null,
      "metadata": {
        "id": "E_SF97asLIl2",
        "outputId": "eb3f7678-3d45-4d9b-917c-7f543983fb2e"
      },
      "outputs": [
        {
          "name": "stdout",
          "output_type": "stream",
          "text": [
            "5.5\n"
          ]
        }
      ],
      "source": [
        "# True division\n",
        "print(11 / 2)"
      ]
    },
    {
      "cell_type": "code",
      "execution_count": null,
      "metadata": {
        "id": "vZ5wy_sBLIl2",
        "outputId": "b69cddac-8553-4681-f960-4f4f3538fd96"
      },
      "outputs": [
        {
          "name": "stdout",
          "output_type": "stream",
          "text": [
            "5\n"
          ]
        }
      ],
      "source": [
        "# Floor division\n",
        "print(11 // 2)"
      ]
    },
    {
      "cell_type": "markdown",
      "metadata": {
        "id": "C6qn4ehdLIl5"
      },
      "source": [
        "## Comparison Operations\n",
        "\n",
        "Another type of operation which can be very useful is comparison of different values.\n",
        "For this, Python implements standard comparison operators, which return Boolean values ``True`` and ``False``.\n",
        "The comparison operations are listed in the following table:\n",
        "\n",
        "| Operation     | Description                       || Operation     | Description                          |\n",
        "|---------------|-----------------------------------||---------------|--------------------------------------|\n",
        "| ``a == b``    | ``a`` equal to ``b``              || ``a != b``    | ``a`` not equal to ``b``             |\n",
        "| ``a < b``     | ``a`` less than ``b``             || ``a > b``     | ``a`` greater than ``b``             |\n",
        "| ``a <= b``    | ``a`` less than or equal to ``b`` || ``a >= b``    | ``a`` greater than or equal to ``b`` |\n",
        "\n",
        "These comparison operators can be combined with the arithmetic and bitwise operators to express a virtually limitless range of tests for the numbers.\n",
        "For example, we can check if a number is odd by checking that the modulus with 2 returns 1:"
      ]
    },
    {
      "cell_type": "code",
      "execution_count": null,
      "metadata": {
        "id": "bfOe8XUkLIl5",
        "outputId": "503ebb93-eb0c-4a27-9992-26b227b2ba2f"
      },
      "outputs": [
        {
          "data": {
            "text/plain": [
              "True"
            ]
          },
          "execution_count": 11,
          "metadata": {},
          "output_type": "execute_result"
        }
      ],
      "source": [
        "# 25 is odd\n",
        "25 % 2 == 1"
      ]
    },
    {
      "cell_type": "code",
      "execution_count": null,
      "metadata": {
        "id": "D9fJYMIHLIl5",
        "outputId": "8504edeb-214a-4ba8-b0b4-97f8ea76d9f2"
      },
      "outputs": [
        {
          "data": {
            "text/plain": [
              "False"
            ]
          },
          "execution_count": 12,
          "metadata": {},
          "output_type": "execute_result"
        }
      ],
      "source": [
        "# 66 is odd\n",
        "66 % 2 == 1"
      ]
    },
    {
      "cell_type": "markdown",
      "metadata": {
        "id": "d_-E81LkLIl6"
      },
      "source": [
        "We can string-together multiple comparisons to check more complicated relationships:"
      ]
    },
    {
      "cell_type": "code",
      "execution_count": null,
      "metadata": {
        "id": "GQj4uUNbLIl6",
        "outputId": "1d92aec1-b775-4797-d08a-258f6941beb2"
      },
      "outputs": [
        {
          "data": {
            "text/plain": [
              "True"
            ]
          },
          "execution_count": 13,
          "metadata": {},
          "output_type": "execute_result"
        }
      ],
      "source": [
        "# check if a is between 15 and 30\n",
        "a = 25\n",
        "15 < a < 30"
      ]
    },
    {
      "cell_type": "markdown",
      "metadata": {
        "id": "H-Sg7vGSLIl6"
      },
      "source": [
        "## Boolean Operations\n",
        "When working with Boolean values, Python provides operators to combine the values using the standard concepts of \"and\", \"or\", and \"not\".\n",
        "Predictably, these operators are expressed using the words ``and``, ``or``, and ``not``:"
      ]
    },
    {
      "cell_type": "code",
      "execution_count": null,
      "metadata": {
        "id": "mNj-m0FaLIl7",
        "outputId": "68c3f8b5-f598-4f67-d43b-ee66e8bf0ac1"
      },
      "outputs": [
        {
          "data": {
            "text/plain": [
              "True"
            ]
          },
          "execution_count": 15,
          "metadata": {},
          "output_type": "execute_result"
        }
      ],
      "source": [
        "x = 4\n",
        "(x < 6) and (x > 2)"
      ]
    },
    {
      "cell_type": "code",
      "execution_count": null,
      "metadata": {
        "id": "ZQsWil7qLIl7",
        "outputId": "cf766f46-4e6f-431c-e8a1-5dd92e7532ea"
      },
      "outputs": [
        {
          "data": {
            "text/plain": [
              "True"
            ]
          },
          "execution_count": 16,
          "metadata": {},
          "output_type": "execute_result"
        }
      ],
      "source": [
        "(x > 10) or (x % 2 == 0)"
      ]
    },
    {
      "cell_type": "code",
      "execution_count": null,
      "metadata": {
        "id": "i_FDo_vqLIl7",
        "outputId": "3ac29eab-28fe-4a11-9d05-9672b27d582d"
      },
      "outputs": [
        {
          "data": {
            "text/plain": [
              "False"
            ]
          },
          "execution_count": 17,
          "metadata": {},
          "output_type": "execute_result"
        }
      ],
      "source": [
        "not (x < 6)"
      ]
    },
    {
      "cell_type": "markdown",
      "metadata": {
        "id": "Xcna9tzFLIl8"
      },
      "source": [
        "## Identity and Membership Operators\n",
        "\n",
        "Like ``and``, ``or``, and ``not``, Python also contains prose-like operators  to check for identity and membership.\n",
        "They are the following:\n",
        "\n",
        "| Operator      | Description                                       |\n",
        "|---------------|---------------------------------------------------|\n",
        "| ``a is b``    | True if ``a`` and ``b`` are identical objects     |\n",
        "| ``a is not b``| True if ``a`` and ``b`` are not identical objects |\n",
        "| ``a in b``    | True if ``a`` is a member of ``b``                |\n",
        "| ``a not in b``| True if ``a`` is not a member of ``b``            |"
      ]
    },
    {
      "cell_type": "markdown",
      "metadata": {
        "id": "d41BWeLTLIl8"
      },
      "source": [
        "### Identity Operators: \"``is``\" and \"``is not``\"\n",
        "\n",
        "The identity operators, \"``is``\" and \"``is not``\" check for *object identity*.\n",
        "Object identity is different than equality, as we can see here:"
      ]
    },
    {
      "cell_type": "code",
      "execution_count": null,
      "metadata": {
        "id": "n2Ewz2trLIl8"
      },
      "outputs": [],
      "source": [
        "a = [1, 2, 3]\n",
        "b = [1, 2, 3]"
      ]
    },
    {
      "cell_type": "code",
      "execution_count": null,
      "metadata": {
        "id": "9da3XbCILIl8",
        "outputId": "2fe76607-6b92-4fb4-cd5c-6f93c4950657"
      },
      "outputs": [
        {
          "data": {
            "text/plain": [
              "True"
            ]
          },
          "execution_count": 20,
          "metadata": {},
          "output_type": "execute_result"
        }
      ],
      "source": [
        "a == b"
      ]
    },
    {
      "cell_type": "code",
      "execution_count": null,
      "metadata": {
        "id": "lxdObT1lLIl8",
        "outputId": "fafaa4a7-02a0-45b0-f307-376f9c666189"
      },
      "outputs": [
        {
          "data": {
            "text/plain": [
              "False"
            ]
          },
          "execution_count": 21,
          "metadata": {},
          "output_type": "execute_result"
        }
      ],
      "source": [
        "a is b"
      ]
    },
    {
      "cell_type": "code",
      "execution_count": null,
      "metadata": {
        "id": "OBBXNZ6fLIl9",
        "outputId": "737abdba-aa19-4095-97f2-307da04843b3"
      },
      "outputs": [
        {
          "data": {
            "text/plain": [
              "True"
            ]
          },
          "execution_count": 22,
          "metadata": {},
          "output_type": "execute_result"
        }
      ],
      "source": [
        "a is not b"
      ]
    },
    {
      "cell_type": "markdown",
      "metadata": {
        "id": "dkFJwDS8LIl9"
      },
      "source": [
        "What do identical objects look like? Here is an example:"
      ]
    },
    {
      "cell_type": "code",
      "execution_count": null,
      "metadata": {
        "id": "O5guJUBBLIl-",
        "outputId": "eba8ffa1-a40e-4837-e739-5527efa3ff17"
      },
      "outputs": [
        {
          "data": {
            "text/plain": [
              "True"
            ]
          },
          "execution_count": 23,
          "metadata": {},
          "output_type": "execute_result"
        }
      ],
      "source": [
        "a = [1, 2, 3]\n",
        "b = a\n",
        "a is b"
      ]
    },
    {
      "cell_type": "markdown",
      "metadata": {
        "id": "5NVdEwGaLIl-"
      },
      "source": [
        "The difference between the two cases here is that in the first, ``a`` and ``b`` point to *different objects*, while in the second they point to the *same object*.\n",
        "As we saw in the previous section, Python variables are pointers. The \"``is``\" operator checks whether the two variables are pointing to the same container (object), rather than referring to what the container contains.\n",
        "With this in mind, in most cases that a beginner is tempted to use \"``is``\" what they really mean is ``==``."
      ]
    },
    {
      "cell_type": "markdown",
      "metadata": {
        "id": "1Jj8gNRbLIl-"
      },
      "source": [
        "### Membership operators\n",
        "Membership operators check for membership within compound objects.\n",
        "So, for example, we can write:"
      ]
    },
    {
      "cell_type": "code",
      "execution_count": null,
      "metadata": {
        "id": "IDfwRlrtLIl_",
        "outputId": "d5417be7-5e91-4488-82d0-388107256f00"
      },
      "outputs": [
        {
          "data": {
            "text/plain": [
              "True"
            ]
          },
          "execution_count": 24,
          "metadata": {},
          "output_type": "execute_result"
        }
      ],
      "source": [
        "1 in [1, 2, 3]"
      ]
    },
    {
      "cell_type": "code",
      "execution_count": null,
      "metadata": {
        "id": "LDaXeDNaLIl_",
        "outputId": "85435385-e14c-4616-d0bc-07d8497a4459"
      },
      "outputs": [
        {
          "data": {
            "text/plain": [
              "False"
            ]
          },
          "execution_count": 25,
          "metadata": {},
          "output_type": "execute_result"
        }
      ],
      "source": [
        "2 not in [1, 2, 3]"
      ]
    },
    {
      "cell_type": "markdown",
      "metadata": {
        "id": "XpsqgYosLIl_"
      },
      "source": [
        "These membership operations are an example of what makes Python so easy to use compared to lower-level languages such as C.\n",
        "In C, membership would generally be determined by manually constructing a loop over the list and checking for equality of each value.\n",
        "In Python, you just type what you want to know, in a manner reminiscent of straightforward English prose."
      ]
    },
    {
      "cell_type": "markdown",
      "metadata": {
        "id": "0YG9476cLImA"
      },
      "source": [
        "## Built-In Types"
      ]
    },
    {
      "cell_type": "markdown",
      "metadata": {
        "id": "wf4Wk_jwLImA"
      },
      "source": [
        "When discussing Python variables and objects, we mentioned the fact that all Python objects have type information attached. Here we'll briefly walk through the built-in simple types offered by Python.\n",
        "We say \"simple types\" to contrast with several compound types, which will be discussed in the following section.\n",
        "\n",
        "Python's simple types are summarized in the following table:\n",
        "\n",
        "<center>**Python Scalar Types**</center>\n",
        "\n",
        "| Type        | Example        | Description                                                  |\n",
        "|-------------|----------------|--------------------------------------------------------------|\n",
        "| ``int``     | ``x = 1``      | integers (i.e., whole numbers)                               |\n",
        "| ``float``   | ``x = 1.0``    | floating-point numbers (i.e., real numbers)                  |\n",
        "| ``complex`` | ``x = 1 + 2j`` | Complex numbers (i.e., numbers with real and imaginary part) |\n",
        "| ``bool``    | ``x = True``   | Boolean: True/False values                                   |\n",
        "| ``str``     | ``x = 'abc'``  | String: characters or text                                   |\n",
        "| ``NoneType``| ``x = None``   | Special object indicating nulls                              |\n",
        "\n",
        "We'll take a quick look at each of these in turn."
      ]
    },
    {
      "cell_type": "markdown",
      "metadata": {
        "id": "jo1WGepkLImA"
      },
      "source": [
        "## Integers\n",
        "The most basic numerical type is the integer.\n",
        "Any number without a decimal point is an integer:"
      ]
    },
    {
      "cell_type": "code",
      "execution_count": null,
      "metadata": {
        "id": "cECd-SLNLImA",
        "outputId": "71d71da5-8578-4649-df14-1feec0c9e293"
      },
      "outputs": [
        {
          "data": {
            "text/plain": [
              "int"
            ]
          },
          "execution_count": 1,
          "metadata": {},
          "output_type": "execute_result"
        }
      ],
      "source": [
        "x = 1\n",
        "type(x)"
      ]
    },
    {
      "cell_type": "markdown",
      "metadata": {
        "id": "C_6JCKHMLImB"
      },
      "source": [
        "Python integers are actually quite a bit more sophisticated than integers in languages like ``C``.\n",
        "C integers are fixed-precision, and usually overflow at some value (often near $2^{31}$ or $2^{63}$, depending on your system).\n",
        "Python integers are variable-precision, so you can do computations that would overflow in other languages:"
      ]
    },
    {
      "cell_type": "code",
      "execution_count": null,
      "metadata": {
        "id": "735cNpmrLImB",
        "outputId": "7bd0fa93-fc1c-4ce2-f094-ed89ff1f1880"
      },
      "outputs": [
        {
          "data": {
            "text/plain": [
              "1606938044258990275541962092341162602522202993782792835301376"
            ]
          },
          "execution_count": 2,
          "metadata": {},
          "output_type": "execute_result"
        }
      ],
      "source": [
        "2 ** 200"
      ]
    },
    {
      "cell_type": "markdown",
      "metadata": {
        "id": "znlcRxFZLImC"
      },
      "source": [
        "## Floating-Point Numbers\n",
        "The floating-point type can store fractional numbers.\n",
        "They can be defined either in standard decimal notation, or in exponential notation:"
      ]
    },
    {
      "cell_type": "code",
      "execution_count": null,
      "metadata": {
        "id": "h5YkPwd6LImC",
        "outputId": "9a4118d7-8f4b-4183-f8fd-634ea7bc89c0"
      },
      "outputs": [
        {
          "name": "stdout",
          "output_type": "stream",
          "text": [
            "True\n"
          ]
        }
      ],
      "source": [
        "x = 0.000005\n",
        "y = 5e-6\n",
        "print(x == y)"
      ]
    },
    {
      "cell_type": "code",
      "execution_count": null,
      "metadata": {
        "id": "6MFnyBFXLImC",
        "outputId": "88c5e24f-6a6e-4c79-b82a-142cb156b99e"
      },
      "outputs": [
        {
          "name": "stdout",
          "output_type": "stream",
          "text": [
            "True\n"
          ]
        }
      ],
      "source": [
        "x = 1400000.00\n",
        "y = 1.4e6\n",
        "print(x == y)"
      ]
    },
    {
      "cell_type": "markdown",
      "metadata": {
        "id": "eLKxACjsLImC"
      },
      "source": [
        "In the exponential notation, the ``e`` or ``E`` can be read \"...times ten to the...\",\n",
        "so that ``1.4e6`` is interpreted as $~1.4 \\times 10^6$."
      ]
    },
    {
      "cell_type": "markdown",
      "metadata": {
        "id": "xILSjwmQLImC"
      },
      "source": [
        "An integer can be explicitly converted to a float with the ``float`` constructor:"
      ]
    },
    {
      "cell_type": "code",
      "execution_count": null,
      "metadata": {
        "id": "sfBE8FetLImC",
        "outputId": "15c045d9-2bcd-4e3a-d500-bc189479aa96"
      },
      "outputs": [
        {
          "data": {
            "text/plain": [
              "1.0"
            ]
          },
          "execution_count": 7,
          "metadata": {},
          "output_type": "execute_result"
        }
      ],
      "source": [
        "float(1)"
      ]
    },
    {
      "cell_type": "markdown",
      "metadata": {
        "id": "kIgA_enJLImC"
      },
      "source": [
        "### Aside: Floating-point precision\n",
        "One thing to be aware of with floating point arithmetic is that its precision is limited, which can cause equality tests to be unstable. For example:"
      ]
    },
    {
      "cell_type": "code",
      "execution_count": null,
      "metadata": {
        "id": "HPGsMQ_mLImD",
        "outputId": "0b7102da-65d3-4907-8bcf-398ad591be4d"
      },
      "outputs": [
        {
          "data": {
            "text/plain": [
              "False"
            ]
          },
          "execution_count": 8,
          "metadata": {},
          "output_type": "execute_result"
        }
      ],
      "source": [
        "0.1 + 0.2 == 0.3"
      ]
    },
    {
      "cell_type": "markdown",
      "metadata": {
        "id": "bW6KeCdqLImD"
      },
      "source": [
        "Why is this the case? It turns out that it is not a behavior unique to Python, but is due to the fixed-precision format of the binary floating-point storage used by most, if not all, scientific computing platforms.\n",
        "All programming languages using floating-point numbers store them in a fixed number of bits, and this leads some numbers to be represented only approximately.\n",
        "We can see this by printing the three values to high precision:"
      ]
    },
    {
      "cell_type": "code",
      "execution_count": null,
      "metadata": {
        "id": "pQho6BBmLImD",
        "outputId": "73f04039-466e-4afc-9669-c8b7e178b375"
      },
      "outputs": [
        {
          "name": "stdout",
          "output_type": "stream",
          "text": [
            "0.1 = 0.10000000000000001\n",
            "0.2 = 0.20000000000000001\n",
            "0.3 = 0.29999999999999999\n"
          ]
        }
      ],
      "source": [
        "print(\"0.1 = {0:.17f}\".format(0.1))\n",
        "print(\"0.2 = {0:.17f}\".format(0.2))\n",
        "print(\"0.3 = {0:.17f}\".format(0.3))"
      ]
    },
    {
      "cell_type": "markdown",
      "metadata": {
        "id": "lvYPZRN7LImD"
      },
      "source": [
        "We're accustomed to thinking of numbers in decimal (base-10) notation, so that each fraction must be expressed as a sum of powers of 10:\n",
        "$$\n",
        "1 /8 = 1\\cdot 10^{-1} + 2\\cdot 10^{-2} + 5\\cdot 10^{-3}\n",
        "$$\n",
        "In the familiar base-10 representation, we represent this in the familiar decimal expression: $0.125$.\n",
        "\n",
        "Computers usually store values in binary notation, so that each number is expressed as a sum of powers of 2:\n",
        "$$\n",
        "1/8 = 0\\cdot 2^{-1} + 0\\cdot 2^{-2} + 1\\cdot 2^{-3}\n",
        "$$\n",
        "In a base-2 representation, we can write this $0.001_2$, where the subscript 2 indicates binary notation.\n",
        "The value $0.125 = 0.001_2$ happens to be one number which both binary and decimal notation can represent in a finite number of digits.\n",
        "\n",
        "In the familiar base-10 representation of numbers, you are probably familiar with numbers that can't be expressed in a finite number of digits.\n",
        "For example, dividing $1$ by $3$ gives, in standard decimal notation:\n",
        "$$\n",
        "1 / 3 = 0.333333333\\cdots\n",
        "$$\n",
        "The 3s go on forever: that is, to truly represent this quotient, the number of required digits is infinite!\n",
        "\n",
        "Similarly, there are numbers for which binary representations require an infinite number of digits.\n",
        "For example:\n",
        "$$\n",
        "1 / 10 = 0.00011001100110011\\cdots_2\n",
        "$$\n",
        "Just as decimal notation requires an infinite number of digits to perfectly represent $1/3$, binary notation requires an infinite number of digits to represent $1/10$.\n",
        "Python internally truncates these representations at 52 bits beyond the first nonzero bit on most systems.\n",
        "\n",
        "This rounding error for floating-point values is a necessary evil of working with floating-point numbers.\n",
        "The best way to deal with it is to always keep in mind that floating-point arithmetic is approximate, and *never* rely on exact equality tests with floating-point values."
      ]
    },
    {
      "cell_type": "markdown",
      "metadata": {
        "id": "adq5s-W7LImG"
      },
      "source": [
        "## None Type\n",
        "Python includes a special type, the ``NoneType``, which has only a single possible value: ``None``. For example:"
      ]
    },
    {
      "cell_type": "code",
      "execution_count": null,
      "metadata": {
        "id": "XpLbg_mVLImG",
        "outputId": "8fa933a7-e7e9-448d-f4c1-122c32e0c2e4"
      },
      "outputs": [
        {
          "data": {
            "text/plain": [
              "NoneType"
            ]
          },
          "execution_count": 24,
          "metadata": {},
          "output_type": "execute_result"
        }
      ],
      "source": [
        "type(None)"
      ]
    },
    {
      "cell_type": "markdown",
      "metadata": {
        "id": "UcCKL2AJLImH"
      },
      "source": [
        "You'll see ``None`` used in many places, but perhaps most commonly it is used as the default return value of a function.\n",
        "For example, the ``print()`` function in Python 3 does not return anything, but we can still catch its value:"
      ]
    },
    {
      "cell_type": "code",
      "execution_count": null,
      "metadata": {
        "id": "TiVzQGpeLImH",
        "outputId": "f86139a4-bd79-434b-c12a-7438d08e13b2"
      },
      "outputs": [
        {
          "name": "stdout",
          "output_type": "stream",
          "text": [
            "abc\n"
          ]
        }
      ],
      "source": [
        "return_value = print('abc')"
      ]
    },
    {
      "cell_type": "code",
      "execution_count": null,
      "metadata": {
        "id": "qGoqILt-LImH",
        "outputId": "f68891be-0476-4bee-eaed-5c392b08a7b2"
      },
      "outputs": [
        {
          "name": "stdout",
          "output_type": "stream",
          "text": [
            "None\n"
          ]
        }
      ],
      "source": [
        "print(return_value)"
      ]
    },
    {
      "cell_type": "markdown",
      "metadata": {
        "id": "t-OTEB8hLImH"
      },
      "source": [
        "Likewise, any function in Python with no return value is, in reality, returning ``None``."
      ]
    }
  ],
  "metadata": {
    "anaconda-cloud": {},
    "kernelspec": {
      "display_name": "Python 3",
      "language": "python",
      "name": "python3"
    },
    "language_info": {
      "codemirror_mode": {
        "name": "ipython",
        "version": 3
      },
      "file_extension": ".py",
      "mimetype": "text/x-python",
      "name": "python",
      "nbconvert_exporter": "python",
      "pygments_lexer": "ipython3",
      "version": "3.5.1"
    },
    "colab": {
      "provenance": [],
      "collapsed_sections": [
        "04xYSqjuPwpH",
        "Xcna9tzFLIl8",
        "d41BWeLTLIl8",
        "1Jj8gNRbLIl-"
      ],
      "include_colab_link": true
    }
  },
  "nbformat": 4,
  "nbformat_minor": 0
}