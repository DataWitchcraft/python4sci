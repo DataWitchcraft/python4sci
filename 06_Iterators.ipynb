{
  "cells": [
    {
      "cell_type": "markdown",
      "metadata": {
        "id": "view-in-github",
        "colab_type": "text"
      },
      "source": [
        "<a href=\"https://colab.research.google.com/github/DataWitchcraft/python4sci/blob/main/06_Iterators.ipynb\" target=\"_parent\"><img src=\"https://colab.research.google.com/assets/colab-badge.svg\" alt=\"Open In Colab\"/></a>"
      ]
    },
    {
      "cell_type": "markdown",
      "metadata": {
        "id": "ahPQC3T_ZN23"
      },
      "source": [
        "# Iterators"
      ]
    },
    {
      "cell_type": "markdown",
      "metadata": {
        "id": "1jxBuJGjZN25"
      },
      "source": [
        "Often an important piece of data analysis is repeating a similar calculation, over and over, in an automated fashion.\n",
        "For example, you may have a table of a names that you'd like to split into first and last, or perhaps of dates that you'd like to convert to some standard format.\n",
        "One of Python's answers to this is the *iterator* syntax.\n",
        "We've seen this already with the ``range`` iterator:"
      ]
    },
    {
      "cell_type": "code",
      "execution_count": null,
      "metadata": {
        "id": "mfrWmTt9ZN26",
        "outputId": "47cb80c5-da5b-40fc-e37c-a57527221c27"
      },
      "outputs": [
        {
          "name": "stdout",
          "output_type": "stream",
          "text": [
            "0 1 2 3 4 5 6 7 8 9 "
          ]
        }
      ],
      "source": [
        "for i in range(10):\n",
        "    print(i, end=' ')"
      ]
    },
    {
      "cell_type": "markdown",
      "metadata": {
        "id": "GIiES_eWZN2-"
      },
      "source": [
        "Here we're going to dig a bit deeper.\n",
        "It turns out that in Python 3, ``range`` is not a list, but is something called an *iterator*, and learning how it works is key to understanding a wide class of very useful Python functionality."
      ]
    },
    {
      "cell_type": "markdown",
      "metadata": {
        "id": "1lcLLiODZN2_"
      },
      "source": [
        "## Iterating over lists\n",
        "Iterators are perhaps most easily understood in the concrete case of iterating through a list.\n",
        "Consider the following:"
      ]
    },
    {
      "cell_type": "code",
      "execution_count": null,
      "metadata": {
        "id": "JZREknGpZN3A",
        "outputId": "1c4ffb86-9b62-4ed7-d23a-a6ab3bf468ff"
      },
      "outputs": [
        {
          "name": "stdout",
          "output_type": "stream",
          "text": [
            "3 5 7 9 11 "
          ]
        }
      ],
      "source": [
        "for value in [2, 4, 6, 8, 10]:\n",
        "    # do some operation\n",
        "    print(value + 1, end=' ')"
      ]
    },
    {
      "cell_type": "markdown",
      "metadata": {
        "id": "-bIqqhd6ZN3B"
      },
      "source": [
        "The familiar \"``for x in y``\" syntax allows us to repeat some operation for each value in the list.\n",
        "The fact that the syntax of the code is so close to its English description (\"*for [each] value in [the] list*\") is just one of the syntactic choices that makes Python such an intuitive language to learn and use.\n",
        "\n",
        "But the face-value behavior is not what's *really* happening.\n",
        "When you write something like \"``for val in L``\", the Python interpreter checks whether it has an *iterator* interface, which you can check yourself with the built-in ``iter`` function:"
      ]
    },
    {
      "cell_type": "code",
      "execution_count": null,
      "metadata": {
        "id": "jultDzN0ZN3C",
        "outputId": "72eba079-afd4-406f-c708-bca532aeb5b1"
      },
      "outputs": [
        {
          "data": {
            "text/plain": [
              "<list_iterator at 0x104722400>"
            ]
          },
          "execution_count": 3,
          "metadata": {},
          "output_type": "execute_result"
        }
      ],
      "source": [
        "iter([2, 4, 6, 8, 10])"
      ]
    },
    {
      "cell_type": "markdown",
      "metadata": {
        "id": "_pGyfbDxZN3D"
      },
      "source": [
        "It is this iterator object that provides the functionality required by the ``for`` loop.\n",
        "The ``iter`` object is a container that gives you access to the next object for as long as it's valid, which can be seen with the built-in function ``next``:"
      ]
    },
    {
      "cell_type": "code",
      "execution_count": null,
      "metadata": {
        "collapsed": true,
        "id": "a6yS8UNYZN3D"
      },
      "outputs": [],
      "source": [
        "I = iter([2, 4, 6, 8, 10])"
      ]
    },
    {
      "cell_type": "code",
      "execution_count": null,
      "metadata": {
        "id": "ld7LKp03ZN3E",
        "outputId": "f23517ab-51cf-4cf4-ed04-26a6fe1a3893"
      },
      "outputs": [
        {
          "name": "stdout",
          "output_type": "stream",
          "text": [
            "2\n"
          ]
        }
      ],
      "source": [
        "print(next(I))"
      ]
    },
    {
      "cell_type": "code",
      "execution_count": null,
      "metadata": {
        "id": "FTbBvGWsZN3F",
        "outputId": "24a601d0-3513-49af-ea2b-b5d0c0ab2043"
      },
      "outputs": [
        {
          "name": "stdout",
          "output_type": "stream",
          "text": [
            "4\n"
          ]
        }
      ],
      "source": [
        "print(next(I))"
      ]
    },
    {
      "cell_type": "code",
      "execution_count": null,
      "metadata": {
        "id": "SNdzpE6_ZN3G",
        "outputId": "c0bc3683-2f0d-40b5-8a04-64bb9e7d246c"
      },
      "outputs": [
        {
          "name": "stdout",
          "output_type": "stream",
          "text": [
            "6\n"
          ]
        }
      ],
      "source": [
        "print(next(I))"
      ]
    },
    {
      "cell_type": "markdown",
      "metadata": {
        "id": "KE33nGz1ZN3H"
      },
      "source": [
        "What is the purpose of this level of indirection?\n",
        "Well, it turns out this is incredibly useful, because it allows Python to treat things as lists that are *not actually lists*."
      ]
    },
    {
      "cell_type": "markdown",
      "metadata": {
        "id": "J40MvgvHZN3I"
      },
      "source": [
        "## ``range()``: A List Is Not Always a List\n",
        "Perhaps the most common example of this indirect iteration is the ``range()`` function in Python 3 (named ``xrange()`` in Python 2), which returns not a list, but a special ``range()`` object:"
      ]
    },
    {
      "cell_type": "code",
      "execution_count": null,
      "metadata": {
        "id": "9DsounNxZN3I",
        "outputId": "31784313-b71c-42b6-9177-cca6542aca8b"
      },
      "outputs": [
        {
          "data": {
            "text/plain": [
              "range(0, 10)"
            ]
          },
          "execution_count": 8,
          "metadata": {},
          "output_type": "execute_result"
        }
      ],
      "source": [
        "range(10)"
      ]
    },
    {
      "cell_type": "markdown",
      "metadata": {
        "id": "LMxfGt6vZN3J"
      },
      "source": [
        "``range``, like a list, exposes an iterator:"
      ]
    },
    {
      "cell_type": "code",
      "execution_count": null,
      "metadata": {
        "id": "p_jr5183ZN3J",
        "outputId": "170fb22d-92c7-440d-8461-cd6d3613aafb"
      },
      "outputs": [
        {
          "data": {
            "text/plain": [
              "<range_iterator at 0x1045a1810>"
            ]
          },
          "execution_count": 9,
          "metadata": {},
          "output_type": "execute_result"
        }
      ],
      "source": [
        "iter(range(10))"
      ]
    },
    {
      "cell_type": "markdown",
      "metadata": {
        "id": "C7pY9wcKZN3K"
      },
      "source": [
        "So Python knows to treat it *as if* it's a list:"
      ]
    },
    {
      "cell_type": "code",
      "execution_count": null,
      "metadata": {
        "id": "Ez9VXYOmZN3K",
        "outputId": "9e58db67-069d-4af6-d668-b1fd6e81a1e7"
      },
      "outputs": [
        {
          "name": "stdout",
          "output_type": "stream",
          "text": [
            "0 1 2 3 4 5 6 7 8 9 "
          ]
        }
      ],
      "source": [
        "for i in range(10):\n",
        "    print(i, end=' ')"
      ]
    },
    {
      "cell_type": "markdown",
      "metadata": {
        "id": "lSt75eN_ZN3L"
      },
      "source": [
        "The benefit of the iterator indirection is that *the full list is never explicitly created!*\n",
        "We can see this by doing a range calculation that would overwhelm our system memory if we actually instantiated it:"
      ]
    },
    {
      "cell_type": "code",
      "execution_count": 1,
      "metadata": {
        "id": "6Ceea9HqZN3L",
        "outputId": "7faf12fa-fd5f-45e2-b763-cdc7eaa6a155",
        "colab": {
          "base_uri": "https://localhost:8080/"
        }
      },
      "outputs": [
        {
          "output_type": "stream",
          "name": "stdout",
          "text": [
            "0, 1, 2, 3, 4, 5, 6, 7, 8, 9, "
          ]
        }
      ],
      "source": [
        "N = 1000000000000\n",
        "for i in range(N):\n",
        "    if i >= 10: break  # break will jump out of the loop\n",
        "    print(i, end=', ')"
      ]
    },
    {
      "cell_type": "markdown",
      "metadata": {
        "id": "UqrwS6MZZN3M"
      },
      "source": [
        "If ``range`` were to actually create that list of one trillion values, it would occupy tens of terabytes of machine memory: a waste, given the fact that we're ignoring all but the first 10 values!"
      ]
    },
    {
      "cell_type": "markdown",
      "metadata": {
        "id": "cXXrdywzZN3Z"
      },
      "source": [
        "# List Comprehensions"
      ]
    },
    {
      "cell_type": "markdown",
      "metadata": {
        "id": "17pi-M4bZN3Z"
      },
      "source": [
        "If you read enough Python code, you'll eventually come across the terse and efficient construction known as a *list comprehension*.\n",
        "This is one feature of Python I expect you will fall in love with if you've not used it before; it looks something like this:"
      ]
    },
    {
      "cell_type": "code",
      "execution_count": null,
      "metadata": {
        "id": "c51C2ZnzZN3Z",
        "outputId": "51fc67b4-f23a-4d42-ac8a-74c84b653b91"
      },
      "outputs": [
        {
          "data": {
            "text/plain": [
              "[1, 2, 4, 5, 7, 8, 10, 11, 13, 14, 16, 17, 19]"
            ]
          },
          "execution_count": 1,
          "metadata": {},
          "output_type": "execute_result"
        }
      ],
      "source": [
        "[i for i in range(20) if i % 3 > 0]"
      ]
    },
    {
      "cell_type": "markdown",
      "metadata": {
        "id": "Oel3JrWJZN3a"
      },
      "source": [
        "The result of this is a list of numbers which excludes multiples of 3.\n",
        "While this example may seem a bit confusing at first, as familiarity with Python grows, reading and writing list comprehensions will become second nature."
      ]
    },
    {
      "cell_type": "markdown",
      "metadata": {
        "id": "JpnPsZS_ZN3a"
      },
      "source": [
        "## Basic List Comprehensions\n",
        "List comprehensions are simply a way to compress a list-building for-loop into a single short, readable line.\n",
        "For example, here is a loop that constructs a list of the first 12 square integers:"
      ]
    },
    {
      "cell_type": "code",
      "execution_count": null,
      "metadata": {
        "id": "0av2alwQZN3a",
        "outputId": "7de5d7f4-f040-4269-c215-4944458a38a9"
      },
      "outputs": [
        {
          "data": {
            "text/plain": [
              "[0, 1, 4, 9, 16, 25, 36, 49, 64, 81, 100, 121]"
            ]
          },
          "execution_count": 2,
          "metadata": {},
          "output_type": "execute_result"
        }
      ],
      "source": [
        "L = []\n",
        "for n in range(12):\n",
        "    L.append(n ** 2)\n",
        "L"
      ]
    },
    {
      "cell_type": "markdown",
      "metadata": {
        "id": "W-SBtdelZN3a"
      },
      "source": [
        "The list comprehension equivalent of this is the following:"
      ]
    },
    {
      "cell_type": "code",
      "execution_count": null,
      "metadata": {
        "id": "5kWVeEzuZN3a",
        "outputId": "24d9b6ae-9f01-4b56-dd03-aac83a95cf78"
      },
      "outputs": [
        {
          "data": {
            "text/plain": [
              "[0, 1, 4, 9, 16, 25, 36, 49, 64, 81, 100, 121]"
            ]
          },
          "execution_count": 3,
          "metadata": {},
          "output_type": "execute_result"
        }
      ],
      "source": [
        "[n ** 2 for n in range(12)]"
      ]
    },
    {
      "cell_type": "markdown",
      "metadata": {
        "id": "DzRusNB3ZN3b"
      },
      "source": [
        "As with many Python statements, you can almost read-off the meaning of this statement in plain English: \"construct a list consisting of the square of ``n`` for each ``n`` up to 12\".\n",
        "\n",
        "This basic syntax, then, is ``[``*``expr``* ``for`` *``var``* ``in`` *``iterable``*``]``, where *``expr``* is any valid expression, *``var``* is a variable name, and *``iterable``* is any iterable Python object."
      ]
    },
    {
      "cell_type": "markdown",
      "metadata": {
        "id": "F0fZi9JFZN3c"
      },
      "source": [
        "## Conditionals on the Iterator\n",
        "You can further control the iteration by adding a conditional to the end of the expression.\n",
        "In the first example of the section, we iterated over all numbers from 1 to 20, but left-out multiples of 3.\n",
        "Look at this again, and notice the construction:"
      ]
    },
    {
      "cell_type": "code",
      "execution_count": null,
      "metadata": {
        "id": "aGVaCC1OZN3c",
        "outputId": "55f2a3fa-edf9-48a1-da6e-686f9de9129a"
      },
      "outputs": [
        {
          "data": {
            "text/plain": [
              "[1, 2, 4, 5, 7, 8, 10, 11, 13, 14, 16, 17, 19]"
            ]
          },
          "execution_count": 5,
          "metadata": {},
          "output_type": "execute_result"
        }
      ],
      "source": [
        "[val for val in range(20) if val % 3 > 0]"
      ]
    },
    {
      "cell_type": "markdown",
      "metadata": {
        "id": "UFpG-PqTZN3c"
      },
      "source": [
        "The expression ``(i % 3 > 0)`` evaluates to ``True`` unless ``val`` is divisible by 3.\n",
        "Again, the English language meaning can be immediately read off: \"Construct a list of values for each value up to 20, but only if the value is not divisible by 3\".\n",
        "Once you are comfortable with it, this is much easier to write – and to understand at a glance – than the equivalent loop syntax:"
      ]
    },
    {
      "cell_type": "code",
      "execution_count": null,
      "metadata": {
        "id": "K47Cm5PCZN3c",
        "outputId": "297f84ab-da18-4c10-eb64-055a3456555f"
      },
      "outputs": [
        {
          "data": {
            "text/plain": [
              "[1, 2, 4, 5, 7, 8, 10, 11, 13, 14, 16, 17, 19]"
            ]
          },
          "execution_count": 6,
          "metadata": {},
          "output_type": "execute_result"
        }
      ],
      "source": [
        "L = []\n",
        "for val in range(20):\n",
        "    if val % 3 > 0:\n",
        "        L.append(val)\n",
        "L"
      ]
    },
    {
      "cell_type": "code",
      "execution_count": null,
      "metadata": {
        "id": "fy-wqbU_b0Jt"
      },
      "outputs": [],
      "source": [
        "### EXERCISE\n",
        "\n",
        "# TODO: Given a list of numbers, return the same list but without even numbers\n",
        "\n",
        "def remove_even(x):\n",
        "    # YOUR CODE HERE\n",
        "\n",
        "L = [8, 3, 5, 4, 7]\n",
        "\n",
        "remove_even(L)  # expected output [3,  5, 7]"
      ]
    },
    {
      "cell_type": "markdown",
      "metadata": {
        "id": "Nfb6vICaZN3d"
      },
      "source": [
        "Once you understand the dynamics of list comprehensions, it's straightforward to move on to other types of comprehensions. The syntax is largely the same; the only difference is the type of bracket you use.\n",
        "\n",
        "For example, with curly braces you can create a ``set`` with a *set comprehension*:"
      ]
    },
    {
      "cell_type": "code",
      "execution_count": null,
      "metadata": {
        "id": "st6_Wte7ZN3e",
        "outputId": "7312dd66-3931-4af2-a487-8260cc4dbd27"
      },
      "outputs": [
        {
          "data": {
            "text/plain": [
              "{0, 1, 4, 9, 16, 25, 36, 49, 64, 81, 100, 121}"
            ]
          },
          "execution_count": 11,
          "metadata": {},
          "output_type": "execute_result"
        }
      ],
      "source": [
        "{n**2 for n in range(12)}"
      ]
    },
    {
      "cell_type": "markdown",
      "metadata": {
        "id": "tVQEGZI0ZN3e"
      },
      "source": [
        "With a slight tweak, you can add a colon (``:``) to create a *dict comprehension*:"
      ]
    },
    {
      "cell_type": "code",
      "execution_count": null,
      "metadata": {
        "id": "cfToR4BZZN3e",
        "outputId": "a6fb6e60-f6ed-4a90-bf3a-fe62f00939a5"
      },
      "outputs": [
        {
          "data": {
            "text/plain": [
              "{0: 0, 1: 1, 2: 4, 3: 9, 4: 16, 5: 25}"
            ]
          },
          "execution_count": 13,
          "metadata": {},
          "output_type": "execute_result"
        }
      ],
      "source": [
        "{n:n**2 for n in range(6)}"
      ]
    },
    {
      "cell_type": "code",
      "execution_count": null,
      "metadata": {
        "id": "hJG_JeYcc28H"
      },
      "outputs": [],
      "source": [
        "### EXERCISE\n",
        "\n",
        "# TODO: Write a function that given an integer n, returns dictionary with keys 1, 2, 3, ..., n and values 1, 4, 9, ...,n*n\n",
        "\n",
        "def dict_of_squares(n):\n",
        "  # YOUR CODE HERE\n",
        "\n",
        "dict_of_squares(5)  # expected output {1: 1, 2: 4, 3: 9, 4: 16, 5: 25} "
      ]
    }
  ],
  "metadata": {
    "anaconda-cloud": {},
    "colab": {
      "provenance": [],
      "include_colab_link": true
    },
    "kernelspec": {
      "display_name": "Python 3.8.10 64-bit",
      "language": "python",
      "name": "python3"
    },
    "language_info": {
      "codemirror_mode": {
        "name": "ipython",
        "version": 3
      },
      "file_extension": ".py",
      "mimetype": "text/x-python",
      "name": "python",
      "nbconvert_exporter": "python",
      "pygments_lexer": "ipython3",
      "version": "3.8.10"
    },
    "vscode": {
      "interpreter": {
        "hash": "31f2aee4e71d21fbe5cf8b01ff0e069b9275f58929596ceb00d14d90e3e16cd6"
      }
    }
  },
  "nbformat": 4,
  "nbformat_minor": 0
}