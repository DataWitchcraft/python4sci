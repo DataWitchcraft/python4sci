{
  "nbformat": 4,
  "nbformat_minor": 0,
  "metadata": {
    "colab": {
      "provenance": [],
      "authorship_tag": "ABX9TyM5eI+qzltK+fu5Vw5yJH9U",
      "include_colab_link": true
    },
    "kernelspec": {
      "name": "python3",
      "display_name": "Python 3"
    },
    "language_info": {
      "name": "python"
    }
  },
  "cells": [
    {
      "cell_type": "markdown",
      "metadata": {
        "id": "view-in-github",
        "colab_type": "text"
      },
      "source": [
        "<a href=\"https://colab.research.google.com/github/DataWitchcraft/python4sci/blob/main/08_Numpy.ipynb\" target=\"_parent\"><img src=\"https://colab.research.google.com/assets/colab-badge.svg\" alt=\"Open In Colab\"/></a>"
      ]
    },
    {
      "cell_type": "markdown",
      "source": [
        "# Numpy\n",
        "\n",
        "## Introduction\n",
        "\n",
        "NumPy array is a data container. It is similar to Python lists, but it's specialised for working on numerical data. NumPy is at the center of scientific Python ecosystem and it is a work-horse of many scientific libraries including scikit-learn, scikit-image, matplotlib, SciPy.\n",
        "\n",
        "To use NumPy we need to start python interpreter and import `numpy` package -- it's customary the use the following import statement, which will make all NumPy functions available under the `np` prefix:"
      ],
      "metadata": {
        "id": "9wNbfzPb9WPD"
      }
    },
    {
      "cell_type": "code",
      "execution_count": 2,
      "metadata": {
        "id": "2jjFMLk69FdO"
      },
      "outputs": [],
      "source": [
        "import numpy as np"
      ]
    },
    {
      "cell_type": "markdown",
      "source": [
        "If `numpy` was installed correctly, this should not produce any messages. Let's create a simple three-element NumPy array:"
      ],
      "metadata": {
        "id": "JF6i8dGK9kZt"
      }
    },
    {
      "cell_type": "code",
      "source": [
        "x = np.array([2, 1, 5])\n",
        "x"
      ],
      "metadata": {
        "id": "_mdY9i6y9jd7"
      },
      "execution_count": null,
      "outputs": []
    },
    {
      "cell_type": "markdown",
      "source": [
        "One of the advantages of NumPy is that it allows to apply functions (called `ufunc`s) to all elements of an array without the need of for loops:"
      ],
      "metadata": {
        "id": "BCJvrgf29tJI"
      }
    },
    {
      "cell_type": "code",
      "source": [
        "np.sin(x)"
      ],
      "metadata": {
        "id": "-LbOO7tG9UaK"
      },
      "execution_count": null,
      "outputs": []
    },
    {
      "cell_type": "markdown",
      "source": [
        "This is not only convenient but also more efficient than iterating through the elements using for loops. Similarly, we can add scalars to all elements or multiply them by a constant:\n"
      ],
      "metadata": {
        "id": "3ixM5MJG9xF5"
      }
    },
    {
      "cell_type": "code",
      "source": [
        "x + 1"
      ],
      "metadata": {
        "id": "IbfEAt0o90ej"
      },
      "execution_count": null,
      "outputs": []
    },
    {
      "cell_type": "markdown",
      "source": [
        "To construct an array with pre-defined elements we can also use one of the built-in helper functions. `np.arange` works like Python built-in `range`, but it returns an array; `np.ones` and `np.zeros` returns arrays of 0s or 1s; `np.random.rand` creates an array of random number from an interval [0, 1]:"
      ],
      "metadata": {
        "id": "a4ubbsEp95Pc"
      }
    },
    {
      "cell_type": "code",
      "source": [
        "np.arange(5)"
      ],
      "metadata": {
        "id": "A_zBf0Ui-Bc9"
      },
      "execution_count": null,
      "outputs": []
    },
    {
      "cell_type": "code",
      "source": [
        "np.ones(5)"
      ],
      "metadata": {
        "id": "TBmTK16c-BpQ"
      },
      "execution_count": null,
      "outputs": []
    },
    {
      "cell_type": "code",
      "source": [
        "np.zeros(5)"
      ],
      "metadata": {
        "id": "QtecEwNi-B0I"
      },
      "execution_count": null,
      "outputs": []
    },
    {
      "cell_type": "code",
      "source": [
        "np.random.rand(5)"
      ],
      "metadata": {
        "id": "RIz08pjF95pE"
      },
      "execution_count": null,
      "outputs": []
    },
    {
      "cell_type": "markdown",
      "source": [
        "We can also construct a two- or more dimensional arrays:"
      ],
      "metadata": {
        "id": "0jqSKc-R-I_e"
      }
    },
    {
      "cell_type": "code",
      "source": [
        "x = np.array([[1, 2], [5, 6]])\n",
        "x"
      ],
      "metadata": {
        "id": "0Mztuhyy-Mv1"
      },
      "execution_count": null,
      "outputs": []
    },
    {
      "cell_type": "code",
      "source": [
        "np.ones((2, 2))"
      ],
      "metadata": {
        "id": "nuTT9e6l-Qth"
      },
      "execution_count": null,
      "outputs": []
    },
    {
      "cell_type": "markdown",
      "source": [
        "Alternatively, a n-dimensional array can be obtained by reshaping a 1-D array:"
      ],
      "metadata": {
        "id": "tfh8QVNw-V0y"
      }
    },
    {
      "cell_type": "code",
      "source": [
        "a = np.arange(9)\n",
        "a"
      ],
      "metadata": {
        "id": "TXVG6vUA-Yd_"
      },
      "execution_count": null,
      "outputs": []
    },
    {
      "cell_type": "code",
      "source": [
        "a.reshape(3,3)"
      ],
      "metadata": {
        "id": "maqeagy2-dbv"
      },
      "execution_count": null,
      "outputs": []
    },
    {
      "cell_type": "markdown",
      "source": [
        "Note that in this case we used a method of the array itself called `reshape` rather than a function from NumPy module (`np.reshape`). Both ways are possible and it's usually only a matter of convenience which one we choose in a particular case."
      ],
      "metadata": {
        "id": "Rsq8PiGk-kqT"
      }
    },
    {
      "cell_type": "code",
      "source": [
        "### EXERCISE\n",
        "\n",
        "# Create a 5x5 square array with number 5 on the diagonal and zeros otherwise. Consider using `np.eye` function (you can check the docstring)."
      ],
      "metadata": {
        "id": "UBwWH2Qu-nES"
      },
      "execution_count": null,
      "outputs": []
    },
    {
      "cell_type": "markdown",
      "source": [
        "## Operations\n",
        "\n",
        "Multiplication of two arrays is elementwise. For example, to calculate a square of each element we may use:"
      ],
      "metadata": {
        "id": "qeyfHtil_cNT"
      }
    },
    {
      "cell_type": "code",
      "source": [
        "a = np.arange(3)\n",
        "print(\"a = \", a)\n",
        "\n",
        "b = a * a\n",
        "b"
      ],
      "metadata": {
        "colab": {
          "base_uri": "https://localhost:8080/"
        },
        "id": "ZLxkjgod-nph",
        "outputId": "6005d73a-ae96-4172-91c3-e7ba9ff0e1cd"
      },
      "execution_count": 5,
      "outputs": [
        {
          "output_type": "stream",
          "name": "stdout",
          "text": [
            "a =  [0 1 2]\n"
          ]
        },
        {
          "output_type": "execute_result",
          "data": {
            "text/plain": [
              "array([0, 1, 4])"
            ]
          },
          "metadata": {},
          "execution_count": 5
        }
      ]
    },
    {
      "cell_type": "markdown",
      "source": [
        "Matrix products are calculated using the `np.dot` function:"
      ],
      "metadata": {
        "id": "aeRMPq-N_5YX"
      }
    },
    {
      "cell_type": "code",
      "source": [
        "np.dot(a, a)"
      ],
      "metadata": {
        "id": "CethUfaw_qfe"
      },
      "execution_count": null,
      "outputs": []
    },
    {
      "cell_type": "markdown",
      "source": [
        "For 1-D arrays the same result can be obtained by:"
      ],
      "metadata": {
        "id": "V2TVtBMK_9Kt"
      }
    },
    {
      "cell_type": "code",
      "source": [
        "np.sum(a * a)"
      ],
      "metadata": {
        "id": "qz-jItSQAA15"
      },
      "execution_count": null,
      "outputs": []
    },
    {
      "cell_type": "markdown",
      "source": [
        "### Axis-based reductions\n",
        "\n",
        "The `np.sum` function sums all elements regardless of the number of array dimensions:\n"
      ],
      "metadata": {
        "id": "2rPliL5GADvw"
      }
    },
    {
      "cell_type": "code",
      "source": [
        "b = np.arange(9).reshape(3,3)\n",
        "b"
      ],
      "metadata": {
        "id": "FU8ugryIAQOn"
      },
      "execution_count": 6,
      "outputs": []
    },
    {
      "cell_type": "code",
      "source": [
        "np.sum(b)"
      ],
      "metadata": {
        "id": "Gx2Pjf43AT0P"
      },
      "execution_count": null,
      "outputs": []
    },
    {
      "cell_type": "markdown",
      "source": [
        "If you want to sum only columns or rows, you need to pass the index of the axis over which you want to sum:"
      ],
      "metadata": {
        "id": "wfduSta5Abod"
      }
    },
    {
      "cell_type": "code",
      "source": [
        "np.sum(b, 0)"
      ],
      "metadata": {
        "id": "scx6bw5EAb9_"
      },
      "execution_count": null,
      "outputs": []
    },
    {
      "cell_type": "code",
      "source": [
        "np.sum(b, 1)"
      ],
      "metadata": {
        "id": "g0xF_38gAfUn"
      },
      "execution_count": null,
      "outputs": []
    },
    {
      "cell_type": "markdown",
      "source": [
        "Other similar reduction functions are `np.min`, `np.max` or `np.mean`:"
      ],
      "metadata": {
        "id": "7176MtKxAntE"
      }
    },
    {
      "cell_type": "code",
      "source": [
        "np.min(b)"
      ],
      "metadata": {
        "id": "eEp4iB7pAmr1"
      },
      "execution_count": null,
      "outputs": []
    },
    {
      "cell_type": "code",
      "source": [
        "np.min(b, 0)"
      ],
      "metadata": {
        "id": "YxLGwEfUAuk5"
      },
      "execution_count": null,
      "outputs": []
    },
    {
      "cell_type": "code",
      "source": [
        "np.min(b, 1)"
      ],
      "metadata": {
        "id": "5ACe_WCmAvOL"
      },
      "execution_count": null,
      "outputs": []
    },
    {
      "cell_type": "markdown",
      "source": [
        "You can also find the index of the minimum element in each axis:"
      ],
      "metadata": {
        "id": "wF6STiFTA0bv"
      }
    },
    {
      "cell_type": "code",
      "source": [
        "np.argmin(b, 0)"
      ],
      "metadata": {
        "id": "eVENOP6kA4C0"
      },
      "execution_count": null,
      "outputs": []
    },
    {
      "cell_type": "markdown",
      "source": [
        "### Sorting\n",
        "\n",
        "NumPy also implement various sorting algorithms. To sort elements of an array you can use `np.sort` functions:"
      ],
      "metadata": {
        "id": "DtCCI1gaBN6A"
      }
    },
    {
      "cell_type": "code",
      "source": [
        "a = np.random.rand(4)\n",
        "a"
      ],
      "metadata": {
        "id": "-2aVNcWtBPEI"
      },
      "execution_count": null,
      "outputs": []
    },
    {
      "cell_type": "code",
      "source": [
        "np.sort(a)"
      ],
      "metadata": {
        "id": "qa8I3zwJBT6X"
      },
      "execution_count": null,
      "outputs": []
    },
    {
      "cell_type": "markdown",
      "source": [
        "Similarly to the reduction functions, you can also pass the axis index to sort along: "
      ],
      "metadata": {
        "id": "V7yJqZ-OBcOn"
      }
    },
    {
      "cell_type": "code",
      "source": [
        "b = a.reshape(2, 2)\n",
        "b"
      ],
      "metadata": {
        "id": "MAYpsV5NBW99"
      },
      "execution_count": null,
      "outputs": []
    },
    {
      "cell_type": "code",
      "source": [
        "np.sort(b, 0)"
      ],
      "metadata": {
        "id": "P-XVwQGqBiWd"
      },
      "execution_count": null,
      "outputs": []
    },
    {
      "cell_type": "code",
      "source": [
        "np.sort(b, 1)"
      ],
      "metadata": {
        "id": "K93SsDXdBjDb"
      },
      "execution_count": null,
      "outputs": []
    },
    {
      "cell_type": "markdown",
      "source": [
        "`np.argsort` returns the order of elements in a sorted array:"
      ],
      "metadata": {
        "id": "QCfO6LCkBlgP"
      }
    },
    {
      "cell_type": "code",
      "source": [
        "np.argsort(a)"
      ],
      "metadata": {
        "id": "e4ImpYBVBo6e"
      },
      "execution_count": null,
      "outputs": []
    },
    {
      "cell_type": "markdown",
      "source": [
        "### Special modules\n",
        "\n",
        "NumPy also provides extra modules implementing basic numerical methods:\n",
        "\n",
        "* `np.linalg` -- linear algebra,\n",
        "* `np.fft` -- fast Fourier transform,\n",
        "* `np.random` -- random number generators."
      ],
      "metadata": {
        "id": "Yr5RIv6sBrvO"
      }
    },
    {
      "cell_type": "code",
      "source": [
        "### EXERCISE\n",
        "\n",
        "# Generate a 10 x 3 array of random numbers (using `np.random.rand`). \n",
        "# From each row, find the column index of the element closest to 0.75. Make use of np.abs and np.argmin. \n",
        "# The result should be a one-dimensional array of integers from 0 to 2.\n"
      ],
      "metadata": {
        "id": "ZTjms3L4Bvdy"
      },
      "execution_count": null,
      "outputs": []
    },
    {
      "cell_type": "code",
      "source": [
        "### EXERCISE - hard\n",
        "\n",
        "# Solve the following system of linear equations using `np.linalg.solve`. Test the solution.\n",
        "# x + 3y = 3\n",
        "# 5x - y = 6"
      ],
      "metadata": {
        "id": "BpsPVBZMB73G"
      },
      "execution_count": null,
      "outputs": []
    },
    {
      "cell_type": "markdown",
      "source": [
        "## Indexing\n",
        "\n",
        "### Integer indexing and slicing\n",
        "\n",
        "Individual items of an array can be accessed by the integer index of the element (starting with 0):"
      ],
      "metadata": {
        "id": "RRiZrnIVCE9x"
      }
    },
    {
      "cell_type": "code",
      "source": [
        "a = np.arange(10)\n",
        "print(\"a =\", a)\n",
        "np.array([a[0], a[2], a[-1]])"
      ],
      "metadata": {
        "id": "ixvNAyV1CPcy"
      },
      "execution_count": null,
      "outputs": []
    },
    {
      "cell_type": "markdown",
      "source": [
        "For two- or more dimensional arrays multiple indices should be specified:"
      ],
      "metadata": {
        "id": "JhPP_OXOCjsE"
      }
    },
    {
      "cell_type": "code",
      "source": [
        "b = np.arange(6).reshape(2,3)\n",
        "b"
      ],
      "metadata": {
        "id": "j2OKHcw1CY2c"
      },
      "execution_count": null,
      "outputs": []
    },
    {
      "cell_type": "code",
      "source": [
        "b[1,2]"
      ],
      "metadata": {
        "id": "HFfM9oaWCncw"
      },
      "execution_count": null,
      "outputs": []
    },
    {
      "cell_type": "markdown",
      "source": [
        "Slicing allows to extract sub-arrays of multiple elements from an array. It's defined by three integers separated by a colon, i.e. `start:end:increment`. Any of the integers can be skipped in which case they are replaced by defaults (0 for `start`, end of array for `end` and 1 for `increment`):"
      ],
      "metadata": {
        "id": "wF1_GK-cCq_X"
      }
    },
    {
      "cell_type": "code",
      "source": [
        "c = np.arange(9)\n",
        "c"
      ],
      "metadata": {
        "id": "H3zSW7AcCrWi"
      },
      "execution_count": null,
      "outputs": []
    },
    {
      "cell_type": "code",
      "source": [
        "c[1:3]"
      ],
      "metadata": {
        "id": "55ZSwBqJCydT"
      },
      "execution_count": null,
      "outputs": []
    },
    {
      "cell_type": "code",
      "source": [
        "c[:3]"
      ],
      "metadata": {
        "id": "4euBayDZC243"
      },
      "execution_count": null,
      "outputs": []
    },
    {
      "cell_type": "code",
      "source": [
        "c[1:]"
      ],
      "metadata": {
        "id": "ABEG0kyHC4w1"
      },
      "execution_count": null,
      "outputs": []
    },
    {
      "cell_type": "markdown",
      "source": [
        "You can also assign elements with slices and indexes:"
      ],
      "metadata": {
        "id": "dWnU0zbqDBu1"
      }
    },
    {
      "cell_type": "code",
      "source": [
        "print(\"c = \", c)\n",
        "c[1:8:2]=1000\n",
        "c"
      ],
      "metadata": {
        "id": "VQlX260IDCN_"
      },
      "execution_count": null,
      "outputs": []
    },
    {
      "cell_type": "code",
      "source": [
        "### EXERCISE \n",
        "\n",
        "# Create a 3x4 array x of  values from 0 to 11. Create another array y as follows: y = x[2]\n",
        "# Try to guess - What happens when you modify y; does ``x`` also change? \n",
        "# Now try `y = x[:2]` and modify it's first element. What happens now? Can you explain why?"
      ],
      "metadata": {
        "id": "nVBAPQIrDkw3"
      },
      "execution_count": null,
      "outputs": []
    },
    {
      "cell_type": "code",
      "source": [
        "### EXERCISE - hard\n",
        "\n",
        "# Create an array of zeros and fill it with a checkerboard pattern with of size 8x8.\n",
        " "
      ],
      "metadata": {
        "id": "ajxWoIrDD4zc"
      },
      "execution_count": null,
      "outputs": []
    },
    {
      "cell_type": "markdown",
      "source": [
        "![](https://github.com/paris-swc/advanced-numpy-lesson/raw/gh-pages/fig/checkerboard.svg)\n",
        "\n",
        "### Boolean mask\n",
        "\n",
        "Sometimes we may want to select array elements based on their values. For this case boolean mask is very useful. The mask is an array of the same length as the indexed array containg only `False` or `True` values:\n",
        "\n",
        "\n"
      ],
      "metadata": {
        "id": "wn6X5i5rEpK1"
      }
    },
    {
      "cell_type": "code",
      "source": [
        "a = np.arange(4)\n",
        "print(\"a =\", a)\n",
        "mask = np.array([False, True, True, False])\n",
        "a[mask]"
      ],
      "metadata": {
        "id": "aGSai7yYEyr4"
      },
      "execution_count": null,
      "outputs": []
    },
    {
      "cell_type": "markdown",
      "source": [
        "In most cases the mask is constructed from the values of the array itself. For example, to select only odd numbers we could use the following mask:\n"
      ],
      "metadata": {
        "id": "vLfGNbgeGk_2"
      }
    },
    {
      "cell_type": "code",
      "source": [
        "odd = (a % 2) == 1\n",
        "print(\"odd =\", odd)\n",
        "a[odd]"
      ],
      "metadata": {
        "id": "DpIbYvlvGaI4"
      },
      "execution_count": null,
      "outputs": []
    },
    {
      "cell_type": "markdown",
      "source": [
        "This could be also done in a single step:\n"
      ],
      "metadata": {
        "id": "ICN_P7MIGuDz"
      }
    },
    {
      "cell_type": "code",
      "source": [
        "a[(a % 2) == 1]"
      ],
      "metadata": {
        "id": "ovBrJwFVGxbU"
      },
      "execution_count": null,
      "outputs": []
    },
    {
      "cell_type": "markdown",
      "source": [
        "Indexing with a mask can be also useful to assign a new value to a sub-array:"
      ],
      "metadata": {
        "id": "6hGibYtgG2Ws"
      }
    },
    {
      "cell_type": "code",
      "source": [
        "a[(a % 2) == 1] = -1\n",
        "a"
      ],
      "metadata": {
        "id": "_onCs2DSG26N"
      },
      "execution_count": null,
      "outputs": []
    },
    {
      "cell_type": "code",
      "source": [
        "### EXERCISE\n",
        "\n",
        "# Rectify an array 3x4 (replace negative elements with zeros) of random numbers from normal distribution (generated with `np.random.randn`) using boolean indexing."
      ],
      "metadata": {
        "id": "mWWcoyXIHahT"
      },
      "execution_count": null,
      "outputs": []
    },
    {
      "cell_type": "markdown",
      "source": [
        "#### Exercise\n",
        "\n",
        "What are the final values of `a` and `b` at the end of the following program? Explain why.\n",
        "\n",
        "```\n",
        "a = np.arange(5)\n",
        "b = a[a < 3]\n",
        "b[::2] = 0\n",
        "```\n",
        "\n",
        "1. `a = [0, 1, 2, 3, 4], b = [0, 1, 2]`\n",
        "\n",
        "1. `a = [0, 1, 0, 3, 4], b = [0, 1, 0]`\n",
        "\n",
        "1. `a = [0, 0, 2, 3, 4], b = [0, 0, 2]`\n",
        "\n",
        "1. `a = [0, 1, 2, 3, 4], b = [0, 1, 0]`\n",
        "\n",
        "1. `a = [0, 1, 2, 3, 4], b = [0, 1, 0, 3, 0]`"
      ],
      "metadata": {
        "id": "-Np7NSSMG8Qm"
      }
    },
    {
      "cell_type": "markdown",
      "source": [
        "### Fancy indexing\n",
        "\n",
        "Indexing can be done with an array of integers. In this case the same index can be also repeated several times:"
      ],
      "metadata": {
        "id": "gKt3uoBsIBsC"
      }
    },
    {
      "cell_type": "code",
      "source": [
        "a = np.arange(0, 100, 10)\n",
        "print(\"a =\", a)\n",
        "a[[2, 3, 2, 4, 2]]"
      ],
      "metadata": {
        "id": "zf6hrTWgHikh"
      },
      "execution_count": null,
      "outputs": []
    },
    {
      "cell_type": "markdown",
      "source": [
        "New values can be also assigned with this kind of indexing:"
      ],
      "metadata": {
        "id": "2YafCUgBIQxO"
      }
    },
    {
      "cell_type": "code",
      "source": [
        "a[[9, 7]] = -100\n",
        "a"
      ],
      "metadata": {
        "id": "2a5dXsQmIPfv"
      },
      "execution_count": null,
      "outputs": []
    },
    {
      "cell_type": "markdown",
      "source": [
        "When a new array is created by indexing with an array of integers, the new array has the same shape than the array of integers. Note that fancing indexing returns a copy and not a view."
      ],
      "metadata": {
        "id": "wLSVlHAXIQ2L"
      }
    },
    {
      "cell_type": "code",
      "source": [
        "a = np.arange(10)\n",
        "idx = np.array([[3, 4], [9, 7]])\n",
        "print(\"idx.shape =\", idx.shape)\n",
        "a[idx]"
      ],
      "metadata": {
        "id": "1K99euDbIL84"
      },
      "execution_count": null,
      "outputs": []
    },
    {
      "cell_type": "markdown",
      "source": [
        "Fancy indexing is often used to re-order or sort data. You can easily obtain the indices required to sort data using `np.argsort`:"
      ],
      "metadata": {
        "id": "yf9Erd12Iotz"
      }
    },
    {
      "cell_type": "code",
      "source": [
        "a = np.random.randint(10, size=5)\n",
        "print(\"a =\", a)\n",
        "i = np.argsort(a)\n",
        "a[i]"
      ],
      "metadata": {
        "id": "LpgYv2E8IuSu"
      },
      "execution_count": null,
      "outputs": []
    },
    {
      "cell_type": "markdown",
      "source": [
        "Let `x = np.array([1, 5, 10])`.\n",
        "\n",
        "Which of the following will show [1, 10]:\n",
        "\n",
        "1. `x[::2]`\n",
        "\n",
        "1. `x[[1, 3]]`\n",
        " \n",
        "1. `x[[0, 2]]`\n",
        " \n",
        "1. `x[0, 2]`\n",
        " \n",
        "1. `x[[1, -1]]`\n",
        "\n",
        "1. `x[[False, True, False]]`\n",
        "\n",
        "For each statement predict whether it returns a copy or a view."
      ],
      "metadata": {
        "id": "ne9K_vneKOzw"
      }
    },
    {
      "cell_type": "code",
      "source": [],
      "metadata": {
        "id": "O_JQHOJGKgOl"
      },
      "execution_count": null,
      "outputs": []
    }
  ]
}