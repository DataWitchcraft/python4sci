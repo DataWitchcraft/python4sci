{
 "cells": [
  {
   "cell_type": "markdown",
   "id": "f7f6c753",
   "metadata": {
    "colab_type": "text",
    "id": "view-in-github"
   },
   "source": [
    "<a href=\"https://colab.research.google.com/github/DataWitchcraft/python4sci/blob/main/10_Pandas_Data_Manipulation.ipynb\" target=\"_parent\"><img src=\"https://colab.research.google.com/assets/colab-badge.svg\" alt=\"Open In Colab\"/></a>"
   ]
  },
  {
   "cell_type": "markdown",
   "id": "bd2d8f55",
   "metadata": {
    "id": "bd2d8f55"
   },
   "source": [
    "# Data manipulation with Pandas library\n",
    "\n",
    "In the following part of the course, we are going to work with tabular data - i.e. data that you probably know from your favourite (or un-favourite) spreadsheet. Usually each row of such a table corresponds to some thing, an instance of something, or some observation. The individual columns then contain the properties or measured quantities characteristic of those things.\n",
    "\n",
    "In the Python world, the pandas library is most commonly used to process tabular data. It allows you to read data from many formats (including Excel workbooks), modify them in various ways, count columns very efficiently, directly examine some statistical indicators, and visualize the results. \n",
    "\n",
    "For more information about the pandas library, visit https://pandas.pydata.org/"
   ]
  },
  {
   "cell_type": "code",
   "execution_count": 1,
   "id": "20a4727e",
   "metadata": {
    "id": "20a4727e"
   },
   "outputs": [],
   "source": [
    "import pandas as pd"
   ]
  },
  {
   "cell_type": "markdown",
   "id": "fc318a84",
   "metadata": {
    "id": "fc318a84"
   },
   "source": [
    "This imports the pandas library, but it will not be available under its usual name, but under the alias `pd`. Usually, we try to avoid aliases because they reduce the readability of the code for other programmers. For data analytics, it is different because using a single alias, which is also very common, saves us a lot of typing."
   ]
  },
  {
   "cell_type": "code",
   "execution_count": 2,
   "id": "2f6bc265",
   "metadata": {
    "id": "2f6bc265",
    "outputId": "328b78ae-2988-44b1-cbe8-24af2ca69183"
   },
   "outputs": [
    {
     "name": "stdout",
     "output_type": "stream",
     "text": [
      "File cze.csv already exists.\n",
      "File countries.csv already exists.\n",
      "File surveys.csv already exists.\n",
      "File species.csv already exists.\n"
     ]
    }
   ],
   "source": [
    "import requests\n",
    "from pathlib import Path\n",
    "\n",
    "datapath = Path('./data')\n",
    "datapath.mkdir(exist_ok=True)\n",
    "\n",
    "to_download = [\n",
    "    'https://raw.githubusercontent.com/DataWitchcraft/python4sci/main/data/cze.csv',\n",
    "    'https://raw.githubusercontent.com/DataWitchcraft/python4sci/main/data/countries.csv',\n",
    "    'https://raw.githubusercontent.com/DataWitchcraft/python4sci/main/data/surveys.csv',\n",
    "    'https://raw.githubusercontent.com/DataWitchcraft/python4sci/main/data/species.csv',\n",
    "]\n",
    "    \n",
    "for link in to_download:\n",
    "    name = link.rsplit(\"/\")[-1]\n",
    "    filepath = datapath / name\n",
    "    if not filepath.exists():\n",
    "        r = requests.get(link)\n",
    "        filepath.write_bytes(r.content)\n",
    "        print(f'File {name} downloaded.')\n",
    "    else:\n",
    "        print(f'File {name} already exists.')\n",
    "        "
   ]
  },
  {
   "cell_type": "markdown",
   "id": "ac6cc02d",
   "metadata": {
    "id": "ac6cc02d"
   },
   "source": [
    "## Reading the data\n",
    "\n",
    "For reading data, Pandas has a number of `read_*` functions that can handle many different formats. A fairly common format is `CSV` (\"comma-separated values\" - wiki), in which each record corresponds to one line, and the individual record properties are separated by commas (or another character).\n",
    "\n",
    "For this section, we will be using the Portal Teaching data, a subset of the data from Ernst et al Long-term monitoring and experimental manipulation of a [Chihuahuan Desert ecosystem near Portal, Arizona, USA](http://www.esapubs.org/archive/ecol/E090/118/default.htm).\n",
    "\n",
    "The dataset stored in `surveys.csv` file contains data on animals caught in sites in the studied area. \n"
   ]
  },
  {
   "cell_type": "markdown",
   "id": "e24feac3",
   "metadata": {
    "id": "e24feac3"
   },
   "source": [
    "|Column\t|Description|\n",
    "|:-------|:------------------|\n",
    "|record_id\t|Unique id for the observation|\n",
    "|month\t|month of observation|\n",
    "|day\t|day of observation|\n",
    "|year\t|year of observation|\n",
    "|plot_id\t|ID of a particular site|\n",
    "|species_id\t|2-letter code|\n",
    "|sex\t|sex of animal (“M”, “F”)|\n",
    "|hindfoot_length\t|length of the hindfoot in mm|\n",
    "|weight\t|weight of the animal in grams|"
   ]
  },
  {
   "cell_type": "code",
   "execution_count": 3,
   "id": "45ced43d",
   "metadata": {
    "id": "45ced43d"
   },
   "outputs": [],
   "source": [
    "surveys_df = pd.read_csv(\"data/surveys.csv\")"
   ]
  },
  {
   "cell_type": "code",
   "execution_count": 4,
   "id": "77d19973",
   "metadata": {
    "id": "77d19973",
    "outputId": "d784c6b5-fd0e-47ae-f74a-2ac0eebe6cfe"
   },
   "outputs": [
    {
     "data": {
      "text/html": [
       "<div>\n",
       "<style scoped>\n",
       "    .dataframe tbody tr th:only-of-type {\n",
       "        vertical-align: middle;\n",
       "    }\n",
       "\n",
       "    .dataframe tbody tr th {\n",
       "        vertical-align: top;\n",
       "    }\n",
       "\n",
       "    .dataframe thead th {\n",
       "        text-align: right;\n",
       "    }\n",
       "</style>\n",
       "<table border=\"1\" class=\"dataframe\">\n",
       "  <thead>\n",
       "    <tr style=\"text-align: right;\">\n",
       "      <th></th>\n",
       "      <th>record_id</th>\n",
       "      <th>month</th>\n",
       "      <th>day</th>\n",
       "      <th>year</th>\n",
       "      <th>plot_id</th>\n",
       "      <th>species_id</th>\n",
       "      <th>sex</th>\n",
       "      <th>hindfoot_length</th>\n",
       "      <th>weight</th>\n",
       "    </tr>\n",
       "  </thead>\n",
       "  <tbody>\n",
       "    <tr>\n",
       "      <th>0</th>\n",
       "      <td>1</td>\n",
       "      <td>7</td>\n",
       "      <td>16</td>\n",
       "      <td>1977</td>\n",
       "      <td>2</td>\n",
       "      <td>NL</td>\n",
       "      <td>M</td>\n",
       "      <td>32.0</td>\n",
       "      <td>NaN</td>\n",
       "    </tr>\n",
       "    <tr>\n",
       "      <th>1</th>\n",
       "      <td>2</td>\n",
       "      <td>7</td>\n",
       "      <td>16</td>\n",
       "      <td>1977</td>\n",
       "      <td>3</td>\n",
       "      <td>NL</td>\n",
       "      <td>M</td>\n",
       "      <td>33.0</td>\n",
       "      <td>NaN</td>\n",
       "    </tr>\n",
       "    <tr>\n",
       "      <th>2</th>\n",
       "      <td>3</td>\n",
       "      <td>7</td>\n",
       "      <td>16</td>\n",
       "      <td>1977</td>\n",
       "      <td>2</td>\n",
       "      <td>DM</td>\n",
       "      <td>F</td>\n",
       "      <td>37.0</td>\n",
       "      <td>NaN</td>\n",
       "    </tr>\n",
       "    <tr>\n",
       "      <th>3</th>\n",
       "      <td>4</td>\n",
       "      <td>7</td>\n",
       "      <td>16</td>\n",
       "      <td>1977</td>\n",
       "      <td>7</td>\n",
       "      <td>DM</td>\n",
       "      <td>M</td>\n",
       "      <td>36.0</td>\n",
       "      <td>NaN</td>\n",
       "    </tr>\n",
       "    <tr>\n",
       "      <th>4</th>\n",
       "      <td>5</td>\n",
       "      <td>7</td>\n",
       "      <td>16</td>\n",
       "      <td>1977</td>\n",
       "      <td>3</td>\n",
       "      <td>DM</td>\n",
       "      <td>M</td>\n",
       "      <td>35.0</td>\n",
       "      <td>NaN</td>\n",
       "    </tr>\n",
       "    <tr>\n",
       "      <th>...</th>\n",
       "      <td>...</td>\n",
       "      <td>...</td>\n",
       "      <td>...</td>\n",
       "      <td>...</td>\n",
       "      <td>...</td>\n",
       "      <td>...</td>\n",
       "      <td>...</td>\n",
       "      <td>...</td>\n",
       "      <td>...</td>\n",
       "    </tr>\n",
       "    <tr>\n",
       "      <th>35544</th>\n",
       "      <td>35545</td>\n",
       "      <td>12</td>\n",
       "      <td>31</td>\n",
       "      <td>2002</td>\n",
       "      <td>15</td>\n",
       "      <td>AH</td>\n",
       "      <td>NaN</td>\n",
       "      <td>NaN</td>\n",
       "      <td>NaN</td>\n",
       "    </tr>\n",
       "    <tr>\n",
       "      <th>35545</th>\n",
       "      <td>35546</td>\n",
       "      <td>12</td>\n",
       "      <td>31</td>\n",
       "      <td>2002</td>\n",
       "      <td>15</td>\n",
       "      <td>AH</td>\n",
       "      <td>NaN</td>\n",
       "      <td>NaN</td>\n",
       "      <td>NaN</td>\n",
       "    </tr>\n",
       "    <tr>\n",
       "      <th>35546</th>\n",
       "      <td>35547</td>\n",
       "      <td>12</td>\n",
       "      <td>31</td>\n",
       "      <td>2002</td>\n",
       "      <td>10</td>\n",
       "      <td>RM</td>\n",
       "      <td>F</td>\n",
       "      <td>15.0</td>\n",
       "      <td>14.0</td>\n",
       "    </tr>\n",
       "    <tr>\n",
       "      <th>35547</th>\n",
       "      <td>35548</td>\n",
       "      <td>12</td>\n",
       "      <td>31</td>\n",
       "      <td>2002</td>\n",
       "      <td>7</td>\n",
       "      <td>DO</td>\n",
       "      <td>M</td>\n",
       "      <td>36.0</td>\n",
       "      <td>51.0</td>\n",
       "    </tr>\n",
       "    <tr>\n",
       "      <th>35548</th>\n",
       "      <td>35549</td>\n",
       "      <td>12</td>\n",
       "      <td>31</td>\n",
       "      <td>2002</td>\n",
       "      <td>5</td>\n",
       "      <td>NaN</td>\n",
       "      <td>NaN</td>\n",
       "      <td>NaN</td>\n",
       "      <td>NaN</td>\n",
       "    </tr>\n",
       "  </tbody>\n",
       "</table>\n",
       "<p>35549 rows × 9 columns</p>\n",
       "</div>"
      ],
      "text/plain": [
       "       record_id  month  day  year  plot_id species_id  sex  hindfoot_length  \\\n",
       "0              1      7   16  1977        2         NL    M             32.0   \n",
       "1              2      7   16  1977        3         NL    M             33.0   \n",
       "2              3      7   16  1977        2         DM    F             37.0   \n",
       "3              4      7   16  1977        7         DM    M             36.0   \n",
       "4              5      7   16  1977        3         DM    M             35.0   \n",
       "...          ...    ...  ...   ...      ...        ...  ...              ...   \n",
       "35544      35545     12   31  2002       15         AH  NaN              NaN   \n",
       "35545      35546     12   31  2002       15         AH  NaN              NaN   \n",
       "35546      35547     12   31  2002       10         RM    F             15.0   \n",
       "35547      35548     12   31  2002        7         DO    M             36.0   \n",
       "35548      35549     12   31  2002        5        NaN  NaN              NaN   \n",
       "\n",
       "       weight  \n",
       "0         NaN  \n",
       "1         NaN  \n",
       "2         NaN  \n",
       "3         NaN  \n",
       "4         NaN  \n",
       "...       ...  \n",
       "35544     NaN  \n",
       "35545     NaN  \n",
       "35546    14.0  \n",
       "35547    51.0  \n",
       "35548     NaN  \n",
       "\n",
       "[35549 rows x 9 columns]"
      ]
     },
     "execution_count": 4,
     "metadata": {},
     "output_type": "execute_result"
    }
   ],
   "source": [
    "surveys_df"
   ]
  },
  {
   "cell_type": "markdown",
   "id": "9f95944f",
   "metadata": {
    "id": "9f95944f"
   },
   "source": [
    "If everything worked as it should, you should see a relatively nicely formatted table. The basic jupyter notebook view will show you the first five and last five rows (who would risk having thousands of rows cluttering up their browser window?) in the table, along with information about the total number of rows and columns. In this case, the table contains a total of 9 properties (named columns) for 35549 different records (numbered rows).\n",
    "\n",
    "⚠️ Warning. Usually there are problems with the input data - for example, they don't have columns described (or have them described in a weird way), they use strange data separators or decimal decimal, many rows have missing values (or are misspelled), ..."
   ]
  },
  {
   "cell_type": "markdown",
   "id": "b400deed",
   "metadata": {
    "id": "b400deed"
   },
   "source": [
    "## Basic Pandas object types - DataFrame, Series, Index"
   ]
  },
  {
   "cell_type": "code",
   "execution_count": 5,
   "id": "3b430e1c",
   "metadata": {
    "id": "3b430e1c",
    "outputId": "61747d6a-bebc-47f8-b08d-78520ef3ab38"
   },
   "outputs": [
    {
     "data": {
      "text/plain": [
       "pandas.core.frame.DataFrame"
      ]
     },
     "execution_count": 5,
     "metadata": {},
     "output_type": "execute_result"
    }
   ],
   "source": [
    "type(surveys_df)"
   ]
  },
  {
   "cell_type": "markdown",
   "id": "b329d183",
   "metadata": {
    "id": "b329d183"
   },
   "source": [
    "`DataFrame` is very similar to a spreadsheet in its functions, but it is important to realize where this parallel ends. Unlike Excel or LibreOffice workbooks, DataFrame contains \"only\" data and does not store any formatting.\n",
    "\n",
    "`DataFrame` behaves similarly to a `dict` - if you put a key in square brackets, you get a named column. In fact, square brackets allow you to select from tables based on various other criteria, but we'll get to that later."
   ]
  },
  {
   "cell_type": "code",
   "execution_count": 6,
   "id": "33b2fa59",
   "metadata": {
    "id": "33b2fa59",
    "outputId": "4c133625-e7c4-4ac9-b8c0-751e52422c62"
   },
   "outputs": [
    {
     "data": {
      "text/plain": [
       "0        32.0\n",
       "1        33.0\n",
       "2        37.0\n",
       "3        36.0\n",
       "4        35.0\n",
       "         ... \n",
       "35544     NaN\n",
       "35545     NaN\n",
       "35546    15.0\n",
       "35547    36.0\n",
       "35548     NaN\n",
       "Name: hindfoot_length, Length: 35549, dtype: float64"
      ]
     },
     "execution_count": 6,
     "metadata": {},
     "output_type": "execute_result"
    }
   ],
   "source": [
    "hindfoot = surveys_df[\"hindfoot_length\"]\n",
    "hindfoot"
   ]
  },
  {
   "cell_type": "markdown",
   "id": "9d087567",
   "metadata": {
    "id": "9d087567"
   },
   "source": [
    "### Series"
   ]
  },
  {
   "cell_type": "code",
   "execution_count": 7,
   "id": "057cc6e3",
   "metadata": {
    "id": "057cc6e3",
    "outputId": "aee2d098-0132-47c4-e949-9a3c8f8afc00"
   },
   "outputs": [
    {
     "data": {
      "text/plain": [
       "pandas.core.series.Series"
      ]
     },
     "execution_count": 7,
     "metadata": {},
     "output_type": "execute_result"
    }
   ],
   "source": [
    "type(hindfoot)"
   ]
  },
  {
   "cell_type": "markdown",
   "id": "97382722",
   "metadata": {
    "id": "97382722"
   },
   "source": [
    "The columns are of the `Series` type. This type looks like a `list`. Let's check if it behaves like that:"
   ]
  },
  {
   "cell_type": "code",
   "execution_count": 8,
   "id": "79bc4794",
   "metadata": {
    "id": "79bc4794",
    "outputId": "e6989ee8-dabf-4aa2-fd72-a74dac037435"
   },
   "outputs": [
    {
     "data": {
      "text/plain": [
       "32.0"
      ]
     },
     "execution_count": 8,
     "metadata": {},
     "output_type": "execute_result"
    }
   ],
   "source": [
    "hindfoot[0]"
   ]
  },
  {
   "cell_type": "code",
   "execution_count": 9,
   "id": "41b4fdc3",
   "metadata": {
    "id": "41b4fdc3",
    "outputId": "42a077e2-420a-4aaf-b3f9-479177bdf33e"
   },
   "outputs": [
    {
     "data": {
      "text/plain": [
       "35545     NaN\n",
       "35546    15.0\n",
       "35547    36.0\n",
       "35548     NaN\n",
       "Name: hindfoot_length, dtype: float64"
      ]
     },
     "execution_count": 9,
     "metadata": {},
     "output_type": "execute_result"
    }
   ],
   "source": [
    "hindfoot[-4:]"
   ]
  },
  {
   "cell_type": "markdown",
   "id": "25336646",
   "metadata": {
    "id": "25336646"
   },
   "source": [
    "**Your turn:**\n",
    "Try to apply some other operations with lists that you already know on the hindfoot Series. Sometimes it works, sometimes it doesn't."
   ]
  },
  {
   "cell_type": "code",
   "execution_count": null,
   "id": "6fbb88ad",
   "metadata": {
    "id": "6fbb88ad"
   },
   "outputs": [],
   "source": []
  },
  {
   "cell_type": "markdown",
   "id": "5f2cb2de",
   "metadata": {
    "id": "5f2cb2de"
   },
   "source": [
    "You can also convert the data between lists and Series. The easiest way to create your own Series (outside the context of a table!) is to create an instance of this class with a list as an argument:"
   ]
  },
  {
   "cell_type": "code",
   "execution_count": 10,
   "id": "22102c0b",
   "metadata": {
    "id": "22102c0b",
    "outputId": "fb61b274-8d47-4c9a-8c24-9fb15a2c3683"
   },
   "outputs": [
    {
     "data": {
      "text/plain": [
       "0    1\n",
       "1    2\n",
       "2    3\n",
       "dtype: int64"
      ]
     },
     "execution_count": 10,
     "metadata": {},
     "output_type": "execute_result"
    }
   ],
   "source": [
    "numbers = pd.Series([1, 2, 3])\n",
    "numbers"
   ]
  },
  {
   "cell_type": "markdown",
   "id": "335c1821",
   "metadata": {
    "id": "335c1821"
   },
   "source": [
    "or the other way round:"
   ]
  },
  {
   "cell_type": "code",
   "execution_count": 11,
   "id": "46c387f7",
   "metadata": {
    "id": "46c387f7",
    "outputId": "b66cb1ce-5078-41c0-a77f-b22646ef922c"
   },
   "outputs": [
    {
     "data": {
      "text/plain": [
       "[1, 2, 3]"
      ]
     },
     "execution_count": 11,
     "metadata": {},
     "output_type": "execute_result"
    }
   ],
   "source": [
    "numbers.tolist()  "
   ]
  },
  {
   "cell_type": "markdown",
   "id": "81a44bff",
   "metadata": {
    "id": "81a44bff"
   },
   "source": [
    "So, what is the difference between Series and list? "
   ]
  },
  {
   "cell_type": "code",
   "execution_count": 12,
   "id": "5924a6c1",
   "metadata": {
    "id": "5924a6c1",
    "outputId": "531f67b8-aad6-4a39-fd76-3c963d0e725a"
   },
   "outputs": [
    {
     "data": {
      "text/plain": [
       "0        32.0\n",
       "1        33.0\n",
       "2        37.0\n",
       "3        36.0\n",
       "4        35.0\n",
       "         ... \n",
       "35544     NaN\n",
       "35545     NaN\n",
       "35546    15.0\n",
       "35547    36.0\n",
       "35548     NaN\n",
       "Name: hindfoot_length, Length: 35549, dtype: float64"
      ]
     },
     "execution_count": 12,
     "metadata": {},
     "output_type": "execute_result"
    }
   ],
   "source": [
    "hindfoot"
   ]
  },
  {
   "cell_type": "markdown",
   "id": "58b8d637",
   "metadata": {
    "id": "58b8d637"
   },
   "source": [
    "Each column has **values**, **index**, **name**, **size** and **dtype**"
   ]
  },
  {
   "cell_type": "markdown",
   "id": "9d2a9a8b",
   "metadata": {
    "id": "9d2a9a8b"
   },
   "source": [
    "#### Values"
   ]
  },
  {
   "cell_type": "code",
   "execution_count": 13,
   "id": "41f92dcb",
   "metadata": {
    "id": "41f92dcb",
    "outputId": "556e578c-65b9-447c-c0ea-de8ec79de26c"
   },
   "outputs": [
    {
     "data": {
      "text/plain": [
       "array([32., 33., 37., 36., 35.])"
      ]
     },
     "execution_count": 13,
     "metadata": {},
     "output_type": "execute_result"
    }
   ],
   "source": [
    "hindfoot.values[:5]"
   ]
  },
  {
   "cell_type": "code",
   "execution_count": 14,
   "id": "c77b69e2",
   "metadata": {
    "id": "c77b69e2",
    "outputId": "952aac11-2b34-4164-de1c-0cbb9983ea72"
   },
   "outputs": [
    {
     "data": {
      "text/plain": [
       "numpy.ndarray"
      ]
     },
     "execution_count": 14,
     "metadata": {},
     "output_type": "execute_result"
    }
   ],
   "source": [
    "type(hindfoot.values)"
   ]
  },
  {
   "cell_type": "markdown",
   "id": "bd737c5d",
   "metadata": {
    "id": "bd737c5d"
   },
   "source": [
    "#### Type of values"
   ]
  },
  {
   "cell_type": "code",
   "execution_count": 15,
   "id": "0baf7a49",
   "metadata": {
    "id": "0baf7a49",
    "outputId": "0ca8d14e-ffbe-4723-c6fc-afe56265e9ca"
   },
   "outputs": [
    {
     "data": {
      "text/plain": [
       "dtype('float64')"
      ]
     },
     "execution_count": 15,
     "metadata": {},
     "output_type": "execute_result"
    }
   ],
   "source": [
    "hindfoot.dtype"
   ]
  },
  {
   "cell_type": "markdown",
   "id": "5c4c9f1a",
   "metadata": {
    "id": "5c4c9f1a"
   },
   "source": [
    "Unlike in lists, all Series elements should be of the same type (if not, the nearest common type is chosen)."
   ]
  },
  {
   "cell_type": "markdown",
   "id": "81046566",
   "metadata": {
    "id": "81046566"
   },
   "source": [
    "#### Index"
   ]
  },
  {
   "cell_type": "code",
   "execution_count": 16,
   "id": "f0b2ebdb",
   "metadata": {
    "id": "f0b2ebdb",
    "outputId": "5a49c4ee-beaa-4e65-f88d-d617909bf88a"
   },
   "outputs": [
    {
     "data": {
      "text/plain": [
       "RangeIndex(start=0, stop=35549, step=1)"
      ]
     },
     "execution_count": 16,
     "metadata": {},
     "output_type": "execute_result"
    }
   ],
   "source": [
    "hindfoot.index"
   ]
  },
  {
   "cell_type": "markdown",
   "id": "b124cad3",
   "metadata": {
    "id": "b124cad3"
   },
   "source": [
    "You can access the elements of the list by numerical order (0 - first element, 1 - second, ...), you select from the dictionary according to the key, pandas introduces a generalized index, which can be numeric, string or even based on date/time. "
   ]
  },
  {
   "cell_type": "markdown",
   "id": "a855f04f",
   "metadata": {
    "id": "a855f04f"
   },
   "source": [
    "#### Name"
   ]
  },
  {
   "cell_type": "code",
   "execution_count": 17,
   "id": "d11a8336",
   "metadata": {
    "id": "d11a8336",
    "outputId": "aa9136a0-74a7-4aef-c39b-bab3b6cc2b13"
   },
   "outputs": [
    {
     "data": {
      "text/plain": [
       "'hindfoot_length'"
      ]
     },
     "execution_count": 17,
     "metadata": {},
     "output_type": "execute_result"
    }
   ],
   "source": [
    "hindfoot.name"
   ]
  },
  {
   "cell_type": "markdown",
   "id": "cd4572cc",
   "metadata": {
    "id": "cd4572cc"
   },
   "source": [
    "Series may or may not have a name. Note that the name is not related to the name of the variable in which you store the Series."
   ]
  },
  {
   "cell_type": "markdown",
   "id": "70ece88d",
   "metadata": {
    "id": "70ece88d"
   },
   "source": [
    "#### Size"
   ]
  },
  {
   "cell_type": "code",
   "execution_count": 18,
   "id": "c3d6ce5b",
   "metadata": {
    "id": "c3d6ce5b",
    "outputId": "c3101a62-ffce-4062-bbca-4fb456b51b75"
   },
   "outputs": [
    {
     "data": {
      "text/plain": [
       "35549"
      ]
     },
     "execution_count": 18,
     "metadata": {},
     "output_type": "execute_result"
    }
   ],
   "source": [
    "hindfoot.size"
   ]
  },
  {
   "cell_type": "markdown",
   "id": "f07e022f",
   "metadata": {
    "id": "f07e022f"
   },
   "source": [
    "#### Your turn:\n",
    "\n",
    "Find the values of the `.name`, `.index`, `.dtype`, `.values` and `.size` attributes of the `numbers` object. Do you notice anything interesting? "
   ]
  },
  {
   "cell_type": "code",
   "execution_count": null,
   "id": "2166750b",
   "metadata": {
    "id": "2166750b"
   },
   "outputs": [],
   "source": []
  },
  {
   "cell_type": "markdown",
   "id": "ce9765b6",
   "metadata": {
    "id": "ce9765b6"
   },
   "source": [
    "You can specify some of these attributes when creating Series objects:"
   ]
  },
  {
   "cell_type": "code",
   "execution_count": 19,
   "id": "2da0f0a8",
   "metadata": {
    "id": "2da0f0a8",
    "outputId": "7c75e490-d051-4de6-bdc1-4cc94b3212b9"
   },
   "outputs": [
    {
     "data": {
      "text/plain": [
       "Alice      27.0\n",
       "Bob        65.0\n",
       "Charlie    14.0\n",
       "Name: Age, dtype: float64"
      ]
     },
     "execution_count": 19,
     "metadata": {},
     "output_type": "execute_result"
    }
   ],
   "source": [
    "age = pd.Series(\n",
    "    [27, 65, 14],\n",
    "    name=\"Age\",\n",
    "    index=[\"Alice\", \"Bob\", \"Charlie\"],\n",
    "    dtype=float,\n",
    ")\n",
    "age"
   ]
  },
  {
   "cell_type": "markdown",
   "id": "b77bc2bc",
   "metadata": {
    "id": "b77bc2bc"
   },
   "source": [
    "#### Index"
   ]
  },
  {
   "cell_type": "code",
   "execution_count": 20,
   "id": "01b0ffa9",
   "metadata": {
    "id": "01b0ffa9",
    "outputId": "6a3b15f3-b576-4ce6-9c16-ba2a1609e358"
   },
   "outputs": [
    {
     "data": {
      "text/plain": [
       "RangeIndex(start=0, stop=35549, step=1)"
      ]
     },
     "execution_count": 20,
     "metadata": {},
     "output_type": "execute_result"
    }
   ],
   "source": [
    "hindfoot.index  # numerical index, sorted from 0"
   ]
  },
  {
   "cell_type": "code",
   "execution_count": 21,
   "id": "356882b4",
   "metadata": {
    "id": "356882b4",
    "outputId": "a5f13b8e-b376-4cee-f7ca-aa2f4e5de332"
   },
   "outputs": [
    {
     "data": {
      "text/plain": [
       "Index(['Alice', 'Bob', 'Charlie'], dtype='object')"
      ]
     },
     "execution_count": 21,
     "metadata": {},
     "output_type": "execute_result"
    }
   ],
   "source": [
    "age.index "
   ]
  },
  {
   "cell_type": "code",
   "execution_count": 22,
   "id": "ac15d2d0",
   "metadata": {
    "id": "ac15d2d0",
    "outputId": "517ba626-41d1-4e1b-9dc5-e135eec1a0c0"
   },
   "outputs": [
    {
     "data": {
      "text/plain": [
       "year\n",
       "2022          Some event\n",
       "1800    Some other event\n",
       "1967             Event 3\n",
       "dtype: object"
      ]
     },
     "execution_count": 22,
     "metadata": {},
     "output_type": "execute_result"
    }
   ],
   "source": [
    "events = pd.Series(\n",
    "    [\"Some event\", \"Some other event\", \"Event 3\"],\n",
    "    index = pd.Index([2022, 1800, 1967], name=\"year\")   # Index can have a name\n",
    ")\n",
    "events"
   ]
  },
  {
   "cell_type": "code",
   "execution_count": 23,
   "id": "0a63d7d7",
   "metadata": {
    "id": "0a63d7d7",
    "outputId": "c3593174-d2bd-457c-f3a9-68158ca5a0d7"
   },
   "outputs": [
    {
     "data": {
      "text/plain": [
       "Int64Index([2022, 1800, 1967], dtype='int64', name='year')"
      ]
     },
     "execution_count": 23,
     "metadata": {},
     "output_type": "execute_result"
    }
   ],
   "source": [
    "events.index  # values may not be sorted"
   ]
  },
  {
   "cell_type": "code",
   "execution_count": 24,
   "id": "68957a99",
   "metadata": {
    "id": "68957a99",
    "outputId": "91dbc5ab-c732-43ed-9d2c-53497c79c16e"
   },
   "outputs": [
    {
     "data": {
      "text/plain": [
       "DatetimeIndex(['2022-10-20', '1800-11-11', '1967-12-31'], dtype='datetime64[ns]', freq=None)"
      ]
     },
     "execution_count": 24,
     "metadata": {},
     "output_type": "execute_result"
    }
   ],
   "source": [
    "events_prec = pd.Series(\n",
    "    [\"Some event\", \"Some other event\", \"Event 3\"],\n",
    "    index = pd.DatetimeIndex([\"2022-10-20\", \"1800-11-11\", \"1967-12-31\"])   \n",
    ")\n",
    "events_prec.index"
   ]
  },
  {
   "cell_type": "markdown",
   "id": "c3e87df1",
   "metadata": {
    "id": "c3e87df1"
   },
   "source": [
    "The index values can be used to access elements of the Series:"
   ]
  },
  {
   "cell_type": "code",
   "execution_count": 25,
   "id": "c52a9518",
   "metadata": {
    "id": "c52a9518",
    "outputId": "05b1a7ad-cfb5-4d24-abe8-f0abc0cc01c9"
   },
   "outputs": [
    {
     "data": {
      "text/plain": [
       "27.0"
      ]
     },
     "execution_count": 25,
     "metadata": {},
     "output_type": "execute_result"
    }
   ],
   "source": [
    "age[\"Alice\"]"
   ]
  },
  {
   "cell_type": "markdown",
   "id": "304723d8",
   "metadata": {
    "id": "304723d8"
   },
   "source": [
    "**Your turn:**\n",
    "What is the index of surveys_df?"
   ]
  },
  {
   "cell_type": "code",
   "execution_count": null,
   "id": "0fa90d10",
   "metadata": {
    "id": "0fa90d10"
   },
   "outputs": [],
   "source": []
  },
  {
   "cell_type": "markdown",
   "id": "c608dcdd",
   "metadata": {
    "id": "c608dcdd"
   },
   "source": [
    "### DataFrame"
   ]
  },
  {
   "cell_type": "code",
   "execution_count": 26,
   "id": "006b2562",
   "metadata": {
    "id": "006b2562",
    "outputId": "cc7ad909-f5b6-4670-9f65-85fc08435696"
   },
   "outputs": [
    {
     "data": {
      "text/html": [
       "<div>\n",
       "<style scoped>\n",
       "    .dataframe tbody tr th:only-of-type {\n",
       "        vertical-align: middle;\n",
       "    }\n",
       "\n",
       "    .dataframe tbody tr th {\n",
       "        vertical-align: top;\n",
       "    }\n",
       "\n",
       "    .dataframe thead th {\n",
       "        text-align: right;\n",
       "    }\n",
       "</style>\n",
       "<table border=\"1\" class=\"dataframe\">\n",
       "  <thead>\n",
       "    <tr style=\"text-align: right;\">\n",
       "      <th></th>\n",
       "      <th>record_id</th>\n",
       "      <th>month</th>\n",
       "      <th>day</th>\n",
       "      <th>year</th>\n",
       "      <th>plot_id</th>\n",
       "      <th>species_id</th>\n",
       "      <th>sex</th>\n",
       "      <th>hindfoot_length</th>\n",
       "      <th>weight</th>\n",
       "    </tr>\n",
       "  </thead>\n",
       "  <tbody>\n",
       "    <tr>\n",
       "      <th>0</th>\n",
       "      <td>1</td>\n",
       "      <td>7</td>\n",
       "      <td>16</td>\n",
       "      <td>1977</td>\n",
       "      <td>2</td>\n",
       "      <td>NL</td>\n",
       "      <td>M</td>\n",
       "      <td>32.0</td>\n",
       "      <td>NaN</td>\n",
       "    </tr>\n",
       "    <tr>\n",
       "      <th>1</th>\n",
       "      <td>2</td>\n",
       "      <td>7</td>\n",
       "      <td>16</td>\n",
       "      <td>1977</td>\n",
       "      <td>3</td>\n",
       "      <td>NL</td>\n",
       "      <td>M</td>\n",
       "      <td>33.0</td>\n",
       "      <td>NaN</td>\n",
       "    </tr>\n",
       "    <tr>\n",
       "      <th>2</th>\n",
       "      <td>3</td>\n",
       "      <td>7</td>\n",
       "      <td>16</td>\n",
       "      <td>1977</td>\n",
       "      <td>2</td>\n",
       "      <td>DM</td>\n",
       "      <td>F</td>\n",
       "      <td>37.0</td>\n",
       "      <td>NaN</td>\n",
       "    </tr>\n",
       "    <tr>\n",
       "      <th>3</th>\n",
       "      <td>4</td>\n",
       "      <td>7</td>\n",
       "      <td>16</td>\n",
       "      <td>1977</td>\n",
       "      <td>7</td>\n",
       "      <td>DM</td>\n",
       "      <td>M</td>\n",
       "      <td>36.0</td>\n",
       "      <td>NaN</td>\n",
       "    </tr>\n",
       "    <tr>\n",
       "      <th>4</th>\n",
       "      <td>5</td>\n",
       "      <td>7</td>\n",
       "      <td>16</td>\n",
       "      <td>1977</td>\n",
       "      <td>3</td>\n",
       "      <td>DM</td>\n",
       "      <td>M</td>\n",
       "      <td>35.0</td>\n",
       "      <td>NaN</td>\n",
       "    </tr>\n",
       "    <tr>\n",
       "      <th>...</th>\n",
       "      <td>...</td>\n",
       "      <td>...</td>\n",
       "      <td>...</td>\n",
       "      <td>...</td>\n",
       "      <td>...</td>\n",
       "      <td>...</td>\n",
       "      <td>...</td>\n",
       "      <td>...</td>\n",
       "      <td>...</td>\n",
       "    </tr>\n",
       "    <tr>\n",
       "      <th>35544</th>\n",
       "      <td>35545</td>\n",
       "      <td>12</td>\n",
       "      <td>31</td>\n",
       "      <td>2002</td>\n",
       "      <td>15</td>\n",
       "      <td>AH</td>\n",
       "      <td>NaN</td>\n",
       "      <td>NaN</td>\n",
       "      <td>NaN</td>\n",
       "    </tr>\n",
       "    <tr>\n",
       "      <th>35545</th>\n",
       "      <td>35546</td>\n",
       "      <td>12</td>\n",
       "      <td>31</td>\n",
       "      <td>2002</td>\n",
       "      <td>15</td>\n",
       "      <td>AH</td>\n",
       "      <td>NaN</td>\n",
       "      <td>NaN</td>\n",
       "      <td>NaN</td>\n",
       "    </tr>\n",
       "    <tr>\n",
       "      <th>35546</th>\n",
       "      <td>35547</td>\n",
       "      <td>12</td>\n",
       "      <td>31</td>\n",
       "      <td>2002</td>\n",
       "      <td>10</td>\n",
       "      <td>RM</td>\n",
       "      <td>F</td>\n",
       "      <td>15.0</td>\n",
       "      <td>14.0</td>\n",
       "    </tr>\n",
       "    <tr>\n",
       "      <th>35547</th>\n",
       "      <td>35548</td>\n",
       "      <td>12</td>\n",
       "      <td>31</td>\n",
       "      <td>2002</td>\n",
       "      <td>7</td>\n",
       "      <td>DO</td>\n",
       "      <td>M</td>\n",
       "      <td>36.0</td>\n",
       "      <td>51.0</td>\n",
       "    </tr>\n",
       "    <tr>\n",
       "      <th>35548</th>\n",
       "      <td>35549</td>\n",
       "      <td>12</td>\n",
       "      <td>31</td>\n",
       "      <td>2002</td>\n",
       "      <td>5</td>\n",
       "      <td>NaN</td>\n",
       "      <td>NaN</td>\n",
       "      <td>NaN</td>\n",
       "      <td>NaN</td>\n",
       "    </tr>\n",
       "  </tbody>\n",
       "</table>\n",
       "<p>35549 rows × 9 columns</p>\n",
       "</div>"
      ],
      "text/plain": [
       "       record_id  month  day  year  plot_id species_id  sex  hindfoot_length  \\\n",
       "0              1      7   16  1977        2         NL    M             32.0   \n",
       "1              2      7   16  1977        3         NL    M             33.0   \n",
       "2              3      7   16  1977        2         DM    F             37.0   \n",
       "3              4      7   16  1977        7         DM    M             36.0   \n",
       "4              5      7   16  1977        3         DM    M             35.0   \n",
       "...          ...    ...  ...   ...      ...        ...  ...              ...   \n",
       "35544      35545     12   31  2002       15         AH  NaN              NaN   \n",
       "35545      35546     12   31  2002       15         AH  NaN              NaN   \n",
       "35546      35547     12   31  2002       10         RM    F             15.0   \n",
       "35547      35548     12   31  2002        7         DO    M             36.0   \n",
       "35548      35549     12   31  2002        5        NaN  NaN              NaN   \n",
       "\n",
       "       weight  \n",
       "0         NaN  \n",
       "1         NaN  \n",
       "2         NaN  \n",
       "3         NaN  \n",
       "4         NaN  \n",
       "...       ...  \n",
       "35544     NaN  \n",
       "35545     NaN  \n",
       "35546    14.0  \n",
       "35547    51.0  \n",
       "35548     NaN  \n",
       "\n",
       "[35549 rows x 9 columns]"
      ]
     },
     "execution_count": 26,
     "metadata": {},
     "output_type": "execute_result"
    }
   ],
   "source": [
    "surveys_df"
   ]
  },
  {
   "cell_type": "markdown",
   "id": "c0185c7f",
   "metadata": {
    "id": "c0185c7f"
   },
   "source": [
    "`DataFrame` is two-dimensional and contains two indexes in addition to values (`.values`) - one for rows and one for columns:"
   ]
  },
  {
   "cell_type": "code",
   "execution_count": 27,
   "id": "5b1b8b9d",
   "metadata": {
    "id": "5b1b8b9d",
    "outputId": "f8bea3a2-e731-4e8d-bac2-242996de6283"
   },
   "outputs": [
    {
     "data": {
      "text/plain": [
       "array([[1, 7, 16, ..., 'M', 32.0, nan],\n",
       "       [2, 7, 16, ..., 'M', 33.0, nan],\n",
       "       [3, 7, 16, ..., 'F', 37.0, nan],\n",
       "       ...,\n",
       "       [35547, 12, 31, ..., 'F', 15.0, 14.0],\n",
       "       [35548, 12, 31, ..., 'M', 36.0, 51.0],\n",
       "       [35549, 12, 31, ..., nan, nan, nan]], dtype=object)"
      ]
     },
     "execution_count": 27,
     "metadata": {},
     "output_type": "execute_result"
    }
   ],
   "source": [
    "surveys_df.values"
   ]
  },
  {
   "cell_type": "code",
   "execution_count": 28,
   "id": "0306beb7",
   "metadata": {
    "id": "0306beb7",
    "outputId": "798f2dd6-fc5a-4e25-fdac-05390fdaa084"
   },
   "outputs": [
    {
     "data": {
      "text/plain": [
       "Index(['record_id', 'month', 'day', 'year', 'plot_id', 'species_id', 'sex',\n",
       "       'hindfoot_length', 'weight'],\n",
       "      dtype='object')"
      ]
     },
     "execution_count": 28,
     "metadata": {},
     "output_type": "execute_result"
    }
   ],
   "source": [
    "surveys_df.columns"
   ]
  },
  {
   "cell_type": "code",
   "execution_count": 29,
   "id": "9f317a3d",
   "metadata": {
    "id": "9f317a3d",
    "outputId": "5e234f26-bfca-41b3-9bd0-a81517ae4439"
   },
   "outputs": [
    {
     "data": {
      "text/plain": [
       "RangeIndex(start=0, stop=35549, step=1)"
      ]
     },
     "execution_count": 29,
     "metadata": {},
     "output_type": "execute_result"
    }
   ],
   "source": [
    "surveys_df.index"
   ]
  },
  {
   "cell_type": "code",
   "execution_count": 30,
   "id": "55ce4707",
   "metadata": {
    "id": "55ce4707",
    "outputId": "45f7dcc1-c906-441f-afdf-a3a9e37bfc05"
   },
   "outputs": [
    {
     "data": {
      "text/plain": [
       "(35549, 9)"
      ]
     },
     "execution_count": 30,
     "metadata": {},
     "output_type": "execute_result"
    }
   ],
   "source": [
    "surveys_df.shape"
   ]
  },
  {
   "cell_type": "markdown",
   "id": "bb11b16f",
   "metadata": {
    "id": "bb11b16f"
   },
   "source": [
    "There are several ways to construct a DataFrame:"
   ]
  },
  {
   "cell_type": "code",
   "execution_count": 31,
   "id": "4fc10319",
   "metadata": {
    "id": "4fc10319",
    "outputId": "dbcd2867-992e-4925-9220-945691557e76"
   },
   "outputs": [
    {
     "data": {
      "text/html": [
       "<div>\n",
       "<style scoped>\n",
       "    .dataframe tbody tr th:only-of-type {\n",
       "        vertical-align: middle;\n",
       "    }\n",
       "\n",
       "    .dataframe tbody tr th {\n",
       "        vertical-align: top;\n",
       "    }\n",
       "\n",
       "    .dataframe thead th {\n",
       "        text-align: right;\n",
       "    }\n",
       "</style>\n",
       "<table border=\"1\" class=\"dataframe\">\n",
       "  <thead>\n",
       "    <tr style=\"text-align: right;\">\n",
       "      <th></th>\n",
       "      <th>number</th>\n",
       "      <th>letter</th>\n",
       "    </tr>\n",
       "  </thead>\n",
       "  <tbody>\n",
       "    <tr>\n",
       "      <th>0</th>\n",
       "      <td>1</td>\n",
       "      <td>a</td>\n",
       "    </tr>\n",
       "    <tr>\n",
       "      <th>1</th>\n",
       "      <td>2</td>\n",
       "      <td>b</td>\n",
       "    </tr>\n",
       "    <tr>\n",
       "      <th>2</th>\n",
       "      <td>3</td>\n",
       "      <td>c</td>\n",
       "    </tr>\n",
       "  </tbody>\n",
       "</table>\n",
       "</div>"
      ],
      "text/plain": [
       "   number letter\n",
       "0       1      a\n",
       "1       2      b\n",
       "2       3      c"
      ]
     },
     "execution_count": 31,
     "metadata": {},
     "output_type": "execute_result"
    }
   ],
   "source": [
    "pd.DataFrame({\n",
    "    \"number\": [1, 2, 3],\n",
    "    \"letter\": [\"a\", \"b\", \"c\"]\n",
    "})"
   ]
  },
  {
   "cell_type": "code",
   "execution_count": 32,
   "id": "796a6512",
   "metadata": {
    "id": "796a6512",
    "outputId": "5c72fccd-6d1f-4d3b-eb15-7283f2c06df4"
   },
   "outputs": [
    {
     "data": {
      "text/html": [
       "<div>\n",
       "<style scoped>\n",
       "    .dataframe tbody tr th:only-of-type {\n",
       "        vertical-align: middle;\n",
       "    }\n",
       "\n",
       "    .dataframe tbody tr th {\n",
       "        vertical-align: top;\n",
       "    }\n",
       "\n",
       "    .dataframe thead th {\n",
       "        text-align: right;\n",
       "    }\n",
       "</style>\n",
       "<table border=\"1\" class=\"dataframe\">\n",
       "  <thead>\n",
       "    <tr style=\"text-align: right;\">\n",
       "      <th></th>\n",
       "      <th>name</th>\n",
       "      <th>price</th>\n",
       "      <th>origin</th>\n",
       "    </tr>\n",
       "  </thead>\n",
       "  <tbody>\n",
       "    <tr>\n",
       "      <th>item1</th>\n",
       "      <td>rubber duck</td>\n",
       "      <td>12.9</td>\n",
       "      <td>US</td>\n",
       "    </tr>\n",
       "    <tr>\n",
       "      <th>item2</th>\n",
       "      <td>pencil</td>\n",
       "      <td>2.9</td>\n",
       "      <td>SK</td>\n",
       "    </tr>\n",
       "    <tr>\n",
       "      <th>item3</th>\n",
       "      <td>teddy bear</td>\n",
       "      <td>22.9</td>\n",
       "      <td>CZ</td>\n",
       "    </tr>\n",
       "  </tbody>\n",
       "</table>\n",
       "</div>"
      ],
      "text/plain": [
       "              name  price origin\n",
       "item1  rubber duck   12.9     US\n",
       "item2       pencil    2.9     SK\n",
       "item3   teddy bear   22.9     CZ"
      ]
     },
     "execution_count": 32,
     "metadata": {},
     "output_type": "execute_result"
    }
   ],
   "source": [
    "items = pd.DataFrame([\n",
    "        {\"name\": \"rubber duck\", \"price\": 12.90, \"origin\": \"US\"},\n",
    "        {\"name\": \"pencil\", \"price\": 2.90, \"origin\": \"SK\"},\n",
    "        {\"name\": \"teddy bear\", \"price\": 22.90, \"origin\": \"CZ\"},   \n",
    "    ],\n",
    "    index=[\"item1\", \"item2\", \"item3\"]\n",
    ")\n",
    "items"
   ]
  },
  {
   "cell_type": "markdown",
   "id": "7118ed04",
   "metadata": {
    "id": "7118ed04"
   },
   "source": [
    "## Accessing data"
   ]
  },
  {
   "cell_type": "code",
   "execution_count": 33,
   "id": "810e2b5f",
   "metadata": {
    "id": "810e2b5f",
    "outputId": "0a710ec4-e40c-4c61-8788-32424074338e"
   },
   "outputs": [
    {
     "data": {
      "text/html": [
       "<div>\n",
       "<style scoped>\n",
       "    .dataframe tbody tr th:only-of-type {\n",
       "        vertical-align: middle;\n",
       "    }\n",
       "\n",
       "    .dataframe tbody tr th {\n",
       "        vertical-align: top;\n",
       "    }\n",
       "\n",
       "    .dataframe thead th {\n",
       "        text-align: right;\n",
       "    }\n",
       "</style>\n",
       "<table border=\"1\" class=\"dataframe\">\n",
       "  <thead>\n",
       "    <tr style=\"text-align: right;\">\n",
       "      <th></th>\n",
       "      <th>price</th>\n",
       "      <th>origin</th>\n",
       "    </tr>\n",
       "    <tr>\n",
       "      <th>name</th>\n",
       "      <th></th>\n",
       "      <th></th>\n",
       "    </tr>\n",
       "  </thead>\n",
       "  <tbody>\n",
       "    <tr>\n",
       "      <th>pencil</th>\n",
       "      <td>2.9</td>\n",
       "      <td>SK</td>\n",
       "    </tr>\n",
       "    <tr>\n",
       "      <th>rubber duck</th>\n",
       "      <td>12.9</td>\n",
       "      <td>US</td>\n",
       "    </tr>\n",
       "    <tr>\n",
       "      <th>teddy bear</th>\n",
       "      <td>22.9</td>\n",
       "      <td>CZ</td>\n",
       "    </tr>\n",
       "  </tbody>\n",
       "</table>\n",
       "</div>"
      ],
      "text/plain": [
       "             price origin\n",
       "name                     \n",
       "pencil         2.9     SK\n",
       "rubber duck   12.9     US\n",
       "teddy bear    22.9     CZ"
      ]
     },
     "execution_count": 33,
     "metadata": {},
     "output_type": "execute_result"
    }
   ],
   "source": [
    "items = items.set_index(\"name\").sort_index()\n",
    "items"
   ]
  },
  {
   "cell_type": "markdown",
   "id": "f2bd9a1e",
   "metadata": {
    "id": "f2bd9a1e"
   },
   "source": [
    "- `set_index()` returns a table in which one of the columns is used as an index\n",
    "\n",
    "- `sort_index()` returns a table that contains the same index but sorted"
   ]
  },
  {
   "cell_type": "code",
   "execution_count": 34,
   "id": "6f0a2089",
   "metadata": {
    "id": "6f0a2089",
    "outputId": "840bc9ce-f8cd-41b4-9047-b7ac2b00627f"
   },
   "outputs": [
    {
     "data": {
      "text/html": [
       "<div>\n",
       "<style scoped>\n",
       "    .dataframe tbody tr th:only-of-type {\n",
       "        vertical-align: middle;\n",
       "    }\n",
       "\n",
       "    .dataframe tbody tr th {\n",
       "        vertical-align: top;\n",
       "    }\n",
       "\n",
       "    .dataframe thead th {\n",
       "        text-align: right;\n",
       "    }\n",
       "</style>\n",
       "<table border=\"1\" class=\"dataframe\">\n",
       "  <thead>\n",
       "    <tr style=\"text-align: right;\">\n",
       "      <th></th>\n",
       "      <th>record_id</th>\n",
       "      <th>month</th>\n",
       "      <th>day</th>\n",
       "      <th>year</th>\n",
       "      <th>plot_id</th>\n",
       "      <th>species_id</th>\n",
       "      <th>sex</th>\n",
       "      <th>hindfoot_length</th>\n",
       "      <th>weight</th>\n",
       "    </tr>\n",
       "  </thead>\n",
       "  <tbody>\n",
       "    <tr>\n",
       "      <th>4</th>\n",
       "      <td>5</td>\n",
       "      <td>7</td>\n",
       "      <td>16</td>\n",
       "      <td>1977</td>\n",
       "      <td>3</td>\n",
       "      <td>DM</td>\n",
       "      <td>M</td>\n",
       "      <td>35.0</td>\n",
       "      <td>NaN</td>\n",
       "    </tr>\n",
       "    <tr>\n",
       "      <th>5</th>\n",
       "      <td>6</td>\n",
       "      <td>7</td>\n",
       "      <td>16</td>\n",
       "      <td>1977</td>\n",
       "      <td>1</td>\n",
       "      <td>PF</td>\n",
       "      <td>M</td>\n",
       "      <td>14.0</td>\n",
       "      <td>NaN</td>\n",
       "    </tr>\n",
       "    <tr>\n",
       "      <th>6</th>\n",
       "      <td>7</td>\n",
       "      <td>7</td>\n",
       "      <td>16</td>\n",
       "      <td>1977</td>\n",
       "      <td>2</td>\n",
       "      <td>PE</td>\n",
       "      <td>F</td>\n",
       "      <td>NaN</td>\n",
       "      <td>NaN</td>\n",
       "    </tr>\n",
       "  </tbody>\n",
       "</table>\n",
       "</div>"
      ],
      "text/plain": [
       "   record_id  month  day  year  plot_id species_id sex  hindfoot_length  \\\n",
       "4          5      7   16  1977        3         DM   M             35.0   \n",
       "5          6      7   16  1977        1         PF   M             14.0   \n",
       "6          7      7   16  1977        2         PE   F              NaN   \n",
       "\n",
       "   weight  \n",
       "4     NaN  \n",
       "5     NaN  \n",
       "6     NaN  "
      ]
     },
     "execution_count": 34,
     "metadata": {},
     "output_type": "execute_result"
    }
   ],
   "source": [
    "surveys_df[4:7]"
   ]
  },
  {
   "cell_type": "code",
   "execution_count": 35,
   "id": "a5d307bb",
   "metadata": {
    "id": "a5d307bb",
    "outputId": "66e28566-0887-40d0-b52c-b36758bba105"
   },
   "outputs": [
    {
     "data": {
      "text/html": [
       "<div>\n",
       "<style scoped>\n",
       "    .dataframe tbody tr th:only-of-type {\n",
       "        vertical-align: middle;\n",
       "    }\n",
       "\n",
       "    .dataframe tbody tr th {\n",
       "        vertical-align: top;\n",
       "    }\n",
       "\n",
       "    .dataframe thead th {\n",
       "        text-align: right;\n",
       "    }\n",
       "</style>\n",
       "<table border=\"1\" class=\"dataframe\">\n",
       "  <thead>\n",
       "    <tr style=\"text-align: right;\">\n",
       "      <th></th>\n",
       "      <th>species_id</th>\n",
       "      <th>sex</th>\n",
       "    </tr>\n",
       "  </thead>\n",
       "  <tbody>\n",
       "    <tr>\n",
       "      <th>0</th>\n",
       "      <td>NL</td>\n",
       "      <td>M</td>\n",
       "    </tr>\n",
       "    <tr>\n",
       "      <th>1</th>\n",
       "      <td>NL</td>\n",
       "      <td>M</td>\n",
       "    </tr>\n",
       "    <tr>\n",
       "      <th>2</th>\n",
       "      <td>DM</td>\n",
       "      <td>F</td>\n",
       "    </tr>\n",
       "    <tr>\n",
       "      <th>3</th>\n",
       "      <td>DM</td>\n",
       "      <td>M</td>\n",
       "    </tr>\n",
       "    <tr>\n",
       "      <th>4</th>\n",
       "      <td>DM</td>\n",
       "      <td>M</td>\n",
       "    </tr>\n",
       "    <tr>\n",
       "      <th>...</th>\n",
       "      <td>...</td>\n",
       "      <td>...</td>\n",
       "    </tr>\n",
       "    <tr>\n",
       "      <th>35544</th>\n",
       "      <td>AH</td>\n",
       "      <td>NaN</td>\n",
       "    </tr>\n",
       "    <tr>\n",
       "      <th>35545</th>\n",
       "      <td>AH</td>\n",
       "      <td>NaN</td>\n",
       "    </tr>\n",
       "    <tr>\n",
       "      <th>35546</th>\n",
       "      <td>RM</td>\n",
       "      <td>F</td>\n",
       "    </tr>\n",
       "    <tr>\n",
       "      <th>35547</th>\n",
       "      <td>DO</td>\n",
       "      <td>M</td>\n",
       "    </tr>\n",
       "    <tr>\n",
       "      <th>35548</th>\n",
       "      <td>NaN</td>\n",
       "      <td>NaN</td>\n",
       "    </tr>\n",
       "  </tbody>\n",
       "</table>\n",
       "<p>35549 rows × 2 columns</p>\n",
       "</div>"
      ],
      "text/plain": [
       "      species_id  sex\n",
       "0             NL    M\n",
       "1             NL    M\n",
       "2             DM    F\n",
       "3             DM    M\n",
       "4             DM    M\n",
       "...          ...  ...\n",
       "35544         AH  NaN\n",
       "35545         AH  NaN\n",
       "35546         RM    F\n",
       "35547         DO    M\n",
       "35548        NaN  NaN\n",
       "\n",
       "[35549 rows x 2 columns]"
      ]
     },
     "execution_count": 35,
     "metadata": {},
     "output_type": "execute_result"
    }
   ],
   "source": [
    "surveys_df[[\"species_id\", \"sex\"]]"
   ]
  },
  {
   "cell_type": "markdown",
   "id": "175e3351",
   "metadata": {
    "id": "175e3351"
   },
   "source": [
    "We can select specific ranges of our data in both the row and column directions using either label or integer-based indexing.\n",
    "\n",
    "- `loc` is primarily label based indexing. Integers may be used but they are interpreted as a label.\n",
    "- `iloc` is primarily integer based indexing\n",
    "\n",
    "To select a subset of rows and columns from our DataFrame, we can use the iloc method. For example, we can select month, day and year (columns 2, 3 and 4 if we start counting at 1), like this:"
   ]
  },
  {
   "cell_type": "code",
   "execution_count": 36,
   "id": "175bb638",
   "metadata": {
    "id": "175bb638",
    "outputId": "90a788c7-944e-4d93-d3d8-64ae7997e4ed"
   },
   "outputs": [
    {
     "data": {
      "text/html": [
       "<div>\n",
       "<style scoped>\n",
       "    .dataframe tbody tr th:only-of-type {\n",
       "        vertical-align: middle;\n",
       "    }\n",
       "\n",
       "    .dataframe tbody tr th {\n",
       "        vertical-align: top;\n",
       "    }\n",
       "\n",
       "    .dataframe thead th {\n",
       "        text-align: right;\n",
       "    }\n",
       "</style>\n",
       "<table border=\"1\" class=\"dataframe\">\n",
       "  <thead>\n",
       "    <tr style=\"text-align: right;\">\n",
       "      <th></th>\n",
       "      <th>month</th>\n",
       "      <th>day</th>\n",
       "      <th>year</th>\n",
       "    </tr>\n",
       "  </thead>\n",
       "  <tbody>\n",
       "    <tr>\n",
       "      <th>0</th>\n",
       "      <td>7</td>\n",
       "      <td>16</td>\n",
       "      <td>1977</td>\n",
       "    </tr>\n",
       "    <tr>\n",
       "      <th>1</th>\n",
       "      <td>7</td>\n",
       "      <td>16</td>\n",
       "      <td>1977</td>\n",
       "    </tr>\n",
       "    <tr>\n",
       "      <th>2</th>\n",
       "      <td>7</td>\n",
       "      <td>16</td>\n",
       "      <td>1977</td>\n",
       "    </tr>\n",
       "  </tbody>\n",
       "</table>\n",
       "</div>"
      ],
      "text/plain": [
       "   month  day  year\n",
       "0      7   16  1977\n",
       "1      7   16  1977\n",
       "2      7   16  1977"
      ]
     },
     "execution_count": 36,
     "metadata": {},
     "output_type": "execute_result"
    }
   ],
   "source": [
    "# iloc[row slicing, column slicing]\n",
    "surveys_df.iloc[0:3, 1:4]"
   ]
  },
  {
   "cell_type": "code",
   "execution_count": 37,
   "id": "96bd8280",
   "metadata": {
    "id": "96bd8280",
    "outputId": "049fb484-32cd-4796-ad95-57a27324b5b8"
   },
   "outputs": [
    {
     "data": {
      "text/html": [
       "<div>\n",
       "<style scoped>\n",
       "    .dataframe tbody tr th:only-of-type {\n",
       "        vertical-align: middle;\n",
       "    }\n",
       "\n",
       "    .dataframe tbody tr th {\n",
       "        vertical-align: top;\n",
       "    }\n",
       "\n",
       "    .dataframe thead th {\n",
       "        text-align: right;\n",
       "    }\n",
       "</style>\n",
       "<table border=\"1\" class=\"dataframe\">\n",
       "  <thead>\n",
       "    <tr style=\"text-align: right;\">\n",
       "      <th></th>\n",
       "      <th>price</th>\n",
       "      <th>origin</th>\n",
       "    </tr>\n",
       "    <tr>\n",
       "      <th>name</th>\n",
       "      <th></th>\n",
       "      <th></th>\n",
       "    </tr>\n",
       "  </thead>\n",
       "  <tbody>\n",
       "    <tr>\n",
       "      <th>pencil</th>\n",
       "      <td>2.9</td>\n",
       "      <td>SK</td>\n",
       "    </tr>\n",
       "    <tr>\n",
       "      <th>teddy bear</th>\n",
       "      <td>22.9</td>\n",
       "      <td>CZ</td>\n",
       "    </tr>\n",
       "  </tbody>\n",
       "</table>\n",
       "</div>"
      ],
      "text/plain": [
       "            price origin\n",
       "name                    \n",
       "pencil        2.9     SK\n",
       "teddy bear   22.9     CZ"
      ]
     },
     "execution_count": 37,
     "metadata": {},
     "output_type": "execute_result"
    }
   ],
   "source": [
    "items.loc[[\"pencil\", \"teddy bear\"],]"
   ]
  },
  {
   "cell_type": "code",
   "execution_count": 38,
   "id": "69379d63",
   "metadata": {
    "id": "69379d63",
    "outputId": "5aced759-4207-4e7a-b53d-47e8b2516ace"
   },
   "outputs": [
    {
     "data": {
      "text/plain": [
       "species_id     NL\n",
       "plot_id         2\n",
       "weight        NaN\n",
       "Name: 0, dtype: object"
      ]
     },
     "execution_count": 38,
     "metadata": {},
     "output_type": "execute_result"
    }
   ],
   "source": [
    "surveys_df.loc[0, [\"species_id\", \"plot_id\", \"weight\"]]"
   ]
  },
  {
   "cell_type": "markdown",
   "id": "95e5b677",
   "metadata": {
    "id": "95e5b677"
   },
   "source": [
    "Warning: Labels must be found in the `DataFrame` or you will get a `KeyError`.\n",
    "\n",
    "Indexing by labels `loc` differs from indexing by integers `iloc`. With `loc`, both the start bound and the stop bound are inclusive. When using `loc`, integers can be used, but the integers refer to the index label and not the position. For example, using `loc` and select 1:4 will get a different result than using `iloc` to select rows 1:4.\n",
    "\n"
   ]
  },
  {
   "cell_type": "code",
   "execution_count": 39,
   "id": "860f331d",
   "metadata": {
    "id": "860f331d",
    "outputId": "2a4ac53c-ced8-4cb5-aa9a-bbcb9ebccbd9"
   },
   "outputs": [
    {
     "data": {
      "text/html": [
       "<div>\n",
       "<style scoped>\n",
       "    .dataframe tbody tr th:only-of-type {\n",
       "        vertical-align: middle;\n",
       "    }\n",
       "\n",
       "    .dataframe tbody tr th {\n",
       "        vertical-align: top;\n",
       "    }\n",
       "\n",
       "    .dataframe thead th {\n",
       "        text-align: right;\n",
       "    }\n",
       "</style>\n",
       "<table border=\"1\" class=\"dataframe\">\n",
       "  <thead>\n",
       "    <tr style=\"text-align: right;\">\n",
       "      <th></th>\n",
       "      <th>record_id</th>\n",
       "      <th>month</th>\n",
       "      <th>day</th>\n",
       "      <th>year</th>\n",
       "      <th>plot_id</th>\n",
       "      <th>species_id</th>\n",
       "      <th>sex</th>\n",
       "      <th>hindfoot_length</th>\n",
       "      <th>weight</th>\n",
       "    </tr>\n",
       "  </thead>\n",
       "  <tbody>\n",
       "    <tr>\n",
       "      <th>1</th>\n",
       "      <td>2</td>\n",
       "      <td>7</td>\n",
       "      <td>16</td>\n",
       "      <td>1977</td>\n",
       "      <td>3</td>\n",
       "      <td>NL</td>\n",
       "      <td>M</td>\n",
       "      <td>33.0</td>\n",
       "      <td>NaN</td>\n",
       "    </tr>\n",
       "    <tr>\n",
       "      <th>2</th>\n",
       "      <td>3</td>\n",
       "      <td>7</td>\n",
       "      <td>16</td>\n",
       "      <td>1977</td>\n",
       "      <td>2</td>\n",
       "      <td>DM</td>\n",
       "      <td>F</td>\n",
       "      <td>37.0</td>\n",
       "      <td>NaN</td>\n",
       "    </tr>\n",
       "    <tr>\n",
       "      <th>3</th>\n",
       "      <td>4</td>\n",
       "      <td>7</td>\n",
       "      <td>16</td>\n",
       "      <td>1977</td>\n",
       "      <td>7</td>\n",
       "      <td>DM</td>\n",
       "      <td>M</td>\n",
       "      <td>36.0</td>\n",
       "      <td>NaN</td>\n",
       "    </tr>\n",
       "  </tbody>\n",
       "</table>\n",
       "</div>"
      ],
      "text/plain": [
       "   record_id  month  day  year  plot_id species_id sex  hindfoot_length  \\\n",
       "1          2      7   16  1977        3         NL   M             33.0   \n",
       "2          3      7   16  1977        2         DM   F             37.0   \n",
       "3          4      7   16  1977        7         DM   M             36.0   \n",
       "\n",
       "   weight  \n",
       "1     NaN  \n",
       "2     NaN  \n",
       "3     NaN  "
      ]
     },
     "execution_count": 39,
     "metadata": {},
     "output_type": "execute_result"
    }
   ],
   "source": [
    "surveys_df.iloc[1:4]"
   ]
  },
  {
   "cell_type": "code",
   "execution_count": 40,
   "id": "51e05411",
   "metadata": {
    "id": "51e05411",
    "outputId": "80e0fefd-4973-43b7-d756-338149d03a5e"
   },
   "outputs": [
    {
     "data": {
      "text/html": [
       "<div>\n",
       "<style scoped>\n",
       "    .dataframe tbody tr th:only-of-type {\n",
       "        vertical-align: middle;\n",
       "    }\n",
       "\n",
       "    .dataframe tbody tr th {\n",
       "        vertical-align: top;\n",
       "    }\n",
       "\n",
       "    .dataframe thead th {\n",
       "        text-align: right;\n",
       "    }\n",
       "</style>\n",
       "<table border=\"1\" class=\"dataframe\">\n",
       "  <thead>\n",
       "    <tr style=\"text-align: right;\">\n",
       "      <th></th>\n",
       "      <th>record_id</th>\n",
       "      <th>month</th>\n",
       "      <th>day</th>\n",
       "      <th>year</th>\n",
       "      <th>plot_id</th>\n",
       "      <th>species_id</th>\n",
       "      <th>sex</th>\n",
       "      <th>hindfoot_length</th>\n",
       "      <th>weight</th>\n",
       "    </tr>\n",
       "  </thead>\n",
       "  <tbody>\n",
       "    <tr>\n",
       "      <th>1</th>\n",
       "      <td>2</td>\n",
       "      <td>7</td>\n",
       "      <td>16</td>\n",
       "      <td>1977</td>\n",
       "      <td>3</td>\n",
       "      <td>NL</td>\n",
       "      <td>M</td>\n",
       "      <td>33.0</td>\n",
       "      <td>NaN</td>\n",
       "    </tr>\n",
       "    <tr>\n",
       "      <th>2</th>\n",
       "      <td>3</td>\n",
       "      <td>7</td>\n",
       "      <td>16</td>\n",
       "      <td>1977</td>\n",
       "      <td>2</td>\n",
       "      <td>DM</td>\n",
       "      <td>F</td>\n",
       "      <td>37.0</td>\n",
       "      <td>NaN</td>\n",
       "    </tr>\n",
       "    <tr>\n",
       "      <th>3</th>\n",
       "      <td>4</td>\n",
       "      <td>7</td>\n",
       "      <td>16</td>\n",
       "      <td>1977</td>\n",
       "      <td>7</td>\n",
       "      <td>DM</td>\n",
       "      <td>M</td>\n",
       "      <td>36.0</td>\n",
       "      <td>NaN</td>\n",
       "    </tr>\n",
       "    <tr>\n",
       "      <th>4</th>\n",
       "      <td>5</td>\n",
       "      <td>7</td>\n",
       "      <td>16</td>\n",
       "      <td>1977</td>\n",
       "      <td>3</td>\n",
       "      <td>DM</td>\n",
       "      <td>M</td>\n",
       "      <td>35.0</td>\n",
       "      <td>NaN</td>\n",
       "    </tr>\n",
       "  </tbody>\n",
       "</table>\n",
       "</div>"
      ],
      "text/plain": [
       "   record_id  month  day  year  plot_id species_id sex  hindfoot_length  \\\n",
       "1          2      7   16  1977        3         NL   M             33.0   \n",
       "2          3      7   16  1977        2         DM   F             37.0   \n",
       "3          4      7   16  1977        7         DM   M             36.0   \n",
       "4          5      7   16  1977        3         DM   M             35.0   \n",
       "\n",
       "   weight  \n",
       "1     NaN  \n",
       "2     NaN  \n",
       "3     NaN  \n",
       "4     NaN  "
      ]
     },
     "execution_count": 40,
     "metadata": {},
     "output_type": "execute_result"
    }
   ],
   "source": [
    "surveys_df.loc[1:4]"
   ]
  },
  {
   "cell_type": "markdown",
   "id": "093ce6d6",
   "metadata": {
    "id": "093ce6d6"
   },
   "source": [
    "**Your turn:**\n",
    "\n",
    "What happens when you execute:\n",
    "\n",
    "- `surveys_df[0:1]`\n",
    "\n",
    "- `surveys_df[:4]`\n",
    "\n",
    "- `surveys_df[:-1]`\n",
    "\n",
    "What happens when you call:\n",
    "\n",
    "- `surveys_df.iloc[0:4, 1:4]`\n",
    "\n",
    "- `surveys_df.loc[0:4, 1:4]`\n"
   ]
  },
  {
   "cell_type": "code",
   "execution_count": null,
   "id": "b418016d",
   "metadata": {
    "id": "b418016d"
   },
   "outputs": [],
   "source": []
  },
  {
   "cell_type": "markdown",
   "id": "b964fcd8",
   "metadata": {
    "id": "b964fcd8"
   },
   "source": [
    "`head`, `tail`, and `sample` are three convenient functions that select the first, last, or random rows of a table (all three have an optional parameter specifying the number of rows required):"
   ]
  },
  {
   "cell_type": "code",
   "execution_count": 41,
   "id": "85af9d2c",
   "metadata": {
    "id": "85af9d2c",
    "outputId": "83f29fbb-5b1e-46f8-8ab6-4fe9abf50c4c"
   },
   "outputs": [
    {
     "data": {
      "text/html": [
       "<div>\n",
       "<style scoped>\n",
       "    .dataframe tbody tr th:only-of-type {\n",
       "        vertical-align: middle;\n",
       "    }\n",
       "\n",
       "    .dataframe tbody tr th {\n",
       "        vertical-align: top;\n",
       "    }\n",
       "\n",
       "    .dataframe thead th {\n",
       "        text-align: right;\n",
       "    }\n",
       "</style>\n",
       "<table border=\"1\" class=\"dataframe\">\n",
       "  <thead>\n",
       "    <tr style=\"text-align: right;\">\n",
       "      <th></th>\n",
       "      <th>record_id</th>\n",
       "      <th>month</th>\n",
       "      <th>day</th>\n",
       "      <th>year</th>\n",
       "      <th>plot_id</th>\n",
       "      <th>species_id</th>\n",
       "      <th>sex</th>\n",
       "      <th>hindfoot_length</th>\n",
       "      <th>weight</th>\n",
       "    </tr>\n",
       "  </thead>\n",
       "  <tbody>\n",
       "    <tr>\n",
       "      <th>0</th>\n",
       "      <td>1</td>\n",
       "      <td>7</td>\n",
       "      <td>16</td>\n",
       "      <td>1977</td>\n",
       "      <td>2</td>\n",
       "      <td>NL</td>\n",
       "      <td>M</td>\n",
       "      <td>32.0</td>\n",
       "      <td>NaN</td>\n",
       "    </tr>\n",
       "    <tr>\n",
       "      <th>1</th>\n",
       "      <td>2</td>\n",
       "      <td>7</td>\n",
       "      <td>16</td>\n",
       "      <td>1977</td>\n",
       "      <td>3</td>\n",
       "      <td>NL</td>\n",
       "      <td>M</td>\n",
       "      <td>33.0</td>\n",
       "      <td>NaN</td>\n",
       "    </tr>\n",
       "    <tr>\n",
       "      <th>2</th>\n",
       "      <td>3</td>\n",
       "      <td>7</td>\n",
       "      <td>16</td>\n",
       "      <td>1977</td>\n",
       "      <td>2</td>\n",
       "      <td>DM</td>\n",
       "      <td>F</td>\n",
       "      <td>37.0</td>\n",
       "      <td>NaN</td>\n",
       "    </tr>\n",
       "    <tr>\n",
       "      <th>3</th>\n",
       "      <td>4</td>\n",
       "      <td>7</td>\n",
       "      <td>16</td>\n",
       "      <td>1977</td>\n",
       "      <td>7</td>\n",
       "      <td>DM</td>\n",
       "      <td>M</td>\n",
       "      <td>36.0</td>\n",
       "      <td>NaN</td>\n",
       "    </tr>\n",
       "    <tr>\n",
       "      <th>4</th>\n",
       "      <td>5</td>\n",
       "      <td>7</td>\n",
       "      <td>16</td>\n",
       "      <td>1977</td>\n",
       "      <td>3</td>\n",
       "      <td>DM</td>\n",
       "      <td>M</td>\n",
       "      <td>35.0</td>\n",
       "      <td>NaN</td>\n",
       "    </tr>\n",
       "  </tbody>\n",
       "</table>\n",
       "</div>"
      ],
      "text/plain": [
       "   record_id  month  day  year  plot_id species_id sex  hindfoot_length  \\\n",
       "0          1      7   16  1977        2         NL   M             32.0   \n",
       "1          2      7   16  1977        3         NL   M             33.0   \n",
       "2          3      7   16  1977        2         DM   F             37.0   \n",
       "3          4      7   16  1977        7         DM   M             36.0   \n",
       "4          5      7   16  1977        3         DM   M             35.0   \n",
       "\n",
       "   weight  \n",
       "0     NaN  \n",
       "1     NaN  \n",
       "2     NaN  \n",
       "3     NaN  \n",
       "4     NaN  "
      ]
     },
     "execution_count": 41,
     "metadata": {},
     "output_type": "execute_result"
    }
   ],
   "source": [
    "surveys_df.head()"
   ]
  },
  {
   "cell_type": "code",
   "execution_count": 42,
   "id": "98a8212f",
   "metadata": {
    "id": "98a8212f",
    "outputId": "c4b6930b-ac5b-4fd9-9627-8542d5ca6ece"
   },
   "outputs": [
    {
     "data": {
      "text/html": [
       "<div>\n",
       "<style scoped>\n",
       "    .dataframe tbody tr th:only-of-type {\n",
       "        vertical-align: middle;\n",
       "    }\n",
       "\n",
       "    .dataframe tbody tr th {\n",
       "        vertical-align: top;\n",
       "    }\n",
       "\n",
       "    .dataframe thead th {\n",
       "        text-align: right;\n",
       "    }\n",
       "</style>\n",
       "<table border=\"1\" class=\"dataframe\">\n",
       "  <thead>\n",
       "    <tr style=\"text-align: right;\">\n",
       "      <th></th>\n",
       "      <th>record_id</th>\n",
       "      <th>month</th>\n",
       "      <th>day</th>\n",
       "      <th>year</th>\n",
       "      <th>plot_id</th>\n",
       "      <th>species_id</th>\n",
       "      <th>sex</th>\n",
       "      <th>hindfoot_length</th>\n",
       "      <th>weight</th>\n",
       "    </tr>\n",
       "  </thead>\n",
       "  <tbody>\n",
       "    <tr>\n",
       "      <th>35546</th>\n",
       "      <td>35547</td>\n",
       "      <td>12</td>\n",
       "      <td>31</td>\n",
       "      <td>2002</td>\n",
       "      <td>10</td>\n",
       "      <td>RM</td>\n",
       "      <td>F</td>\n",
       "      <td>15.0</td>\n",
       "      <td>14.0</td>\n",
       "    </tr>\n",
       "    <tr>\n",
       "      <th>35547</th>\n",
       "      <td>35548</td>\n",
       "      <td>12</td>\n",
       "      <td>31</td>\n",
       "      <td>2002</td>\n",
       "      <td>7</td>\n",
       "      <td>DO</td>\n",
       "      <td>M</td>\n",
       "      <td>36.0</td>\n",
       "      <td>51.0</td>\n",
       "    </tr>\n",
       "    <tr>\n",
       "      <th>35548</th>\n",
       "      <td>35549</td>\n",
       "      <td>12</td>\n",
       "      <td>31</td>\n",
       "      <td>2002</td>\n",
       "      <td>5</td>\n",
       "      <td>NaN</td>\n",
       "      <td>NaN</td>\n",
       "      <td>NaN</td>\n",
       "      <td>NaN</td>\n",
       "    </tr>\n",
       "  </tbody>\n",
       "</table>\n",
       "</div>"
      ],
      "text/plain": [
       "       record_id  month  day  year  plot_id species_id  sex  hindfoot_length  \\\n",
       "35546      35547     12   31  2002       10         RM    F             15.0   \n",
       "35547      35548     12   31  2002        7         DO    M             36.0   \n",
       "35548      35549     12   31  2002        5        NaN  NaN              NaN   \n",
       "\n",
       "       weight  \n",
       "35546    14.0  \n",
       "35547    51.0  \n",
       "35548     NaN  "
      ]
     },
     "execution_count": 42,
     "metadata": {},
     "output_type": "execute_result"
    }
   ],
   "source": [
    "surveys_df.tail(3)"
   ]
  },
  {
   "cell_type": "code",
   "execution_count": 43,
   "id": "b2435f6e",
   "metadata": {
    "id": "b2435f6e",
    "outputId": "5fa478bc-8a68-4714-c6a0-31537d8479f6"
   },
   "outputs": [
    {
     "data": {
      "text/html": [
       "<div>\n",
       "<style scoped>\n",
       "    .dataframe tbody tr th:only-of-type {\n",
       "        vertical-align: middle;\n",
       "    }\n",
       "\n",
       "    .dataframe tbody tr th {\n",
       "        vertical-align: top;\n",
       "    }\n",
       "\n",
       "    .dataframe thead th {\n",
       "        text-align: right;\n",
       "    }\n",
       "</style>\n",
       "<table border=\"1\" class=\"dataframe\">\n",
       "  <thead>\n",
       "    <tr style=\"text-align: right;\">\n",
       "      <th></th>\n",
       "      <th>record_id</th>\n",
       "      <th>month</th>\n",
       "      <th>day</th>\n",
       "      <th>year</th>\n",
       "      <th>plot_id</th>\n",
       "      <th>species_id</th>\n",
       "      <th>sex</th>\n",
       "      <th>hindfoot_length</th>\n",
       "      <th>weight</th>\n",
       "    </tr>\n",
       "  </thead>\n",
       "  <tbody>\n",
       "    <tr>\n",
       "      <th>4667</th>\n",
       "      <td>4668</td>\n",
       "      <td>7</td>\n",
       "      <td>8</td>\n",
       "      <td>1981</td>\n",
       "      <td>6</td>\n",
       "      <td>DS</td>\n",
       "      <td>M</td>\n",
       "      <td>49.0</td>\n",
       "      <td>95.0</td>\n",
       "    </tr>\n",
       "  </tbody>\n",
       "</table>\n",
       "</div>"
      ],
      "text/plain": [
       "      record_id  month  day  year  plot_id species_id sex  hindfoot_length  \\\n",
       "4667       4668      7    8  1981        6         DS   M             49.0   \n",
       "\n",
       "      weight  \n",
       "4667    95.0  "
      ]
     },
     "execution_count": 43,
     "metadata": {},
     "output_type": "execute_result"
    }
   ],
   "source": [
    "surveys_df.sample()"
   ]
  },
  {
   "cell_type": "markdown",
   "id": "eb7fe25e",
   "metadata": {
    "id": "eb7fe25e"
   },
   "source": [
    "### Subsetting data using criteria:"
   ]
  },
  {
   "cell_type": "code",
   "execution_count": 44,
   "id": "4ef4679c",
   "metadata": {
    "id": "4ef4679c",
    "outputId": "94b1647e-0ab8-4057-c04e-ab410e0a0396"
   },
   "outputs": [
    {
     "data": {
      "text/html": [
       "<div>\n",
       "<style scoped>\n",
       "    .dataframe tbody tr th:only-of-type {\n",
       "        vertical-align: middle;\n",
       "    }\n",
       "\n",
       "    .dataframe tbody tr th {\n",
       "        vertical-align: top;\n",
       "    }\n",
       "\n",
       "    .dataframe thead th {\n",
       "        text-align: right;\n",
       "    }\n",
       "</style>\n",
       "<table border=\"1\" class=\"dataframe\">\n",
       "  <thead>\n",
       "    <tr style=\"text-align: right;\">\n",
       "      <th></th>\n",
       "      <th>record_id</th>\n",
       "      <th>month</th>\n",
       "      <th>day</th>\n",
       "      <th>year</th>\n",
       "      <th>plot_id</th>\n",
       "      <th>species_id</th>\n",
       "      <th>sex</th>\n",
       "      <th>hindfoot_length</th>\n",
       "      <th>weight</th>\n",
       "    </tr>\n",
       "  </thead>\n",
       "  <tbody>\n",
       "    <tr>\n",
       "      <th>5157</th>\n",
       "      <td>5158</td>\n",
       "      <td>1</td>\n",
       "      <td>1</td>\n",
       "      <td>1982</td>\n",
       "      <td>1</td>\n",
       "      <td>DO</td>\n",
       "      <td>F</td>\n",
       "      <td>37.0</td>\n",
       "      <td>49.0</td>\n",
       "    </tr>\n",
       "    <tr>\n",
       "      <th>5158</th>\n",
       "      <td>5159</td>\n",
       "      <td>1</td>\n",
       "      <td>1</td>\n",
       "      <td>1982</td>\n",
       "      <td>5</td>\n",
       "      <td>DM</td>\n",
       "      <td>F</td>\n",
       "      <td>34.0</td>\n",
       "      <td>42.0</td>\n",
       "    </tr>\n",
       "    <tr>\n",
       "      <th>5159</th>\n",
       "      <td>5160</td>\n",
       "      <td>1</td>\n",
       "      <td>1</td>\n",
       "      <td>1982</td>\n",
       "      <td>3</td>\n",
       "      <td>RM</td>\n",
       "      <td>F</td>\n",
       "      <td>16.0</td>\n",
       "      <td>11.0</td>\n",
       "    </tr>\n",
       "    <tr>\n",
       "      <th>5160</th>\n",
       "      <td>5161</td>\n",
       "      <td>1</td>\n",
       "      <td>1</td>\n",
       "      <td>1982</td>\n",
       "      <td>5</td>\n",
       "      <td>NL</td>\n",
       "      <td>F</td>\n",
       "      <td>33.0</td>\n",
       "      <td>193.0</td>\n",
       "    </tr>\n",
       "    <tr>\n",
       "      <th>5161</th>\n",
       "      <td>5162</td>\n",
       "      <td>1</td>\n",
       "      <td>1</td>\n",
       "      <td>1982</td>\n",
       "      <td>3</td>\n",
       "      <td>RM</td>\n",
       "      <td>F</td>\n",
       "      <td>17.0</td>\n",
       "      <td>10.0</td>\n",
       "    </tr>\n",
       "    <tr>\n",
       "      <th>...</th>\n",
       "      <td>...</td>\n",
       "      <td>...</td>\n",
       "      <td>...</td>\n",
       "      <td>...</td>\n",
       "      <td>...</td>\n",
       "      <td>...</td>\n",
       "      <td>...</td>\n",
       "      <td>...</td>\n",
       "      <td>...</td>\n",
       "    </tr>\n",
       "    <tr>\n",
       "      <th>9784</th>\n",
       "      <td>9785</td>\n",
       "      <td>12</td>\n",
       "      <td>31</td>\n",
       "      <td>1984</td>\n",
       "      <td>2</td>\n",
       "      <td>DO</td>\n",
       "      <td>M</td>\n",
       "      <td>33.0</td>\n",
       "      <td>45.0</td>\n",
       "    </tr>\n",
       "    <tr>\n",
       "      <th>9785</th>\n",
       "      <td>9786</td>\n",
       "      <td>12</td>\n",
       "      <td>31</td>\n",
       "      <td>1984</td>\n",
       "      <td>5</td>\n",
       "      <td>DM</td>\n",
       "      <td>F</td>\n",
       "      <td>35.0</td>\n",
       "      <td>33.0</td>\n",
       "    </tr>\n",
       "    <tr>\n",
       "      <th>9786</th>\n",
       "      <td>9787</td>\n",
       "      <td>12</td>\n",
       "      <td>31</td>\n",
       "      <td>1984</td>\n",
       "      <td>1</td>\n",
       "      <td>DM</td>\n",
       "      <td>M</td>\n",
       "      <td>36.0</td>\n",
       "      <td>51.0</td>\n",
       "    </tr>\n",
       "    <tr>\n",
       "      <th>9787</th>\n",
       "      <td>9788</td>\n",
       "      <td>12</td>\n",
       "      <td>31</td>\n",
       "      <td>1984</td>\n",
       "      <td>11</td>\n",
       "      <td>DM</td>\n",
       "      <td>M</td>\n",
       "      <td>36.0</td>\n",
       "      <td>35.0</td>\n",
       "    </tr>\n",
       "    <tr>\n",
       "      <th>9788</th>\n",
       "      <td>9789</td>\n",
       "      <td>12</td>\n",
       "      <td>31</td>\n",
       "      <td>1984</td>\n",
       "      <td>2</td>\n",
       "      <td>OT</td>\n",
       "      <td>M</td>\n",
       "      <td>20.0</td>\n",
       "      <td>21.0</td>\n",
       "    </tr>\n",
       "  </tbody>\n",
       "</table>\n",
       "<p>4632 rows × 9 columns</p>\n",
       "</div>"
      ],
      "text/plain": [
       "      record_id  month  day  year  plot_id species_id sex  hindfoot_length  \\\n",
       "5157       5158      1    1  1982        1         DO   F             37.0   \n",
       "5158       5159      1    1  1982        5         DM   F             34.0   \n",
       "5159       5160      1    1  1982        3         RM   F             16.0   \n",
       "5160       5161      1    1  1982        5         NL   F             33.0   \n",
       "5161       5162      1    1  1982        3         RM   F             17.0   \n",
       "...         ...    ...  ...   ...      ...        ...  ..              ...   \n",
       "9784       9785     12   31  1984        2         DO   M             33.0   \n",
       "9785       9786     12   31  1984        5         DM   F             35.0   \n",
       "9786       9787     12   31  1984        1         DM   M             36.0   \n",
       "9787       9788     12   31  1984       11         DM   M             36.0   \n",
       "9788       9789     12   31  1984        2         OT   M             20.0   \n",
       "\n",
       "      weight  \n",
       "5157    49.0  \n",
       "5158    42.0  \n",
       "5159    11.0  \n",
       "5160   193.0  \n",
       "5161    10.0  \n",
       "...      ...  \n",
       "9784    45.0  \n",
       "9785    33.0  \n",
       "9786    51.0  \n",
       "9787    35.0  \n",
       "9788    21.0  \n",
       "\n",
       "[4632 rows x 9 columns]"
      ]
     },
     "execution_count": 44,
     "metadata": {},
     "output_type": "execute_result"
    }
   ],
   "source": [
    "surveys_df[(surveys_df.year >= 1982) & (surveys_df.year <= 1984)]"
   ]
  },
  {
   "cell_type": "code",
   "execution_count": 45,
   "id": "271598f3",
   "metadata": {
    "id": "271598f3",
    "outputId": "a2b6c712-7c00-4e3f-8c02-f710f0fa7fc9"
   },
   "outputs": [
    {
     "data": {
      "text/html": [
       "<div>\n",
       "<style scoped>\n",
       "    .dataframe tbody tr th:only-of-type {\n",
       "        vertical-align: middle;\n",
       "    }\n",
       "\n",
       "    .dataframe tbody tr th {\n",
       "        vertical-align: top;\n",
       "    }\n",
       "\n",
       "    .dataframe thead th {\n",
       "        text-align: right;\n",
       "    }\n",
       "</style>\n",
       "<table border=\"1\" class=\"dataframe\">\n",
       "  <thead>\n",
       "    <tr style=\"text-align: right;\">\n",
       "      <th></th>\n",
       "      <th>record_id</th>\n",
       "      <th>month</th>\n",
       "      <th>day</th>\n",
       "      <th>year</th>\n",
       "      <th>plot_id</th>\n",
       "      <th>species_id</th>\n",
       "      <th>sex</th>\n",
       "      <th>hindfoot_length</th>\n",
       "      <th>weight</th>\n",
       "    </tr>\n",
       "  </thead>\n",
       "  <tbody>\n",
       "    <tr>\n",
       "      <th>12298</th>\n",
       "      <td>12299</td>\n",
       "      <td>2</td>\n",
       "      <td>1</td>\n",
       "      <td>1987</td>\n",
       "      <td>2</td>\n",
       "      <td>NL</td>\n",
       "      <td>M</td>\n",
       "      <td>32.0</td>\n",
       "      <td>253.0</td>\n",
       "    </tr>\n",
       "    <tr>\n",
       "      <th>12457</th>\n",
       "      <td>12458</td>\n",
       "      <td>3</td>\n",
       "      <td>2</td>\n",
       "      <td>1987</td>\n",
       "      <td>2</td>\n",
       "      <td>NL</td>\n",
       "      <td>M</td>\n",
       "      <td>33.0</td>\n",
       "      <td>259.0</td>\n",
       "    </tr>\n",
       "    <tr>\n",
       "      <th>12601</th>\n",
       "      <td>12602</td>\n",
       "      <td>4</td>\n",
       "      <td>6</td>\n",
       "      <td>1987</td>\n",
       "      <td>2</td>\n",
       "      <td>NL</td>\n",
       "      <td>M</td>\n",
       "      <td>34.0</td>\n",
       "      <td>260.0</td>\n",
       "    </tr>\n",
       "    <tr>\n",
       "      <th>12728</th>\n",
       "      <td>12729</td>\n",
       "      <td>4</td>\n",
       "      <td>26</td>\n",
       "      <td>1987</td>\n",
       "      <td>2</td>\n",
       "      <td>NL</td>\n",
       "      <td>M</td>\n",
       "      <td>32.0</td>\n",
       "      <td>270.0</td>\n",
       "    </tr>\n",
       "    <tr>\n",
       "      <th>12870</th>\n",
       "      <td>12871</td>\n",
       "      <td>5</td>\n",
       "      <td>28</td>\n",
       "      <td>1987</td>\n",
       "      <td>2</td>\n",
       "      <td>NL</td>\n",
       "      <td>M</td>\n",
       "      <td>32.0</td>\n",
       "      <td>278.0</td>\n",
       "    </tr>\n",
       "    <tr>\n",
       "      <th>13024</th>\n",
       "      <td>13025</td>\n",
       "      <td>7</td>\n",
       "      <td>1</td>\n",
       "      <td>1987</td>\n",
       "      <td>2</td>\n",
       "      <td>NL</td>\n",
       "      <td>M</td>\n",
       "      <td>33.0</td>\n",
       "      <td>260.0</td>\n",
       "    </tr>\n",
       "    <tr>\n",
       "      <th>13113</th>\n",
       "      <td>13114</td>\n",
       "      <td>7</td>\n",
       "      <td>26</td>\n",
       "      <td>1987</td>\n",
       "      <td>2</td>\n",
       "      <td>NL</td>\n",
       "      <td>M</td>\n",
       "      <td>NaN</td>\n",
       "      <td>269.0</td>\n",
       "    </tr>\n",
       "  </tbody>\n",
       "</table>\n",
       "</div>"
      ],
      "text/plain": [
       "       record_id  month  day  year  plot_id species_id sex  hindfoot_length  \\\n",
       "12298      12299      2    1  1987        2         NL   M             32.0   \n",
       "12457      12458      3    2  1987        2         NL   M             33.0   \n",
       "12601      12602      4    6  1987        2         NL   M             34.0   \n",
       "12728      12729      4   26  1987        2         NL   M             32.0   \n",
       "12870      12871      5   28  1987        2         NL   M             32.0   \n",
       "13024      13025      7    1  1987        2         NL   M             33.0   \n",
       "13113      13114      7   26  1987        2         NL   M              NaN   \n",
       "\n",
       "       weight  \n",
       "12298   253.0  \n",
       "12457   259.0  \n",
       "12601   260.0  \n",
       "12728   270.0  \n",
       "12870   278.0  \n",
       "13024   260.0  \n",
       "13113   269.0  "
      ]
     },
     "execution_count": 45,
     "metadata": {},
     "output_type": "execute_result"
    }
   ],
   "source": [
    "surveys_df.query(\"weight > 250 & year == 1987\")"
   ]
  },
  {
   "cell_type": "markdown",
   "id": "aff9d421",
   "metadata": {
    "id": "aff9d421"
   },
   "source": [
    "### Sorting"
   ]
  },
  {
   "cell_type": "code",
   "execution_count": 46,
   "id": "bd5bca58",
   "metadata": {
    "id": "bd5bca58",
    "outputId": "70d510f4-44ac-4b8d-d174-220f96b5759a"
   },
   "outputs": [
    {
     "data": {
      "text/html": [
       "<div>\n",
       "<style scoped>\n",
       "    .dataframe tbody tr th:only-of-type {\n",
       "        vertical-align: middle;\n",
       "    }\n",
       "\n",
       "    .dataframe tbody tr th {\n",
       "        vertical-align: top;\n",
       "    }\n",
       "\n",
       "    .dataframe thead th {\n",
       "        text-align: right;\n",
       "    }\n",
       "</style>\n",
       "<table border=\"1\" class=\"dataframe\">\n",
       "  <thead>\n",
       "    <tr style=\"text-align: right;\">\n",
       "      <th></th>\n",
       "      <th>record_id</th>\n",
       "      <th>month</th>\n",
       "      <th>day</th>\n",
       "      <th>year</th>\n",
       "      <th>plot_id</th>\n",
       "      <th>species_id</th>\n",
       "      <th>sex</th>\n",
       "      <th>hindfoot_length</th>\n",
       "      <th>weight</th>\n",
       "    </tr>\n",
       "  </thead>\n",
       "  <tbody>\n",
       "    <tr>\n",
       "      <th>9908</th>\n",
       "      <td>9909</td>\n",
       "      <td>1</td>\n",
       "      <td>20</td>\n",
       "      <td>1985</td>\n",
       "      <td>15</td>\n",
       "      <td>RM</td>\n",
       "      <td>F</td>\n",
       "      <td>15.0</td>\n",
       "      <td>4.0</td>\n",
       "    </tr>\n",
       "    <tr>\n",
       "      <th>4289</th>\n",
       "      <td>4290</td>\n",
       "      <td>4</td>\n",
       "      <td>6</td>\n",
       "      <td>1981</td>\n",
       "      <td>4</td>\n",
       "      <td>PF</td>\n",
       "      <td>NaN</td>\n",
       "      <td>NaN</td>\n",
       "      <td>4.0</td>\n",
       "    </tr>\n",
       "    <tr>\n",
       "      <th>9793</th>\n",
       "      <td>9794</td>\n",
       "      <td>1</td>\n",
       "      <td>19</td>\n",
       "      <td>1985</td>\n",
       "      <td>24</td>\n",
       "      <td>RM</td>\n",
       "      <td>M</td>\n",
       "      <td>16.0</td>\n",
       "      <td>4.0</td>\n",
       "    </tr>\n",
       "    <tr>\n",
       "      <th>9789</th>\n",
       "      <td>9790</td>\n",
       "      <td>1</td>\n",
       "      <td>19</td>\n",
       "      <td>1985</td>\n",
       "      <td>16</td>\n",
       "      <td>RM</td>\n",
       "      <td>F</td>\n",
       "      <td>16.0</td>\n",
       "      <td>4.0</td>\n",
       "    </tr>\n",
       "    <tr>\n",
       "      <th>5345</th>\n",
       "      <td>5346</td>\n",
       "      <td>2</td>\n",
       "      <td>22</td>\n",
       "      <td>1982</td>\n",
       "      <td>21</td>\n",
       "      <td>PF</td>\n",
       "      <td>F</td>\n",
       "      <td>14.0</td>\n",
       "      <td>4.0</td>\n",
       "    </tr>\n",
       "    <tr>\n",
       "      <th>...</th>\n",
       "      <td>...</td>\n",
       "      <td>...</td>\n",
       "      <td>...</td>\n",
       "      <td>...</td>\n",
       "      <td>...</td>\n",
       "      <td>...</td>\n",
       "      <td>...</td>\n",
       "      <td>...</td>\n",
       "      <td>...</td>\n",
       "    </tr>\n",
       "    <tr>\n",
       "      <th>35530</th>\n",
       "      <td>35531</td>\n",
       "      <td>12</td>\n",
       "      <td>31</td>\n",
       "      <td>2002</td>\n",
       "      <td>13</td>\n",
       "      <td>PB</td>\n",
       "      <td>F</td>\n",
       "      <td>27.0</td>\n",
       "      <td>NaN</td>\n",
       "    </tr>\n",
       "    <tr>\n",
       "      <th>35543</th>\n",
       "      <td>35544</td>\n",
       "      <td>12</td>\n",
       "      <td>31</td>\n",
       "      <td>2002</td>\n",
       "      <td>15</td>\n",
       "      <td>US</td>\n",
       "      <td>NaN</td>\n",
       "      <td>NaN</td>\n",
       "      <td>NaN</td>\n",
       "    </tr>\n",
       "    <tr>\n",
       "      <th>35544</th>\n",
       "      <td>35545</td>\n",
       "      <td>12</td>\n",
       "      <td>31</td>\n",
       "      <td>2002</td>\n",
       "      <td>15</td>\n",
       "      <td>AH</td>\n",
       "      <td>NaN</td>\n",
       "      <td>NaN</td>\n",
       "      <td>NaN</td>\n",
       "    </tr>\n",
       "    <tr>\n",
       "      <th>35545</th>\n",
       "      <td>35546</td>\n",
       "      <td>12</td>\n",
       "      <td>31</td>\n",
       "      <td>2002</td>\n",
       "      <td>15</td>\n",
       "      <td>AH</td>\n",
       "      <td>NaN</td>\n",
       "      <td>NaN</td>\n",
       "      <td>NaN</td>\n",
       "    </tr>\n",
       "    <tr>\n",
       "      <th>35548</th>\n",
       "      <td>35549</td>\n",
       "      <td>12</td>\n",
       "      <td>31</td>\n",
       "      <td>2002</td>\n",
       "      <td>5</td>\n",
       "      <td>NaN</td>\n",
       "      <td>NaN</td>\n",
       "      <td>NaN</td>\n",
       "      <td>NaN</td>\n",
       "    </tr>\n",
       "  </tbody>\n",
       "</table>\n",
       "<p>35549 rows × 9 columns</p>\n",
       "</div>"
      ],
      "text/plain": [
       "       record_id  month  day  year  plot_id species_id  sex  hindfoot_length  \\\n",
       "9908        9909      1   20  1985       15         RM    F             15.0   \n",
       "4289        4290      4    6  1981        4         PF  NaN              NaN   \n",
       "9793        9794      1   19  1985       24         RM    M             16.0   \n",
       "9789        9790      1   19  1985       16         RM    F             16.0   \n",
       "5345        5346      2   22  1982       21         PF    F             14.0   \n",
       "...          ...    ...  ...   ...      ...        ...  ...              ...   \n",
       "35530      35531     12   31  2002       13         PB    F             27.0   \n",
       "35543      35544     12   31  2002       15         US  NaN              NaN   \n",
       "35544      35545     12   31  2002       15         AH  NaN              NaN   \n",
       "35545      35546     12   31  2002       15         AH  NaN              NaN   \n",
       "35548      35549     12   31  2002        5        NaN  NaN              NaN   \n",
       "\n",
       "       weight  \n",
       "9908      4.0  \n",
       "4289      4.0  \n",
       "9793      4.0  \n",
       "9789      4.0  \n",
       "5345      4.0  \n",
       "...       ...  \n",
       "35530     NaN  \n",
       "35543     NaN  \n",
       "35544     NaN  \n",
       "35545     NaN  \n",
       "35548     NaN  \n",
       "\n",
       "[35549 rows x 9 columns]"
      ]
     },
     "execution_count": 46,
     "metadata": {},
     "output_type": "execute_result"
    }
   ],
   "source": [
    "surveys_df.sort_values(\"weight\")"
   ]
  },
  {
   "cell_type": "code",
   "execution_count": 47,
   "id": "82884acc",
   "metadata": {
    "id": "82884acc",
    "outputId": "9654f5bf-ccb3-47e9-81d0-d4b7bfaedea5"
   },
   "outputs": [
    {
     "data": {
      "text/html": [
       "<div>\n",
       "<style scoped>\n",
       "    .dataframe tbody tr th:only-of-type {\n",
       "        vertical-align: middle;\n",
       "    }\n",
       "\n",
       "    .dataframe tbody tr th {\n",
       "        vertical-align: top;\n",
       "    }\n",
       "\n",
       "    .dataframe thead th {\n",
       "        text-align: right;\n",
       "    }\n",
       "</style>\n",
       "<table border=\"1\" class=\"dataframe\">\n",
       "  <thead>\n",
       "    <tr style=\"text-align: right;\">\n",
       "      <th></th>\n",
       "      <th>record_id</th>\n",
       "      <th>month</th>\n",
       "      <th>day</th>\n",
       "      <th>year</th>\n",
       "      <th>plot_id</th>\n",
       "      <th>species_id</th>\n",
       "      <th>sex</th>\n",
       "      <th>hindfoot_length</th>\n",
       "      <th>weight</th>\n",
       "    </tr>\n",
       "  </thead>\n",
       "  <tbody>\n",
       "    <tr>\n",
       "      <th>10573</th>\n",
       "      <td>10574</td>\n",
       "      <td>7</td>\n",
       "      <td>23</td>\n",
       "      <td>1985</td>\n",
       "      <td>12</td>\n",
       "      <td>NL</td>\n",
       "      <td>NaN</td>\n",
       "      <td>70.0</td>\n",
       "      <td>NaN</td>\n",
       "    </tr>\n",
       "    <tr>\n",
       "      <th>30424</th>\n",
       "      <td>30425</td>\n",
       "      <td>3</td>\n",
       "      <td>4</td>\n",
       "      <td>2000</td>\n",
       "      <td>1</td>\n",
       "      <td>DO</td>\n",
       "      <td>F</td>\n",
       "      <td>64.0</td>\n",
       "      <td>35.0</td>\n",
       "    </tr>\n",
       "    <tr>\n",
       "      <th>1693</th>\n",
       "      <td>1694</td>\n",
       "      <td>3</td>\n",
       "      <td>31</td>\n",
       "      <td>1979</td>\n",
       "      <td>8</td>\n",
       "      <td>DS</td>\n",
       "      <td>F</td>\n",
       "      <td>58.0</td>\n",
       "      <td>123.0</td>\n",
       "    </tr>\n",
       "    <tr>\n",
       "      <th>22048</th>\n",
       "      <td>22049</td>\n",
       "      <td>2</td>\n",
       "      <td>4</td>\n",
       "      <td>1995</td>\n",
       "      <td>2</td>\n",
       "      <td>DO</td>\n",
       "      <td>M</td>\n",
       "      <td>58.0</td>\n",
       "      <td>51.0</td>\n",
       "    </tr>\n",
       "    <tr>\n",
       "      <th>4448</th>\n",
       "      <td>4449</td>\n",
       "      <td>5</td>\n",
       "      <td>4</td>\n",
       "      <td>1981</td>\n",
       "      <td>2</td>\n",
       "      <td>DS</td>\n",
       "      <td>F</td>\n",
       "      <td>57.0</td>\n",
       "      <td>136.0</td>\n",
       "    </tr>\n",
       "    <tr>\n",
       "      <th>...</th>\n",
       "      <td>...</td>\n",
       "      <td>...</td>\n",
       "      <td>...</td>\n",
       "      <td>...</td>\n",
       "      <td>...</td>\n",
       "      <td>...</td>\n",
       "      <td>...</td>\n",
       "      <td>...</td>\n",
       "      <td>...</td>\n",
       "    </tr>\n",
       "    <tr>\n",
       "      <th>35527</th>\n",
       "      <td>35528</td>\n",
       "      <td>12</td>\n",
       "      <td>31</td>\n",
       "      <td>2002</td>\n",
       "      <td>13</td>\n",
       "      <td>US</td>\n",
       "      <td>NaN</td>\n",
       "      <td>NaN</td>\n",
       "      <td>NaN</td>\n",
       "    </tr>\n",
       "    <tr>\n",
       "      <th>35543</th>\n",
       "      <td>35544</td>\n",
       "      <td>12</td>\n",
       "      <td>31</td>\n",
       "      <td>2002</td>\n",
       "      <td>15</td>\n",
       "      <td>US</td>\n",
       "      <td>NaN</td>\n",
       "      <td>NaN</td>\n",
       "      <td>NaN</td>\n",
       "    </tr>\n",
       "    <tr>\n",
       "      <th>35544</th>\n",
       "      <td>35545</td>\n",
       "      <td>12</td>\n",
       "      <td>31</td>\n",
       "      <td>2002</td>\n",
       "      <td>15</td>\n",
       "      <td>AH</td>\n",
       "      <td>NaN</td>\n",
       "      <td>NaN</td>\n",
       "      <td>NaN</td>\n",
       "    </tr>\n",
       "    <tr>\n",
       "      <th>35545</th>\n",
       "      <td>35546</td>\n",
       "      <td>12</td>\n",
       "      <td>31</td>\n",
       "      <td>2002</td>\n",
       "      <td>15</td>\n",
       "      <td>AH</td>\n",
       "      <td>NaN</td>\n",
       "      <td>NaN</td>\n",
       "      <td>NaN</td>\n",
       "    </tr>\n",
       "    <tr>\n",
       "      <th>35548</th>\n",
       "      <td>35549</td>\n",
       "      <td>12</td>\n",
       "      <td>31</td>\n",
       "      <td>2002</td>\n",
       "      <td>5</td>\n",
       "      <td>NaN</td>\n",
       "      <td>NaN</td>\n",
       "      <td>NaN</td>\n",
       "      <td>NaN</td>\n",
       "    </tr>\n",
       "  </tbody>\n",
       "</table>\n",
       "<p>35549 rows × 9 columns</p>\n",
       "</div>"
      ],
      "text/plain": [
       "       record_id  month  day  year  plot_id species_id  sex  hindfoot_length  \\\n",
       "10573      10574      7   23  1985       12         NL  NaN             70.0   \n",
       "30424      30425      3    4  2000        1         DO    F             64.0   \n",
       "1693        1694      3   31  1979        8         DS    F             58.0   \n",
       "22048      22049      2    4  1995        2         DO    M             58.0   \n",
       "4448        4449      5    4  1981        2         DS    F             57.0   \n",
       "...          ...    ...  ...   ...      ...        ...  ...              ...   \n",
       "35527      35528     12   31  2002       13         US  NaN              NaN   \n",
       "35543      35544     12   31  2002       15         US  NaN              NaN   \n",
       "35544      35545     12   31  2002       15         AH  NaN              NaN   \n",
       "35545      35546     12   31  2002       15         AH  NaN              NaN   \n",
       "35548      35549     12   31  2002        5        NaN  NaN              NaN   \n",
       "\n",
       "       weight  \n",
       "10573     NaN  \n",
       "30424    35.0  \n",
       "1693    123.0  \n",
       "22048    51.0  \n",
       "4448    136.0  \n",
       "...       ...  \n",
       "35527     NaN  \n",
       "35543     NaN  \n",
       "35544     NaN  \n",
       "35545     NaN  \n",
       "35548     NaN  \n",
       "\n",
       "[35549 rows x 9 columns]"
      ]
     },
     "execution_count": 47,
     "metadata": {},
     "output_type": "execute_result"
    }
   ],
   "source": [
    "surveys_df.sort_values(\"hindfoot_length\", ascending=False)"
   ]
  },
  {
   "cell_type": "markdown",
   "id": "f3075f2b",
   "metadata": {
    "id": "f3075f2b"
   },
   "source": [
    "**Your turn:**\n",
    "Find 10 heaviest animals cought in 1985."
   ]
  },
  {
   "cell_type": "code",
   "execution_count": null,
   "id": "1b512dc7",
   "metadata": {
    "id": "1b512dc7"
   },
   "outputs": [],
   "source": []
  },
  {
   "cell_type": "markdown",
   "id": "f2a50c7b",
   "metadata": {
    "id": "f2a50c7b"
   },
   "source": [
    "## DataFrame manipulation\n",
    "In this example, we are going to use the items `DataFrame` we have created before:"
   ]
  },
  {
   "cell_type": "code",
   "execution_count": 48,
   "id": "ad7d1018",
   "metadata": {
    "id": "ad7d1018",
    "outputId": "c20bfc38-a24d-41de-98d6-82e381244de5"
   },
   "outputs": [
    {
     "data": {
      "text/html": [
       "<div>\n",
       "<style scoped>\n",
       "    .dataframe tbody tr th:only-of-type {\n",
       "        vertical-align: middle;\n",
       "    }\n",
       "\n",
       "    .dataframe tbody tr th {\n",
       "        vertical-align: top;\n",
       "    }\n",
       "\n",
       "    .dataframe thead th {\n",
       "        text-align: right;\n",
       "    }\n",
       "</style>\n",
       "<table border=\"1\" class=\"dataframe\">\n",
       "  <thead>\n",
       "    <tr style=\"text-align: right;\">\n",
       "      <th></th>\n",
       "      <th>price</th>\n",
       "      <th>origin</th>\n",
       "    </tr>\n",
       "    <tr>\n",
       "      <th>name</th>\n",
       "      <th></th>\n",
       "      <th></th>\n",
       "    </tr>\n",
       "  </thead>\n",
       "  <tbody>\n",
       "    <tr>\n",
       "      <th>pencil</th>\n",
       "      <td>2.9</td>\n",
       "      <td>SK</td>\n",
       "    </tr>\n",
       "    <tr>\n",
       "      <th>rubber duck</th>\n",
       "      <td>12.9</td>\n",
       "      <td>US</td>\n",
       "    </tr>\n",
       "    <tr>\n",
       "      <th>teddy bear</th>\n",
       "      <td>22.9</td>\n",
       "      <td>CZ</td>\n",
       "    </tr>\n",
       "  </tbody>\n",
       "</table>\n",
       "</div>"
      ],
      "text/plain": [
       "             price origin\n",
       "name                     \n",
       "pencil         2.9     SK\n",
       "rubber duck   12.9     US\n",
       "teddy bear    22.9     CZ"
      ]
     },
     "execution_count": 48,
     "metadata": {},
     "output_type": "execute_result"
    }
   ],
   "source": [
    "items"
   ]
  },
  {
   "cell_type": "markdown",
   "id": "0a7f743e",
   "metadata": {
    "id": "0a7f743e"
   },
   "source": [
    "### Adding a new column\n",
    "When we want to add a new column (Series), we assign it to the DataFrame as a dictionary value - that is, in square brackets with the column name. The good news is that, just like in the constructor, pandas can handle both Series and a regular list.\n",
    "\n",
    "Let's add color:"
   ]
  },
  {
   "cell_type": "code",
   "execution_count": 49,
   "id": "c5ef0628",
   "metadata": {
    "id": "c5ef0628",
    "outputId": "41c0bb64-fa10-4404-d3be-c4cdbf997c47"
   },
   "outputs": [
    {
     "data": {
      "text/html": [
       "<div>\n",
       "<style scoped>\n",
       "    .dataframe tbody tr th:only-of-type {\n",
       "        vertical-align: middle;\n",
       "    }\n",
       "\n",
       "    .dataframe tbody tr th {\n",
       "        vertical-align: top;\n",
       "    }\n",
       "\n",
       "    .dataframe thead th {\n",
       "        text-align: right;\n",
       "    }\n",
       "</style>\n",
       "<table border=\"1\" class=\"dataframe\">\n",
       "  <thead>\n",
       "    <tr style=\"text-align: right;\">\n",
       "      <th></th>\n",
       "      <th>price</th>\n",
       "      <th>origin</th>\n",
       "      <th>color</th>\n",
       "    </tr>\n",
       "    <tr>\n",
       "      <th>name</th>\n",
       "      <th></th>\n",
       "      <th></th>\n",
       "      <th></th>\n",
       "    </tr>\n",
       "  </thead>\n",
       "  <tbody>\n",
       "    <tr>\n",
       "      <th>pencil</th>\n",
       "      <td>2.9</td>\n",
       "      <td>SK</td>\n",
       "      <td>red</td>\n",
       "    </tr>\n",
       "    <tr>\n",
       "      <th>rubber duck</th>\n",
       "      <td>12.9</td>\n",
       "      <td>US</td>\n",
       "      <td>blue</td>\n",
       "    </tr>\n",
       "    <tr>\n",
       "      <th>teddy bear</th>\n",
       "      <td>22.9</td>\n",
       "      <td>CZ</td>\n",
       "      <td>blue</td>\n",
       "    </tr>\n",
       "  </tbody>\n",
       "</table>\n",
       "</div>"
      ],
      "text/plain": [
       "             price origin color\n",
       "name                           \n",
       "pencil         2.9     SK   red\n",
       "rubber duck   12.9     US  blue\n",
       "teddy bear    22.9     CZ  blue"
      ]
     },
     "execution_count": 49,
     "metadata": {},
     "output_type": "execute_result"
    }
   ],
   "source": [
    "items[\"color\"] = [\"red\", \"blue\", \"blue\"]\n",
    "items"
   ]
  },
  {
   "cell_type": "markdown",
   "id": "311bcb7e",
   "metadata": {
    "id": "311bcb7e"
   },
   "source": [
    "💡 In this case we directly modified an existing `DataFrame`. By default, most methods / operations in pandas (you already know e.g. `set_index`) always return a new object with the applied modification, leaving the original object unchanged. This is a good habit that we will follow. Column assignment is one of the exceptions to this otherwise accepted rule.\n",
    "\n",
    "However, DataFrame still provides an `assign` method that does not modify the table, but creates a copy of it with the added (or replaced) columns. If you want to avoid the annoyance of keeping track of which table you've changed or not, `assign` is highly recommended.\n",
    "\n",
    "By the way, you can create a copy of a table at any time using the `copy` method - this is useful when writing functions where the input table is modified for various reasons."
   ]
  },
  {
   "cell_type": "code",
   "execution_count": 50,
   "id": "5a64d144",
   "metadata": {
    "id": "5a64d144",
    "outputId": "0121dd02-1836-427e-bb96-95735e2cb745"
   },
   "outputs": [
    {
     "data": {
      "text/html": [
       "<div>\n",
       "<style scoped>\n",
       "    .dataframe tbody tr th:only-of-type {\n",
       "        vertical-align: middle;\n",
       "    }\n",
       "\n",
       "    .dataframe tbody tr th {\n",
       "        vertical-align: top;\n",
       "    }\n",
       "\n",
       "    .dataframe thead th {\n",
       "        text-align: right;\n",
       "    }\n",
       "</style>\n",
       "<table border=\"1\" class=\"dataframe\">\n",
       "  <thead>\n",
       "    <tr style=\"text-align: right;\">\n",
       "      <th></th>\n",
       "      <th>price</th>\n",
       "      <th>origin</th>\n",
       "      <th>color</th>\n",
       "      <th>is_new</th>\n",
       "      <th>size</th>\n",
       "    </tr>\n",
       "    <tr>\n",
       "      <th>name</th>\n",
       "      <th></th>\n",
       "      <th></th>\n",
       "      <th></th>\n",
       "      <th></th>\n",
       "      <th></th>\n",
       "    </tr>\n",
       "  </thead>\n",
       "  <tbody>\n",
       "    <tr>\n",
       "      <th>pencil</th>\n",
       "      <td>2.9</td>\n",
       "      <td>SK</td>\n",
       "      <td>red</td>\n",
       "      <td>True</td>\n",
       "      <td>S</td>\n",
       "    </tr>\n",
       "    <tr>\n",
       "      <th>rubber duck</th>\n",
       "      <td>12.9</td>\n",
       "      <td>US</td>\n",
       "      <td>blue</td>\n",
       "      <td>False</td>\n",
       "      <td>S</td>\n",
       "    </tr>\n",
       "    <tr>\n",
       "      <th>teddy bear</th>\n",
       "      <td>22.9</td>\n",
       "      <td>CZ</td>\n",
       "      <td>blue</td>\n",
       "      <td>False</td>\n",
       "      <td>M</td>\n",
       "    </tr>\n",
       "  </tbody>\n",
       "</table>\n",
       "</div>"
      ],
      "text/plain": [
       "             price origin color  is_new size\n",
       "name                                        \n",
       "pencil         2.9     SK   red    True    S\n",
       "rubber duck   12.9     US  blue   False    S\n",
       "teddy bear    22.9     CZ  blue   False    M"
      ]
     },
     "execution_count": 50,
     "metadata": {},
     "output_type": "execute_result"
    }
   ],
   "source": [
    "items.assign(is_new=[True, False, False],\n",
    "             size=[\"S\", \"S\", \"M\"]\n",
    "            )\n",
    "# the object items is unchanged"
   ]
  },
  {
   "cell_type": "code",
   "execution_count": 51,
   "id": "a003ee80",
   "metadata": {
    "id": "a003ee80",
    "outputId": "9684b5ae-451c-4e09-a1e1-2ed245955973"
   },
   "outputs": [
    {
     "data": {
      "text/html": [
       "<div>\n",
       "<style scoped>\n",
       "    .dataframe tbody tr th:only-of-type {\n",
       "        vertical-align: middle;\n",
       "    }\n",
       "\n",
       "    .dataframe tbody tr th {\n",
       "        vertical-align: top;\n",
       "    }\n",
       "\n",
       "    .dataframe thead th {\n",
       "        text-align: right;\n",
       "    }\n",
       "</style>\n",
       "<table border=\"1\" class=\"dataframe\">\n",
       "  <thead>\n",
       "    <tr style=\"text-align: right;\">\n",
       "      <th></th>\n",
       "      <th>price</th>\n",
       "      <th>origin</th>\n",
       "      <th>color</th>\n",
       "      <th>you_can_eat_it</th>\n",
       "    </tr>\n",
       "    <tr>\n",
       "      <th>name</th>\n",
       "      <th></th>\n",
       "      <th></th>\n",
       "      <th></th>\n",
       "      <th></th>\n",
       "    </tr>\n",
       "  </thead>\n",
       "  <tbody>\n",
       "    <tr>\n",
       "      <th>pencil</th>\n",
       "      <td>2.9</td>\n",
       "      <td>SK</td>\n",
       "      <td>red</td>\n",
       "      <td>False</td>\n",
       "    </tr>\n",
       "    <tr>\n",
       "      <th>rubber duck</th>\n",
       "      <td>12.9</td>\n",
       "      <td>US</td>\n",
       "      <td>blue</td>\n",
       "      <td>False</td>\n",
       "    </tr>\n",
       "    <tr>\n",
       "      <th>teddy bear</th>\n",
       "      <td>22.9</td>\n",
       "      <td>CZ</td>\n",
       "      <td>blue</td>\n",
       "      <td>False</td>\n",
       "    </tr>\n",
       "  </tbody>\n",
       "</table>\n",
       "</div>"
      ],
      "text/plain": [
       "             price origin color  you_can_eat_it\n",
       "name                                           \n",
       "pencil         2.9     SK   red           False\n",
       "rubber duck   12.9     US  blue           False\n",
       "teddy bear    22.9     CZ  blue           False"
      ]
     },
     "execution_count": 51,
     "metadata": {},
     "output_type": "execute_result"
    }
   ],
   "source": [
    "items2 = items.copy()\n",
    "items2[\"you_can_eat_it\"] = [False, False, False]\n",
    "items2\n",
    "# the object items is still unchanged"
   ]
  },
  {
   "cell_type": "markdown",
   "id": "5fd26dc8",
   "metadata": {
    "id": "5fd26dc8"
   },
   "source": [
    "####  Adding a new row\n"
   ]
  },
  {
   "cell_type": "code",
   "execution_count": 52,
   "id": "e073a389",
   "metadata": {
    "id": "e073a389",
    "outputId": "10463755-d756-42ec-a463-82c33232404c"
   },
   "outputs": [
    {
     "data": {
      "text/html": [
       "<div>\n",
       "<style scoped>\n",
       "    .dataframe tbody tr th:only-of-type {\n",
       "        vertical-align: middle;\n",
       "    }\n",
       "\n",
       "    .dataframe tbody tr th {\n",
       "        vertical-align: top;\n",
       "    }\n",
       "\n",
       "    .dataframe thead th {\n",
       "        text-align: right;\n",
       "    }\n",
       "</style>\n",
       "<table border=\"1\" class=\"dataframe\">\n",
       "  <thead>\n",
       "    <tr style=\"text-align: right;\">\n",
       "      <th></th>\n",
       "      <th>price</th>\n",
       "      <th>origin</th>\n",
       "      <th>color</th>\n",
       "    </tr>\n",
       "    <tr>\n",
       "      <th>name</th>\n",
       "      <th></th>\n",
       "      <th></th>\n",
       "      <th></th>\n",
       "    </tr>\n",
       "  </thead>\n",
       "  <tbody>\n",
       "    <tr>\n",
       "      <th>pencil</th>\n",
       "      <td>2.9</td>\n",
       "      <td>SK</td>\n",
       "      <td>red</td>\n",
       "    </tr>\n",
       "    <tr>\n",
       "      <th>rubber duck</th>\n",
       "      <td>12.9</td>\n",
       "      <td>US</td>\n",
       "      <td>blue</td>\n",
       "    </tr>\n",
       "    <tr>\n",
       "      <th>teddy bear</th>\n",
       "      <td>22.9</td>\n",
       "      <td>CZ</td>\n",
       "      <td>blue</td>\n",
       "    </tr>\n",
       "    <tr>\n",
       "      <th>wooden train</th>\n",
       "      <td>25</td>\n",
       "      <td>GE</td>\n",
       "      <td>green</td>\n",
       "    </tr>\n",
       "  </tbody>\n",
       "</table>\n",
       "</div>"
      ],
      "text/plain": [
       "             price origin  color\n",
       "name                            \n",
       "pencil         2.9     SK    red\n",
       "rubber duck   12.9     US   blue\n",
       "teddy bear    22.9     CZ   blue\n",
       "wooden train    25     GE  green"
      ]
     },
     "execution_count": 52,
     "metadata": {},
     "output_type": "execute_result"
    }
   ],
   "source": [
    "items.loc[\"wooden train\"] = [\"25\", \"GE\", \"green\"]   # List of values in row\n",
    "items"
   ]
  },
  {
   "cell_type": "markdown",
   "id": "7b1caddd",
   "metadata": {
    "id": "7b1caddd"
   },
   "source": [
    "### Cell value change\n",
    "The `.loc` and `.iloc` \"indexers\" with two arguments in square brackets refer directly to a specific cell, and assigning them (again, like in the dictionary) will write the value to the appropriate location. You just need to keep the order (row, column).\n",
    "\n",
    "Let's change the price of rubber duck:"
   ]
  },
  {
   "cell_type": "code",
   "execution_count": 53,
   "id": "6550cc40",
   "metadata": {
    "id": "6550cc40",
    "outputId": "ecc31afd-050b-452b-8d32-b71b7b41122c"
   },
   "outputs": [
    {
     "data": {
      "text/html": [
       "<div>\n",
       "<style scoped>\n",
       "    .dataframe tbody tr th:only-of-type {\n",
       "        vertical-align: middle;\n",
       "    }\n",
       "\n",
       "    .dataframe tbody tr th {\n",
       "        vertical-align: top;\n",
       "    }\n",
       "\n",
       "    .dataframe thead th {\n",
       "        text-align: right;\n",
       "    }\n",
       "</style>\n",
       "<table border=\"1\" class=\"dataframe\">\n",
       "  <thead>\n",
       "    <tr style=\"text-align: right;\">\n",
       "      <th></th>\n",
       "      <th>price</th>\n",
       "      <th>origin</th>\n",
       "      <th>color</th>\n",
       "    </tr>\n",
       "    <tr>\n",
       "      <th>name</th>\n",
       "      <th></th>\n",
       "      <th></th>\n",
       "      <th></th>\n",
       "    </tr>\n",
       "  </thead>\n",
       "  <tbody>\n",
       "    <tr>\n",
       "      <th>pencil</th>\n",
       "      <td>2.9</td>\n",
       "      <td>SK</td>\n",
       "      <td>red</td>\n",
       "    </tr>\n",
       "    <tr>\n",
       "      <th>rubber duck</th>\n",
       "      <td>14.2</td>\n",
       "      <td>US</td>\n",
       "      <td>blue</td>\n",
       "    </tr>\n",
       "    <tr>\n",
       "      <th>teddy bear</th>\n",
       "      <td>22.9</td>\n",
       "      <td>CZ</td>\n",
       "      <td>blue</td>\n",
       "    </tr>\n",
       "    <tr>\n",
       "      <th>wooden train</th>\n",
       "      <td>25</td>\n",
       "      <td>GE</td>\n",
       "      <td>green</td>\n",
       "    </tr>\n",
       "  </tbody>\n",
       "</table>\n",
       "</div>"
      ],
      "text/plain": [
       "             price origin  color\n",
       "name                            \n",
       "pencil         2.9     SK    red\n",
       "rubber duck   14.2     US   blue\n",
       "teddy bear    22.9     CZ   blue\n",
       "wooden train    25     GE  green"
      ]
     },
     "execution_count": 53,
     "metadata": {},
     "output_type": "execute_result"
    }
   ],
   "source": [
    "items.loc[\"rubber duck\", \"price\"] = 14.2\n",
    "items"
   ]
  },
  {
   "cell_type": "markdown",
   "id": "5e9cc52c",
   "metadata": {
    "id": "5e9cc52c"
   },
   "source": [
    "Warning: Similarly to the dictionary, but perhaps somewhat counter-intuitively, it is possible to write a value into a row and column that do not exist!"
   ]
  },
  {
   "cell_type": "code",
   "execution_count": 54,
   "id": "ff9a4f88",
   "metadata": {
    "id": "ff9a4f88",
    "outputId": "127fbd19-c138-4997-85ba-eb321894c719"
   },
   "outputs": [
    {
     "data": {
      "text/html": [
       "<div>\n",
       "<style scoped>\n",
       "    .dataframe tbody tr th:only-of-type {\n",
       "        vertical-align: middle;\n",
       "    }\n",
       "\n",
       "    .dataframe tbody tr th {\n",
       "        vertical-align: top;\n",
       "    }\n",
       "\n",
       "    .dataframe thead th {\n",
       "        text-align: right;\n",
       "    }\n",
       "</style>\n",
       "<table border=\"1\" class=\"dataframe\">\n",
       "  <thead>\n",
       "    <tr style=\"text-align: right;\">\n",
       "      <th></th>\n",
       "      <th>price</th>\n",
       "      <th>origin</th>\n",
       "      <th>color</th>\n",
       "      <th>colour</th>\n",
       "    </tr>\n",
       "    <tr>\n",
       "      <th>name</th>\n",
       "      <th></th>\n",
       "      <th></th>\n",
       "      <th></th>\n",
       "      <th></th>\n",
       "    </tr>\n",
       "  </thead>\n",
       "  <tbody>\n",
       "    <tr>\n",
       "      <th>pencil</th>\n",
       "      <td>2.9</td>\n",
       "      <td>SK</td>\n",
       "      <td>red</td>\n",
       "      <td>NaN</td>\n",
       "    </tr>\n",
       "    <tr>\n",
       "      <th>rubber duck</th>\n",
       "      <td>14.2</td>\n",
       "      <td>US</td>\n",
       "      <td>blue</td>\n",
       "      <td>NaN</td>\n",
       "    </tr>\n",
       "    <tr>\n",
       "      <th>teddy bear</th>\n",
       "      <td>22.9</td>\n",
       "      <td>CZ</td>\n",
       "      <td>blue</td>\n",
       "      <td>black</td>\n",
       "    </tr>\n",
       "    <tr>\n",
       "      <th>wooden train</th>\n",
       "      <td>25</td>\n",
       "      <td>GE</td>\n",
       "      <td>green</td>\n",
       "      <td>NaN</td>\n",
       "    </tr>\n",
       "  </tbody>\n",
       "</table>\n",
       "</div>"
      ],
      "text/plain": [
       "             price origin  color colour\n",
       "name                                   \n",
       "pencil         2.9     SK    red    NaN\n",
       "rubber duck   14.2     US   blue    NaN\n",
       "teddy bear    22.9     CZ   blue  black\n",
       "wooden train    25     GE  green    NaN"
      ]
     },
     "execution_count": 54,
     "metadata": {},
     "output_type": "execute_result"
    }
   ],
   "source": [
    "items_bad = items.copy()\n",
    "items_bad.loc[\"teddy bear\", \"colour\"] = \"black\"\n",
    "items_bad"
   ]
  },
  {
   "cell_type": "markdown",
   "id": "55f7aecf",
   "metadata": {
    "id": "55f7aecf"
   },
   "source": [
    "### Deleting a row\n",
    "The `drop` method is used to remove a column or row from the `DataFrame`. Its first argument expects the index of one or more rows or columns that you want to remove. The axis argument indicates in which dimension the operation is to be applied. You can use either the number 0 or 1 (corresponding to the order from zero in which keys are given when referencing cells), or the name of the dimension:\n",
    "\n",
    "Axis:\n",
    "\n",
    "- 0 or \"index\" → rows\n",
    "- 1 or \"columns\" → columns\n",
    "This argument is also used by many other methods and functions, so make sure you understand it\n",
    "\n",
    "Let's delete pencil (for the drop method, the default value of the axis argument is 0, so we don't need to write it):"
   ]
  },
  {
   "cell_type": "code",
   "execution_count": 55,
   "id": "029eb49f",
   "metadata": {
    "id": "029eb49f",
    "outputId": "ef805e02-7cc1-47af-9bb4-9b86496499d9"
   },
   "outputs": [
    {
     "data": {
      "text/html": [
       "<div>\n",
       "<style scoped>\n",
       "    .dataframe tbody tr th:only-of-type {\n",
       "        vertical-align: middle;\n",
       "    }\n",
       "\n",
       "    .dataframe tbody tr th {\n",
       "        vertical-align: top;\n",
       "    }\n",
       "\n",
       "    .dataframe thead th {\n",
       "        text-align: right;\n",
       "    }\n",
       "</style>\n",
       "<table border=\"1\" class=\"dataframe\">\n",
       "  <thead>\n",
       "    <tr style=\"text-align: right;\">\n",
       "      <th></th>\n",
       "      <th>price</th>\n",
       "      <th>origin</th>\n",
       "      <th>color</th>\n",
       "    </tr>\n",
       "    <tr>\n",
       "      <th>name</th>\n",
       "      <th></th>\n",
       "      <th></th>\n",
       "      <th></th>\n",
       "    </tr>\n",
       "  </thead>\n",
       "  <tbody>\n",
       "    <tr>\n",
       "      <th>rubber duck</th>\n",
       "      <td>14.2</td>\n",
       "      <td>US</td>\n",
       "      <td>blue</td>\n",
       "    </tr>\n",
       "    <tr>\n",
       "      <th>teddy bear</th>\n",
       "      <td>22.9</td>\n",
       "      <td>CZ</td>\n",
       "      <td>blue</td>\n",
       "    </tr>\n",
       "    <tr>\n",
       "      <th>wooden train</th>\n",
       "      <td>25</td>\n",
       "      <td>GE</td>\n",
       "      <td>green</td>\n",
       "    </tr>\n",
       "  </tbody>\n",
       "</table>\n",
       "</div>"
      ],
      "text/plain": [
       "             price origin  color\n",
       "name                            \n",
       "rubber duck   14.2     US   blue\n",
       "teddy bear    22.9     CZ   blue\n",
       "wooden train    25     GE  green"
      ]
     },
     "execution_count": 55,
     "metadata": {},
     "output_type": "execute_result"
    }
   ],
   "source": [
    "items = items.drop(\"pencil\")\n",
    "items"
   ]
  },
  {
   "cell_type": "markdown",
   "id": "d991d1d2",
   "metadata": {
    "id": "d991d1d2"
   },
   "source": [
    "### Deleting a column\n",
    "For a column, the drop method works very similarly, only this time the axis argument must be specified.\n",
    "\n",
    "Let's remove color:"
   ]
  },
  {
   "cell_type": "code",
   "execution_count": 56,
   "id": "9d843f0c",
   "metadata": {
    "id": "9d843f0c",
    "outputId": "8d48fc2e-bbc0-424c-8533-1b0075c7a845"
   },
   "outputs": [
    {
     "data": {
      "text/html": [
       "<div>\n",
       "<style scoped>\n",
       "    .dataframe tbody tr th:only-of-type {\n",
       "        vertical-align: middle;\n",
       "    }\n",
       "\n",
       "    .dataframe tbody tr th {\n",
       "        vertical-align: top;\n",
       "    }\n",
       "\n",
       "    .dataframe thead th {\n",
       "        text-align: right;\n",
       "    }\n",
       "</style>\n",
       "<table border=\"1\" class=\"dataframe\">\n",
       "  <thead>\n",
       "    <tr style=\"text-align: right;\">\n",
       "      <th></th>\n",
       "      <th>price</th>\n",
       "      <th>origin</th>\n",
       "    </tr>\n",
       "    <tr>\n",
       "      <th>name</th>\n",
       "      <th></th>\n",
       "      <th></th>\n",
       "    </tr>\n",
       "  </thead>\n",
       "  <tbody>\n",
       "    <tr>\n",
       "      <th>rubber duck</th>\n",
       "      <td>14.2</td>\n",
       "      <td>US</td>\n",
       "    </tr>\n",
       "    <tr>\n",
       "      <th>teddy bear</th>\n",
       "      <td>22.9</td>\n",
       "      <td>CZ</td>\n",
       "    </tr>\n",
       "    <tr>\n",
       "      <th>wooden train</th>\n",
       "      <td>25</td>\n",
       "      <td>GE</td>\n",
       "    </tr>\n",
       "  </tbody>\n",
       "</table>\n",
       "</div>"
      ],
      "text/plain": [
       "             price origin\n",
       "name                     \n",
       "rubber duck   14.2     US\n",
       "teddy bear    22.9     CZ\n",
       "wooden train    25     GE"
      ]
     },
     "execution_count": 56,
     "metadata": {},
     "output_type": "execute_result"
    }
   ],
   "source": [
    "items = items.drop(\"color\", axis=\"columns\")  \n",
    "items"
   ]
  },
  {
   "cell_type": "markdown",
   "id": "379bda87",
   "metadata": {
    "id": "379bda87"
   },
   "source": [
    "The `drop` method, in accordance with the above convention, returns a new `DataFrame` (and therefore the result of the operation must be assigned to `items`). If you want to operate directly on the table, you can use the `del` command (it works the same as the dictionary) or ask the panda gods for forgiveness and add the `inplace=True` argument (this argument can, unfortunately, be used for many other operations):"
   ]
  },
  {
   "cell_type": "code",
   "execution_count": 57,
   "id": "cd3e6681",
   "metadata": {
    "id": "cd3e6681"
   },
   "outputs": [],
   "source": [
    "# at your own risk :)\n",
    "#  1)\n",
    "# del items[\"origin\"]\n",
    "\n",
    "#  2)\n",
    "# items.drop(\"origin\", axis=1, inplace=True)"
   ]
  },
  {
   "cell_type": "markdown",
   "id": "a7587d3d",
   "metadata": {
    "id": "a7587d3d"
   },
   "source": [
    "**Your turn:** \n",
    "- Add a new item\n",
    "- Calculate price_with_tax as 1.2 * price and add it as a new column."
   ]
  },
  {
   "cell_type": "code",
   "execution_count": null,
   "id": "06520e6b",
   "metadata": {
    "id": "06520e6b"
   },
   "outputs": [],
   "source": []
  },
  {
   "cell_type": "markdown",
   "id": "98b70404",
   "metadata": {
    "id": "98b70404"
   },
   "source": [
    "## Non defined values \n",
    "\n",
    "Where are the non defined values and what to do with them?"
   ]
  },
  {
   "cell_type": "code",
   "execution_count": 58,
   "id": "0bd1d559",
   "metadata": {
    "id": "0bd1d559",
    "outputId": "9b8b576c-3329-4847-e8ab-ace1f90d5220"
   },
   "outputs": [
    {
     "data": {
      "text/html": [
       "<div>\n",
       "<style scoped>\n",
       "    .dataframe tbody tr th:only-of-type {\n",
       "        vertical-align: middle;\n",
       "    }\n",
       "\n",
       "    .dataframe tbody tr th {\n",
       "        vertical-align: top;\n",
       "    }\n",
       "\n",
       "    .dataframe thead th {\n",
       "        text-align: right;\n",
       "    }\n",
       "</style>\n",
       "<table border=\"1\" class=\"dataframe\">\n",
       "  <thead>\n",
       "    <tr style=\"text-align: right;\">\n",
       "      <th></th>\n",
       "      <th>record_id</th>\n",
       "      <th>month</th>\n",
       "      <th>day</th>\n",
       "      <th>year</th>\n",
       "      <th>plot_id</th>\n",
       "      <th>species_id</th>\n",
       "      <th>sex</th>\n",
       "      <th>hindfoot_length</th>\n",
       "      <th>weight</th>\n",
       "    </tr>\n",
       "  </thead>\n",
       "  <tbody>\n",
       "    <tr>\n",
       "      <th>0</th>\n",
       "      <td>False</td>\n",
       "      <td>False</td>\n",
       "      <td>False</td>\n",
       "      <td>False</td>\n",
       "      <td>False</td>\n",
       "      <td>False</td>\n",
       "      <td>False</td>\n",
       "      <td>False</td>\n",
       "      <td>True</td>\n",
       "    </tr>\n",
       "    <tr>\n",
       "      <th>1</th>\n",
       "      <td>False</td>\n",
       "      <td>False</td>\n",
       "      <td>False</td>\n",
       "      <td>False</td>\n",
       "      <td>False</td>\n",
       "      <td>False</td>\n",
       "      <td>False</td>\n",
       "      <td>False</td>\n",
       "      <td>True</td>\n",
       "    </tr>\n",
       "    <tr>\n",
       "      <th>2</th>\n",
       "      <td>False</td>\n",
       "      <td>False</td>\n",
       "      <td>False</td>\n",
       "      <td>False</td>\n",
       "      <td>False</td>\n",
       "      <td>False</td>\n",
       "      <td>False</td>\n",
       "      <td>False</td>\n",
       "      <td>True</td>\n",
       "    </tr>\n",
       "    <tr>\n",
       "      <th>3</th>\n",
       "      <td>False</td>\n",
       "      <td>False</td>\n",
       "      <td>False</td>\n",
       "      <td>False</td>\n",
       "      <td>False</td>\n",
       "      <td>False</td>\n",
       "      <td>False</td>\n",
       "      <td>False</td>\n",
       "      <td>True</td>\n",
       "    </tr>\n",
       "    <tr>\n",
       "      <th>4</th>\n",
       "      <td>False</td>\n",
       "      <td>False</td>\n",
       "      <td>False</td>\n",
       "      <td>False</td>\n",
       "      <td>False</td>\n",
       "      <td>False</td>\n",
       "      <td>False</td>\n",
       "      <td>False</td>\n",
       "      <td>True</td>\n",
       "    </tr>\n",
       "    <tr>\n",
       "      <th>...</th>\n",
       "      <td>...</td>\n",
       "      <td>...</td>\n",
       "      <td>...</td>\n",
       "      <td>...</td>\n",
       "      <td>...</td>\n",
       "      <td>...</td>\n",
       "      <td>...</td>\n",
       "      <td>...</td>\n",
       "      <td>...</td>\n",
       "    </tr>\n",
       "    <tr>\n",
       "      <th>35544</th>\n",
       "      <td>False</td>\n",
       "      <td>False</td>\n",
       "      <td>False</td>\n",
       "      <td>False</td>\n",
       "      <td>False</td>\n",
       "      <td>False</td>\n",
       "      <td>True</td>\n",
       "      <td>True</td>\n",
       "      <td>True</td>\n",
       "    </tr>\n",
       "    <tr>\n",
       "      <th>35545</th>\n",
       "      <td>False</td>\n",
       "      <td>False</td>\n",
       "      <td>False</td>\n",
       "      <td>False</td>\n",
       "      <td>False</td>\n",
       "      <td>False</td>\n",
       "      <td>True</td>\n",
       "      <td>True</td>\n",
       "      <td>True</td>\n",
       "    </tr>\n",
       "    <tr>\n",
       "      <th>35546</th>\n",
       "      <td>False</td>\n",
       "      <td>False</td>\n",
       "      <td>False</td>\n",
       "      <td>False</td>\n",
       "      <td>False</td>\n",
       "      <td>False</td>\n",
       "      <td>False</td>\n",
       "      <td>False</td>\n",
       "      <td>False</td>\n",
       "    </tr>\n",
       "    <tr>\n",
       "      <th>35547</th>\n",
       "      <td>False</td>\n",
       "      <td>False</td>\n",
       "      <td>False</td>\n",
       "      <td>False</td>\n",
       "      <td>False</td>\n",
       "      <td>False</td>\n",
       "      <td>False</td>\n",
       "      <td>False</td>\n",
       "      <td>False</td>\n",
       "    </tr>\n",
       "    <tr>\n",
       "      <th>35548</th>\n",
       "      <td>False</td>\n",
       "      <td>False</td>\n",
       "      <td>False</td>\n",
       "      <td>False</td>\n",
       "      <td>False</td>\n",
       "      <td>True</td>\n",
       "      <td>True</td>\n",
       "      <td>True</td>\n",
       "      <td>True</td>\n",
       "    </tr>\n",
       "  </tbody>\n",
       "</table>\n",
       "<p>35549 rows × 9 columns</p>\n",
       "</div>"
      ],
      "text/plain": [
       "       record_id  month    day   year  plot_id  species_id    sex  \\\n",
       "0          False  False  False  False    False       False  False   \n",
       "1          False  False  False  False    False       False  False   \n",
       "2          False  False  False  False    False       False  False   \n",
       "3          False  False  False  False    False       False  False   \n",
       "4          False  False  False  False    False       False  False   \n",
       "...          ...    ...    ...    ...      ...         ...    ...   \n",
       "35544      False  False  False  False    False       False   True   \n",
       "35545      False  False  False  False    False       False   True   \n",
       "35546      False  False  False  False    False       False  False   \n",
       "35547      False  False  False  False    False       False  False   \n",
       "35548      False  False  False  False    False        True   True   \n",
       "\n",
       "       hindfoot_length  weight  \n",
       "0                False    True  \n",
       "1                False    True  \n",
       "2                False    True  \n",
       "3                False    True  \n",
       "4                False    True  \n",
       "...                ...     ...  \n",
       "35544             True    True  \n",
       "35545             True    True  \n",
       "35546            False   False  \n",
       "35547            False   False  \n",
       "35548             True    True  \n",
       "\n",
       "[35549 rows x 9 columns]"
      ]
     },
     "execution_count": 58,
     "metadata": {},
     "output_type": "execute_result"
    }
   ],
   "source": [
    "surveys_df.isna()"
   ]
  },
  {
   "cell_type": "markdown",
   "id": "62773ea7",
   "metadata": {
    "id": "62773ea7"
   },
   "source": [
    "Using `sum()` for `True` and `False` is a useful trick, `True` counts as 1, `False` as 0:"
   ]
  },
  {
   "cell_type": "code",
   "execution_count": 59,
   "id": "14e3f732",
   "metadata": {
    "id": "14e3f732",
    "outputId": "a3bd4324-2f6f-44f9-a2a1-88b53d0c407d"
   },
   "outputs": [
    {
     "data": {
      "text/plain": [
       "record_id             0\n",
       "month                 0\n",
       "day                   0\n",
       "year                  0\n",
       "plot_id               0\n",
       "species_id          763\n",
       "sex                2511\n",
       "hindfoot_length    4111\n",
       "weight             3266\n",
       "dtype: int64"
      ]
     },
     "execution_count": 59,
     "metadata": {},
     "output_type": "execute_result"
    }
   ],
   "source": [
    "surveys_df.isna().sum()"
   ]
  },
  {
   "cell_type": "markdown",
   "id": "ab35ae79",
   "metadata": {
    "id": "ab35ae79"
   },
   "source": [
    "We can also select rows where there is at least one `NaN`. You will remember that you can select rows using a condition. However, there is a problem that we have more than one of these rows - one for each column. But we can use `.any(axis=1)` to select rows where there is at least one `NaN`:"
   ]
  },
  {
   "cell_type": "code",
   "execution_count": 60,
   "id": "2e6e06f2",
   "metadata": {
    "id": "2e6e06f2",
    "outputId": "74c93ca4-ad03-4c0c-9663-d6592748057d"
   },
   "outputs": [
    {
     "data": {
      "text/html": [
       "<div>\n",
       "<style scoped>\n",
       "    .dataframe tbody tr th:only-of-type {\n",
       "        vertical-align: middle;\n",
       "    }\n",
       "\n",
       "    .dataframe tbody tr th {\n",
       "        vertical-align: top;\n",
       "    }\n",
       "\n",
       "    .dataframe thead th {\n",
       "        text-align: right;\n",
       "    }\n",
       "</style>\n",
       "<table border=\"1\" class=\"dataframe\">\n",
       "  <thead>\n",
       "    <tr style=\"text-align: right;\">\n",
       "      <th></th>\n",
       "      <th>record_id</th>\n",
       "      <th>month</th>\n",
       "      <th>day</th>\n",
       "      <th>year</th>\n",
       "      <th>plot_id</th>\n",
       "      <th>species_id</th>\n",
       "      <th>sex</th>\n",
       "      <th>hindfoot_length</th>\n",
       "      <th>weight</th>\n",
       "    </tr>\n",
       "  </thead>\n",
       "  <tbody>\n",
       "    <tr>\n",
       "      <th>6031</th>\n",
       "      <td>6032</td>\n",
       "      <td>6</td>\n",
       "      <td>28</td>\n",
       "      <td>1982</td>\n",
       "      <td>6</td>\n",
       "      <td>DM</td>\n",
       "      <td>M</td>\n",
       "      <td>NaN</td>\n",
       "      <td>49.0</td>\n",
       "    </tr>\n",
       "    <tr>\n",
       "      <th>27555</th>\n",
       "      <td>27556</td>\n",
       "      <td>3</td>\n",
       "      <td>1</td>\n",
       "      <td>1998</td>\n",
       "      <td>20</td>\n",
       "      <td>PM</td>\n",
       "      <td>F</td>\n",
       "      <td>21.0</td>\n",
       "      <td>NaN</td>\n",
       "    </tr>\n",
       "    <tr>\n",
       "      <th>19195</th>\n",
       "      <td>19196</td>\n",
       "      <td>10</td>\n",
       "      <td>11</td>\n",
       "      <td>1991</td>\n",
       "      <td>10</td>\n",
       "      <td>NaN</td>\n",
       "      <td>NaN</td>\n",
       "      <td>NaN</td>\n",
       "      <td>NaN</td>\n",
       "    </tr>\n",
       "    <tr>\n",
       "      <th>6213</th>\n",
       "      <td>6214</td>\n",
       "      <td>7</td>\n",
       "      <td>25</td>\n",
       "      <td>1982</td>\n",
       "      <td>6</td>\n",
       "      <td>PE</td>\n",
       "      <td>M</td>\n",
       "      <td>NaN</td>\n",
       "      <td>24.0</td>\n",
       "    </tr>\n",
       "    <tr>\n",
       "      <th>6225</th>\n",
       "      <td>6226</td>\n",
       "      <td>7</td>\n",
       "      <td>26</td>\n",
       "      <td>1982</td>\n",
       "      <td>12</td>\n",
       "      <td>DM</td>\n",
       "      <td>M</td>\n",
       "      <td>NaN</td>\n",
       "      <td>49.0</td>\n",
       "    </tr>\n",
       "  </tbody>\n",
       "</table>\n",
       "</div>"
      ],
      "text/plain": [
       "       record_id  month  day  year  plot_id species_id  sex  hindfoot_length  \\\n",
       "6031        6032      6   28  1982        6         DM    M              NaN   \n",
       "27555      27556      3    1  1998       20         PM    F             21.0   \n",
       "19195      19196     10   11  1991       10        NaN  NaN              NaN   \n",
       "6213        6214      7   25  1982        6         PE    M              NaN   \n",
       "6225        6226      7   26  1982       12         DM    M              NaN   \n",
       "\n",
       "       weight  \n",
       "6031     49.0  \n",
       "27555     NaN  \n",
       "19195     NaN  \n",
       "6213     24.0  \n",
       "6225     49.0  "
      ]
     },
     "execution_count": 60,
     "metadata": {},
     "output_type": "execute_result"
    }
   ],
   "source": [
    "surveys_df.loc[surveys_df.isna().any(axis=1)].sample(5)"
   ]
  },
  {
   "cell_type": "markdown",
   "id": "64509d53",
   "metadata": {
    "id": "64509d53"
   },
   "source": [
    "Number of non-missing values:"
   ]
  },
  {
   "cell_type": "code",
   "execution_count": 61,
   "id": "46f7f8ce",
   "metadata": {
    "id": "46f7f8ce",
    "outputId": "b3a91f37-0e70-4cf4-d20d-82f6ec4e2094"
   },
   "outputs": [
    {
     "data": {
      "text/plain": [
       "record_id          35549\n",
       "month              35549\n",
       "day                35549\n",
       "year               35549\n",
       "plot_id            35549\n",
       "species_id         34786\n",
       "sex                33038\n",
       "hindfoot_length    31438\n",
       "weight             32283\n",
       "dtype: int64"
      ]
     },
     "execution_count": 61,
     "metadata": {},
     "output_type": "execute_result"
    }
   ],
   "source": [
    "surveys_df.count()"
   ]
  },
  {
   "cell_type": "markdown",
   "id": "4d079e72",
   "metadata": {
    "id": "4d079e72"
   },
   "source": [
    "In general, we have three basic options what to do with missing values.\n",
    "\n",
    "Do nothing, i.e. leave the missing data missing. This is, perhaps surprisingly, often a good choice, as many functions will handle missing data correctly. This is different from numpy, where functions typically don't like `NaN`.\n",
    "\n",
    "Remove rows with missing records. This is what the `dropna` method is for.\n",
    "\n",
    "Replace the missing data with some suitable value. What the appropriate values are depends on the nature of the data and what we want to do with the data. Sometimes it is appropriate to replace missing values with some \"typical\" value, such as an average. For time series, it is usually more logical to replace with a neighborhood value (previous or next). You can read about imputation at https://scikit-learn.org/stable/modules/impute.html and maybe learn more later. The `fillna` method is used to replace values by a defined value or by neighboring values."
   ]
  },
  {
   "cell_type": "code",
   "execution_count": 62,
   "id": "2169b9f8",
   "metadata": {
    "id": "2169b9f8",
    "outputId": "ed6bbfe8-421a-4a38-c924-a7c9814714ec"
   },
   "outputs": [
    {
     "data": {
      "text/html": [
       "<div>\n",
       "<style scoped>\n",
       "    .dataframe tbody tr th:only-of-type {\n",
       "        vertical-align: middle;\n",
       "    }\n",
       "\n",
       "    .dataframe tbody tr th {\n",
       "        vertical-align: top;\n",
       "    }\n",
       "\n",
       "    .dataframe thead th {\n",
       "        text-align: right;\n",
       "    }\n",
       "</style>\n",
       "<table border=\"1\" class=\"dataframe\">\n",
       "  <thead>\n",
       "    <tr style=\"text-align: right;\">\n",
       "      <th></th>\n",
       "      <th>A</th>\n",
       "      <th>B</th>\n",
       "    </tr>\n",
       "  </thead>\n",
       "  <tbody>\n",
       "    <tr>\n",
       "      <th>0</th>\n",
       "      <td>1</td>\n",
       "      <td>1</td>\n",
       "    </tr>\n",
       "    <tr>\n",
       "      <th>1</th>\n",
       "      <td>2</td>\n",
       "      <td>2</td>\n",
       "    </tr>\n",
       "    <tr>\n",
       "      <th>2</th>\n",
       "      <td>&lt;NA&gt;</td>\n",
       "      <td>3</td>\n",
       "    </tr>\n",
       "    <tr>\n",
       "      <th>3</th>\n",
       "      <td>4</td>\n",
       "      <td>&lt;NA&gt;</td>\n",
       "    </tr>\n",
       "    <tr>\n",
       "      <th>4</th>\n",
       "      <td>5</td>\n",
       "      <td>5</td>\n",
       "    </tr>\n",
       "  </tbody>\n",
       "</table>\n",
       "</div>"
      ],
      "text/plain": [
       "      A     B\n",
       "0     1     1\n",
       "1     2     2\n",
       "2  <NA>     3\n",
       "3     4  <NA>\n",
       "4     5     5"
      ]
     },
     "execution_count": 62,
     "metadata": {},
     "output_type": "execute_result"
    }
   ],
   "source": [
    "example_with_nan = pd.DataFrame({\"A\": [1, 2, pd.NA, 4, 5], \"B\": [1, 2, 3, pd.NA, 5]})\n",
    "example_with_nan"
   ]
  },
  {
   "cell_type": "code",
   "execution_count": 63,
   "id": "6b34ab8c",
   "metadata": {
    "id": "6b34ab8c",
    "outputId": "2d4dc9c9-ec6b-4f53-ece1-0a5bed236210"
   },
   "outputs": [
    {
     "data": {
      "text/html": [
       "<div>\n",
       "<style scoped>\n",
       "    .dataframe tbody tr th:only-of-type {\n",
       "        vertical-align: middle;\n",
       "    }\n",
       "\n",
       "    .dataframe tbody tr th {\n",
       "        vertical-align: top;\n",
       "    }\n",
       "\n",
       "    .dataframe thead th {\n",
       "        text-align: right;\n",
       "    }\n",
       "</style>\n",
       "<table border=\"1\" class=\"dataframe\">\n",
       "  <thead>\n",
       "    <tr style=\"text-align: right;\">\n",
       "      <th></th>\n",
       "      <th>A</th>\n",
       "      <th>B</th>\n",
       "    </tr>\n",
       "  </thead>\n",
       "  <tbody>\n",
       "    <tr>\n",
       "      <th>0</th>\n",
       "      <td>1</td>\n",
       "      <td>1</td>\n",
       "    </tr>\n",
       "    <tr>\n",
       "      <th>1</th>\n",
       "      <td>2</td>\n",
       "      <td>2</td>\n",
       "    </tr>\n",
       "    <tr>\n",
       "      <th>4</th>\n",
       "      <td>5</td>\n",
       "      <td>5</td>\n",
       "    </tr>\n",
       "  </tbody>\n",
       "</table>\n",
       "</div>"
      ],
      "text/plain": [
       "   A  B\n",
       "0  1  1\n",
       "1  2  2\n",
       "4  5  5"
      ]
     },
     "execution_count": 63,
     "metadata": {},
     "output_type": "execute_result"
    }
   ],
   "source": [
    "example_with_nan.dropna()"
   ]
  },
  {
   "cell_type": "markdown",
   "id": "f9f4db9e",
   "metadata": {
    "id": "f9f4db9e"
   },
   "source": [
    "## Basic stats"
   ]
  },
  {
   "cell_type": "code",
   "execution_count": 64,
   "id": "528b4669",
   "metadata": {
    "id": "528b4669",
    "outputId": "0a68a28c-8ef3-442d-b630-bea045a2555c"
   },
   "outputs": [
    {
     "data": {
      "text/html": [
       "<div>\n",
       "<style scoped>\n",
       "    .dataframe tbody tr th:only-of-type {\n",
       "        vertical-align: middle;\n",
       "    }\n",
       "\n",
       "    .dataframe tbody tr th {\n",
       "        vertical-align: top;\n",
       "    }\n",
       "\n",
       "    .dataframe thead th {\n",
       "        text-align: right;\n",
       "    }\n",
       "</style>\n",
       "<table border=\"1\" class=\"dataframe\">\n",
       "  <thead>\n",
       "    <tr style=\"text-align: right;\">\n",
       "      <th></th>\n",
       "      <th>record_id</th>\n",
       "      <th>month</th>\n",
       "      <th>day</th>\n",
       "      <th>year</th>\n",
       "      <th>plot_id</th>\n",
       "      <th>hindfoot_length</th>\n",
       "      <th>weight</th>\n",
       "    </tr>\n",
       "  </thead>\n",
       "  <tbody>\n",
       "    <tr>\n",
       "      <th>count</th>\n",
       "      <td>35549.000000</td>\n",
       "      <td>35549.000000</td>\n",
       "      <td>35549.000000</td>\n",
       "      <td>35549.000000</td>\n",
       "      <td>35549.000000</td>\n",
       "      <td>31438.000000</td>\n",
       "      <td>32283.000000</td>\n",
       "    </tr>\n",
       "    <tr>\n",
       "      <th>mean</th>\n",
       "      <td>17775.000000</td>\n",
       "      <td>6.474022</td>\n",
       "      <td>16.105966</td>\n",
       "      <td>1990.475231</td>\n",
       "      <td>11.397001</td>\n",
       "      <td>29.287932</td>\n",
       "      <td>42.672428</td>\n",
       "    </tr>\n",
       "    <tr>\n",
       "      <th>std</th>\n",
       "      <td>10262.256696</td>\n",
       "      <td>3.396583</td>\n",
       "      <td>8.256691</td>\n",
       "      <td>7.493355</td>\n",
       "      <td>6.799406</td>\n",
       "      <td>9.564759</td>\n",
       "      <td>36.631259</td>\n",
       "    </tr>\n",
       "    <tr>\n",
       "      <th>min</th>\n",
       "      <td>1.000000</td>\n",
       "      <td>1.000000</td>\n",
       "      <td>1.000000</td>\n",
       "      <td>1977.000000</td>\n",
       "      <td>1.000000</td>\n",
       "      <td>2.000000</td>\n",
       "      <td>4.000000</td>\n",
       "    </tr>\n",
       "    <tr>\n",
       "      <th>25%</th>\n",
       "      <td>8888.000000</td>\n",
       "      <td>4.000000</td>\n",
       "      <td>9.000000</td>\n",
       "      <td>1984.000000</td>\n",
       "      <td>5.000000</td>\n",
       "      <td>21.000000</td>\n",
       "      <td>20.000000</td>\n",
       "    </tr>\n",
       "    <tr>\n",
       "      <th>50%</th>\n",
       "      <td>17775.000000</td>\n",
       "      <td>6.000000</td>\n",
       "      <td>16.000000</td>\n",
       "      <td>1990.000000</td>\n",
       "      <td>11.000000</td>\n",
       "      <td>32.000000</td>\n",
       "      <td>37.000000</td>\n",
       "    </tr>\n",
       "    <tr>\n",
       "      <th>75%</th>\n",
       "      <td>26662.000000</td>\n",
       "      <td>9.000000</td>\n",
       "      <td>23.000000</td>\n",
       "      <td>1997.000000</td>\n",
       "      <td>17.000000</td>\n",
       "      <td>36.000000</td>\n",
       "      <td>48.000000</td>\n",
       "    </tr>\n",
       "    <tr>\n",
       "      <th>max</th>\n",
       "      <td>35549.000000</td>\n",
       "      <td>12.000000</td>\n",
       "      <td>31.000000</td>\n",
       "      <td>2002.000000</td>\n",
       "      <td>24.000000</td>\n",
       "      <td>70.000000</td>\n",
       "      <td>280.000000</td>\n",
       "    </tr>\n",
       "  </tbody>\n",
       "</table>\n",
       "</div>"
      ],
      "text/plain": [
       "          record_id         month           day          year       plot_id  \\\n",
       "count  35549.000000  35549.000000  35549.000000  35549.000000  35549.000000   \n",
       "mean   17775.000000      6.474022     16.105966   1990.475231     11.397001   \n",
       "std    10262.256696      3.396583      8.256691      7.493355      6.799406   \n",
       "min        1.000000      1.000000      1.000000   1977.000000      1.000000   \n",
       "25%     8888.000000      4.000000      9.000000   1984.000000      5.000000   \n",
       "50%    17775.000000      6.000000     16.000000   1990.000000     11.000000   \n",
       "75%    26662.000000      9.000000     23.000000   1997.000000     17.000000   \n",
       "max    35549.000000     12.000000     31.000000   2002.000000     24.000000   \n",
       "\n",
       "       hindfoot_length        weight  \n",
       "count     31438.000000  32283.000000  \n",
       "mean         29.287932     42.672428  \n",
       "std           9.564759     36.631259  \n",
       "min           2.000000      4.000000  \n",
       "25%          21.000000     20.000000  \n",
       "50%          32.000000     37.000000  \n",
       "75%          36.000000     48.000000  \n",
       "max          70.000000    280.000000  "
      ]
     },
     "execution_count": 64,
     "metadata": {},
     "output_type": "execute_result"
    }
   ],
   "source": [
    "surveys_df.describe()"
   ]
  },
  {
   "cell_type": "markdown",
   "id": "0073349a",
   "metadata": {
    "id": "0073349a"
   },
   "source": [
    "For each column we see several summary (statistical data).\n",
    "\n",
    "- `count` indicates the number of values.\n",
    "- `mean` is the mean value, calculated as an arithmetic average.\n",
    "- `std` is the standard deviation, which shows the variance of the data - how much we can expect the data in the set to differ from the mean.\n",
    "- `min` and `max` are the smallest and largest values in the column.\n",
    "- Percentages indicate quantiles, `25%` and `75%` are the first and third \"quartile\" values. If we sort the column by size, a quarter of the data will be smaller than the first quartile value and a quarter of the data will be larger than the third quartile value.\n",
    "- The `50%` is referred to as the median - half of the data is less than the median (and the other half, of course, is again greater than the median).\n"
   ]
  },
  {
   "cell_type": "code",
   "execution_count": 65,
   "id": "805ebc90",
   "metadata": {
    "id": "805ebc90",
    "outputId": "eeee53a3-d0fd-4cd0-e617-2c081f7f844e"
   },
   "outputs": [
    {
     "data": {
      "text/html": [
       "<div>\n",
       "<style scoped>\n",
       "    .dataframe tbody tr th:only-of-type {\n",
       "        vertical-align: middle;\n",
       "    }\n",
       "\n",
       "    .dataframe tbody tr th {\n",
       "        vertical-align: top;\n",
       "    }\n",
       "\n",
       "    .dataframe thead th {\n",
       "        text-align: right;\n",
       "    }\n",
       "</style>\n",
       "<table border=\"1\" class=\"dataframe\">\n",
       "  <thead>\n",
       "    <tr style=\"text-align: right;\">\n",
       "      <th></th>\n",
       "      <th>record_id</th>\n",
       "      <th>month</th>\n",
       "      <th>day</th>\n",
       "      <th>year</th>\n",
       "      <th>plot_id</th>\n",
       "      <th>hindfoot_length</th>\n",
       "      <th>weight</th>\n",
       "    </tr>\n",
       "  </thead>\n",
       "  <tbody>\n",
       "    <tr>\n",
       "      <th>count</th>\n",
       "      <td>1311.000000</td>\n",
       "      <td>1311.000000</td>\n",
       "      <td>1311.000000</td>\n",
       "      <td>1311.0</td>\n",
       "      <td>1311.000000</td>\n",
       "      <td>1155.000000</td>\n",
       "      <td>1209.000000</td>\n",
       "    </tr>\n",
       "    <tr>\n",
       "      <th>mean</th>\n",
       "      <td>17534.000000</td>\n",
       "      <td>5.699466</td>\n",
       "      <td>20.770404</td>\n",
       "      <td>1990.0</td>\n",
       "      <td>10.594966</td>\n",
       "      <td>28.408658</td>\n",
       "      <td>35.483044</td>\n",
       "    </tr>\n",
       "    <tr>\n",
       "      <th>std</th>\n",
       "      <td>378.597412</td>\n",
       "      <td>3.783006</td>\n",
       "      <td>7.008059</td>\n",
       "      <td>0.0</td>\n",
       "      <td>6.447079</td>\n",
       "      <td>9.311903</td>\n",
       "      <td>27.764739</td>\n",
       "    </tr>\n",
       "    <tr>\n",
       "      <th>min</th>\n",
       "      <td>16879.000000</td>\n",
       "      <td>1.000000</td>\n",
       "      <td>6.000000</td>\n",
       "      <td>1990.0</td>\n",
       "      <td>1.000000</td>\n",
       "      <td>13.000000</td>\n",
       "      <td>6.000000</td>\n",
       "    </tr>\n",
       "    <tr>\n",
       "      <th>25%</th>\n",
       "      <td>17206.500000</td>\n",
       "      <td>2.000000</td>\n",
       "      <td>16.000000</td>\n",
       "      <td>1990.0</td>\n",
       "      <td>4.000000</td>\n",
       "      <td>18.000000</td>\n",
       "      <td>14.000000</td>\n",
       "    </tr>\n",
       "    <tr>\n",
       "      <th>50%</th>\n",
       "      <td>17534.000000</td>\n",
       "      <td>5.000000</td>\n",
       "      <td>22.000000</td>\n",
       "      <td>1990.0</td>\n",
       "      <td>10.000000</td>\n",
       "      <td>34.000000</td>\n",
       "      <td>37.000000</td>\n",
       "    </tr>\n",
       "    <tr>\n",
       "      <th>75%</th>\n",
       "      <td>17861.500000</td>\n",
       "      <td>9.000000</td>\n",
       "      <td>25.000000</td>\n",
       "      <td>1990.0</td>\n",
       "      <td>15.000000</td>\n",
       "      <td>37.000000</td>\n",
       "      <td>46.000000</td>\n",
       "    </tr>\n",
       "    <tr>\n",
       "      <th>max</th>\n",
       "      <td>18189.000000</td>\n",
       "      <td>12.000000</td>\n",
       "      <td>30.000000</td>\n",
       "      <td>1990.0</td>\n",
       "      <td>24.000000</td>\n",
       "      <td>55.000000</td>\n",
       "      <td>243.000000</td>\n",
       "    </tr>\n",
       "  </tbody>\n",
       "</table>\n",
       "</div>"
      ],
      "text/plain": [
       "          record_id        month          day    year      plot_id  \\\n",
       "count   1311.000000  1311.000000  1311.000000  1311.0  1311.000000   \n",
       "mean   17534.000000     5.699466    20.770404  1990.0    10.594966   \n",
       "std      378.597412     3.783006     7.008059     0.0     6.447079   \n",
       "min    16879.000000     1.000000     6.000000  1990.0     1.000000   \n",
       "25%    17206.500000     2.000000    16.000000  1990.0     4.000000   \n",
       "50%    17534.000000     5.000000    22.000000  1990.0    10.000000   \n",
       "75%    17861.500000     9.000000    25.000000  1990.0    15.000000   \n",
       "max    18189.000000    12.000000    30.000000  1990.0    24.000000   \n",
       "\n",
       "       hindfoot_length       weight  \n",
       "count      1155.000000  1209.000000  \n",
       "mean         28.408658    35.483044  \n",
       "std           9.311903    27.764739  \n",
       "min          13.000000     6.000000  \n",
       "25%          18.000000    14.000000  \n",
       "50%          34.000000    37.000000  \n",
       "75%          37.000000    46.000000  \n",
       "max          55.000000   243.000000  "
      ]
     },
     "execution_count": 65,
     "metadata": {},
     "output_type": "execute_result"
    }
   ],
   "source": [
    "surveys_df[surveys_df[\"year\"] == 1990].describe()  # we can use describe on a subset of data"
   ]
  },
  {
   "cell_type": "markdown",
   "id": "ac857ced",
   "metadata": {
    "id": "ac857ced"
   },
   "source": [
    "## Groups in Pandas\n",
    "\n",
    "One of the basic procedures in data analysis is to divide the data into groups, apply some operation to each group and finally combine the results into a suitable dataset. This procedure is referred to as split-apply-combine. Groups are often defined by some (categorical) variable, e.g., it could be color, gender, or continent. However, groups can also be created by inference, e.g., using range or time series properties. "
   ]
  },
  {
   "cell_type": "markdown",
   "id": "c60f9102",
   "metadata": {
    "id": "c60f9102"
   },
   "source": [
    "#### 1: Split\n",
    "To divide the data into groups, `groupby` method is used in Pandas. The simplest and perhaps most common use is to group by an existing column in the table."
   ]
  },
  {
   "cell_type": "code",
   "execution_count": 66,
   "id": "646a49fc",
   "metadata": {
    "id": "646a49fc",
    "outputId": "b2ba0a36-8d5a-4bdb-a309-cd9762269b59"
   },
   "outputs": [
    {
     "data": {
      "text/plain": [
       "<pandas.core.groupby.generic.DataFrameGroupBy object at 0x7fa0501f8640>"
      ]
     },
     "execution_count": 66,
     "metadata": {},
     "output_type": "execute_result"
    }
   ],
   "source": [
    "surveys_by_sex = surveys_df.groupby(\"sex\")\n",
    "surveys_by_sex"
   ]
  },
  {
   "cell_type": "markdown",
   "id": "3162bbcc",
   "metadata": {
    "id": "3162bbcc"
   },
   "source": [
    "#### 2 + 3: Apply + Combine\n",
    "We need to specify what to do with the created groups"
   ]
  },
  {
   "cell_type": "code",
   "execution_count": 67,
   "id": "ede9f453",
   "metadata": {
    "id": "ede9f453",
    "outputId": "8737915e-5d4b-4ea0-c04a-61f741667579"
   },
   "outputs": [
    {
     "data": {
      "text/html": [
       "<div>\n",
       "<style scoped>\n",
       "    .dataframe tbody tr th:only-of-type {\n",
       "        vertical-align: middle;\n",
       "    }\n",
       "\n",
       "    .dataframe tbody tr th {\n",
       "        vertical-align: top;\n",
       "    }\n",
       "\n",
       "    .dataframe thead th {\n",
       "        text-align: right;\n",
       "    }\n",
       "</style>\n",
       "<table border=\"1\" class=\"dataframe\">\n",
       "  <thead>\n",
       "    <tr style=\"text-align: right;\">\n",
       "      <th></th>\n",
       "      <th>record_id</th>\n",
       "      <th>month</th>\n",
       "      <th>day</th>\n",
       "      <th>year</th>\n",
       "      <th>plot_id</th>\n",
       "      <th>species_id</th>\n",
       "      <th>hindfoot_length</th>\n",
       "      <th>weight</th>\n",
       "    </tr>\n",
       "    <tr>\n",
       "      <th>sex</th>\n",
       "      <th></th>\n",
       "      <th></th>\n",
       "      <th></th>\n",
       "      <th></th>\n",
       "      <th></th>\n",
       "      <th></th>\n",
       "      <th></th>\n",
       "      <th></th>\n",
       "    </tr>\n",
       "  </thead>\n",
       "  <tbody>\n",
       "    <tr>\n",
       "      <th>F</th>\n",
       "      <td>15690</td>\n",
       "      <td>15690</td>\n",
       "      <td>15690</td>\n",
       "      <td>15690</td>\n",
       "      <td>15690</td>\n",
       "      <td>15690</td>\n",
       "      <td>14894</td>\n",
       "      <td>15303</td>\n",
       "    </tr>\n",
       "    <tr>\n",
       "      <th>M</th>\n",
       "      <td>17348</td>\n",
       "      <td>17348</td>\n",
       "      <td>17348</td>\n",
       "      <td>17348</td>\n",
       "      <td>17348</td>\n",
       "      <td>17348</td>\n",
       "      <td>16476</td>\n",
       "      <td>16879</td>\n",
       "    </tr>\n",
       "  </tbody>\n",
       "</table>\n",
       "</div>"
      ],
      "text/plain": [
       "     record_id  month    day   year  plot_id  species_id  hindfoot_length  \\\n",
       "sex                                                                         \n",
       "F        15690  15690  15690  15690    15690       15690            14894   \n",
       "M        17348  17348  17348  17348    17348       17348            16476   \n",
       "\n",
       "     weight  \n",
       "sex          \n",
       "F     15303  \n",
       "M     16879  "
      ]
     },
     "execution_count": 67,
     "metadata": {},
     "output_type": "execute_result"
    }
   ],
   "source": [
    "surveys_by_sex.count()  # number of values"
   ]
  },
  {
   "cell_type": "code",
   "execution_count": 68,
   "id": "0094bb44",
   "metadata": {
    "id": "0094bb44",
    "outputId": "612e9439-637f-431b-aea2-d0bd40323de2"
   },
   "outputs": [
    {
     "data": {
      "text/plain": [
       "sex\n",
       "F    15690\n",
       "M    17348\n",
       "dtype: int64"
      ]
     },
     "execution_count": 68,
     "metadata": {},
     "output_type": "execute_result"
    }
   ],
   "source": [
    "surveys_by_sex.size()  # size of each group"
   ]
  },
  {
   "cell_type": "markdown",
   "id": "b75dc936",
   "metadata": {
    "id": "b75dc936"
   },
   "source": [
    "**Your turn:**\n",
    "Divide the data by species_id and print number of records in each group.\n",
    "Can you order the groups by their size?"
   ]
  },
  {
   "cell_type": "code",
   "execution_count": null,
   "id": "ace8019b",
   "metadata": {
    "id": "ace8019b"
   },
   "outputs": [],
   "source": []
  },
  {
   "cell_type": "code",
   "execution_count": 69,
   "id": "c01f857f",
   "metadata": {
    "id": "c01f857f",
    "outputId": "f770d913-9a49-4d8e-bdea-4bc4408ae2ef"
   },
   "outputs": [
    {
     "data": {
      "text/html": [
       "<div>\n",
       "<style scoped>\n",
       "    .dataframe tbody tr th:only-of-type {\n",
       "        vertical-align: middle;\n",
       "    }\n",
       "\n",
       "    .dataframe tbody tr th {\n",
       "        vertical-align: top;\n",
       "    }\n",
       "\n",
       "    .dataframe thead th {\n",
       "        text-align: right;\n",
       "    }\n",
       "</style>\n",
       "<table border=\"1\" class=\"dataframe\">\n",
       "  <thead>\n",
       "    <tr style=\"text-align: right;\">\n",
       "      <th></th>\n",
       "      <th></th>\n",
       "      <th>record_id</th>\n",
       "      <th>month</th>\n",
       "      <th>day</th>\n",
       "      <th>year</th>\n",
       "      <th>plot_id</th>\n",
       "      <th>hindfoot_length</th>\n",
       "      <th>weight</th>\n",
       "    </tr>\n",
       "    <tr>\n",
       "      <th>species_id</th>\n",
       "      <th>sex</th>\n",
       "      <th></th>\n",
       "      <th></th>\n",
       "      <th></th>\n",
       "      <th></th>\n",
       "      <th></th>\n",
       "      <th></th>\n",
       "      <th></th>\n",
       "    </tr>\n",
       "  </thead>\n",
       "  <tbody>\n",
       "    <tr>\n",
       "      <th>AH</th>\n",
       "      <th>M</th>\n",
       "      <td>1</td>\n",
       "      <td>1</td>\n",
       "      <td>1</td>\n",
       "      <td>1</td>\n",
       "      <td>1</td>\n",
       "      <td>0</td>\n",
       "      <td>0</td>\n",
       "    </tr>\n",
       "    <tr>\n",
       "      <th rowspan=\"2\" valign=\"top\">BA</th>\n",
       "      <th>F</th>\n",
       "      <td>31</td>\n",
       "      <td>31</td>\n",
       "      <td>31</td>\n",
       "      <td>31</td>\n",
       "      <td>31</td>\n",
       "      <td>31</td>\n",
       "      <td>31</td>\n",
       "    </tr>\n",
       "    <tr>\n",
       "      <th>M</th>\n",
       "      <td>14</td>\n",
       "      <td>14</td>\n",
       "      <td>14</td>\n",
       "      <td>14</td>\n",
       "      <td>14</td>\n",
       "      <td>14</td>\n",
       "      <td>14</td>\n",
       "    </tr>\n",
       "    <tr>\n",
       "      <th rowspan=\"2\" valign=\"top\">DM</th>\n",
       "      <th>F</th>\n",
       "      <td>4554</td>\n",
       "      <td>4554</td>\n",
       "      <td>4554</td>\n",
       "      <td>4554</td>\n",
       "      <td>4554</td>\n",
       "      <td>4302</td>\n",
       "      <td>4440</td>\n",
       "    </tr>\n",
       "    <tr>\n",
       "      <th>M</th>\n",
       "      <td>5969</td>\n",
       "      <td>5969</td>\n",
       "      <td>5969</td>\n",
       "      <td>5969</td>\n",
       "      <td>5969</td>\n",
       "      <td>5658</td>\n",
       "      <td>5808</td>\n",
       "    </tr>\n",
       "  </tbody>\n",
       "</table>\n",
       "</div>"
      ],
      "text/plain": [
       "                record_id  month   day  year  plot_id  hindfoot_length  weight\n",
       "species_id sex                                                                \n",
       "AH         M            1      1     1     1        1                0       0\n",
       "BA         F           31     31    31    31       31               31      31\n",
       "           M           14     14    14    14       14               14      14\n",
       "DM         F         4554   4554  4554  4554     4554             4302    4440\n",
       "           M         5969   5969  5969  5969     5969             5658    5808"
      ]
     },
     "execution_count": 69,
     "metadata": {},
     "output_type": "execute_result"
    }
   ],
   "source": [
    "surveys_by_species_and_sex_count = surveys_df.groupby([\"species_id\", \"sex\"]).count()\n",
    "surveys_by_species_and_sex_count.head()"
   ]
  },
  {
   "cell_type": "code",
   "execution_count": 70,
   "id": "4bdb2139",
   "metadata": {
    "id": "4bdb2139",
    "outputId": "cc359988-9b21-47fd-a657-4330f27966db"
   },
   "outputs": [
    {
     "data": {
      "text/plain": [
       "MultiIndex([('AH', 'M'),\n",
       "            ('BA', 'F'),\n",
       "            ('BA', 'M'),\n",
       "            ('DM', 'F'),\n",
       "            ('DM', 'M')],\n",
       "           names=['species_id', 'sex'])"
      ]
     },
     "execution_count": 70,
     "metadata": {},
     "output_type": "execute_result"
    }
   ],
   "source": [
    "surveys_by_species_and_sex_count.index[:5]"
   ]
  },
  {
   "cell_type": "markdown",
   "id": "7de33ffb",
   "metadata": {
    "id": "7de33ffb"
   },
   "source": [
    "The created groups are defined by the pair of values `species_id` and `sex`, that's why `MultiIndex` is used. In this course, we are not going cover `MultiIndex`, if you want to learn more about MultiIndex, check the documentation: https://pandas.pydata.org/pandas-docs/stable/user_guide/advanced.html\n",
    "\n",
    "To remove `MultiIndex`, we can use `.reset_index()` or use `groupby` with `as_index=False`"
   ]
  },
  {
   "cell_type": "code",
   "execution_count": 71,
   "id": "260c2a21",
   "metadata": {
    "id": "260c2a21",
    "outputId": "3e916879-f5ad-483b-9d67-740a40b175e2"
   },
   "outputs": [
    {
     "data": {
      "text/html": [
       "<div>\n",
       "<style scoped>\n",
       "    .dataframe tbody tr th:only-of-type {\n",
       "        vertical-align: middle;\n",
       "    }\n",
       "\n",
       "    .dataframe tbody tr th {\n",
       "        vertical-align: top;\n",
       "    }\n",
       "\n",
       "    .dataframe thead th {\n",
       "        text-align: right;\n",
       "    }\n",
       "</style>\n",
       "<table border=\"1\" class=\"dataframe\">\n",
       "  <thead>\n",
       "    <tr style=\"text-align: right;\">\n",
       "      <th></th>\n",
       "      <th>species_id</th>\n",
       "      <th>sex</th>\n",
       "      <th>record_id</th>\n",
       "      <th>month</th>\n",
       "      <th>day</th>\n",
       "      <th>year</th>\n",
       "      <th>plot_id</th>\n",
       "      <th>hindfoot_length</th>\n",
       "      <th>weight</th>\n",
       "    </tr>\n",
       "  </thead>\n",
       "  <tbody>\n",
       "    <tr>\n",
       "      <th>0</th>\n",
       "      <td>AH</td>\n",
       "      <td>M</td>\n",
       "      <td>1</td>\n",
       "      <td>1</td>\n",
       "      <td>1</td>\n",
       "      <td>1</td>\n",
       "      <td>1</td>\n",
       "      <td>0</td>\n",
       "      <td>0</td>\n",
       "    </tr>\n",
       "    <tr>\n",
       "      <th>1</th>\n",
       "      <td>BA</td>\n",
       "      <td>F</td>\n",
       "      <td>31</td>\n",
       "      <td>31</td>\n",
       "      <td>31</td>\n",
       "      <td>31</td>\n",
       "      <td>31</td>\n",
       "      <td>31</td>\n",
       "      <td>31</td>\n",
       "    </tr>\n",
       "    <tr>\n",
       "      <th>2</th>\n",
       "      <td>BA</td>\n",
       "      <td>M</td>\n",
       "      <td>14</td>\n",
       "      <td>14</td>\n",
       "      <td>14</td>\n",
       "      <td>14</td>\n",
       "      <td>14</td>\n",
       "      <td>14</td>\n",
       "      <td>14</td>\n",
       "    </tr>\n",
       "    <tr>\n",
       "      <th>3</th>\n",
       "      <td>DM</td>\n",
       "      <td>F</td>\n",
       "      <td>4554</td>\n",
       "      <td>4554</td>\n",
       "      <td>4554</td>\n",
       "      <td>4554</td>\n",
       "      <td>4554</td>\n",
       "      <td>4302</td>\n",
       "      <td>4440</td>\n",
       "    </tr>\n",
       "    <tr>\n",
       "      <th>4</th>\n",
       "      <td>DM</td>\n",
       "      <td>M</td>\n",
       "      <td>5969</td>\n",
       "      <td>5969</td>\n",
       "      <td>5969</td>\n",
       "      <td>5969</td>\n",
       "      <td>5969</td>\n",
       "      <td>5658</td>\n",
       "      <td>5808</td>\n",
       "    </tr>\n",
       "  </tbody>\n",
       "</table>\n",
       "</div>"
      ],
      "text/plain": [
       "  species_id sex  record_id  month   day  year  plot_id  hindfoot_length  \\\n",
       "0         AH   M          1      1     1     1        1                0   \n",
       "1         BA   F         31     31    31    31       31               31   \n",
       "2         BA   M         14     14    14    14       14               14   \n",
       "3         DM   F       4554   4554  4554  4554     4554             4302   \n",
       "4         DM   M       5969   5969  5969  5969     5969             5658   \n",
       "\n",
       "   weight  \n",
       "0       0  \n",
       "1      31  \n",
       "2      14  \n",
       "3    4440  \n",
       "4    5808  "
      ]
     },
     "execution_count": 71,
     "metadata": {},
     "output_type": "execute_result"
    }
   ],
   "source": [
    "surveys_by_species_and_sex_count.reset_index().head()"
   ]
  },
  {
   "cell_type": "code",
   "execution_count": 72,
   "id": "5b539050",
   "metadata": {
    "id": "5b539050",
    "outputId": "b4f05e6d-961a-42d0-e108-4222ab1e6eba"
   },
   "outputs": [
    {
     "data": {
      "text/html": [
       "<div>\n",
       "<style scoped>\n",
       "    .dataframe tbody tr th:only-of-type {\n",
       "        vertical-align: middle;\n",
       "    }\n",
       "\n",
       "    .dataframe tbody tr th {\n",
       "        vertical-align: top;\n",
       "    }\n",
       "\n",
       "    .dataframe thead th {\n",
       "        text-align: right;\n",
       "    }\n",
       "</style>\n",
       "<table border=\"1\" class=\"dataframe\">\n",
       "  <thead>\n",
       "    <tr style=\"text-align: right;\">\n",
       "      <th></th>\n",
       "      <th>species_id</th>\n",
       "      <th>sex</th>\n",
       "      <th>record_id</th>\n",
       "      <th>month</th>\n",
       "      <th>day</th>\n",
       "      <th>year</th>\n",
       "      <th>plot_id</th>\n",
       "      <th>hindfoot_length</th>\n",
       "      <th>weight</th>\n",
       "    </tr>\n",
       "  </thead>\n",
       "  <tbody>\n",
       "    <tr>\n",
       "      <th>0</th>\n",
       "      <td>AH</td>\n",
       "      <td>M</td>\n",
       "      <td>1</td>\n",
       "      <td>1</td>\n",
       "      <td>1</td>\n",
       "      <td>1</td>\n",
       "      <td>1</td>\n",
       "      <td>0</td>\n",
       "      <td>0</td>\n",
       "    </tr>\n",
       "    <tr>\n",
       "      <th>1</th>\n",
       "      <td>BA</td>\n",
       "      <td>F</td>\n",
       "      <td>31</td>\n",
       "      <td>31</td>\n",
       "      <td>31</td>\n",
       "      <td>31</td>\n",
       "      <td>31</td>\n",
       "      <td>31</td>\n",
       "      <td>31</td>\n",
       "    </tr>\n",
       "    <tr>\n",
       "      <th>2</th>\n",
       "      <td>BA</td>\n",
       "      <td>M</td>\n",
       "      <td>14</td>\n",
       "      <td>14</td>\n",
       "      <td>14</td>\n",
       "      <td>14</td>\n",
       "      <td>14</td>\n",
       "      <td>14</td>\n",
       "      <td>14</td>\n",
       "    </tr>\n",
       "    <tr>\n",
       "      <th>3</th>\n",
       "      <td>DM</td>\n",
       "      <td>F</td>\n",
       "      <td>4554</td>\n",
       "      <td>4554</td>\n",
       "      <td>4554</td>\n",
       "      <td>4554</td>\n",
       "      <td>4554</td>\n",
       "      <td>4302</td>\n",
       "      <td>4440</td>\n",
       "    </tr>\n",
       "    <tr>\n",
       "      <th>4</th>\n",
       "      <td>DM</td>\n",
       "      <td>M</td>\n",
       "      <td>5969</td>\n",
       "      <td>5969</td>\n",
       "      <td>5969</td>\n",
       "      <td>5969</td>\n",
       "      <td>5969</td>\n",
       "      <td>5658</td>\n",
       "      <td>5808</td>\n",
       "    </tr>\n",
       "  </tbody>\n",
       "</table>\n",
       "</div>"
      ],
      "text/plain": [
       "  species_id sex  record_id  month   day  year  plot_id  hindfoot_length  \\\n",
       "0         AH   M          1      1     1     1        1                0   \n",
       "1         BA   F         31     31    31    31       31               31   \n",
       "2         BA   M         14     14    14    14       14               14   \n",
       "3         DM   F       4554   4554  4554  4554     4554             4302   \n",
       "4         DM   M       5969   5969  5969  5969     5969             5658   \n",
       "\n",
       "   weight  \n",
       "0       0  \n",
       "1      31  \n",
       "2      14  \n",
       "3    4440  \n",
       "4    5808  "
      ]
     },
     "execution_count": 72,
     "metadata": {},
     "output_type": "execute_result"
    }
   ],
   "source": [
    "surveys_df.groupby([\"species_id\", \"sex\"], as_index=False).count().head()"
   ]
  },
  {
   "cell_type": "markdown",
   "id": "9832b946",
   "metadata": {
    "id": "9832b946"
   },
   "source": [
    "#### Another use of DataFrameGroupBy object:"
   ]
  },
  {
   "cell_type": "code",
   "execution_count": 73,
   "id": "3dfea3d3",
   "metadata": {
    "id": "3dfea3d3",
    "outputId": "c398e9f7-6d45-4b0d-822d-13c34e316293"
   },
   "outputs": [
    {
     "data": {
      "text/plain": [
       "('DM',\n",
       "        record_id  month  day  year  plot_id species_id sex  hindfoot_length  \\\n",
       " 2              3      7   16  1977        2         DM   F             37.0   \n",
       " 3              4      7   16  1977        7         DM   M             36.0   \n",
       " 4              5      7   16  1977        3         DM   M             35.0   \n",
       " 7              8      7   16  1977        1         DM   M             37.0   \n",
       " 8              9      7   16  1977        1         DM   F             34.0   \n",
       " ...          ...    ...  ...   ...      ...        ...  ..              ...   \n",
       " 35532      35533     12   31  2002       14         DM   F             36.0   \n",
       " 35533      35534     12   31  2002       14         DM   M             37.0   \n",
       " 35534      35535     12   31  2002       14         DM   M             37.0   \n",
       " 35535      35536     12   31  2002       14         DM   F             35.0   \n",
       " 35536      35537     12   31  2002       14         DM   F             36.0   \n",
       " \n",
       "        weight  \n",
       " 2         NaN  \n",
       " 3         NaN  \n",
       " 4         NaN  \n",
       " 7         NaN  \n",
       " 8         NaN  \n",
       " ...       ...  \n",
       " 35532    48.0  \n",
       " 35533    56.0  \n",
       " 35534    53.0  \n",
       " 35535    42.0  \n",
       " 35536    46.0  \n",
       " \n",
       " [10596 rows x 9 columns])"
      ]
     },
     "execution_count": 73,
     "metadata": {},
     "output_type": "execute_result"
    }
   ],
   "source": [
    "groups = surveys_df[surveys_df[\"species_id\"].isin(['DM', 'PP', 'DO'])] \\\n",
    "              .groupby(\"species_id\")  # select just a few species\n",
    "next(iter(groups))"
   ]
  },
  {
   "cell_type": "code",
   "execution_count": 74,
   "id": "ac2174de",
   "metadata": {
    "id": "ac2174de"
   },
   "outputs": [],
   "source": [
    "for species_id, df in groups:\n",
    "    df.to_excel(species_id + \".xlsx\")"
   ]
  },
  {
   "cell_type": "markdown",
   "id": "de2ad694",
   "metadata": {},
   "source": [
    "**Bonus:** read all the xlsx we created and put them together into one dataframe\n",
    "\n",
    "(for `pathlib.glob` see https://docs.python.org/3/library/pathlib.html#pathlib.Path.glob)"
   ]
  },
  {
   "cell_type": "code",
   "execution_count": 75,
   "id": "9e2e4c03",
   "metadata": {},
   "outputs": [],
   "source": [
    "p = Path('.')\n",
    "filenames = p.glob('*.xlsx')\n",
    "new_df = pd.DataFrame()\n",
    "for filename in filenames:\n",
    "    tmp_df = pd.read_excel(filename)\n",
    "    new_df = new_df.append(tmp_df)"
   ]
  },
  {
   "cell_type": "code",
   "execution_count": 76,
   "id": "cee9e224",
   "metadata": {},
   "outputs": [
    {
     "data": {
      "text/html": [
       "<div>\n",
       "<style scoped>\n",
       "    .dataframe tbody tr th:only-of-type {\n",
       "        vertical-align: middle;\n",
       "    }\n",
       "\n",
       "    .dataframe tbody tr th {\n",
       "        vertical-align: top;\n",
       "    }\n",
       "\n",
       "    .dataframe thead th {\n",
       "        text-align: right;\n",
       "    }\n",
       "</style>\n",
       "<table border=\"1\" class=\"dataframe\">\n",
       "  <thead>\n",
       "    <tr style=\"text-align: right;\">\n",
       "      <th></th>\n",
       "      <th>Unnamed: 0</th>\n",
       "      <th>record_id</th>\n",
       "      <th>month</th>\n",
       "      <th>day</th>\n",
       "      <th>year</th>\n",
       "      <th>plot_id</th>\n",
       "      <th>species_id</th>\n",
       "      <th>sex</th>\n",
       "      <th>hindfoot_length</th>\n",
       "      <th>weight</th>\n",
       "    </tr>\n",
       "  </thead>\n",
       "  <tbody>\n",
       "    <tr>\n",
       "      <th>0</th>\n",
       "      <td>17</td>\n",
       "      <td>18</td>\n",
       "      <td>7</td>\n",
       "      <td>16</td>\n",
       "      <td>1977</td>\n",
       "      <td>2</td>\n",
       "      <td>PP</td>\n",
       "      <td>M</td>\n",
       "      <td>22.0</td>\n",
       "      <td>NaN</td>\n",
       "    </tr>\n",
       "    <tr>\n",
       "      <th>1</th>\n",
       "      <td>28</td>\n",
       "      <td>29</td>\n",
       "      <td>7</td>\n",
       "      <td>17</td>\n",
       "      <td>1977</td>\n",
       "      <td>11</td>\n",
       "      <td>PP</td>\n",
       "      <td>M</td>\n",
       "      <td>NaN</td>\n",
       "      <td>NaN</td>\n",
       "    </tr>\n",
       "    <tr>\n",
       "      <th>2</th>\n",
       "      <td>48</td>\n",
       "      <td>49</td>\n",
       "      <td>7</td>\n",
       "      <td>18</td>\n",
       "      <td>1977</td>\n",
       "      <td>12</td>\n",
       "      <td>PP</td>\n",
       "      <td>F</td>\n",
       "      <td>17.0</td>\n",
       "      <td>NaN</td>\n",
       "    </tr>\n",
       "    <tr>\n",
       "      <th>3</th>\n",
       "      <td>88</td>\n",
       "      <td>89</td>\n",
       "      <td>8</td>\n",
       "      <td>20</td>\n",
       "      <td>1977</td>\n",
       "      <td>12</td>\n",
       "      <td>PP</td>\n",
       "      <td>F</td>\n",
       "      <td>20.0</td>\n",
       "      <td>15.0</td>\n",
       "    </tr>\n",
       "    <tr>\n",
       "      <th>4</th>\n",
       "      <td>107</td>\n",
       "      <td>108</td>\n",
       "      <td>8</td>\n",
       "      <td>20</td>\n",
       "      <td>1977</td>\n",
       "      <td>11</td>\n",
       "      <td>PP</td>\n",
       "      <td>M</td>\n",
       "      <td>21.0</td>\n",
       "      <td>NaN</td>\n",
       "    </tr>\n",
       "    <tr>\n",
       "      <th>...</th>\n",
       "      <td>...</td>\n",
       "      <td>...</td>\n",
       "      <td>...</td>\n",
       "      <td>...</td>\n",
       "      <td>...</td>\n",
       "      <td>...</td>\n",
       "      <td>...</td>\n",
       "      <td>...</td>\n",
       "      <td>...</td>\n",
       "      <td>...</td>\n",
       "    </tr>\n",
       "    <tr>\n",
       "      <th>3022</th>\n",
       "      <td>35502</td>\n",
       "      <td>35503</td>\n",
       "      <td>12</td>\n",
       "      <td>31</td>\n",
       "      <td>2002</td>\n",
       "      <td>6</td>\n",
       "      <td>DO</td>\n",
       "      <td>M</td>\n",
       "      <td>33.0</td>\n",
       "      <td>32.0</td>\n",
       "    </tr>\n",
       "    <tr>\n",
       "      <th>3023</th>\n",
       "      <td>35515</td>\n",
       "      <td>35516</td>\n",
       "      <td>12</td>\n",
       "      <td>31</td>\n",
       "      <td>2002</td>\n",
       "      <td>11</td>\n",
       "      <td>DO</td>\n",
       "      <td>F</td>\n",
       "      <td>35.0</td>\n",
       "      <td>52.0</td>\n",
       "    </tr>\n",
       "    <tr>\n",
       "      <th>3024</th>\n",
       "      <td>35517</td>\n",
       "      <td>35518</td>\n",
       "      <td>12</td>\n",
       "      <td>31</td>\n",
       "      <td>2002</td>\n",
       "      <td>11</td>\n",
       "      <td>DO</td>\n",
       "      <td>M</td>\n",
       "      <td>36.0</td>\n",
       "      <td>38.0</td>\n",
       "    </tr>\n",
       "    <tr>\n",
       "      <th>3025</th>\n",
       "      <td>35526</td>\n",
       "      <td>35527</td>\n",
       "      <td>12</td>\n",
       "      <td>31</td>\n",
       "      <td>2002</td>\n",
       "      <td>13</td>\n",
       "      <td>DO</td>\n",
       "      <td>F</td>\n",
       "      <td>33.0</td>\n",
       "      <td>43.0</td>\n",
       "    </tr>\n",
       "    <tr>\n",
       "      <th>3026</th>\n",
       "      <td>35547</td>\n",
       "      <td>35548</td>\n",
       "      <td>12</td>\n",
       "      <td>31</td>\n",
       "      <td>2002</td>\n",
       "      <td>7</td>\n",
       "      <td>DO</td>\n",
       "      <td>M</td>\n",
       "      <td>36.0</td>\n",
       "      <td>51.0</td>\n",
       "    </tr>\n",
       "  </tbody>\n",
       "</table>\n",
       "<p>16746 rows × 10 columns</p>\n",
       "</div>"
      ],
      "text/plain": [
       "      Unnamed: 0  record_id  month  day  year  plot_id species_id sex  \\\n",
       "0             17         18      7   16  1977        2         PP   M   \n",
       "1             28         29      7   17  1977       11         PP   M   \n",
       "2             48         49      7   18  1977       12         PP   F   \n",
       "3             88         89      8   20  1977       12         PP   F   \n",
       "4            107        108      8   20  1977       11         PP   M   \n",
       "...          ...        ...    ...  ...   ...      ...        ...  ..   \n",
       "3022       35502      35503     12   31  2002        6         DO   M   \n",
       "3023       35515      35516     12   31  2002       11         DO   F   \n",
       "3024       35517      35518     12   31  2002       11         DO   M   \n",
       "3025       35526      35527     12   31  2002       13         DO   F   \n",
       "3026       35547      35548     12   31  2002        7         DO   M   \n",
       "\n",
       "      hindfoot_length  weight  \n",
       "0                22.0     NaN  \n",
       "1                 NaN     NaN  \n",
       "2                17.0     NaN  \n",
       "3                20.0    15.0  \n",
       "4                21.0     NaN  \n",
       "...               ...     ...  \n",
       "3022             33.0    32.0  \n",
       "3023             35.0    52.0  \n",
       "3024             36.0    38.0  \n",
       "3025             33.0    43.0  \n",
       "3026             36.0    51.0  \n",
       "\n",
       "[16746 rows x 10 columns]"
      ]
     },
     "execution_count": 76,
     "metadata": {},
     "output_type": "execute_result"
    }
   ],
   "source": [
    "new_df"
   ]
  },
  {
   "cell_type": "markdown",
   "id": "d2ffd8ed",
   "metadata": {
    "id": "d2ffd8ed"
   },
   "source": [
    "#### Other aggregation functions\n",
    "So far we have only aggregated using `.size` or `.count`, but there are many other aggregation methods, especially numeric ones.\n",
    "\n",
    "To make it easier to work with aggregations, we will use the `.agg` method, which accepts a dictionary. This dictionary specifies what we want to aggregate (the key) and how we want to aggregate it (the value). With that said, there can be multiple aggregation methods for a single column at once."
   ]
  },
  {
   "cell_type": "code",
   "execution_count": 77,
   "id": "bd46b444",
   "metadata": {
    "id": "bd46b444"
   },
   "outputs": [
    {
     "data": {
      "text/html": [
       "<div>\n",
       "<style scoped>\n",
       "    .dataframe tbody tr th:only-of-type {\n",
       "        vertical-align: middle;\n",
       "    }\n",
       "\n",
       "    .dataframe tbody tr th {\n",
       "        vertical-align: top;\n",
       "    }\n",
       "\n",
       "    .dataframe thead tr th {\n",
       "        text-align: left;\n",
       "    }\n",
       "\n",
       "    .dataframe thead tr:last-of-type th {\n",
       "        text-align: right;\n",
       "    }\n",
       "</style>\n",
       "<table border=\"1\" class=\"dataframe\">\n",
       "  <thead>\n",
       "    <tr>\n",
       "      <th></th>\n",
       "      <th colspan=\"2\" halign=\"left\">hindfoot_length</th>\n",
       "      <th>weight</th>\n",
       "      <th>plot_id</th>\n",
       "    </tr>\n",
       "    <tr>\n",
       "      <th></th>\n",
       "      <th>min</th>\n",
       "      <th>max</th>\n",
       "      <th>mean</th>\n",
       "      <th>nunique</th>\n",
       "    </tr>\n",
       "    <tr>\n",
       "      <th>species_id</th>\n",
       "      <th></th>\n",
       "      <th></th>\n",
       "      <th></th>\n",
       "      <th></th>\n",
       "    </tr>\n",
       "  </thead>\n",
       "  <tbody>\n",
       "    <tr>\n",
       "      <th>AB</th>\n",
       "      <td>NaN</td>\n",
       "      <td>NaN</td>\n",
       "      <td>NaN</td>\n",
       "      <td>24</td>\n",
       "    </tr>\n",
       "    <tr>\n",
       "      <th>AH</th>\n",
       "      <td>31.0</td>\n",
       "      <td>35.0</td>\n",
       "      <td>NaN</td>\n",
       "      <td>24</td>\n",
       "    </tr>\n",
       "    <tr>\n",
       "      <th>AS</th>\n",
       "      <td>NaN</td>\n",
       "      <td>NaN</td>\n",
       "      <td>NaN</td>\n",
       "      <td>2</td>\n",
       "    </tr>\n",
       "    <tr>\n",
       "      <th>BA</th>\n",
       "      <td>6.0</td>\n",
       "      <td>16.0</td>\n",
       "      <td>8.6</td>\n",
       "      <td>8</td>\n",
       "    </tr>\n",
       "    <tr>\n",
       "      <th>CB</th>\n",
       "      <td>NaN</td>\n",
       "      <td>NaN</td>\n",
       "      <td>NaN</td>\n",
       "      <td>18</td>\n",
       "    </tr>\n",
       "  </tbody>\n",
       "</table>\n",
       "</div>"
      ],
      "text/plain": [
       "           hindfoot_length       weight plot_id\n",
       "                       min   max   mean nunique\n",
       "species_id                                     \n",
       "AB                     NaN   NaN    NaN      24\n",
       "AH                    31.0  35.0    NaN      24\n",
       "AS                     NaN   NaN    NaN       2\n",
       "BA                     6.0  16.0    8.6       8\n",
       "CB                     NaN   NaN    NaN      18"
      ]
     },
     "execution_count": 77,
     "metadata": {},
     "output_type": "execute_result"
    }
   ],
   "source": [
    "surveys_df.groupby(\"species_id\").agg({\n",
    "    \"hindfoot_length\": [\"min\", \"max\"],\n",
    "    \"weight\": \"mean\",\n",
    "    \"plot_id\": \"nunique\"}\n",
    ").head()"
   ]
  },
  {
   "cell_type": "markdown",
   "id": "520f0576",
   "metadata": {
    "id": "520f0576"
   },
   "source": [
    "## Pivot tables\n",
    "\n",
    "If we aggregate over multiple columns, we may find that the DataFrame becomes very long, which may not be convenient to handle. If you've ever worked with such data in Excel, you may be familiar with the pivot tables.\n",
    "\n",
    "Before we start pivoting, let's create a small dataset - it will be an aggregation based on the species and gender."
   ]
  },
  {
   "cell_type": "code",
   "execution_count": 78,
   "id": "0634f73c",
   "metadata": {
    "id": "0634f73c"
   },
   "outputs": [
    {
     "data": {
      "text/html": [
       "<div>\n",
       "<style scoped>\n",
       "    .dataframe tbody tr th:only-of-type {\n",
       "        vertical-align: middle;\n",
       "    }\n",
       "\n",
       "    .dataframe tbody tr th {\n",
       "        vertical-align: top;\n",
       "    }\n",
       "\n",
       "    .dataframe thead th {\n",
       "        text-align: right;\n",
       "    }\n",
       "</style>\n",
       "<table border=\"1\" class=\"dataframe\">\n",
       "  <thead>\n",
       "    <tr style=\"text-align: right;\">\n",
       "      <th></th>\n",
       "      <th>species_id</th>\n",
       "      <th>sex</th>\n",
       "      <th>weight</th>\n",
       "    </tr>\n",
       "  </thead>\n",
       "  <tbody>\n",
       "    <tr>\n",
       "      <th>0</th>\n",
       "      <td>AH</td>\n",
       "      <td>M</td>\n",
       "      <td>NaN</td>\n",
       "    </tr>\n",
       "    <tr>\n",
       "      <th>1</th>\n",
       "      <td>BA</td>\n",
       "      <td>F</td>\n",
       "      <td>9.161290</td>\n",
       "    </tr>\n",
       "    <tr>\n",
       "      <th>2</th>\n",
       "      <td>BA</td>\n",
       "      <td>M</td>\n",
       "      <td>7.357143</td>\n",
       "    </tr>\n",
       "    <tr>\n",
       "      <th>3</th>\n",
       "      <td>DM</td>\n",
       "      <td>F</td>\n",
       "      <td>41.609685</td>\n",
       "    </tr>\n",
       "    <tr>\n",
       "      <th>4</th>\n",
       "      <td>DM</td>\n",
       "      <td>M</td>\n",
       "      <td>44.353134</td>\n",
       "    </tr>\n",
       "    <tr>\n",
       "      <th>5</th>\n",
       "      <td>DO</td>\n",
       "      <td>F</td>\n",
       "      <td>48.531250</td>\n",
       "    </tr>\n",
       "    <tr>\n",
       "      <th>6</th>\n",
       "      <td>DO</td>\n",
       "      <td>M</td>\n",
       "      <td>49.135102</td>\n",
       "    </tr>\n",
       "    <tr>\n",
       "      <th>7</th>\n",
       "      <td>DS</td>\n",
       "      <td>F</td>\n",
       "      <td>117.749548</td>\n",
       "    </tr>\n",
       "    <tr>\n",
       "      <th>8</th>\n",
       "      <td>DS</td>\n",
       "      <td>M</td>\n",
       "      <td>122.290984</td>\n",
       "    </tr>\n",
       "    <tr>\n",
       "      <th>9</th>\n",
       "      <td>NL</td>\n",
       "      <td>F</td>\n",
       "      <td>154.282209</td>\n",
       "    </tr>\n",
       "  </tbody>\n",
       "</table>\n",
       "</div>"
      ],
      "text/plain": [
       "  species_id sex      weight\n",
       "0         AH   M         NaN\n",
       "1         BA   F    9.161290\n",
       "2         BA   M    7.357143\n",
       "3         DM   F   41.609685\n",
       "4         DM   M   44.353134\n",
       "5         DO   F   48.531250\n",
       "6         DO   M   49.135102\n",
       "7         DS   F  117.749548\n",
       "8         DS   M  122.290984\n",
       "9         NL   F  154.282209"
      ]
     },
     "execution_count": 78,
     "metadata": {},
     "output_type": "execute_result"
    }
   ],
   "source": [
    "summary = surveys_df.groupby([\"species_id\", \"sex\"], as_index=False)[\"weight\"].mean()\n",
    "summary.head(10)"
   ]
  },
  {
   "cell_type": "markdown",
   "id": "c8c41d1e",
   "metadata": {
    "id": "c8c41d1e"
   },
   "source": [
    "To create a pivot table, whe have to specify three things:\n",
    "\n",
    "- which column we want in the index\n",
    "- which column will be in the columns\n",
    "- which column to assign to the values in the DataFrame"
   ]
  },
  {
   "cell_type": "code",
   "execution_count": 79,
   "id": "d096941f",
   "metadata": {
    "id": "d096941f"
   },
   "outputs": [
    {
     "data": {
      "text/html": [
       "<div>\n",
       "<style scoped>\n",
       "    .dataframe tbody tr th:only-of-type {\n",
       "        vertical-align: middle;\n",
       "    }\n",
       "\n",
       "    .dataframe tbody tr th {\n",
       "        vertical-align: top;\n",
       "    }\n",
       "\n",
       "    .dataframe thead th {\n",
       "        text-align: right;\n",
       "    }\n",
       "</style>\n",
       "<table border=\"1\" class=\"dataframe\">\n",
       "  <thead>\n",
       "    <tr style=\"text-align: right;\">\n",
       "      <th>sex</th>\n",
       "      <th>F</th>\n",
       "      <th>M</th>\n",
       "    </tr>\n",
       "    <tr>\n",
       "      <th>species_id</th>\n",
       "      <th></th>\n",
       "      <th></th>\n",
       "    </tr>\n",
       "  </thead>\n",
       "  <tbody>\n",
       "    <tr>\n",
       "      <th>AH</th>\n",
       "      <td>NaN</td>\n",
       "      <td>NaN</td>\n",
       "    </tr>\n",
       "    <tr>\n",
       "      <th>BA</th>\n",
       "      <td>9.161290</td>\n",
       "      <td>7.357143</td>\n",
       "    </tr>\n",
       "    <tr>\n",
       "      <th>DM</th>\n",
       "      <td>41.609685</td>\n",
       "      <td>44.353134</td>\n",
       "    </tr>\n",
       "    <tr>\n",
       "      <th>DO</th>\n",
       "      <td>48.531250</td>\n",
       "      <td>49.135102</td>\n",
       "    </tr>\n",
       "    <tr>\n",
       "      <th>DS</th>\n",
       "      <td>117.749548</td>\n",
       "      <td>122.290984</td>\n",
       "    </tr>\n",
       "    <tr>\n",
       "      <th>NL</th>\n",
       "      <td>154.282209</td>\n",
       "      <td>165.652893</td>\n",
       "    </tr>\n",
       "    <tr>\n",
       "      <th>OL</th>\n",
       "      <td>31.065817</td>\n",
       "      <td>32.068410</td>\n",
       "    </tr>\n",
       "    <tr>\n",
       "      <th>OT</th>\n",
       "      <td>24.830904</td>\n",
       "      <td>23.695382</td>\n",
       "    </tr>\n",
       "    <tr>\n",
       "      <th>OX</th>\n",
       "      <td>21.000000</td>\n",
       "      <td>21.000000</td>\n",
       "    </tr>\n",
       "    <tr>\n",
       "      <th>PB</th>\n",
       "      <td>30.210884</td>\n",
       "      <td>33.816498</td>\n",
       "    </tr>\n",
       "    <tr>\n",
       "      <th>PE</th>\n",
       "      <td>22.822183</td>\n",
       "      <td>20.584906</td>\n",
       "    </tr>\n",
       "    <tr>\n",
       "      <th>PF</th>\n",
       "      <td>7.974394</td>\n",
       "      <td>7.885287</td>\n",
       "    </tr>\n",
       "    <tr>\n",
       "      <th>PH</th>\n",
       "      <td>30.850000</td>\n",
       "      <td>31.454545</td>\n",
       "    </tr>\n",
       "    <tr>\n",
       "      <th>PI</th>\n",
       "      <td>NaN</td>\n",
       "      <td>19.428571</td>\n",
       "    </tr>\n",
       "    <tr>\n",
       "      <th>PL</th>\n",
       "      <td>19.312500</td>\n",
       "      <td>18.684211</td>\n",
       "    </tr>\n",
       "    <tr>\n",
       "      <th>PM</th>\n",
       "      <td>22.125668</td>\n",
       "      <td>20.801205</td>\n",
       "    </tr>\n",
       "    <tr>\n",
       "      <th>PP</th>\n",
       "      <td>17.180670</td>\n",
       "      <td>17.184486</td>\n",
       "    </tr>\n",
       "    <tr>\n",
       "      <th>PX</th>\n",
       "      <td>20.000000</td>\n",
       "      <td>18.000000</td>\n",
       "    </tr>\n",
       "    <tr>\n",
       "      <th>RF</th>\n",
       "      <td>13.684211</td>\n",
       "      <td>12.444444</td>\n",
       "    </tr>\n",
       "    <tr>\n",
       "      <th>RM</th>\n",
       "      <td>11.102196</td>\n",
       "      <td>10.123226</td>\n",
       "    </tr>\n",
       "    <tr>\n",
       "      <th>RO</th>\n",
       "      <td>11.000000</td>\n",
       "      <td>9.500000</td>\n",
       "    </tr>\n",
       "    <tr>\n",
       "      <th>RX</th>\n",
       "      <td>NaN</td>\n",
       "      <td>15.500000</td>\n",
       "    </tr>\n",
       "    <tr>\n",
       "      <th>SF</th>\n",
       "      <td>69.000000</td>\n",
       "      <td>53.434783</td>\n",
       "    </tr>\n",
       "    <tr>\n",
       "      <th>SH</th>\n",
       "      <td>78.756410</td>\n",
       "      <td>65.177419</td>\n",
       "    </tr>\n",
       "    <tr>\n",
       "      <th>SO</th>\n",
       "      <td>55.322581</td>\n",
       "      <td>55.700000</td>\n",
       "    </tr>\n",
       "    <tr>\n",
       "      <th>SS</th>\n",
       "      <td>57.000000</td>\n",
       "      <td>130.000000</td>\n",
       "    </tr>\n",
       "  </tbody>\n",
       "</table>\n",
       "</div>"
      ],
      "text/plain": [
       "sex                  F           M\n",
       "species_id                        \n",
       "AH                 NaN         NaN\n",
       "BA            9.161290    7.357143\n",
       "DM           41.609685   44.353134\n",
       "DO           48.531250   49.135102\n",
       "DS          117.749548  122.290984\n",
       "NL          154.282209  165.652893\n",
       "OL           31.065817   32.068410\n",
       "OT           24.830904   23.695382\n",
       "OX           21.000000   21.000000\n",
       "PB           30.210884   33.816498\n",
       "PE           22.822183   20.584906\n",
       "PF            7.974394    7.885287\n",
       "PH           30.850000   31.454545\n",
       "PI                 NaN   19.428571\n",
       "PL           19.312500   18.684211\n",
       "PM           22.125668   20.801205\n",
       "PP           17.180670   17.184486\n",
       "PX           20.000000   18.000000\n",
       "RF           13.684211   12.444444\n",
       "RM           11.102196   10.123226\n",
       "RO           11.000000    9.500000\n",
       "RX                 NaN   15.500000\n",
       "SF           69.000000   53.434783\n",
       "SH           78.756410   65.177419\n",
       "SO           55.322581   55.700000\n",
       "SS           57.000000  130.000000"
      ]
     },
     "execution_count": 79,
     "metadata": {},
     "output_type": "execute_result"
    }
   ],
   "source": [
    "summary.pivot(index=\"species_id\", columns=\"sex\", values=\"weight\")"
   ]
  },
  {
   "cell_type": "markdown",
   "id": "2cba838a",
   "metadata": {
    "id": "2cba838a"
   },
   "source": [
    "The limitation of the `pivot` method is that it can only rotate the DataFrame, but if one of the created fields has multiple values, it will throw you an error because it doesn't know how to aggregate them.\n",
    "\n",
    "For more complex aggregations there's a similarly named `pivot_table`.\n",
    "\n",
    "`pivot_table` offers the possibility to assign multiple columns to one of the dimensions (index or columns) and then creates a multi-level index. It is also possible to specify which function is applied if there are multiple values per cell.\n",
    "\n",
    "For mor details, see the [documentation](https://pandas.pydata.org/pandas-docs/stable/reference/api/pandas.pivot_table.html)"
   ]
  },
  {
   "cell_type": "code",
   "execution_count": 80,
   "id": "e383eed6",
   "metadata": {
    "id": "e383eed6"
   },
   "outputs": [
    {
     "data": {
      "text/html": [
       "<div>\n",
       "<style scoped>\n",
       "    .dataframe tbody tr th:only-of-type {\n",
       "        vertical-align: middle;\n",
       "    }\n",
       "\n",
       "    .dataframe tbody tr th {\n",
       "        vertical-align: top;\n",
       "    }\n",
       "\n",
       "    .dataframe thead th {\n",
       "        text-align: right;\n",
       "    }\n",
       "</style>\n",
       "<table border=\"1\" class=\"dataframe\">\n",
       "  <thead>\n",
       "    <tr style=\"text-align: right;\">\n",
       "      <th></th>\n",
       "      <th>species_id</th>\n",
       "      <th>sex</th>\n",
       "      <th>plot_id</th>\n",
       "      <th>size</th>\n",
       "    </tr>\n",
       "  </thead>\n",
       "  <tbody>\n",
       "    <tr>\n",
       "      <th>0</th>\n",
       "      <td>DM</td>\n",
       "      <td>F</td>\n",
       "      <td>1</td>\n",
       "      <td>236</td>\n",
       "    </tr>\n",
       "    <tr>\n",
       "      <th>1</th>\n",
       "      <td>DM</td>\n",
       "      <td>F</td>\n",
       "      <td>2</td>\n",
       "      <td>247</td>\n",
       "    </tr>\n",
       "    <tr>\n",
       "      <th>2</th>\n",
       "      <td>DM</td>\n",
       "      <td>F</td>\n",
       "      <td>3</td>\n",
       "      <td>47</td>\n",
       "    </tr>\n",
       "    <tr>\n",
       "      <th>3</th>\n",
       "      <td>DM</td>\n",
       "      <td>F</td>\n",
       "      <td>4</td>\n",
       "      <td>460</td>\n",
       "    </tr>\n",
       "    <tr>\n",
       "      <th>4</th>\n",
       "      <td>DM</td>\n",
       "      <td>F</td>\n",
       "      <td>5</td>\n",
       "      <td>212</td>\n",
       "    </tr>\n",
       "    <tr>\n",
       "      <th>...</th>\n",
       "      <td>...</td>\n",
       "      <td>...</td>\n",
       "      <td>...</td>\n",
       "      <td>...</td>\n",
       "    </tr>\n",
       "    <tr>\n",
       "      <th>135</th>\n",
       "      <td>PP</td>\n",
       "      <td>M</td>\n",
       "      <td>20</td>\n",
       "      <td>60</td>\n",
       "    </tr>\n",
       "    <tr>\n",
       "      <th>136</th>\n",
       "      <td>PP</td>\n",
       "      <td>M</td>\n",
       "      <td>21</td>\n",
       "      <td>43</td>\n",
       "    </tr>\n",
       "    <tr>\n",
       "      <th>137</th>\n",
       "      <td>PP</td>\n",
       "      <td>M</td>\n",
       "      <td>22</td>\n",
       "      <td>24</td>\n",
       "    </tr>\n",
       "    <tr>\n",
       "      <th>138</th>\n",
       "      <td>PP</td>\n",
       "      <td>M</td>\n",
       "      <td>23</td>\n",
       "      <td>3</td>\n",
       "    </tr>\n",
       "    <tr>\n",
       "      <th>139</th>\n",
       "      <td>PP</td>\n",
       "      <td>M</td>\n",
       "      <td>24</td>\n",
       "      <td>14</td>\n",
       "    </tr>\n",
       "  </tbody>\n",
       "</table>\n",
       "<p>140 rows × 4 columns</p>\n",
       "</div>"
      ],
      "text/plain": [
       "    species_id sex  plot_id  size\n",
       "0           DM   F        1   236\n",
       "1           DM   F        2   247\n",
       "2           DM   F        3    47\n",
       "3           DM   F        4   460\n",
       "4           DM   F        5   212\n",
       "..         ...  ..      ...   ...\n",
       "135         PP   M       20    60\n",
       "136         PP   M       21    43\n",
       "137         PP   M       22    24\n",
       "138         PP   M       23     3\n",
       "139         PP   M       24    14\n",
       "\n",
       "[140 rows x 4 columns]"
      ]
     },
     "execution_count": 80,
     "metadata": {},
     "output_type": "execute_result"
    }
   ],
   "source": [
    "summary = surveys_df[surveys_df[\"species_id\"].isin(['DM', 'PP', 'DO'])] \\\n",
    "    .groupby(['species_id', 'sex', 'plot_id'], as_index=False).size()\n",
    "summary"
   ]
  },
  {
   "cell_type": "code",
   "execution_count": 81,
   "id": "f06e5543",
   "metadata": {
    "id": "f06e5543"
   },
   "outputs": [
    {
     "data": {
      "text/html": [
       "<div>\n",
       "<style scoped>\n",
       "    .dataframe tbody tr th:only-of-type {\n",
       "        vertical-align: middle;\n",
       "    }\n",
       "\n",
       "    .dataframe tbody tr th {\n",
       "        vertical-align: top;\n",
       "    }\n",
       "\n",
       "    .dataframe thead tr th {\n",
       "        text-align: left;\n",
       "    }\n",
       "\n",
       "    .dataframe thead tr:last-of-type th {\n",
       "        text-align: right;\n",
       "    }\n",
       "</style>\n",
       "<table border=\"1\" class=\"dataframe\">\n",
       "  <thead>\n",
       "    <tr>\n",
       "      <th>species_id</th>\n",
       "      <th colspan=\"2\" halign=\"left\">DM</th>\n",
       "      <th colspan=\"2\" halign=\"left\">DO</th>\n",
       "      <th colspan=\"2\" halign=\"left\">PP</th>\n",
       "    </tr>\n",
       "    <tr>\n",
       "      <th>sex</th>\n",
       "      <th>F</th>\n",
       "      <th>M</th>\n",
       "      <th>F</th>\n",
       "      <th>M</th>\n",
       "      <th>F</th>\n",
       "      <th>M</th>\n",
       "    </tr>\n",
       "    <tr>\n",
       "      <th>plot_id</th>\n",
       "      <th></th>\n",
       "      <th></th>\n",
       "      <th></th>\n",
       "      <th></th>\n",
       "      <th></th>\n",
       "      <th></th>\n",
       "    </tr>\n",
       "  </thead>\n",
       "  <tbody>\n",
       "    <tr>\n",
       "      <th>1</th>\n",
       "      <td>236.0</td>\n",
       "      <td>367.0</td>\n",
       "      <td>195.0</td>\n",
       "      <td>291.0</td>\n",
       "      <td>137.0</td>\n",
       "      <td>81.0</td>\n",
       "    </tr>\n",
       "    <tr>\n",
       "      <th>2</th>\n",
       "      <td>247.0</td>\n",
       "      <td>329.0</td>\n",
       "      <td>158.0</td>\n",
       "      <td>155.0</td>\n",
       "      <td>82.0</td>\n",
       "      <td>101.0</td>\n",
       "    </tr>\n",
       "    <tr>\n",
       "      <th>3</th>\n",
       "      <td>47.0</td>\n",
       "      <td>56.0</td>\n",
       "      <td>44.0</td>\n",
       "      <td>38.0</td>\n",
       "      <td>205.0</td>\n",
       "      <td>155.0</td>\n",
       "    </tr>\n",
       "    <tr>\n",
       "      <th>4</th>\n",
       "      <td>460.0</td>\n",
       "      <td>607.0</td>\n",
       "      <td>22.0</td>\n",
       "      <td>40.0</td>\n",
       "      <td>58.0</td>\n",
       "      <td>55.0</td>\n",
       "    </tr>\n",
       "    <tr>\n",
       "      <th>5</th>\n",
       "      <td>212.0</td>\n",
       "      <td>228.0</td>\n",
       "      <td>43.0</td>\n",
       "      <td>55.0</td>\n",
       "      <td>25.0</td>\n",
       "      <td>34.0</td>\n",
       "    </tr>\n",
       "  </tbody>\n",
       "</table>\n",
       "</div>"
      ],
      "text/plain": [
       "species_id     DM            DO            PP       \n",
       "sex             F      M      F      M      F      M\n",
       "plot_id                                             \n",
       "1           236.0  367.0  195.0  291.0  137.0   81.0\n",
       "2           247.0  329.0  158.0  155.0   82.0  101.0\n",
       "3            47.0   56.0   44.0   38.0  205.0  155.0\n",
       "4           460.0  607.0   22.0   40.0   58.0   55.0\n",
       "5           212.0  228.0   43.0   55.0   25.0   34.0"
      ]
     },
     "execution_count": 81,
     "metadata": {},
     "output_type": "execute_result"
    }
   ],
   "source": [
    "wide = summary.pivot_table(index='plot_id', columns=['species_id', 'sex'], values='size', fill_value='')\n",
    "wide.head()"
   ]
  },
  {
   "cell_type": "markdown",
   "id": "4e0de1eb",
   "metadata": {
    "id": "4e0de1eb"
   },
   "source": [
    "## Combining DataFrames\n",
    "\n",
    "In general, there are four functions/methods for combining DataFrames, each of which has its own typical use (though the possibilities overlap):\n",
    "\n",
    "- `concat` is a universal function for concatenating two or more tables/columns - underneath, next to each other, with or without indexes.\n",
    "- `append` (method) is a simpler alternative to concat if you just want to add a few rows to a table.\n",
    "- `merge` is a general-purpose function for joining tables based on index or column relationships.\n",
    "- `join` (method) simplifies the job when you want to join two tables based on an index."
   ]
  },
  {
   "cell_type": "code",
   "execution_count": 82,
   "id": "3b46d0a2",
   "metadata": {
    "id": "3b46d0a2"
   },
   "outputs": [],
   "source": [
    "a = pd.Series([\"one\", \"two\", \"three\"])\n",
    "b = pd.Series([\"four\", \"five\", \"six\"])"
   ]
  },
  {
   "cell_type": "code",
   "execution_count": 83,
   "id": "d3dd3b52",
   "metadata": {
    "id": "d3dd3b52"
   },
   "outputs": [
    {
     "data": {
      "text/plain": [
       "0      one\n",
       "1      two\n",
       "2    three\n",
       "0     four\n",
       "1     five\n",
       "2      six\n",
       "dtype: object"
      ]
     },
     "execution_count": 83,
     "metadata": {},
     "output_type": "execute_result"
    }
   ],
   "source": [
    "a.append(b)"
   ]
  },
  {
   "cell_type": "markdown",
   "id": "a3fd2224",
   "metadata": {
    "id": "a3fd2224"
   },
   "source": [
    "Note that index repeating. We've created two Series where we haven't addressed the index. But pandas did, so it merged the two indexes, even at the cost of duplicate values. This can be avoided at by using the additional argument `ignore_index=True`, which we'll show with an example of joining two tables with the same columns:"
   ]
  },
  {
   "cell_type": "code",
   "execution_count": 84,
   "id": "3ecb94a8",
   "metadata": {
    "id": "3ecb94a8"
   },
   "outputs": [
    {
     "data": {
      "text/html": [
       "<div>\n",
       "<style scoped>\n",
       "    .dataframe tbody tr th:only-of-type {\n",
       "        vertical-align: middle;\n",
       "    }\n",
       "\n",
       "    .dataframe tbody tr th {\n",
       "        vertical-align: top;\n",
       "    }\n",
       "\n",
       "    .dataframe thead th {\n",
       "        text-align: right;\n",
       "    }\n",
       "</style>\n",
       "<table border=\"1\" class=\"dataframe\">\n",
       "  <thead>\n",
       "    <tr style=\"text-align: right;\">\n",
       "      <th></th>\n",
       "      <th>left</th>\n",
       "      <th>right</th>\n",
       "    </tr>\n",
       "  </thead>\n",
       "  <tbody>\n",
       "    <tr>\n",
       "      <th>0</th>\n",
       "      <td>1</td>\n",
       "      <td>3</td>\n",
       "    </tr>\n",
       "    <tr>\n",
       "      <th>1</th>\n",
       "      <td>2</td>\n",
       "      <td>4</td>\n",
       "    </tr>\n",
       "    <tr>\n",
       "      <th>2</th>\n",
       "      <td>25</td>\n",
       "      <td>47</td>\n",
       "    </tr>\n",
       "    <tr>\n",
       "      <th>3</th>\n",
       "      <td>26</td>\n",
       "      <td>48</td>\n",
       "    </tr>\n",
       "  </tbody>\n",
       "</table>\n",
       "</div>"
      ],
      "text/plain": [
       "   left  right\n",
       "0     1      3\n",
       "1     2      4\n",
       "2    25     47\n",
       "3    26     48"
      ]
     },
     "execution_count": 84,
     "metadata": {},
     "output_type": "execute_result"
    }
   ],
   "source": [
    "df1 = pd.DataFrame({\n",
    "    \"left\": [1, 2],\n",
    "    \"right\": [3, 4]\n",
    "})\n",
    "df2 = pd.DataFrame({\n",
    "    \"left\": [25, 26],\n",
    "    \"right\": [47, 48]\n",
    "})\n",
    "df1.append(df2, ignore_index=True)"
   ]
  },
  {
   "cell_type": "markdown",
   "id": "c737dac7",
   "metadata": {
    "id": "c737dac7"
   },
   "source": [
    "The same using `pd.concat()`:"
   ]
  },
  {
   "cell_type": "code",
   "execution_count": 85,
   "id": "c65ffefd",
   "metadata": {
    "id": "c65ffefd"
   },
   "outputs": [
    {
     "data": {
      "text/plain": [
       "0      one\n",
       "1      two\n",
       "2    three\n",
       "0     four\n",
       "1     five\n",
       "2      six\n",
       "dtype: object"
      ]
     },
     "execution_count": 85,
     "metadata": {},
     "output_type": "execute_result"
    }
   ],
   "source": [
    "pd.concat([a, b])"
   ]
  },
  {
   "cell_type": "code",
   "execution_count": 86,
   "id": "1ad3bfa6",
   "metadata": {
    "id": "1ad3bfa6"
   },
   "outputs": [
    {
     "data": {
      "text/plain": [
       "0      one\n",
       "1      two\n",
       "2    three\n",
       "3      one\n",
       "4      two\n",
       "5    three\n",
       "6      one\n",
       "7      two\n",
       "8    three\n",
       "dtype: object"
      ]
     },
     "execution_count": 86,
     "metadata": {},
     "output_type": "execute_result"
    }
   ],
   "source": [
    "pd.concat([a, a, a], ignore_index=True)"
   ]
  },
  {
   "cell_type": "code",
   "execution_count": 87,
   "id": "2b63bdf3",
   "metadata": {
    "id": "2b63bdf3"
   },
   "outputs": [
    {
     "data": {
      "text/html": [
       "<div>\n",
       "<style scoped>\n",
       "    .dataframe tbody tr th:only-of-type {\n",
       "        vertical-align: middle;\n",
       "    }\n",
       "\n",
       "    .dataframe tbody tr th {\n",
       "        vertical-align: top;\n",
       "    }\n",
       "\n",
       "    .dataframe thead th {\n",
       "        text-align: right;\n",
       "    }\n",
       "</style>\n",
       "<table border=\"1\" class=\"dataframe\">\n",
       "  <thead>\n",
       "    <tr style=\"text-align: right;\">\n",
       "      <th></th>\n",
       "      <th>0</th>\n",
       "      <th>1</th>\n",
       "      <th>2</th>\n",
       "      <th>3</th>\n",
       "    </tr>\n",
       "  </thead>\n",
       "  <tbody>\n",
       "    <tr>\n",
       "      <th>0</th>\n",
       "      <td>one</td>\n",
       "      <td>one</td>\n",
       "      <td>four</td>\n",
       "      <td>four</td>\n",
       "    </tr>\n",
       "    <tr>\n",
       "      <th>1</th>\n",
       "      <td>two</td>\n",
       "      <td>two</td>\n",
       "      <td>five</td>\n",
       "      <td>five</td>\n",
       "    </tr>\n",
       "    <tr>\n",
       "      <th>2</th>\n",
       "      <td>three</td>\n",
       "      <td>three</td>\n",
       "      <td>six</td>\n",
       "      <td>six</td>\n",
       "    </tr>\n",
       "  </tbody>\n",
       "</table>\n",
       "</div>"
      ],
      "text/plain": [
       "       0      1     2     3\n",
       "0    one    one  four  four\n",
       "1    two    two  five  five\n",
       "2  three  three   six   six"
      ]
     },
     "execution_count": 87,
     "metadata": {},
     "output_type": "execute_result"
    }
   ],
   "source": [
    "pd.concat([a, a, b, b], axis=\"columns\")  # side by side"
   ]
  },
  {
   "cell_type": "markdown",
   "id": "258f9c07",
   "metadata": {
    "id": "258f9c07"
   },
   "source": [
    "### Joining dataframes\n",
    "When we concatenated our DataFrames we simply added them to each other - stacking them either vertically or side by side. Another way to combine DataFrames is to use columns in each dataset that contain common values (a common unique id). Combining DataFrames using a common field is called “joining”. The columns containing the common values are called “join key(s)”. Joining DataFrames in this way is often useful when one DataFrame is a “lookup table” containing additional data that we want to include in the other.\n",
    "\n",
    "For example, the species.csv file that is a lookup table. This table contains the genus, species and taxa code for 55 species. The species code is unique for each line. These species are identified in the survey data as well using the unique species code. Rather than adding 3 more columns for the genus, species and taxa to each of the 35,549 line Survey data table, we can maintain the shorter table with the species information. When we want to access that information, we can create a query that joins the additional columns of information to the survey data."
   ]
  },
  {
   "cell_type": "code",
   "execution_count": 88,
   "id": "2708e85a",
   "metadata": {
    "id": "2708e85a"
   },
   "outputs": [
    {
     "data": {
      "text/html": [
       "<div>\n",
       "<style scoped>\n",
       "    .dataframe tbody tr th:only-of-type {\n",
       "        vertical-align: middle;\n",
       "    }\n",
       "\n",
       "    .dataframe tbody tr th {\n",
       "        vertical-align: top;\n",
       "    }\n",
       "\n",
       "    .dataframe thead th {\n",
       "        text-align: right;\n",
       "    }\n",
       "</style>\n",
       "<table border=\"1\" class=\"dataframe\">\n",
       "  <thead>\n",
       "    <tr style=\"text-align: right;\">\n",
       "      <th></th>\n",
       "      <th>species_id</th>\n",
       "      <th>genus</th>\n",
       "      <th>species</th>\n",
       "      <th>taxa</th>\n",
       "    </tr>\n",
       "  </thead>\n",
       "  <tbody>\n",
       "    <tr>\n",
       "      <th>0</th>\n",
       "      <td>AB</td>\n",
       "      <td>Amphispiza</td>\n",
       "      <td>bilineata</td>\n",
       "      <td>Bird</td>\n",
       "    </tr>\n",
       "    <tr>\n",
       "      <th>1</th>\n",
       "      <td>AH</td>\n",
       "      <td>Ammospermophilus</td>\n",
       "      <td>harrisi</td>\n",
       "      <td>Rodent</td>\n",
       "    </tr>\n",
       "    <tr>\n",
       "      <th>2</th>\n",
       "      <td>AS</td>\n",
       "      <td>Ammodramus</td>\n",
       "      <td>savannarum</td>\n",
       "      <td>Bird</td>\n",
       "    </tr>\n",
       "    <tr>\n",
       "      <th>3</th>\n",
       "      <td>BA</td>\n",
       "      <td>Baiomys</td>\n",
       "      <td>taylori</td>\n",
       "      <td>Rodent</td>\n",
       "    </tr>\n",
       "    <tr>\n",
       "      <th>4</th>\n",
       "      <td>CB</td>\n",
       "      <td>Campylorhynchus</td>\n",
       "      <td>brunneicapillus</td>\n",
       "      <td>Bird</td>\n",
       "    </tr>\n",
       "  </tbody>\n",
       "</table>\n",
       "</div>"
      ],
      "text/plain": [
       "  species_id             genus          species    taxa\n",
       "0         AB        Amphispiza        bilineata    Bird\n",
       "1         AH  Ammospermophilus          harrisi  Rodent\n",
       "2         AS        Ammodramus       savannarum    Bird\n",
       "3         BA           Baiomys          taylori  Rodent\n",
       "4         CB   Campylorhynchus  brunneicapillus    Bird"
      ]
     },
     "execution_count": 88,
     "metadata": {},
     "output_type": "execute_result"
    }
   ],
   "source": [
    "species = pd.read_csv(\"data/species.csv\")\n",
    "species.head()"
   ]
  },
  {
   "cell_type": "markdown",
   "id": "00193369",
   "metadata": {
    "id": "00193369"
   },
   "source": [
    "#### Inner join"
   ]
  },
  {
   "cell_type": "code",
   "execution_count": 89,
   "id": "1c780b19",
   "metadata": {
    "id": "1c780b19"
   },
   "outputs": [
    {
     "data": {
      "text/html": [
       "<div>\n",
       "<style scoped>\n",
       "    .dataframe tbody tr th:only-of-type {\n",
       "        vertical-align: middle;\n",
       "    }\n",
       "\n",
       "    .dataframe tbody tr th {\n",
       "        vertical-align: top;\n",
       "    }\n",
       "\n",
       "    .dataframe thead th {\n",
       "        text-align: right;\n",
       "    }\n",
       "</style>\n",
       "<table border=\"1\" class=\"dataframe\">\n",
       "  <thead>\n",
       "    <tr style=\"text-align: right;\">\n",
       "      <th></th>\n",
       "      <th>record_id</th>\n",
       "      <th>month</th>\n",
       "      <th>day</th>\n",
       "      <th>year</th>\n",
       "      <th>plot_id</th>\n",
       "      <th>species_id</th>\n",
       "      <th>sex</th>\n",
       "      <th>hindfoot_length</th>\n",
       "      <th>weight</th>\n",
       "      <th>genus</th>\n",
       "      <th>species</th>\n",
       "      <th>taxa</th>\n",
       "    </tr>\n",
       "  </thead>\n",
       "  <tbody>\n",
       "    <tr>\n",
       "      <th>0</th>\n",
       "      <td>1</td>\n",
       "      <td>7</td>\n",
       "      <td>16</td>\n",
       "      <td>1977</td>\n",
       "      <td>2</td>\n",
       "      <td>NL</td>\n",
       "      <td>M</td>\n",
       "      <td>32.0</td>\n",
       "      <td>NaN</td>\n",
       "      <td>Neotoma</td>\n",
       "      <td>albigula</td>\n",
       "      <td>Rodent</td>\n",
       "    </tr>\n",
       "    <tr>\n",
       "      <th>1</th>\n",
       "      <td>2</td>\n",
       "      <td>7</td>\n",
       "      <td>16</td>\n",
       "      <td>1977</td>\n",
       "      <td>3</td>\n",
       "      <td>NL</td>\n",
       "      <td>M</td>\n",
       "      <td>33.0</td>\n",
       "      <td>NaN</td>\n",
       "      <td>Neotoma</td>\n",
       "      <td>albigula</td>\n",
       "      <td>Rodent</td>\n",
       "    </tr>\n",
       "    <tr>\n",
       "      <th>2</th>\n",
       "      <td>22</td>\n",
       "      <td>7</td>\n",
       "      <td>17</td>\n",
       "      <td>1977</td>\n",
       "      <td>15</td>\n",
       "      <td>NL</td>\n",
       "      <td>F</td>\n",
       "      <td>31.0</td>\n",
       "      <td>NaN</td>\n",
       "      <td>Neotoma</td>\n",
       "      <td>albigula</td>\n",
       "      <td>Rodent</td>\n",
       "    </tr>\n",
       "    <tr>\n",
       "      <th>3</th>\n",
       "      <td>38</td>\n",
       "      <td>7</td>\n",
       "      <td>17</td>\n",
       "      <td>1977</td>\n",
       "      <td>17</td>\n",
       "      <td>NL</td>\n",
       "      <td>M</td>\n",
       "      <td>33.0</td>\n",
       "      <td>NaN</td>\n",
       "      <td>Neotoma</td>\n",
       "      <td>albigula</td>\n",
       "      <td>Rodent</td>\n",
       "    </tr>\n",
       "    <tr>\n",
       "      <th>4</th>\n",
       "      <td>72</td>\n",
       "      <td>8</td>\n",
       "      <td>19</td>\n",
       "      <td>1977</td>\n",
       "      <td>2</td>\n",
       "      <td>NL</td>\n",
       "      <td>M</td>\n",
       "      <td>31.0</td>\n",
       "      <td>NaN</td>\n",
       "      <td>Neotoma</td>\n",
       "      <td>albigula</td>\n",
       "      <td>Rodent</td>\n",
       "    </tr>\n",
       "    <tr>\n",
       "      <th>...</th>\n",
       "      <td>...</td>\n",
       "      <td>...</td>\n",
       "      <td>...</td>\n",
       "      <td>...</td>\n",
       "      <td>...</td>\n",
       "      <td>...</td>\n",
       "      <td>...</td>\n",
       "      <td>...</td>\n",
       "      <td>...</td>\n",
       "      <td>...</td>\n",
       "      <td>...</td>\n",
       "      <td>...</td>\n",
       "    </tr>\n",
       "    <tr>\n",
       "      <th>34781</th>\n",
       "      <td>28988</td>\n",
       "      <td>12</td>\n",
       "      <td>23</td>\n",
       "      <td>1998</td>\n",
       "      <td>6</td>\n",
       "      <td>CT</td>\n",
       "      <td>NaN</td>\n",
       "      <td>NaN</td>\n",
       "      <td>NaN</td>\n",
       "      <td>Cnemidophorus</td>\n",
       "      <td>tigris</td>\n",
       "      <td>Reptile</td>\n",
       "    </tr>\n",
       "    <tr>\n",
       "      <th>34782</th>\n",
       "      <td>35512</td>\n",
       "      <td>12</td>\n",
       "      <td>31</td>\n",
       "      <td>2002</td>\n",
       "      <td>11</td>\n",
       "      <td>US</td>\n",
       "      <td>NaN</td>\n",
       "      <td>NaN</td>\n",
       "      <td>NaN</td>\n",
       "      <td>Sparrow</td>\n",
       "      <td>sp.</td>\n",
       "      <td>Bird</td>\n",
       "    </tr>\n",
       "    <tr>\n",
       "      <th>34783</th>\n",
       "      <td>35513</td>\n",
       "      <td>12</td>\n",
       "      <td>31</td>\n",
       "      <td>2002</td>\n",
       "      <td>11</td>\n",
       "      <td>US</td>\n",
       "      <td>NaN</td>\n",
       "      <td>NaN</td>\n",
       "      <td>NaN</td>\n",
       "      <td>Sparrow</td>\n",
       "      <td>sp.</td>\n",
       "      <td>Bird</td>\n",
       "    </tr>\n",
       "    <tr>\n",
       "      <th>34784</th>\n",
       "      <td>35528</td>\n",
       "      <td>12</td>\n",
       "      <td>31</td>\n",
       "      <td>2002</td>\n",
       "      <td>13</td>\n",
       "      <td>US</td>\n",
       "      <td>NaN</td>\n",
       "      <td>NaN</td>\n",
       "      <td>NaN</td>\n",
       "      <td>Sparrow</td>\n",
       "      <td>sp.</td>\n",
       "      <td>Bird</td>\n",
       "    </tr>\n",
       "    <tr>\n",
       "      <th>34785</th>\n",
       "      <td>35544</td>\n",
       "      <td>12</td>\n",
       "      <td>31</td>\n",
       "      <td>2002</td>\n",
       "      <td>15</td>\n",
       "      <td>US</td>\n",
       "      <td>NaN</td>\n",
       "      <td>NaN</td>\n",
       "      <td>NaN</td>\n",
       "      <td>Sparrow</td>\n",
       "      <td>sp.</td>\n",
       "      <td>Bird</td>\n",
       "    </tr>\n",
       "  </tbody>\n",
       "</table>\n",
       "<p>34786 rows × 12 columns</p>\n",
       "</div>"
      ],
      "text/plain": [
       "       record_id  month  day  year  plot_id species_id  sex  hindfoot_length  \\\n",
       "0              1      7   16  1977        2         NL    M             32.0   \n",
       "1              2      7   16  1977        3         NL    M             33.0   \n",
       "2             22      7   17  1977       15         NL    F             31.0   \n",
       "3             38      7   17  1977       17         NL    M             33.0   \n",
       "4             72      8   19  1977        2         NL    M             31.0   \n",
       "...          ...    ...  ...   ...      ...        ...  ...              ...   \n",
       "34781      28988     12   23  1998        6         CT  NaN              NaN   \n",
       "34782      35512     12   31  2002       11         US  NaN              NaN   \n",
       "34783      35513     12   31  2002       11         US  NaN              NaN   \n",
       "34784      35528     12   31  2002       13         US  NaN              NaN   \n",
       "34785      35544     12   31  2002       15         US  NaN              NaN   \n",
       "\n",
       "       weight          genus   species     taxa  \n",
       "0         NaN        Neotoma  albigula   Rodent  \n",
       "1         NaN        Neotoma  albigula   Rodent  \n",
       "2         NaN        Neotoma  albigula   Rodent  \n",
       "3         NaN        Neotoma  albigula   Rodent  \n",
       "4         NaN        Neotoma  albigula   Rodent  \n",
       "...       ...            ...       ...      ...  \n",
       "34781     NaN  Cnemidophorus    tigris  Reptile  \n",
       "34782     NaN        Sparrow       sp.     Bird  \n",
       "34783     NaN        Sparrow       sp.     Bird  \n",
       "34784     NaN        Sparrow       sp.     Bird  \n",
       "34785     NaN        Sparrow       sp.     Bird  \n",
       "\n",
       "[34786 rows x 12 columns]"
      ]
     },
     "execution_count": 89,
     "metadata": {},
     "output_type": "execute_result"
    }
   ],
   "source": [
    "merged_inner = pd.merge(left=surveys_df, \n",
    "                        right=species, \n",
    "                        left_on=\"species_id\", \n",
    "                        right_on=\"species_id\")  # inner join (default)\n",
    "merged_inner"
   ]
  },
  {
   "cell_type": "code",
   "execution_count": 90,
   "id": "943783b1",
   "metadata": {
    "id": "943783b1"
   },
   "outputs": [
    {
     "data": {
      "text/plain": [
       "(35549, 9)"
      ]
     },
     "execution_count": 90,
     "metadata": {},
     "output_type": "execute_result"
    }
   ],
   "source": [
    "surveys_df.shape"
   ]
  },
  {
   "cell_type": "markdown",
   "id": "456a65d2",
   "metadata": {
    "id": "456a65d2"
   },
   "source": [
    "The result of an inner join of `surveys_df` and `species` is a new DataFrame that contains the combined set of columns from `surveys_df` and `species`. It only contains rows that have two-letter species codes that are the same in both the `surveys_df` and `species` DataFrames. \n",
    "The result merged_inner DataFrame contains all of the columns from `surveys_df` (record id, month, day, etc.) as well as all the columns from `species` (species_id, genus, species, and taxa).\n",
    "\n",
    "Notice that `merged_inner` has fewer rows than `surveys_df`. This is an indication that there were rows in `surveys_df` with value(s) for `species_id` that do not exist as value(s) for species_id in `species`."
   ]
  },
  {
   "cell_type": "markdown",
   "id": "f672a377",
   "metadata": {
    "id": "f672a377"
   },
   "source": [
    "#### Left join"
   ]
  },
  {
   "cell_type": "code",
   "execution_count": 91,
   "id": "53ce12da",
   "metadata": {
    "id": "53ce12da"
   },
   "outputs": [
    {
     "data": {
      "text/html": [
       "<div>\n",
       "<style scoped>\n",
       "    .dataframe tbody tr th:only-of-type {\n",
       "        vertical-align: middle;\n",
       "    }\n",
       "\n",
       "    .dataframe tbody tr th {\n",
       "        vertical-align: top;\n",
       "    }\n",
       "\n",
       "    .dataframe thead th {\n",
       "        text-align: right;\n",
       "    }\n",
       "</style>\n",
       "<table border=\"1\" class=\"dataframe\">\n",
       "  <thead>\n",
       "    <tr style=\"text-align: right;\">\n",
       "      <th></th>\n",
       "      <th>record_id</th>\n",
       "      <th>month</th>\n",
       "      <th>day</th>\n",
       "      <th>year</th>\n",
       "      <th>plot_id</th>\n",
       "      <th>species_id</th>\n",
       "      <th>sex</th>\n",
       "      <th>hindfoot_length</th>\n",
       "      <th>weight</th>\n",
       "      <th>genus</th>\n",
       "      <th>species</th>\n",
       "      <th>taxa</th>\n",
       "    </tr>\n",
       "  </thead>\n",
       "  <tbody>\n",
       "    <tr>\n",
       "      <th>0</th>\n",
       "      <td>1</td>\n",
       "      <td>7</td>\n",
       "      <td>16</td>\n",
       "      <td>1977</td>\n",
       "      <td>2</td>\n",
       "      <td>NL</td>\n",
       "      <td>M</td>\n",
       "      <td>32.0</td>\n",
       "      <td>NaN</td>\n",
       "      <td>Neotoma</td>\n",
       "      <td>albigula</td>\n",
       "      <td>Rodent</td>\n",
       "    </tr>\n",
       "    <tr>\n",
       "      <th>1</th>\n",
       "      <td>2</td>\n",
       "      <td>7</td>\n",
       "      <td>16</td>\n",
       "      <td>1977</td>\n",
       "      <td>3</td>\n",
       "      <td>NL</td>\n",
       "      <td>M</td>\n",
       "      <td>33.0</td>\n",
       "      <td>NaN</td>\n",
       "      <td>Neotoma</td>\n",
       "      <td>albigula</td>\n",
       "      <td>Rodent</td>\n",
       "    </tr>\n",
       "    <tr>\n",
       "      <th>2</th>\n",
       "      <td>3</td>\n",
       "      <td>7</td>\n",
       "      <td>16</td>\n",
       "      <td>1977</td>\n",
       "      <td>2</td>\n",
       "      <td>DM</td>\n",
       "      <td>F</td>\n",
       "      <td>37.0</td>\n",
       "      <td>NaN</td>\n",
       "      <td>Dipodomys</td>\n",
       "      <td>merriami</td>\n",
       "      <td>Rodent</td>\n",
       "    </tr>\n",
       "    <tr>\n",
       "      <th>3</th>\n",
       "      <td>4</td>\n",
       "      <td>7</td>\n",
       "      <td>16</td>\n",
       "      <td>1977</td>\n",
       "      <td>7</td>\n",
       "      <td>DM</td>\n",
       "      <td>M</td>\n",
       "      <td>36.0</td>\n",
       "      <td>NaN</td>\n",
       "      <td>Dipodomys</td>\n",
       "      <td>merriami</td>\n",
       "      <td>Rodent</td>\n",
       "    </tr>\n",
       "    <tr>\n",
       "      <th>4</th>\n",
       "      <td>5</td>\n",
       "      <td>7</td>\n",
       "      <td>16</td>\n",
       "      <td>1977</td>\n",
       "      <td>3</td>\n",
       "      <td>DM</td>\n",
       "      <td>M</td>\n",
       "      <td>35.0</td>\n",
       "      <td>NaN</td>\n",
       "      <td>Dipodomys</td>\n",
       "      <td>merriami</td>\n",
       "      <td>Rodent</td>\n",
       "    </tr>\n",
       "    <tr>\n",
       "      <th>...</th>\n",
       "      <td>...</td>\n",
       "      <td>...</td>\n",
       "      <td>...</td>\n",
       "      <td>...</td>\n",
       "      <td>...</td>\n",
       "      <td>...</td>\n",
       "      <td>...</td>\n",
       "      <td>...</td>\n",
       "      <td>...</td>\n",
       "      <td>...</td>\n",
       "      <td>...</td>\n",
       "      <td>...</td>\n",
       "    </tr>\n",
       "    <tr>\n",
       "      <th>35544</th>\n",
       "      <td>35545</td>\n",
       "      <td>12</td>\n",
       "      <td>31</td>\n",
       "      <td>2002</td>\n",
       "      <td>15</td>\n",
       "      <td>AH</td>\n",
       "      <td>NaN</td>\n",
       "      <td>NaN</td>\n",
       "      <td>NaN</td>\n",
       "      <td>Ammospermophilus</td>\n",
       "      <td>harrisi</td>\n",
       "      <td>Rodent</td>\n",
       "    </tr>\n",
       "    <tr>\n",
       "      <th>35545</th>\n",
       "      <td>35546</td>\n",
       "      <td>12</td>\n",
       "      <td>31</td>\n",
       "      <td>2002</td>\n",
       "      <td>15</td>\n",
       "      <td>AH</td>\n",
       "      <td>NaN</td>\n",
       "      <td>NaN</td>\n",
       "      <td>NaN</td>\n",
       "      <td>Ammospermophilus</td>\n",
       "      <td>harrisi</td>\n",
       "      <td>Rodent</td>\n",
       "    </tr>\n",
       "    <tr>\n",
       "      <th>35546</th>\n",
       "      <td>35547</td>\n",
       "      <td>12</td>\n",
       "      <td>31</td>\n",
       "      <td>2002</td>\n",
       "      <td>10</td>\n",
       "      <td>RM</td>\n",
       "      <td>F</td>\n",
       "      <td>15.0</td>\n",
       "      <td>14.0</td>\n",
       "      <td>Reithrodontomys</td>\n",
       "      <td>megalotis</td>\n",
       "      <td>Rodent</td>\n",
       "    </tr>\n",
       "    <tr>\n",
       "      <th>35547</th>\n",
       "      <td>35548</td>\n",
       "      <td>12</td>\n",
       "      <td>31</td>\n",
       "      <td>2002</td>\n",
       "      <td>7</td>\n",
       "      <td>DO</td>\n",
       "      <td>M</td>\n",
       "      <td>36.0</td>\n",
       "      <td>51.0</td>\n",
       "      <td>Dipodomys</td>\n",
       "      <td>ordii</td>\n",
       "      <td>Rodent</td>\n",
       "    </tr>\n",
       "    <tr>\n",
       "      <th>35548</th>\n",
       "      <td>35549</td>\n",
       "      <td>12</td>\n",
       "      <td>31</td>\n",
       "      <td>2002</td>\n",
       "      <td>5</td>\n",
       "      <td>NaN</td>\n",
       "      <td>NaN</td>\n",
       "      <td>NaN</td>\n",
       "      <td>NaN</td>\n",
       "      <td>NaN</td>\n",
       "      <td>NaN</td>\n",
       "      <td>NaN</td>\n",
       "    </tr>\n",
       "  </tbody>\n",
       "</table>\n",
       "<p>35549 rows × 12 columns</p>\n",
       "</div>"
      ],
      "text/plain": [
       "       record_id  month  day  year  plot_id species_id  sex  hindfoot_length  \\\n",
       "0              1      7   16  1977        2         NL    M             32.0   \n",
       "1              2      7   16  1977        3         NL    M             33.0   \n",
       "2              3      7   16  1977        2         DM    F             37.0   \n",
       "3              4      7   16  1977        7         DM    M             36.0   \n",
       "4              5      7   16  1977        3         DM    M             35.0   \n",
       "...          ...    ...  ...   ...      ...        ...  ...              ...   \n",
       "35544      35545     12   31  2002       15         AH  NaN              NaN   \n",
       "35545      35546     12   31  2002       15         AH  NaN              NaN   \n",
       "35546      35547     12   31  2002       10         RM    F             15.0   \n",
       "35547      35548     12   31  2002        7         DO    M             36.0   \n",
       "35548      35549     12   31  2002        5        NaN  NaN              NaN   \n",
       "\n",
       "       weight             genus    species    taxa  \n",
       "0         NaN           Neotoma   albigula  Rodent  \n",
       "1         NaN           Neotoma   albigula  Rodent  \n",
       "2         NaN         Dipodomys   merriami  Rodent  \n",
       "3         NaN         Dipodomys   merriami  Rodent  \n",
       "4         NaN         Dipodomys   merriami  Rodent  \n",
       "...       ...               ...        ...     ...  \n",
       "35544     NaN  Ammospermophilus    harrisi  Rodent  \n",
       "35545     NaN  Ammospermophilus    harrisi  Rodent  \n",
       "35546    14.0   Reithrodontomys  megalotis  Rodent  \n",
       "35547    51.0         Dipodomys      ordii  Rodent  \n",
       "35548     NaN               NaN        NaN     NaN  \n",
       "\n",
       "[35549 rows x 12 columns]"
      ]
     },
     "execution_count": 91,
     "metadata": {},
     "output_type": "execute_result"
    }
   ],
   "source": [
    "merged_left = pd.merge(left=surveys_df, \n",
    "                       right=species, \n",
    "                       how=\"left\", \n",
    "                       left_on=\"species_id\", \n",
    "                       right_on=\"species_id\")\n",
    "merged_left"
   ]
  },
  {
   "cell_type": "markdown",
   "id": "493d1c23",
   "metadata": {
    "id": "493d1c23"
   },
   "source": [
    "#### Your turn:\n",
    "\n",
    "Find which values of species_id do not occur in species DataFrame"
   ]
  },
  {
   "cell_type": "code",
   "execution_count": null,
   "id": "b557a52f",
   "metadata": {
    "id": "b557a52f"
   },
   "outputs": [],
   "source": []
  },
  {
   "cell_type": "markdown",
   "id": "6cf89f46",
   "metadata": {
    "id": "6cf89f46"
   },
   "source": [
    "#### Other join types\n",
    "The pandas merge function supports two other join types:\n",
    "\n",
    "- Right (outer) join: Invoked by passing `how='right'` as an argument. Similar to a left join, except all rows from the right DataFrame are kept, while rows from the left DataFrame without matching join key(s) values are discarded.\n",
    "- Full (outer) join: Invoked by passing `how='outer'` as an argument. This join type returns the all pairwise combinations of rows from both DataFrames; i.e., the result DataFrame will NaN where data is missing in one of the dataframes. This join type is very rarely used."
   ]
  }
 ],
 "metadata": {
  "colab": {
   "include_colab_link": true,
   "provenance": []
  },
  "kernelspec": {
   "display_name": "Python 3 (ipykernel)",
   "language": "python",
   "name": "python3"
  },
  "language_info": {
   "codemirror_mode": {
    "name": "ipython",
    "version": 3
   },
   "file_extension": ".py",
   "mimetype": "text/x-python",
   "name": "python",
   "nbconvert_exporter": "python",
   "pygments_lexer": "ipython3",
   "version": "3.8.13"
  }
 },
 "nbformat": 4,
 "nbformat_minor": 5
}
