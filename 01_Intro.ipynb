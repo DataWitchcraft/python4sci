{
  "cells": [
    {
      "cell_type": "markdown",
      "metadata": {
        "id": "view-in-github",
        "colab_type": "text"
      },
      "source": [
        "<a href=\"https://colab.research.google.com/github/DataWitchcraft/python4sci/blob/main/01_Intro.ipynb\" target=\"_parent\"><img src=\"https://colab.research.google.com/assets/colab-badge.svg\" alt=\"Open In Colab\"/></a>"
      ]
    },
    {
      "cell_type": "markdown",
      "metadata": {
        "id": "y9J5jn2DteoR"
      },
      "source": [
        "# A Quick Tour of Python\n",
        "\n",
        "## Jupyter Notebook & Colab\n",
        "\n",
        "The framework we are using here is Google Colaboratory (or *colab* for short), Google's flavor of so called \"Jupyter notebooks\". A Jupyter notebook is composed of cells, which can either be filled with text (as this cell) or with code (as in the cell below). To run the code in a cell with code, click that cell and then click the \"play\" button that appears next the cell. Try running the cell below; if you prefer, instead of using the \"play\" button, you can use the keyboard shortcut of \"Shift-Enter\" to run a cell of code. [Note: You might get a warning that this notebook was not authored by Google when running the first cell.]"
      ]
    },
    {
      "cell_type": "code",
      "execution_count": null,
      "metadata": {
        "id": "R4oRe6KDt9Ci"
      },
      "outputs": [],
      "source": [
        "2 + 2"
      ]
    },
    {
      "cell_type": "markdown",
      "metadata": {
        "id": "S3_qU3zRudxa"
      },
      "source": [
        "Once you run a cell, the output of the final line of code in the cell will appear below that cell. For example, you should see the output of 4 under the code cell above. However, not all Python lines of code will generate any output.\n",
        "\n",
        "If you want to add additional cells to the notebook, you can do so using the \"+Code\" and \"+Text\" buttons below the menu. (This is useful if you need some scratch space to test out a few lines of code)."
      ]
    },
    {
      "cell_type": "markdown",
      "metadata": {
        "id": "FCYtGMwhwu-5"
      },
      "source": [
        "#### a. Comments\n",
        "\n",
        "In any block of Python code, you can insert a comment by starting the comment's line with a hashtag. Such a line will not be executed:"
      ]
    },
    {
      "cell_type": "code",
      "execution_count": null,
      "metadata": {
        "id": "tuC_rHTBw1DR"
      },
      "outputs": [],
      "source": [
        "# This is a comment, so it won't be executed.\n",
        "# 2 + 2"
      ]
    },
    {
      "cell_type": "markdown",
      "metadata": {
        "id": "2IDJbX-lw7ul"
      },
      "source": [
        "#### b. Variable assignment\n",
        "\n",
        "You can create a variable by typing the variable name, followed by an equals sign, followed by the value of the variable."
      ]
    },
    {
      "cell_type": "code",
      "execution_count": null,
      "metadata": {
        "id": "d7yG4ETTxE_z"
      },
      "outputs": [],
      "source": [
        "my_variable = 3"
      ]
    },
    {
      "cell_type": "markdown",
      "metadata": {
        "id": "SAzOBoudw9UZ"
      },
      "source": [
        "Once you have saved a variable, you can use that variable, even in different Jupyter cells:\n"
      ]
    },
    {
      "cell_type": "code",
      "execution_count": null,
      "metadata": {
        "colab": {
          "base_uri": "https://localhost:8080/"
        },
        "id": "g9sLNWvfxO5a",
        "outputId": "bd615cbf-ec1e-4dc3-bd06-a2170b2635e6"
      },
      "outputs": [
        {
          "data": {
            "text/plain": [
              "6"
            ]
          },
          "execution_count": 3,
          "metadata": {},
          "output_type": "execute_result"
        }
      ],
      "source": [
        "twice_my_variable = my_variable * 2\n",
        "twice_my_variable"
      ]
    },
    {
      "cell_type": "markdown",
      "metadata": {
        "id": "jfuZqVA-xT5y"
      },
      "source": [
        "You can also change the value of a variable:"
      ]
    },
    {
      "cell_type": "code",
      "execution_count": null,
      "metadata": {
        "colab": {
          "base_uri": "https://localhost:8080/"
        },
        "id": "CzbgOR_kxZhG",
        "outputId": "86e28d0a-56db-4616-97be-178521dee91f"
      },
      "outputs": [
        {
          "name": "stdout",
          "output_type": "stream",
          "text": [
            "My number initially is: 4\n",
            "My number now is: 7\n"
          ]
        }
      ],
      "source": [
        "my_number = 4\n",
        "print(\"My number initially is:\", my_number) # Here we use the print function to display output\n",
        "\n",
        "my_number = my_number + 3\n",
        "print(\"My number now is:\", my_number)"
      ]
    },
    {
      "cell_type": "markdown",
      "metadata": {
        "id": "KlqGO2GTxXsB"
      },
      "source": [
        "In the cell below, create a variable called ``dozen`` and set it equal to 12. Then create another variable called ``bakers_dozen`` defined as ``dozen + 1``. Then print out both of their values.\n"
      ]
    },
    {
      "cell_type": "code",
      "execution_count": null,
      "metadata": {
        "id": "uxkPodxNxofi"
      },
      "outputs": [],
      "source": [
        "### EXERCISE 1\n",
        "\n",
        "# TODO: define a variable called dozen and set it equal to 12\n",
        "\n",
        "\n",
        "# TODO: define a variable called bakers_dozen and set it equal to dozen + 1\n",
        "\n",
        "\n",
        "# TODO: print out the values of dozen and bakers_dozen\n",
        "\n"
      ]
    },
    {
      "cell_type": "markdown",
      "metadata": {
        "id": "gR8gMNaHteoS"
      },
      "source": [
        "## Python Syntax\n",
        "\n",
        "*Python* was originally developed as a teaching language, but its ease of use and clean syntax have led it to be embraced by beginners and experts alike.\n",
        "The cleanliness of Python's syntax has led some to call it \"executable pseudocode\", and indeed my own experience has been that it is often much easier to read and understand a Python script than to read a similar script written in, say, C.\n",
        "Here we'll begin to discuss the main features of Python's syntax.\n",
        "\n",
        "Syntax refers to the structure of the language (i.e., what constitutes a correctly-formed program).\n",
        "For the time being, we'll not focus on the semantics – the meaning of the words and symbols within the syntax – but will return to this at a later point.\n",
        "\n",
        "Consider the following code example:"
      ]
    },
    {
      "cell_type": "code",
      "execution_count": null,
      "metadata": {
        "id": "Z5Q7U5fAteoU",
        "outputId": "2a2e6f08-6607-4d60-e1b5-b6aa42ee21c1"
      },
      "outputs": [
        {
          "name": "stdout",
          "output_type": "stream",
          "text": [
            "lower: [0, 1, 2, 3, 4]\n",
            "upper: [5, 6, 7, 8, 9]\n"
          ]
        }
      ],
      "source": [
        "# set the midpoint\n",
        "midpoint = 5\n",
        "\n",
        "# make two empty lists\n",
        "lower = []; upper = []\n",
        "\n",
        "# split the numbers into lower and upper\n",
        "for i in range(10):\n",
        "    if (i < midpoint):\n",
        "        lower.append(i)\n",
        "    else:\n",
        "        upper.append(i)\n",
        "        \n",
        "print(\"lower:\", lower)\n",
        "print(\"upper:\", upper)"
      ]
    },
    {
      "cell_type": "markdown",
      "metadata": {
        "id": "jrcU9-igteoW"
      },
      "source": [
        "This script is a bit silly, but it compactly illustrates several of the important aspects of Python syntax.\n",
        "Let's walk through it and discuss some of the syntactical features of Python"
      ]
    },
    {
      "cell_type": "markdown",
      "metadata": {
        "id": "q-pUTg7yteoW"
      },
      "source": [
        "## Comments Are Marked by ``#``\n",
        "The script starts with a comment:\n",
        "``` python\n",
        "# set the midpoint\n",
        "```\n",
        "Comments in Python are indicated by a pound sign (``#``), and anything on the line following the pound sign is ignored by the interpreter.\n",
        "This means, for example, that you can have stand-alone comments like the one just shown, as well as inline comments that follow a statement. For example:\n",
        "``` python\n",
        "x += 2  # shorthand for x = x + 2\n",
        "```"
      ]
    },
    {
      "cell_type": "markdown",
      "metadata": {
        "id": "_hm4LmY9teoX"
      },
      "source": [
        "## End-of-Line Terminates a Statement\n",
        "The next line in the script is\n",
        "``` python\n",
        "midpoint = 5\n",
        "```\n",
        "This is an assignment operation, where we've created a variable named ``midpoint`` and assigned it the value ``5``.\n",
        "Notice that the end of this statement is simply marked by the end of the line.\n",
        "\n",
        "In Python, if you'd like a statement to continue to the next line, it is possible to use the \"``\\``\" marker to indicate this:"
      ]
    },
    {
      "cell_type": "code",
      "execution_count": null,
      "metadata": {
        "id": "E7q1BkhdteoY"
      },
      "outputs": [],
      "source": [
        "x = 1 + 2 + 3 + 4 +\\\n",
        "    5 + 6 + 7 + 8"
      ]
    },
    {
      "cell_type": "markdown",
      "metadata": {
        "id": "cMkNOfywteoY"
      },
      "source": [
        "It is also possible to continue expressions on the next line within parentheses, without using the \"``\\``\" marker:"
      ]
    },
    {
      "cell_type": "code",
      "execution_count": null,
      "metadata": {
        "id": "oPaC5XActeoZ"
      },
      "outputs": [],
      "source": [
        "x = (1 + 2 + 3 + 4 +\n",
        "     5 + 6 + 7 + 8)"
      ]
    },
    {
      "cell_type": "markdown",
      "metadata": {
        "id": "z63kF4Tgteoa"
      },
      "source": [
        "## Indentation: Whitespace Matters!\n",
        "Next, we get to the main block of code:\n",
        "``` Python\n",
        "for i in range(10):\n",
        "    if i < midpoint:\n",
        "        lower.append(i)\n",
        "    else:\n",
        "        upper.append(i)\n",
        "```\n",
        "This is a compound control-flow statement including a loop and a conditional – we'll look at these types of statements in a moment.\n",
        "For now, consider that this demonstrates what is perhaps the most controversial feature of Python's syntax: whitespace is meaningful!\n",
        "\n",
        "In programming languages, a *block* of code is a set of statements that should be treated as a unit.\n",
        "In C, for example, code blocks are denoted by curly braces:\n",
        "``` C\n",
        "// C code\n",
        "for(int i=0; i<100; i++)\n",
        "   {\n",
        "      // curly braces indicate code block\n",
        "      total += i;\n",
        "   }\n",
        "```\n",
        "In Python, code blocks are denoted by *indentation*:\n",
        "``` python\n",
        "for i in range(100):\n",
        "    # indentation indicates code block\n",
        "    total += i\n",
        "```\n",
        "In Python, indented code blocks are always preceded by a colon (``:``) on the previous line."
      ]
    },
    {
      "cell_type": "markdown",
      "metadata": {
        "id": "wwYXrDVmteoa"
      },
      "source": [
        "The use of indentation helps to enforce the uniform, readable style that many find appealing in Python code.\n",
        "But it might be confusing to the uninitiated; for example, the following two snippets will produce different results:\n",
        "```python\n",
        ">>> if x < 4:         >>> if x < 4:\n",
        "...     y = x * 2     ...     y = x * 2\n",
        "...     print(x)      ... print(x)\n",
        "```\n",
        "In the snippet on the left, ``print(x)`` is in the indented block, and will be executed only if ``x`` is less than ``4``.\n",
        "In the snippet on the right ``print(x)`` is outside the block, and will be executed regardless of the value of ``x``!"
      ]
    },
    {
      "cell_type": "markdown",
      "metadata": {
        "id": "1v97hLO1teob"
      },
      "source": [
        "## Whitespace *Within* Lines Does Not Matter\n",
        "While the mantra of *meaningful whitespace* holds true for whitespace *before* lines (which indicate a code block), white space *within* lines of Python code does not matter.\n",
        "For example, all three of these expressions are equivalent:"
      ]
    },
    {
      "cell_type": "code",
      "execution_count": null,
      "metadata": {
        "id": "lE0bL4OHteob"
      },
      "outputs": [],
      "source": [
        "x=1+2\n",
        "x = 1 + 2\n",
        "x             =        1    +                2"
      ]
    },
    {
      "cell_type": "markdown",
      "metadata": {
        "id": "qJJ7sVbbteob"
      },
      "source": [
        "Abusing this flexibility can lead to issues with code readibility – in fact, abusing white space is often one of the primary means of intentionally obfuscating code (which some people do for sport).\n",
        "Using whitespace effectively can lead to much more readable code, \n",
        "especially in cases where operators follow each other – compare the following two expressions for exponentiating by a negative number:\n",
        "``` python\n",
        "x=10**-2\n",
        "```\n",
        "to\n",
        "``` python\n",
        "x = 10 ** -2\n",
        "```\n",
        "I find the second version with spaces much more easily readable at a single glance.\n",
        "Most Python style guides recommend using a single space around binary operators, and no space around unary operators."
      ]
    },
    {
      "cell_type": "code",
      "execution_count": null,
      "metadata": {
        "id": "5p04bHEZ0fiZ"
      },
      "outputs": [],
      "source": []
    }
  ],
  "metadata": {
    "anaconda-cloud": {},
    "colab": {
      "provenance": [],
      "include_colab_link": true
    },
    "kernelspec": {
      "display_name": "Python 3.8.10 64-bit",
      "language": "python",
      "name": "python3"
    },
    "language_info": {
      "codemirror_mode": {
        "name": "ipython",
        "version": 3
      },
      "file_extension": ".py",
      "mimetype": "text/x-python",
      "name": "python",
      "nbconvert_exporter": "python",
      "pygments_lexer": "ipython3",
      "version": "3.8.10"
    },
    "vscode": {
      "interpreter": {
        "hash": "31f2aee4e71d21fbe5cf8b01ff0e069b9275f58929596ceb00d14d90e3e16cd6"
      }
    }
  },
  "nbformat": 4,
  "nbformat_minor": 0
}