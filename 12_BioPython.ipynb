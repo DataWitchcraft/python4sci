{
  "cells": [
    {
      "cell_type": "markdown",
      "metadata": {
        "id": "view-in-github",
        "colab_type": "text"
      },
      "source": [
        "<a href=\"https://colab.research.google.com/github/DataWitchcraft/python4sci/blob/main/12_BioPython.ipynb\" target=\"_parent\"><img src=\"https://colab.research.google.com/assets/colab-badge.svg\" alt=\"Open In Colab\"/></a>"
      ]
    },
    {
      "cell_type": "markdown",
      "metadata": {
        "id": "_B76xFCTLcy-"
      },
      "source": [
        "#BioPython\n",
        "\n",
        "Biopython is a collection of freely available Python tools for computational molecular biology. It has parsers (helpers for reading) many common file formats used in bioinformatics tools and databases like BLAST, ClustalW, FASTA, GenBank, PubMed ExPASy, SwissProt, and many more. Biopython provides modules to connect to popular on-line services like NCBI’s Blast, Entrez and PubMed or ExPASy’s Swiss-Prot, UniProt and Prosite."
      ]
    },
    {
      "cell_type": "code",
      "execution_count": null,
      "metadata": {
        "colab": {
          "base_uri": "https://localhost:8080/"
        },
        "id": "XLoEjD7GREWe",
        "outputId": "71f405b2-a933-4d47-a876-638decd6b55c"
      },
      "outputs": [
        {
          "output_type": "stream",
          "name": "stdout",
          "text": [
            "\u001b[K     |████████████████████████████████| 270 kB 10.3 MB/s \n",
            "\u001b[K     |████████████████████████████████| 2.6 MB 49.8 MB/s \n",
            "\u001b[?25h"
          ]
        }
      ],
      "source": [
        "# installs BioPython to Colab\n",
        "!pip install -qq Bio"
      ]
    },
    {
      "cell_type": "markdown",
      "source": [],
      "metadata": {
        "id": "MCimBR0FUpAl"
      }
    },
    {
      "cell_type": "code",
      "source": [
        "# this downloades ls_orchid.fasta and ls_orchid.gbk files into data folder\n",
        "!mkdir data\n",
        "!wget https://raw.githubusercontent.com/DataWitchcraft/python4sci/main/data/ls_orchid_small.fasta\n",
        "!wget https://raw.githubusercontent.com/DataWitchcraft/python4sci/main/data/ls_orchid_small.gbk\n",
        "!wget http://ftp.ensembl.org/pub/release-107/fasta/homo_sapiens/cdna/Homo_sapiens.GRCh38.cdna.abinitio.fa.gz\n",
        "!mv ls_orchid_small.* Homo_sapiens.GRCh38.cdna.abinitio.fa.gz data/\n",
        "!gunzip data/Homo_sapiens.GRCh38.cdna.abinitio.fa.gz\n",
        "!ls -hl data"
      ],
      "metadata": {
        "colab": {
          "base_uri": "https://localhost:8080/"
        },
        "id": "PT4WmOHwUqvm",
        "outputId": "35eadc21-4060-4348-ceae-814f93c8fa76"
      },
      "execution_count": null,
      "outputs": [
        {
          "output_type": "stream",
          "name": "stdout",
          "text": [
            "--2022-10-20 12:57:24--  https://raw.githubusercontent.com/DataWitchcraft/python4sci/main/data/ls_orchid_small.fasta\n",
            "Resolving raw.githubusercontent.com (raw.githubusercontent.com)... 185.199.108.133, 185.199.109.133, 185.199.110.133, ...\n",
            "Connecting to raw.githubusercontent.com (raw.githubusercontent.com)|185.199.108.133|:443... connected.\n",
            "HTTP request sent, awaiting response... 200 OK\n",
            "Length: 5843 (5.7K) [text/plain]\n",
            "Saving to: ‘ls_orchid_small.fasta’\n",
            "\n",
            "\rls_orchid_small.fas   0%[                    ]       0  --.-KB/s               \rls_orchid_small.fas 100%[===================>]   5.71K  --.-KB/s    in 0s      \n",
            "\n",
            "2022-10-20 12:57:24 (42.9 MB/s) - ‘ls_orchid_small.fasta’ saved [5843/5843]\n",
            "\n",
            "--2022-10-20 12:57:24--  https://raw.githubusercontent.com/DataWitchcraft/python4sci/main/data/ls_orchid_small.gbk\n",
            "Resolving raw.githubusercontent.com (raw.githubusercontent.com)... 185.199.111.133, 185.199.108.133, 185.199.110.133, ...\n",
            "Connecting to raw.githubusercontent.com (raw.githubusercontent.com)|185.199.111.133|:443... connected.\n",
            "HTTP request sent, awaiting response... 200 OK\n",
            "Length: 17683 (17K) [text/plain]\n",
            "Saving to: ‘ls_orchid_small.gbk’\n",
            "\n",
            "ls_orchid_small.gbk 100%[===================>]  17.27K  --.-KB/s    in 0s      \n",
            "\n",
            "2022-10-20 12:57:24 (50.5 MB/s) - ‘ls_orchid_small.gbk’ saved [17683/17683]\n",
            "\n",
            "--2022-10-20 12:57:24--  http://ftp.ensembl.org/pub/release-107/fasta/homo_sapiens/cdna/Homo_sapiens.GRCh38.cdna.abinitio.fa.gz\n",
            "Resolving ftp.ensembl.org (ftp.ensembl.org)... 193.62.193.139\n",
            "Connecting to ftp.ensembl.org (ftp.ensembl.org)|193.62.193.139|:80... connected.\n",
            "HTTP request sent, awaiting response... 200 OK\n",
            "Length: 20601482 (20M) [application/x-gzip]\n",
            "Saving to: ‘Homo_sapiens.GRCh38.cdna.abinitio.fa.gz’\n",
            "\n",
            "Homo_sapiens.GRCh38 100%[===================>]  19.65M   479KB/s    in 42s     \n",
            "\n",
            "2022-10-20 12:58:07 (477 KB/s) - ‘Homo_sapiens.GRCh38.cdna.abinitio.fa.gz’ saved [20601482/20601482]\n",
            "\n",
            "total 68M\n",
            "-rw-r--r-- 1 root root  68M Jun  4 10:50 Homo_sapiens.GRCh38.cdna.abinitio.fa\n",
            "-rw-r--r-- 1 root root 5.8K Oct 20 12:57 ls_orchid_small.fasta\n",
            "-rw-r--r-- 1 root root  18K Oct 20 12:57 ls_orchid_small.gbk\n"
          ]
        }
      ]
    },
    {
      "cell_type": "markdown",
      "metadata": {
        "id": "VBG92RoQM9Ki"
      },
      "source": [
        "## Working with sequences\n",
        "\n",
        "Disputably (of course!), the central object in bioinformatics is the sequence. Most of the time when we think about sequences we have in my mind a string of letters like ‘AGTACACTGGT’. You can create such Seq object with this sequence as follows. "
      ]
    },
    {
      "cell_type": "code",
      "execution_count": null,
      "metadata": {
        "id": "zwSHXM-kRMRg",
        "outputId": "3909b112-eacd-497d-910a-ebf0460153dc",
        "colab": {
          "base_uri": "https://localhost:8080/"
        }
      },
      "outputs": [
        {
          "output_type": "execute_result",
          "data": {
            "text/plain": [
              "Seq('ATGGCCATTGTAATGGGCCGCTAG')"
            ]
          },
          "metadata": {},
          "execution_count": 3
        }
      ],
      "source": [
        "from Bio.Seq import Seq\n",
        "my_seq = Seq(\"ATGGCCATTGTAATGGGCCGCTAG\")\n",
        "my_seq"
      ]
    },
    {
      "cell_type": "markdown",
      "metadata": {
        "id": "Rjr8Lyn0NkxZ"
      },
      "source": [
        "The `Seq` object differs from the Python string in the methods it supports. You can’t do this with a plain string:"
      ]
    },
    {
      "cell_type": "code",
      "execution_count": null,
      "metadata": {
        "id": "u4LMtkVeNhC3",
        "outputId": "ad94ec08-7c40-4c38-86e6-c88a2aa85762",
        "colab": {
          "base_uri": "https://localhost:8080/"
        }
      },
      "outputs": [
        {
          "output_type": "execute_result",
          "data": {
            "text/plain": [
              "Seq('TACCGGTAACATTACCCGGCGATC')"
            ]
          },
          "metadata": {},
          "execution_count": 4
        }
      ],
      "source": [
        "my_seq.complement()"
      ]
    },
    {
      "cell_type": "code",
      "execution_count": null,
      "metadata": {
        "id": "oARXhK8sT0CZ",
        "outputId": "73ba031e-91db-4083-99e6-5af57d8b1c27",
        "colab": {
          "base_uri": "https://localhost:8080/"
        }
      },
      "outputs": [
        {
          "output_type": "execute_result",
          "data": {
            "text/plain": [
              "Seq('CTAGCGGCCCATTACAATGGCCAT')"
            ]
          },
          "metadata": {},
          "execution_count": 5
        }
      ],
      "source": [
        "my_seq.reverse_complement()"
      ]
    },
    {
      "cell_type": "code",
      "execution_count": null,
      "metadata": {
        "id": "dS34LcLTT0CZ",
        "outputId": "e3971637-d23f-4be0-fa2c-8af296475e7b",
        "colab": {
          "base_uri": "https://localhost:8080/"
        }
      },
      "outputs": [
        {
          "output_type": "execute_result",
          "data": {
            "text/plain": [
              "Seq('AUGGCCAUUGUAAUGGGCCGCUAG')"
            ]
          },
          "metadata": {},
          "execution_count": 6
        }
      ],
      "source": [
        "my_seq.transcribe()"
      ]
    },
    {
      "cell_type": "code",
      "execution_count": null,
      "metadata": {
        "id": "s8Z_JMDFT0Ca",
        "outputId": "bc8c0f52-ddc0-4b54-bbfd-52479b5106d7",
        "colab": {
          "base_uri": "https://localhost:8080/"
        }
      },
      "outputs": [
        {
          "output_type": "execute_result",
          "data": {
            "text/plain": [
              "Seq('MAIVMGR*')"
            ]
          },
          "metadata": {},
          "execution_count": 7
        }
      ],
      "source": [
        "my_seq.transcribe().translate()"
      ]
    },
    {
      "cell_type": "code",
      "execution_count": null,
      "metadata": {
        "id": "NIw1mlOUT0Cb",
        "outputId": "49e05467-36b7-43ec-aadf-bb701f590d55",
        "colab": {
          "base_uri": "https://localhost:8080/"
        }
      },
      "outputs": [
        {
          "output_type": "execute_result",
          "data": {
            "text/plain": [
              "54.166666666666664"
            ]
          },
          "metadata": {},
          "execution_count": 8
        }
      ],
      "source": [
        "from Bio.SeqUtils import GC\n",
        "\n",
        "GC(my_seq)"
      ]
    },
    {
      "cell_type": "markdown",
      "metadata": {
        "id": "wLeeCQu3T0Cb"
      },
      "source": [
        "You can always convert `Seq` back to string."
      ]
    },
    {
      "cell_type": "code",
      "execution_count": null,
      "metadata": {
        "id": "yzPmdAfUT0Cc",
        "outputId": "6616c02b-c949-495a-ba7d-4f24eba81722",
        "colab": {
          "base_uri": "https://localhost:8080/",
          "height": 35
        }
      },
      "outputs": [
        {
          "output_type": "execute_result",
          "data": {
            "text/plain": [
              "'ATGGCCATTGTAATGGGCCGCTAG'"
            ],
            "application/vnd.google.colaboratory.intrinsic+json": {
              "type": "string"
            }
          },
          "metadata": {},
          "execution_count": 9
        }
      ],
      "source": [
        "str(my_seq)"
      ]
    },
    {
      "cell_type": "markdown",
      "metadata": {
        "id": "WHVHozbAT0Cc"
      },
      "source": [
        "The next most important class is the `SeqRecord` or Sequence Record. This holds a sequence (as a Seq object) with additional annotation including an identifier, name and description.\n",
        "\n",
        "## Parsing sequence file formats with `Bio.SeqIO`\n",
        "\n",
        "A large part of much bioinformatics work involves dealing with the many types of file formats designed to hold biological data. These files are loaded with interesting biological data, and a special challenge is parsing these files into a format so that you can manipulate them with some kind of programming language. However the task of parsing these files can be frustrated by the fact that the formats can change quite regularly, and that formats may contain small subtleties which can break even the most well designed parsers.\n",
        "\n",
        "We start with some sequence data from Lady Slipper Orchids (if you wonder why, have a look at some [Lady Slipper Orchids photos](https://www.flickr.com/search/?q=lady+slipper+orchid&s=int&z=t) on Flickr, or try a Google Image Search). If you open the lady slipper orchids FASTA file [ls_orchid_small.fasta](data/ls_orchid_small.fasta) in your favourite text editor, you’ll see that the file starts like this:\n",
        "\n",
        "```\n",
        ">gi|2765658|emb|Z78533.1|CIZ78533 C.irapeanum 5.8S rRNA gene and ITS1 and ITS2 DNA\n",
        "CGTAACAAGGTTTCCGTAGGTGAACCTGCGGAAGGATCATTGATGAGACCGTGGAATAAACGATCGAGTG\n",
        "AATCCGGAGGACCGGTGTACTCAGCTCACCGGGGGCATTGCTCCCGTGGTGACCCTGATTTGTTGTTGGG\n",
        "...\n",
        "```\n",
        "\n",
        "It contains 94 records, each has a line starting with “>” (greater-than symbol) followed by the sequence on one or more lines. You can easily read them all in Python:"
      ]
    },
    {
      "cell_type": "code",
      "execution_count": null,
      "metadata": {
        "id": "F_WEhGx_T0Cd",
        "outputId": "a727fe87-c840-4024-cac7-fd97c3a2fd65",
        "colab": {
          "base_uri": "https://localhost:8080/"
        }
      },
      "outputs": [
        {
          "output_type": "stream",
          "name": "stdout",
          "text": [
            "gi|2765658|emb|Z78533.1|CIZ78533\n",
            "Seq('CGTAACAAGGTTTCCGTAGGTGAACCTGCGGAAGGATCATTGATGAGACCGTGG...CGC')\n",
            "740\n",
            "gi|2765657|emb|Z78532.1|CCZ78532\n",
            "Seq('CGTAACAAGGTTTCCGTAGGTGAACCTGCGGAAGGATCATTGTTGAGACAACAG...GGC')\n",
            "753\n",
            "gi|2765656|emb|Z78531.1|CFZ78531\n",
            "Seq('CGTAACAAGGTTTCCGTAGGTGAACCTGCGGAAGGATCATTGTTGAGACAGCAG...TAA')\n",
            "748\n",
            "gi|2765655|emb|Z78530.1|CMZ78530\n",
            "Seq('CGTAACAAGGTTTCCGTAGGTGAACCTGCGGAAGGATCATTGTTGAAACAACAT...CAT')\n",
            "744\n",
            "gi|2765654|emb|Z78529.1|CLZ78529\n",
            "Seq('ACGGCGAGCTGCCGAAGGACATTGTTGAGACAGCAGAATATACGATTGAGTGAA...AAA')\n",
            "733\n",
            "gi|2765652|emb|Z78527.1|CYZ78527\n",
            "Seq('CGTAACAAGGTTTCCGTAGGTGAACCTGCGGAAGGATCATTGTTGAGACAGTAG...CCC')\n",
            "718\n",
            "gi|2765651|emb|Z78526.1|CGZ78526\n",
            "Seq('CGTAACAAGGTTTCCGTAGGTGAACCTGCGGAAGGATCATTGTTGAGACAGTAG...TGT')\n",
            "730\n"
          ]
        }
      ],
      "source": [
        "from Bio import SeqIO\n",
        "\n",
        "for seq_record in SeqIO.parse(\"data/ls_orchid_small.fasta\", \"fasta\"):\n",
        "     print(seq_record.id)\n",
        "     print(repr(seq_record.seq))\n",
        "     print(len(seq_record))"
      ]
    },
    {
      "cell_type": "markdown",
      "metadata": {
        "id": "S7t14lqyT0Cd"
      },
      "source": [
        "Now let’s load the GenBank file [ls_orchid_small.gbk](data/ls_orchid_small.gbk) instead - \n",
        "notice that the code to do this is almost identical to the snippet used above for the FASTA file - the only difference is we change the filename and the format string:"
      ]
    },
    {
      "cell_type": "code",
      "execution_count": null,
      "metadata": {
        "id": "pBCpz4kiT0Cd",
        "outputId": "687b51d7-44d4-4d9b-a7b7-3c628e3e3972",
        "colab": {
          "base_uri": "https://localhost:8080/"
        }
      },
      "outputs": [
        {
          "output_type": "stream",
          "name": "stdout",
          "text": [
            "Z78533.1\n",
            "Seq('CGTAACAAGGTTTCCGTAGGTGAACCTGCGGAAGGATCATTGATGAGACCGTGG...CGC')\n",
            "740\n",
            "Z78532.1\n",
            "Seq('CGTAACAAGGTTTCCGTAGGTGAACCTGCGGAAGGATCATTGTTGAGACAACAG...GGC')\n",
            "753\n",
            "Z78531.1\n",
            "Seq('CGTAACAAGGTTTCCGTAGGTGAACCTGCGGAAGGATCATTGTTGAGACAGCAG...TAA')\n",
            "748\n",
            "Z78530.1\n",
            "Seq('CGTAACAAGGTTTCCGTAGGTGAACCTGCGGAAGGATCATTGTTGAAACAACAT...CAT')\n",
            "744\n",
            "Z78529.1\n",
            "Seq('ACGGCGAGCTGCCGAAGGACATTGTTGAGACAGCAGAATATACGATTGAGTGAA...AAA')\n",
            "733\n",
            "Z78527.1\n",
            "Seq('CGTAACAAGGTTTCCGTAGGTGAACCTGCGGAAGGATCATTGTTGAGACAGTAG...CCC')\n",
            "718\n",
            "Z78526.1\n",
            "Seq('CGTAACAAGGTTTCCGTAGGTGAACCTGCGGAAGGATCATTGTTGAGACAGTAG...TGT')\n",
            "730\n"
          ]
        }
      ],
      "source": [
        "for seq_record in SeqIO.parse(\"data/ls_orchid_small.gbk\", \"genbank\"):\n",
        "     print(seq_record.id)\n",
        "     print(repr(seq_record.seq))\n",
        "     print(len(seq_record))"
      ]
    },
    {
      "cell_type": "markdown",
      "metadata": {
        "id": "1KIC-C9wT0Ce"
      },
      "source": [
        "## Final exercise\n",
        "\n",
        "1. Imagine you are interested in GC-content of human coding DNA (cDNA) sequences, e.g. you have found the gene with GC-content 75%. Is it high? Is it extreme? I have already downloaded for you the file with human cDNA sequences into `data` folder but try to locate it in [Ensembl](https://www.ensembl.org/info/data/ftp/index.html). For learning purposes, let us agree to use \"abinitio\" version with gene predictions (because the file is much smaller than all transcripts)."
      ]
    },
    {
      "cell_type": "markdown",
      "metadata": {
        "id": "XWNLRI3IT0Ce"
      },
      "source": [
        "2. Parse FASTA file and convert it into pandas `DataFrame` with columns `id` (Ensembl transcript id), `seq` (cDNA sequence), `GC` (GC percentage)."
      ]
    },
    {
      "cell_type": "code",
      "execution_count": null,
      "metadata": {
        "id": "QFKJVHnBT0Cf",
        "outputId": "79f2b558-16dc-4a75-a338-9edd4927b5b0",
        "colab": {
          "base_uri": "https://localhost:8080/"
        }
      },
      "outputs": [
        {
          "output_type": "execute_result",
          "data": {
            "text/plain": [
              "51756"
            ]
          },
          "metadata": {},
          "execution_count": 17
        }
      ],
      "source": [
        "import pandas as pd\n",
        "from Bio import SeqIO\n",
        "\n",
        "count = 0\n",
        "ids = []\n",
        "seqs = []\n",
        "GCs = []\n",
        "\n",
        "for seq_record in SeqIO.parse(\"data/Homo_sapiens.GRCh38.cdna.abinitio.fa\", \"fasta\"):\n",
        "     ids.append(seq_record.id)\n",
        "     seqs.append(str(seq_record.seq))\n",
        "     GCs.append(GC(seq_record.seq))\n",
        "     count = count + 1\n",
        "\n",
        "count"
      ]
    },
    {
      "cell_type": "code",
      "source": [
        "cdna_df = pd.DataFrame(#YOUR CODE HERE)\n",
        "cdna_df"
      ],
      "metadata": {
        "id": "5C9BXaH0e5Xi"
      },
      "execution_count": null,
      "outputs": []
    },
    {
      "cell_type": "markdown",
      "metadata": {
        "id": "-HSGpmq4T0Cf"
      },
      "source": [
        "3. Calculate mean GC percentage, visualize GC percentage by a histogram ([seaborn.histplot](https://seaborn.pydata.org/generated/seaborn.histplot.html))"
      ]
    },
    {
      "cell_type": "code",
      "source": [
        "# calculate the mean of the column GC in cdna_df"
      ],
      "metadata": {
        "id": "LuYElLGyfiMk"
      },
      "execution_count": null,
      "outputs": []
    },
    {
      "cell_type": "code",
      "execution_count": null,
      "metadata": {
        "id": "kBeQYdIqT0Cf"
      },
      "outputs": [],
      "source": [
        "import seaborn as sns\n",
        "\n",
        "## YOUR CODE HERE"
      ]
    }
  ],
  "metadata": {
    "colab": {
      "provenance": [],
      "include_colab_link": true
    },
    "kernelspec": {
      "display_name": "Python 3.8.9 64-bit ('genomic_benchmarks')",
      "language": "python",
      "name": "python3"
    },
    "language_info": {
      "codemirror_mode": {
        "name": "ipython",
        "version": 3
      },
      "file_extension": ".py",
      "mimetype": "text/x-python",
      "name": "python",
      "nbconvert_exporter": "python",
      "pygments_lexer": "ipython3",
      "version": "3.8.9"
    },
    "vscode": {
      "interpreter": {
        "hash": "af167c304fdc99884e31a029277e630a5b00036f91292350fffdeed1d15b16ff"
      }
    }
  },
  "nbformat": 4,
  "nbformat_minor": 0
}