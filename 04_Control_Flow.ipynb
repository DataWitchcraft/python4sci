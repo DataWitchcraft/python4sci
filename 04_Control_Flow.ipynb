{
  "cells": [
    {
      "cell_type": "markdown",
      "metadata": {
        "id": "view-in-github",
        "colab_type": "text"
      },
      "source": [
        "<a href=\"https://colab.research.google.com/github/DataWitchcraft/python4sci/blob/main/04_Control_Flow.ipynb\" target=\"_parent\"><img src=\"https://colab.research.google.com/assets/colab-badge.svg\" alt=\"Open In Colab\"/></a>"
      ]
    },
    {
      "cell_type": "markdown",
      "metadata": {
        "id": "FStDTzuSUmDr"
      },
      "source": [
        "# Control Flow"
      ]
    },
    {
      "cell_type": "markdown",
      "metadata": {
        "id": "K5sQxWxPUmDr"
      },
      "source": [
        "*Control flow* is where the rubber really meets the road in programming.\n",
        "Without it, a program is simply a list of statements that are sequentially executed.\n",
        "With control flow, you can execute certain code blocks conditionally and/or repeatedly: these basic building blocks can be combined to create surprisingly sophisticated programs!\n",
        "\n",
        "Here we'll cover *conditional statements* (including \"``if``\", \"``elif``\", and \"``else``\"), *loop statements* ( \"``for``\" and \"``while``\")."
      ]
    },
    {
      "cell_type": "markdown",
      "metadata": {
        "id": "OMJFdxTlUmDs"
      },
      "source": [
        "## Conditional Statements: ``if``-``elif``-``else``:\n",
        "Conditional statements, often referred to as *if-then* statements, allow the programmer to execute certain pieces of code depending on some Boolean condition.\n",
        "A basic example of a Python conditional statement is this:"
      ]
    },
    {
      "cell_type": "code",
      "execution_count": null,
      "metadata": {
        "id": "KUX2wrWNUmDs",
        "outputId": "23297054-043a-4334-ee3e-920e30a8fa25"
      },
      "outputs": [
        {
          "name": "stdout",
          "output_type": "stream",
          "text": [
            "-15 is negative\n"
          ]
        }
      ],
      "source": [
        "x = -15\n",
        "\n",
        "if x == 0:\n",
        "    print(x, \"is zero\")\n",
        "elif x > 0:\n",
        "    print(x, \"is positive\")\n",
        "elif x < 0:\n",
        "    print(x, \"is negative\")\n",
        "else:\n",
        "    print(x, \"is unlike anything I've ever seen...\")"
      ]
    },
    {
      "cell_type": "markdown",
      "metadata": {
        "id": "0LK7zNiCUmDu"
      },
      "source": [
        "Note especially the use of colons (``:``) and whitespace to denote separate blocks of code.\n",
        "\n",
        "Python adopts the ``if`` and ``else`` often used in other languages; its more unique keyword is ``elif``, a contraction of \"else if\".\n",
        "In these conditional clauses, ``elif`` and ``else`` blocks are optional; additionally, you can optinally include as few or as many ``elif`` statements as you would like."
      ]
    },
    {
      "cell_type": "code",
      "execution_count": null,
      "metadata": {
        "id": "dQj9vOXlWi-V"
      },
      "outputs": [],
      "source": [
        "### EXERCISE\n",
        "\n",
        "x = 2  # experiment with this number\n",
        "\n",
        "# Teach Python to play FizzBuzz:\n",
        "# * if x is divisible by 3, print \"Fizz\"\n",
        "# * if x is divisible by 5, print \"Buzz\"\n",
        "# * if x is divisible by 15, print \"FizzBuzz\"\n",
        "# * otherwise print just the value of x\n",
        "\n",
        "# hint: x is divisible by k if x % k == 0\n",
        "# hint2: should you first check if x is divisible by 15 or by 3/5, why?"
      ]
    },
    {
      "cell_type": "markdown",
      "metadata": {
        "id": "gzf2xlgDUmDv"
      },
      "source": [
        "## ``for`` loops\n",
        "Loops in Python are a way to repeatedly execute some code statement.\n",
        "So, for example, if we'd like to print each of the items in a list, we can use a ``for`` loop:"
      ]
    },
    {
      "cell_type": "code",
      "execution_count": null,
      "metadata": {
        "id": "OLo8FoEyUmDv",
        "outputId": "e83c07a9-4f1a-49ed-a17f-3f673add2bf1"
      },
      "outputs": [
        {
          "name": "stdout",
          "output_type": "stream",
          "text": [
            "2 3 5 7 "
          ]
        }
      ],
      "source": [
        "for N in [2, 3, 5, 7]:\n",
        "    print(N, end=' ') # print all on same line"
      ]
    },
    {
      "cell_type": "code",
      "execution_count": null,
      "metadata": {
        "id": "qgLh4MQhneFA",
        "outputId": "0893783a-4ae9-4cb8-feef-acf619a26e63"
      },
      "outputs": [
        {
          "name": "stdout",
          "output_type": "stream",
          "text": [
            "Star Wars and Zombies\n",
            "The Godfather and Zombies\n",
            "Forrest Gump and Zombies\n",
            "Alien and Zombies\n",
            "American Beauty and Zombies\n"
          ]
        }
      ],
      "source": [
        "movies = ['Star Wars', 'The Godfather', 'Forrest Gump', 'Alien', 'American Beauty']\n",
        "for movie in movies:\n",
        "    print(movie + ' and Zombies')"
      ]
    },
    {
      "cell_type": "markdown",
      "metadata": {
        "id": "wEmBS1j4UmDw"
      },
      "source": [
        "Notice the simplicity of the ``for`` loop: we specify the variable we want to use, the sequence we want to loop over, and use the \"``in``\" operator to link them together in an intuitive and readable way.\n",
        "More precisely, the object to the right of the \"``in``\" can be any Python *iterator*.\n",
        "An iterator can be thought of as a generalized sequence, and we'll discuss them in [Iterators](10-Iterators.ipynb).\n",
        "\n",
        "For example, one of the most commonly-used iterators in Python is the ``range`` object, which generates a sequence of numbers:"
      ]
    },
    {
      "cell_type": "code",
      "execution_count": null,
      "metadata": {
        "id": "ZHT-zRVMUmDw",
        "outputId": "fbef1a28-0f28-4071-e6ec-aaec65f7dc11"
      },
      "outputs": [
        {
          "name": "stdout",
          "output_type": "stream",
          "text": [
            "0 1 2 3 4 5 6 7 8 9 "
          ]
        }
      ],
      "source": [
        "for i in range(10):\n",
        "    print(i, end=' ')"
      ]
    },
    {
      "cell_type": "markdown",
      "metadata": {
        "id": "mTCa1TBhUmDx"
      },
      "source": [
        "Note that the range starts at zero by default, and that by convention the top of the range is not included in the output.\n",
        "Range objects can also have more complicated values:"
      ]
    },
    {
      "cell_type": "code",
      "execution_count": null,
      "metadata": {
        "id": "8BWYvhPXUmDx",
        "outputId": "c1f6b066-e3fe-4de5-95d0-a061835132a9"
      },
      "outputs": [
        {
          "data": {
            "text/plain": [
              "[5, 6, 7, 8, 9]"
            ]
          },
          "execution_count": 6,
          "metadata": {},
          "output_type": "execute_result"
        }
      ],
      "source": [
        "# range from 5 to 10\n",
        "list(range(5, 10))"
      ]
    },
    {
      "cell_type": "code",
      "execution_count": null,
      "metadata": {
        "id": "_yIbJ-BSUmDx",
        "outputId": "cb3a1741-a72a-460f-d402-a75872a8148e"
      },
      "outputs": [
        {
          "data": {
            "text/plain": [
              "[0, 2, 4, 6, 8]"
            ]
          },
          "execution_count": 7,
          "metadata": {},
          "output_type": "execute_result"
        }
      ],
      "source": [
        "# range from 0 to 10 by 2\n",
        "list(range(0, 10, 2))"
      ]
    },
    {
      "cell_type": "markdown",
      "metadata": {
        "id": "E7o9RSZdUmDy"
      },
      "source": [
        "You might notice that the meaning of ``range`` arguments is very similar to the slicing syntax that we covered in [Lists](06-Built-in-Data-Structures.ipynb#Lists).\n",
        "\n",
        "Note that the behavior of ``range()`` is one of the differences between Python 2 and Python 3: in Python 2, ``range()`` produces a list, while in Python 3, ``range()`` produces an iterable object."
      ]
    },
    {
      "cell_type": "code",
      "execution_count": null,
      "metadata": {
        "id": "wf08tzTUXddT"
      },
      "outputs": [],
      "source": [
        "### EXERCISE\n",
        "\n",
        "# TODO: Write a Python program to count the number of even and odd numbers in a list of numbers\n",
        "\n",
        "L = (1, 2, 3, 4, 5, 6, 7, 8, 9)\n",
        "\n",
        "# Expected output \n",
        "# number of even numbers: 4\n",
        "# number of odd numbers : 5\n",
        "\n",
        "# hint: create two variables `even` and `odd` that you set to 0 in the beginning\n",
        "# and update with every iteration to be the number of even/odd numbers seen so far"
      ]
    },
    {
      "cell_type": "markdown",
      "metadata": {
        "id": "bJycN3XiUmDy"
      },
      "source": [
        "## ``while`` loops\n",
        "The other type of loop in Python is a ``while`` loop, which iterates until some condition is met:"
      ]
    },
    {
      "cell_type": "code",
      "execution_count": null,
      "metadata": {
        "id": "VendJ6wUUmDy",
        "outputId": "534474f7-829e-45c3-f92c-b0ba4ccd1bcc"
      },
      "outputs": [
        {
          "name": "stdout",
          "output_type": "stream",
          "text": [
            "0 1 2 3 4 5 6 7 8 9 "
          ]
        }
      ],
      "source": [
        "i = 0\n",
        "while i < 10:\n",
        "    print(i, end=' ')\n",
        "    i += 1"
      ]
    },
    {
      "cell_type": "markdown",
      "metadata": {
        "id": "TwRQyyYUUmDz"
      },
      "source": [
        "The argument of the ``while`` loop is evaluated as a boolean statement, and the loop is executed until the statement evaluates to False."
      ]
    },
    {
      "cell_type": "code",
      "execution_count": null,
      "metadata": {
        "id": "jaEVq-AyYA6n"
      },
      "outputs": [],
      "source": [
        "### EXERCISE: \n",
        "\n",
        "n = 4\n",
        "\n",
        "# TODO: Print the following triangle of `n` stars\n",
        "#\n",
        "# * * * *\n",
        "# * * *\n",
        "# * *\n",
        "# *"
      ]
    }
  ],
  "metadata": {
    "anaconda-cloud": {},
    "colab": {
      "provenance": [],
      "include_colab_link": true
    },
    "kernelspec": {
      "display_name": "Python 3 (ipykernel)",
      "language": "python",
      "name": "python3"
    },
    "language_info": {
      "codemirror_mode": {
        "name": "ipython",
        "version": 3
      },
      "file_extension": ".py",
      "mimetype": "text/x-python",
      "name": "python",
      "nbconvert_exporter": "python",
      "pygments_lexer": "ipython3",
      "version": "3.8.13"
    },
    "vscode": {
      "interpreter": {
        "hash": "31f2aee4e71d21fbe5cf8b01ff0e069b9275f58929596ceb00d14d90e3e16cd6"
      }
    }
  },
  "nbformat": 4,
  "nbformat_minor": 0
}