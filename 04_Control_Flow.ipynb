{
  "cells": [
    {
      "cell_type": "markdown",
      "metadata": {
        "id": "view-in-github",
        "colab_type": "text"
      },
      "source": [
        "<a href=\"https://colab.research.google.com/github/DataWitchcraft/python4sci/blob/main/04_Control_Flow.ipynb\" target=\"_parent\"><img src=\"https://colab.research.google.com/assets/colab-badge.svg\" alt=\"Open In Colab\"/></a>"
      ]
    },
    {
      "cell_type": "markdown",
      "metadata": {
        "id": "FStDTzuSUmDr"
      },
      "source": [
        "# Control Flow"
      ]
    },
    {
      "cell_type": "markdown",
      "metadata": {
        "id": "K5sQxWxPUmDr"
      },
      "source": [
        "*Control flow* is where the rubber really meets the road in programming.\n",
        "Without it, a program is simply a list of statements that are sequentially executed.\n",
        "With control flow, you can execute certain code blocks conditionally and/or repeatedly: these basic building blocks can be combined to create surprisingly sophisticated programs!\n",
        "\n",
        "Here we'll cover *conditional statements* (including \"``if``\", \"``elif``\", and \"``else``\"), *loop statements* (including \"``for``\" and \"``while``\" and the accompanying \"``break``\", \"``continue``\", and \"``pass``\")."
      ]
    },
    {
      "cell_type": "markdown",
      "metadata": {
        "id": "OMJFdxTlUmDs"
      },
      "source": [
        "## Conditional Statements: ``if``-``elif``-``else``:\n",
        "Conditional statements, often referred to as *if-then* statements, allow the programmer to execute certain pieces of code depending on some Boolean condition.\n",
        "A basic example of a Python conditional statement is this:"
      ]
    },
    {
      "cell_type": "code",
      "execution_count": null,
      "metadata": {
        "id": "KUX2wrWNUmDs",
        "outputId": "23297054-043a-4334-ee3e-920e30a8fa25"
      },
      "outputs": [
        {
          "name": "stdout",
          "output_type": "stream",
          "text": [
            "-15 is negative\n"
          ]
        }
      ],
      "source": [
        "x = -15\n",
        "\n",
        "if x == 0:\n",
        "    print(x, \"is zero\")\n",
        "elif x > 0:\n",
        "    print(x, \"is positive\")\n",
        "elif x < 0:\n",
        "    print(x, \"is negative\")\n",
        "else:\n",
        "    print(x, \"is unlike anything I've ever seen...\")"
      ]
    },
    {
      "cell_type": "markdown",
      "metadata": {
        "id": "0LK7zNiCUmDu"
      },
      "source": [
        "Note especially the use of colons (``:``) and whitespace to denote separate blocks of code.\n",
        "\n",
        "Python adopts the ``if`` and ``else`` often used in other languages; its more unique keyword is ``elif``, a contraction of \"else if\".\n",
        "In these conditional clauses, ``elif`` and ``else`` blocks are optional; additionally, you can optinally include as few or as many ``elif`` statements as you would like."
      ]
    },
    {
      "cell_type": "code",
      "source": [
        "### EXERCISE\n",
        "\n",
        "x = 2  # experiment with this number\n",
        "\n",
        "# Teach Python to play FizzBuzz:\n",
        "# * if x is divisible by 3, print \"Fizz\"\n",
        "# * if x is divisible by 5, print \"Buzz\"\n",
        "# * if x is divisible by 15, print \"FizzBuzz\"\n",
        "# * otherwise print just the value of x"
      ],
      "metadata": {
        "id": "dQj9vOXlWi-V"
      },
      "execution_count": null,
      "outputs": []
    },
    {
      "cell_type": "markdown",
      "metadata": {
        "id": "gzf2xlgDUmDv"
      },
      "source": [
        "## ``for`` loops\n",
        "Loops in Python are a way to repeatedly execute some code statement.\n",
        "So, for example, if we'd like to print each of the items in a list, we can use a ``for`` loop:"
      ]
    },
    {
      "cell_type": "code",
      "execution_count": null,
      "metadata": {
        "id": "OLo8FoEyUmDv",
        "outputId": "e83c07a9-4f1a-49ed-a17f-3f673add2bf1"
      },
      "outputs": [
        {
          "name": "stdout",
          "output_type": "stream",
          "text": [
            "2 3 5 7 "
          ]
        }
      ],
      "source": [
        "for N in [2, 3, 5, 7]:\n",
        "    print(N, end=' ') # print all on same line"
      ]
    },
    {
      "cell_type": "markdown",
      "metadata": {
        "id": "wEmBS1j4UmDw"
      },
      "source": [
        "Notice the simplicity of the ``for`` loop: we specify the variable we want to use, the sequence we want to loop over, and use the \"``in``\" operator to link them together in an intuitive and readable way.\n",
        "More precisely, the object to the right of the \"``in``\" can be any Python *iterator*.\n",
        "An iterator can be thought of as a generalized sequence, and we'll discuss them in [Iterators](10-Iterators.ipynb).\n",
        "\n",
        "For example, one of the most commonly-used iterators in Python is the ``range`` object, which generates a sequence of numbers:"
      ]
    },
    {
      "cell_type": "code",
      "execution_count": null,
      "metadata": {
        "id": "ZHT-zRVMUmDw",
        "outputId": "fbef1a28-0f28-4071-e6ec-aaec65f7dc11"
      },
      "outputs": [
        {
          "name": "stdout",
          "output_type": "stream",
          "text": [
            "0 1 2 3 4 5 6 7 8 9 "
          ]
        }
      ],
      "source": [
        "for i in range(10):\n",
        "    print(i, end=' ')"
      ]
    },
    {
      "cell_type": "markdown",
      "metadata": {
        "id": "mTCa1TBhUmDx"
      },
      "source": [
        "Note that the range starts at zero by default, and that by convention the top of the range is not included in the output.\n",
        "Range objects can also have more complicated values:"
      ]
    },
    {
      "cell_type": "code",
      "execution_count": null,
      "metadata": {
        "id": "8BWYvhPXUmDx",
        "outputId": "c1f6b066-e3fe-4de5-95d0-a061835132a9"
      },
      "outputs": [
        {
          "data": {
            "text/plain": [
              "[5, 6, 7, 8, 9]"
            ]
          },
          "execution_count": 4,
          "metadata": {},
          "output_type": "execute_result"
        }
      ],
      "source": [
        "# range from 5 to 10\n",
        "list(range(5, 10))"
      ]
    },
    {
      "cell_type": "code",
      "execution_count": null,
      "metadata": {
        "id": "_yIbJ-BSUmDx",
        "outputId": "cb3a1741-a72a-460f-d402-a75872a8148e"
      },
      "outputs": [
        {
          "data": {
            "text/plain": [
              "[0, 2, 4, 6, 8]"
            ]
          },
          "execution_count": 5,
          "metadata": {},
          "output_type": "execute_result"
        }
      ],
      "source": [
        "# range from 0 to 10 by 2\n",
        "list(range(0, 10, 2))"
      ]
    },
    {
      "cell_type": "markdown",
      "metadata": {
        "id": "E7o9RSZdUmDy"
      },
      "source": [
        "You might notice that the meaning of ``range`` arguments is very similar to the slicing syntax that we covered in [Lists](06-Built-in-Data-Structures.ipynb#Lists).\n",
        "\n",
        "Note that the behavior of ``range()`` is one of the differences between Python 2 and Python 3: in Python 2, ``range()`` produces a list, while in Python 3, ``range()`` produces an iterable object."
      ]
    },
    {
      "cell_type": "code",
      "source": [
        "### EXERCISE\n",
        "\n",
        "# TODO: Write a Python program to count the number of even and odd numbers in a list of numbers\n",
        "\n",
        "L = (1, 2, 3, 4, 5, 6, 7, 8, 9)\n",
        "\n",
        "# Expected output \n",
        "# number of even numbers: 4\n",
        "# number of odd numbers : 5"
      ],
      "metadata": {
        "id": "wf08tzTUXddT"
      },
      "execution_count": null,
      "outputs": []
    },
    {
      "cell_type": "markdown",
      "metadata": {
        "id": "bJycN3XiUmDy"
      },
      "source": [
        "## ``while`` loops\n",
        "The other type of loop in Python is a ``while`` loop, which iterates until some condition is met:"
      ]
    },
    {
      "cell_type": "code",
      "execution_count": null,
      "metadata": {
        "id": "VendJ6wUUmDy",
        "outputId": "534474f7-829e-45c3-f92c-b0ba4ccd1bcc"
      },
      "outputs": [
        {
          "name": "stdout",
          "output_type": "stream",
          "text": [
            "0 1 2 3 4 5 6 7 8 9 "
          ]
        }
      ],
      "source": [
        "i = 0\n",
        "while i < 10:\n",
        "    print(i, end=' ')\n",
        "    i += 1"
      ]
    },
    {
      "cell_type": "markdown",
      "metadata": {
        "id": "TwRQyyYUUmDz"
      },
      "source": [
        "The argument of the ``while`` loop is evaluated as a boolean statement, and the loop is executed until the statement evaluates to False."
      ]
    },
    {
      "cell_type": "code",
      "source": [
        "### EXERCISE: \n",
        "\n",
        "n = 4\n",
        "\n",
        "# TODO: Print the following triangle of `n` stars\n",
        "#\n",
        "# * * * *\n",
        "# * * *\n",
        "# * *\n",
        "# *"
      ],
      "metadata": {
        "id": "jaEVq-AyYA6n"
      },
      "execution_count": null,
      "outputs": []
    },
    {
      "cell_type": "markdown",
      "metadata": {
        "id": "-W8F910yUmDz"
      },
      "source": [
        "## ``break`` and ``continue``: Fine-Tuning Your Loops\n",
        "There are two useful statements that can be used within loops to fine-tune how they are executed:\n",
        "\n",
        "- The ``break`` statement breaks-out of the loop entirely\n",
        "- The ``continue`` statement skips the remainder of the current loop, and goes to the next iteration\n",
        "\n",
        "These can be used in both ``for`` and ``while`` loops.\n",
        "\n",
        "Here is an example of using ``continue`` to print a string of odd numbers.\n",
        "In this case, the result could be accomplished just as well with an ``if-else`` statement, but sometimes the ``continue`` statement can be a more convenient way to express the idea you have in mind:"
      ]
    },
    {
      "cell_type": "code",
      "execution_count": null,
      "metadata": {
        "id": "W-8cgHyXUmD0",
        "outputId": "08f9cc03-b849-4362-c0b7-bd89271aa24c"
      },
      "outputs": [
        {
          "name": "stdout",
          "output_type": "stream",
          "text": [
            "1 3 5 7 9 11 13 15 17 19 "
          ]
        }
      ],
      "source": [
        "for n in range(20):\n",
        "    # if the remainder of n / 2 is 0, skip the rest of the loop\n",
        "    if n % 2 == 0:\n",
        "        continue\n",
        "    print(n, end=' ')"
      ]
    },
    {
      "cell_type": "markdown",
      "metadata": {
        "id": "7ThcRCoFUmD0"
      },
      "source": [
        "Here is an example of a ``break`` statement used for a less trivial task.\n",
        "This loop will fill a list with all Fibonacci numbers up to a certain value:"
      ]
    },
    {
      "cell_type": "code",
      "execution_count": null,
      "metadata": {
        "id": "qoQvT5SaUmD0",
        "outputId": "90c9ac66-c879-4b93-a668-53d871e10edd"
      },
      "outputs": [
        {
          "name": "stdout",
          "output_type": "stream",
          "text": [
            "[1, 1, 2, 3, 5, 8, 13, 21, 34, 55, 89]\n"
          ]
        }
      ],
      "source": [
        "a, b = 0, 1\n",
        "amax = 100\n",
        "L = []\n",
        "\n",
        "while True:\n",
        "    (a, b) = (b, a + b)\n",
        "    if a > amax:\n",
        "        break\n",
        "    L.append(a)\n",
        "\n",
        "print(L)"
      ]
    },
    {
      "cell_type": "markdown",
      "metadata": {
        "id": "PxmCyIwlUmD1"
      },
      "source": [
        "Notice that we use a ``while True`` loop, which will loop forever unless we have a break statement!"
      ]
    }
  ],
  "metadata": {
    "anaconda-cloud": {},
    "colab": {
      "provenance": [],
      "include_colab_link": true
    },
    "kernelspec": {
      "display_name": "Python 3.8.10 64-bit",
      "language": "python",
      "name": "python3"
    },
    "language_info": {
      "codemirror_mode": {
        "name": "ipython",
        "version": 3
      },
      "file_extension": ".py",
      "mimetype": "text/x-python",
      "name": "python",
      "nbconvert_exporter": "python",
      "pygments_lexer": "ipython3",
      "version": "3.8.10"
    },
    "vscode": {
      "interpreter": {
        "hash": "31f2aee4e71d21fbe5cf8b01ff0e069b9275f58929596ceb00d14d90e3e16cd6"
      }
    }
  },
  "nbformat": 4,
  "nbformat_minor": 0
}