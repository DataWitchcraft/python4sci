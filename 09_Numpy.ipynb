{
  "cells": [
    {
      "cell_type": "markdown",
      "metadata": {
        "colab_type": "text",
        "id": "view-in-github"
      },
      "source": [
        "<a href=\"https://colab.research.google.com/github/DataWitchcraft/python4sci/blob/main/09_Numpy.ipynb\" target=\"_parent\"><img src=\"https://colab.research.google.com/assets/colab-badge.svg\" alt=\"Open In Colab\"/></a>"
      ]
    },
    {
      "cell_type": "markdown",
      "metadata": {
        "id": "9wNbfzPb9WPD"
      },
      "source": [
        "# Numpy\n",
        "\n",
        "## Introduction\n",
        "\n",
        "NumPy array is a data container. It is similar to Python lists, but it's specialised for working on numerical data. NumPy is at the center of scientific Python ecosystem and it is a work-horse of many scientific libraries including scikit-learn, scikit-image, matplotlib, SciPy.\n",
        "\n",
        "To use NumPy we need to start python interpreter and import `numpy` package -- it's customary the use the following import statement, which will make all NumPy functions available under the `np` prefix:"
      ]
    },
    {
      "cell_type": "code",
      "execution_count": 2,
      "metadata": {
        "id": "2jjFMLk69FdO"
      },
      "outputs": [],
      "source": [
        "import numpy as np"
      ]
    },
    {
      "cell_type": "markdown",
      "metadata": {
        "id": "JF6i8dGK9kZt"
      },
      "source": [
        "If `numpy` was installed correctly, this should not produce any messages. Let's create a simple three-element NumPy array:"
      ]
    },
    {
      "cell_type": "code",
      "execution_count": null,
      "metadata": {
        "id": "_mdY9i6y9jd7"
      },
      "outputs": [],
      "source": [
        "x = np.array([2, 1, 5])\n",
        "x"
      ]
    },
    {
      "cell_type": "markdown",
      "metadata": {
        "id": "BCJvrgf29tJI"
      },
      "source": [
        "One of the advantages of NumPy is that it allows to apply functions (called `ufunc`s) to all elements of an array without the need of for loops:"
      ]
    },
    {
      "cell_type": "code",
      "execution_count": null,
      "metadata": {
        "id": "-LbOO7tG9UaK"
      },
      "outputs": [],
      "source": [
        "np.sin(x)"
      ]
    },
    {
      "cell_type": "markdown",
      "metadata": {
        "id": "3ixM5MJG9xF5"
      },
      "source": [
        "This is not only convenient but also more efficient than iterating through the elements using for loops. Similarly, we can add scalars to all elements or multiply them by a constant:\n"
      ]
    },
    {
      "cell_type": "code",
      "execution_count": null,
      "metadata": {
        "id": "IbfEAt0o90ej"
      },
      "outputs": [],
      "source": [
        "x + 1"
      ]
    },
    {
      "cell_type": "markdown",
      "metadata": {
        "id": "a4ubbsEp95Pc"
      },
      "source": [
        "To construct an array with pre-defined elements we can also use one of the built-in helper functions. `np.arange` works like Python built-in `range`, but it returns an array; `np.ones` and `np.zeros` returns arrays of 0s or 1s; `np.random.rand` creates an array of random number from an interval [0, 1]:"
      ]
    },
    {
      "cell_type": "code",
      "execution_count": null,
      "metadata": {
        "id": "A_zBf0Ui-Bc9"
      },
      "outputs": [],
      "source": [
        "np.arange(5)"
      ]
    },
    {
      "cell_type": "code",
      "execution_count": null,
      "metadata": {
        "id": "TBmTK16c-BpQ"
      },
      "outputs": [],
      "source": [
        "np.ones(5)"
      ]
    },
    {
      "cell_type": "code",
      "execution_count": null,
      "metadata": {
        "id": "QtecEwNi-B0I"
      },
      "outputs": [],
      "source": [
        "np.zeros(5)"
      ]
    },
    {
      "cell_type": "code",
      "execution_count": null,
      "metadata": {
        "id": "RIz08pjF95pE"
      },
      "outputs": [],
      "source": [
        "np.random.rand(5)"
      ]
    },
    {
      "cell_type": "markdown",
      "metadata": {
        "id": "0jqSKc-R-I_e"
      },
      "source": [
        "We can also construct a two- or more dimensional arrays:"
      ]
    },
    {
      "cell_type": "code",
      "execution_count": null,
      "metadata": {
        "id": "0Mztuhyy-Mv1"
      },
      "outputs": [],
      "source": [
        "x = np.array([[1, 2], [5, 6]])\n",
        "x"
      ]
    },
    {
      "cell_type": "code",
      "execution_count": null,
      "metadata": {
        "id": "nuTT9e6l-Qth"
      },
      "outputs": [],
      "source": [
        "np.ones((2, 2))"
      ]
    },
    {
      "cell_type": "markdown",
      "metadata": {
        "id": "tfh8QVNw-V0y"
      },
      "source": [
        "Alternatively, a n-dimensional array can be obtained by reshaping a 1-D array:"
      ]
    },
    {
      "cell_type": "code",
      "execution_count": null,
      "metadata": {
        "id": "TXVG6vUA-Yd_"
      },
      "outputs": [],
      "source": [
        "a = np.arange(9)\n",
        "a"
      ]
    },
    {
      "cell_type": "code",
      "execution_count": null,
      "metadata": {
        "id": "maqeagy2-dbv"
      },
      "outputs": [],
      "source": [
        "a.reshape(3,3)"
      ]
    },
    {
      "cell_type": "markdown",
      "metadata": {
        "id": "Rsq8PiGk-kqT"
      },
      "source": [
        "Note that in this case we used a method of the array itself called `reshape` rather than a function from NumPy module (`np.reshape`). Both ways are possible and it's usually only a matter of convenience which one we choose in a particular case."
      ]
    },
    {
      "cell_type": "code",
      "execution_count": null,
      "metadata": {
        "id": "UBwWH2Qu-nES"
      },
      "outputs": [],
      "source": [
        "### EXERCISE\n",
        "\n",
        "# Create a 5x5 square array with number 5 on the diagonal and zeros otherwise. Consider using `np.eye` function (you can check the docstring)."
      ]
    },
    {
      "cell_type": "markdown",
      "metadata": {
        "id": "qeyfHtil_cNT"
      },
      "source": [
        "## Operations\n",
        "\n",
        "Multiplication of two arrays is elementwise. For example, to calculate a square of each element we may use:"
      ]
    },
    {
      "cell_type": "code",
      "execution_count": 5,
      "metadata": {
        "colab": {
          "base_uri": "https://localhost:8080/"
        },
        "id": "ZLxkjgod-nph",
        "outputId": "6005d73a-ae96-4172-91c3-e7ba9ff0e1cd"
      },
      "outputs": [
        {
          "name": "stdout",
          "output_type": "stream",
          "text": [
            "a =  [0 1 2]\n"
          ]
        },
        {
          "data": {
            "text/plain": [
              "array([0, 1, 4])"
            ]
          },
          "execution_count": 5,
          "metadata": {},
          "output_type": "execute_result"
        }
      ],
      "source": [
        "a = np.arange(3)\n",
        "print(\"a = \", a)\n",
        "\n",
        "b = a * a\n",
        "b"
      ]
    },
    {
      "cell_type": "markdown",
      "metadata": {
        "id": "aeRMPq-N_5YX"
      },
      "source": [
        "Matrix products are calculated using the `np.dot` function:"
      ]
    },
    {
      "cell_type": "code",
      "execution_count": null,
      "metadata": {
        "id": "CethUfaw_qfe"
      },
      "outputs": [],
      "source": [
        "np.dot(a, a)"
      ]
    },
    {
      "cell_type": "markdown",
      "metadata": {
        "id": "V2TVtBMK_9Kt"
      },
      "source": [
        "For 1-D arrays the same result can be obtained by:"
      ]
    },
    {
      "cell_type": "code",
      "execution_count": null,
      "metadata": {
        "id": "qz-jItSQAA15"
      },
      "outputs": [],
      "source": [
        "np.sum(a * a)"
      ]
    },
    {
      "cell_type": "markdown",
      "metadata": {
        "id": "2rPliL5GADvw"
      },
      "source": [
        "### Axis-based reductions\n",
        "\n",
        "The `np.sum` function sums all elements regardless of the number of array dimensions:\n"
      ]
    },
    {
      "cell_type": "code",
      "execution_count": 6,
      "metadata": {
        "id": "FU8ugryIAQOn"
      },
      "outputs": [],
      "source": [
        "b = np.arange(9).reshape(3,3)\n",
        "b"
      ]
    },
    {
      "cell_type": "code",
      "execution_count": null,
      "metadata": {
        "id": "Gx2Pjf43AT0P"
      },
      "outputs": [],
      "source": [
        "np.sum(b)"
      ]
    },
    {
      "cell_type": "markdown",
      "metadata": {
        "id": "wfduSta5Abod"
      },
      "source": [
        "If you want to sum only columns or rows, you need to pass the index of the axis over which you want to sum:"
      ]
    },
    {
      "cell_type": "code",
      "execution_count": null,
      "metadata": {
        "id": "scx6bw5EAb9_"
      },
      "outputs": [],
      "source": [
        "np.sum(b, 0)"
      ]
    },
    {
      "cell_type": "code",
      "execution_count": null,
      "metadata": {
        "id": "g0xF_38gAfUn"
      },
      "outputs": [],
      "source": [
        "np.sum(b, 1)"
      ]
    },
    {
      "cell_type": "markdown",
      "metadata": {
        "id": "7176MtKxAntE"
      },
      "source": [
        "Other similar reduction functions are `np.min`, `np.max` or `np.mean`:"
      ]
    },
    {
      "cell_type": "code",
      "execution_count": null,
      "metadata": {
        "id": "eEp4iB7pAmr1"
      },
      "outputs": [],
      "source": [
        "np.min(b)"
      ]
    },
    {
      "cell_type": "code",
      "execution_count": null,
      "metadata": {
        "id": "YxLGwEfUAuk5"
      },
      "outputs": [],
      "source": [
        "np.min(b, 0)"
      ]
    },
    {
      "cell_type": "code",
      "execution_count": null,
      "metadata": {
        "id": "5ACe_WCmAvOL"
      },
      "outputs": [],
      "source": [
        "np.min(b, 1)"
      ]
    },
    {
      "cell_type": "markdown",
      "metadata": {
        "id": "wF6STiFTA0bv"
      },
      "source": [
        "You can also find the index of the minimum element in each axis:"
      ]
    },
    {
      "cell_type": "code",
      "execution_count": null,
      "metadata": {
        "id": "eVENOP6kA4C0"
      },
      "outputs": [],
      "source": [
        "np.argmin(b, 0)"
      ]
    },
    {
      "cell_type": "markdown",
      "metadata": {
        "id": "DtCCI1gaBN6A"
      },
      "source": [
        "### Sorting\n",
        "\n",
        "NumPy also implement various sorting algorithms. To sort elements of an array you can use `np.sort` functions:"
      ]
    },
    {
      "cell_type": "code",
      "execution_count": null,
      "metadata": {
        "id": "-2aVNcWtBPEI"
      },
      "outputs": [],
      "source": [
        "a = np.random.rand(4)\n",
        "a"
      ]
    },
    {
      "cell_type": "code",
      "execution_count": null,
      "metadata": {
        "id": "qa8I3zwJBT6X"
      },
      "outputs": [],
      "source": [
        "np.sort(a)"
      ]
    },
    {
      "cell_type": "markdown",
      "metadata": {
        "id": "V7yJqZ-OBcOn"
      },
      "source": [
        "Similarly to the reduction functions, you can also pass the axis index to sort along: "
      ]
    },
    {
      "cell_type": "code",
      "execution_count": null,
      "metadata": {
        "id": "MAYpsV5NBW99"
      },
      "outputs": [],
      "source": [
        "b = a.reshape(2, 2)\n",
        "b"
      ]
    },
    {
      "cell_type": "code",
      "execution_count": null,
      "metadata": {
        "id": "P-XVwQGqBiWd"
      },
      "outputs": [],
      "source": [
        "np.sort(b, 0)"
      ]
    },
    {
      "cell_type": "code",
      "execution_count": null,
      "metadata": {
        "id": "K93SsDXdBjDb"
      },
      "outputs": [],
      "source": [
        "np.sort(b, 1)"
      ]
    },
    {
      "cell_type": "markdown",
      "metadata": {
        "id": "QCfO6LCkBlgP"
      },
      "source": [
        "`np.argsort` returns the order of elements in a sorted array:"
      ]
    },
    {
      "cell_type": "code",
      "execution_count": null,
      "metadata": {
        "id": "e4ImpYBVBo6e"
      },
      "outputs": [],
      "source": [
        "np.argsort(a)"
      ]
    },
    {
      "cell_type": "markdown",
      "metadata": {
        "id": "Yr5RIv6sBrvO"
      },
      "source": [
        "### Special modules\n",
        "\n",
        "NumPy also provides extra modules implementing basic numerical methods:\n",
        "\n",
        "* `np.linalg` -- linear algebra,\n",
        "* `np.fft` -- fast Fourier transform,\n",
        "* `np.random` -- random number generators."
      ]
    },
    {
      "cell_type": "code",
      "execution_count": null,
      "metadata": {
        "id": "ZTjms3L4Bvdy"
      },
      "outputs": [],
      "source": [
        "### EXERCISE\n",
        "\n",
        "# Generate a 10 x 3 array of random numbers (using `np.random.rand`). \n",
        "# From each row, find the column index of the element closest to 0.75. Make use of np.abs and np.argmin. \n",
        "# The result should be a one-dimensional array of integers from 0 to 2.\n"
      ]
    },
    {
      "cell_type": "code",
      "execution_count": null,
      "metadata": {
        "id": "BpsPVBZMB73G"
      },
      "outputs": [],
      "source": [
        "### EXERCISE - hard\n",
        "\n",
        "# Solve the following system of linear equations using `np.linalg.solve`. Test the solution.\n",
        "# x + 3y = 3\n",
        "# 5x - y = 6"
      ]
    },
    {
      "cell_type": "markdown",
      "metadata": {
        "id": "RRiZrnIVCE9x"
      },
      "source": [
        "## Indexing\n",
        "\n",
        "### Integer indexing and slicing\n",
        "\n",
        "Individual items of an array can be accessed by the integer index of the element (starting with 0):"
      ]
    },
    {
      "cell_type": "code",
      "execution_count": null,
      "metadata": {
        "id": "ixvNAyV1CPcy"
      },
      "outputs": [],
      "source": [
        "a = np.arange(10)\n",
        "print(\"a =\", a)\n",
        "np.array([a[0], a[2], a[-1]])"
      ]
    },
    {
      "cell_type": "markdown",
      "metadata": {
        "id": "JhPP_OXOCjsE"
      },
      "source": [
        "For two- or more dimensional arrays multiple indices should be specified:"
      ]
    },
    {
      "cell_type": "code",
      "execution_count": null,
      "metadata": {
        "id": "j2OKHcw1CY2c"
      },
      "outputs": [],
      "source": [
        "b = np.arange(6).reshape(2,3)\n",
        "b"
      ]
    },
    {
      "cell_type": "code",
      "execution_count": null,
      "metadata": {
        "id": "HFfM9oaWCncw"
      },
      "outputs": [],
      "source": [
        "b[1,2]"
      ]
    },
    {
      "cell_type": "markdown",
      "metadata": {
        "id": "wF1_GK-cCq_X"
      },
      "source": [
        "Slicing allows to extract sub-arrays of multiple elements from an array. It's defined by three integers separated by a colon, i.e. `start:end:increment`. Any of the integers can be skipped in which case they are replaced by defaults (0 for `start`, end of array for `end` and 1 for `increment`):"
      ]
    },
    {
      "cell_type": "code",
      "execution_count": null,
      "metadata": {
        "id": "H3zSW7AcCrWi"
      },
      "outputs": [],
      "source": [
        "c = np.arange(9)\n",
        "c"
      ]
    },
    {
      "cell_type": "code",
      "execution_count": null,
      "metadata": {
        "id": "55ZSwBqJCydT"
      },
      "outputs": [],
      "source": [
        "c[1:3]"
      ]
    },
    {
      "cell_type": "code",
      "execution_count": null,
      "metadata": {
        "id": "4euBayDZC243"
      },
      "outputs": [],
      "source": [
        "c[:3]"
      ]
    },
    {
      "cell_type": "code",
      "execution_count": null,
      "metadata": {
        "id": "ABEG0kyHC4w1"
      },
      "outputs": [],
      "source": [
        "c[1:]"
      ]
    },
    {
      "cell_type": "markdown",
      "metadata": {
        "id": "dWnU0zbqDBu1"
      },
      "source": [
        "You can also assign elements with slices and indexes:"
      ]
    },
    {
      "cell_type": "code",
      "execution_count": null,
      "metadata": {
        "id": "VQlX260IDCN_"
      },
      "outputs": [],
      "source": [
        "print(\"c = \", c)\n",
        "c[1:8:2]=1000\n",
        "c"
      ]
    },
    {
      "cell_type": "code",
      "execution_count": null,
      "metadata": {
        "id": "nVBAPQIrDkw3"
      },
      "outputs": [],
      "source": [
        "### EXERCISE \n",
        "\n",
        "# Create a 3x4 array x of  values from 0 to 11. Create another array y as follows: y = x[2]\n",
        "# Try to guess - What happens when you modify y; does ``x`` also change? \n",
        "# Now try `y = x[:2]` and modify it's first element. What happens now? Can you explain why?"
      ]
    },
    {
      "cell_type": "code",
      "execution_count": null,
      "metadata": {
        "id": "ajxWoIrDD4zc"
      },
      "outputs": [],
      "source": [
        "### EXERCISE - hard\n",
        "\n",
        "# Create an array of zeros and fill it with a checkerboard pattern with of size 8x8.\n",
        " "
      ]
    },
    {
      "cell_type": "markdown",
      "metadata": {
        "id": "wn6X5i5rEpK1"
      },
      "source": [
        "![](https://github.com/paris-swc/advanced-numpy-lesson/raw/gh-pages/fig/checkerboard.svg)\n",
        "\n",
        "### Boolean mask\n",
        "\n",
        "Sometimes we may want to select array elements based on their values. For this case boolean mask is very useful. The mask is an array of the same length as the indexed array containg only `False` or `True` values:\n",
        "\n",
        "\n"
      ]
    },
    {
      "cell_type": "code",
      "execution_count": null,
      "metadata": {
        "id": "aGSai7yYEyr4"
      },
      "outputs": [],
      "source": [
        "a = np.arange(4)\n",
        "print(\"a =\", a)\n",
        "mask = np.array([False, True, True, False])\n",
        "a[mask]"
      ]
    },
    {
      "cell_type": "markdown",
      "metadata": {
        "id": "vLfGNbgeGk_2"
      },
      "source": [
        "In most cases the mask is constructed from the values of the array itself. For example, to select only odd numbers we could use the following mask:\n"
      ]
    },
    {
      "cell_type": "code",
      "execution_count": null,
      "metadata": {
        "id": "DpIbYvlvGaI4"
      },
      "outputs": [],
      "source": [
        "odd = (a % 2) == 1\n",
        "print(\"odd =\", odd)\n",
        "a[odd]"
      ]
    },
    {
      "cell_type": "markdown",
      "metadata": {
        "id": "ICN_P7MIGuDz"
      },
      "source": [
        "This could be also done in a single step:\n"
      ]
    },
    {
      "cell_type": "code",
      "execution_count": null,
      "metadata": {
        "id": "ovBrJwFVGxbU"
      },
      "outputs": [],
      "source": [
        "a[(a % 2) == 1]"
      ]
    },
    {
      "cell_type": "markdown",
      "metadata": {
        "id": "6hGibYtgG2Ws"
      },
      "source": [
        "Indexing with a mask can be also useful to assign a new value to a sub-array:"
      ]
    },
    {
      "cell_type": "code",
      "execution_count": null,
      "metadata": {
        "id": "_onCs2DSG26N"
      },
      "outputs": [],
      "source": [
        "a[(a % 2) == 1] = -1\n",
        "a"
      ]
    },
    {
      "cell_type": "code",
      "execution_count": null,
      "metadata": {
        "id": "mWWcoyXIHahT"
      },
      "outputs": [],
      "source": [
        "### EXERCISE\n",
        "\n",
        "# Rectify an array 3x4 (replace negative elements with zeros) of random numbers from normal distribution (generated with `np.random.randn`) using boolean indexing."
      ]
    },
    {
      "cell_type": "markdown",
      "metadata": {
        "id": "-Np7NSSMG8Qm"
      },
      "source": [
        "#### Exercise\n",
        "\n",
        "What are the final values of `a` and `b` at the end of the following program? Explain why.\n",
        "\n",
        "```\n",
        "a = np.arange(5)\n",
        "b = a[a < 3]\n",
        "b[::2] = 0\n",
        "```\n",
        "\n",
        "1. `a = [0, 1, 2, 3, 4], b = [0, 1, 2]`\n",
        "\n",
        "1. `a = [0, 1, 0, 3, 4], b = [0, 1, 0]`\n",
        "\n",
        "1. `a = [0, 0, 2, 3, 4], b = [0, 0, 2]`\n",
        "\n",
        "1. `a = [0, 1, 2, 3, 4], b = [0, 1, 0]`\n",
        "\n",
        "1. `a = [0, 1, 2, 3, 4], b = [0, 1, 0, 3, 0]`"
      ]
    },
    {
      "cell_type": "markdown",
      "metadata": {
        "id": "gKt3uoBsIBsC"
      },
      "source": [
        "### Fancy indexing\n",
        "\n",
        "Indexing can be done with an array of integers. In this case the same index can be also repeated several times:"
      ]
    },
    {
      "cell_type": "code",
      "execution_count": null,
      "metadata": {
        "id": "zf6hrTWgHikh"
      },
      "outputs": [],
      "source": [
        "a = np.arange(0, 100, 10)\n",
        "print(\"a =\", a)\n",
        "a[[2, 3, 2, 4, 2]]"
      ]
    },
    {
      "cell_type": "markdown",
      "metadata": {
        "id": "2YafCUgBIQxO"
      },
      "source": [
        "New values can be also assigned with this kind of indexing:"
      ]
    },
    {
      "cell_type": "code",
      "execution_count": null,
      "metadata": {
        "id": "2a5dXsQmIPfv"
      },
      "outputs": [],
      "source": [
        "a[[9, 7]] = -100\n",
        "a"
      ]
    },
    {
      "cell_type": "markdown",
      "metadata": {
        "id": "wLSVlHAXIQ2L"
      },
      "source": [
        "When a new array is created by indexing with an array of integers, the new array has the same shape than the array of integers. Note that fancing indexing returns a copy and not a view."
      ]
    },
    {
      "cell_type": "code",
      "execution_count": null,
      "metadata": {
        "id": "1K99euDbIL84"
      },
      "outputs": [],
      "source": [
        "a = np.arange(10)\n",
        "idx = np.array([[3, 4], [9, 7]])\n",
        "print(\"idx.shape =\", idx.shape)\n",
        "a[idx]"
      ]
    },
    {
      "cell_type": "markdown",
      "metadata": {
        "id": "yf9Erd12Iotz"
      },
      "source": [
        "Fancy indexing is often used to re-order or sort data. You can easily obtain the indices required to sort data using `np.argsort`:"
      ]
    },
    {
      "cell_type": "code",
      "execution_count": null,
      "metadata": {
        "id": "LpgYv2E8IuSu"
      },
      "outputs": [],
      "source": [
        "a = np.random.randint(10, size=5)\n",
        "print(\"a =\", a)\n",
        "i = np.argsort(a)\n",
        "a[i]"
      ]
    },
    {
      "cell_type": "markdown",
      "metadata": {
        "id": "ne9K_vneKOzw"
      },
      "source": [
        "Let `x = np.array([1, 5, 10])`.\n",
        "\n",
        "Which of the following will show [1, 10]:\n",
        "\n",
        "1. `x[::2]`\n",
        "\n",
        "1. `x[[1, 3]]`\n",
        " \n",
        "1. `x[[0, 2]]`\n",
        " \n",
        "1. `x[0, 2]`\n",
        " \n",
        "1. `x[[1, -1]]`\n",
        "\n",
        "1. `x[[False, True, False]]`\n",
        "\n",
        "For each statement predict whether it returns a copy or a view."
      ]
    },
    {
      "cell_type": "code",
      "execution_count": null,
      "metadata": {
        "id": "O_JQHOJGKgOl"
      },
      "outputs": [],
      "source": []
    }
  ],
  "metadata": {
    "colab": {
      "authorship_tag": "ABX9TyM5eI+qzltK+fu5Vw5yJH9U",
      "include_colab_link": true,
      "provenance": []
    },
    "kernelspec": {
      "display_name": "Python 3",
      "name": "python3"
    },
    "language_info": {
      "name": "python"
    }
  },
  "nbformat": 4,
  "nbformat_minor": 0
}
